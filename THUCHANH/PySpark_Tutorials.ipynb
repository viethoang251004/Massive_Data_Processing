{
  "cells": [
    {
      "cell_type": "markdown",
      "metadata": {
        "id": "Hwm8jiSNPIv3"
      },
      "source": [
        "#**PySpark Introduction**"
      ]
    },
    {
      "cell_type": "markdown",
      "metadata": {
        "id": "O62KwUycPQos"
      },
      "source": [
        "## Installation"
      ]
    },
    {
      "cell_type": "code",
      "execution_count": null,
      "metadata": {
        "id": "ftx33wpcHD2v"
      },
      "outputs": [],
      "source": [
        "!apt-get install openjdk-8-jdk-headless -qq > /dev/null\n",
        "# !wget -q http://archive.apache.org/dist/spark/spark-3.1.1/spark-3.1.1-bin-hadoop3.2.tgz\n",
        "!cp drive/MyDrive/MMDS-data/spark-3.1.1-bin-hadoop3.2.tgz .\n",
        "!tar xf spark-3.1.1-bin-hadoop3.2.tgz\n",
        "!pip install -q findspark"
      ]
    },
    {
      "cell_type": "code",
      "execution_count": null,
      "metadata": {
        "id": "S63y8gfAHLB4"
      },
      "outputs": [],
      "source": [
        "import os\n",
        "os.environ[\"JAVA_HOME\"] = \"/usr/lib/jvm/java-8-openjdk-amd64\"\n",
        "os.environ[\"SPARK_HOME\"] = \"/content/spark-3.1.1-bin-hadoop3.2\""
      ]
    },
    {
      "cell_type": "code",
      "source": [
        "! echo $JAVA_HOME"
      ],
      "metadata": {
        "colab": {
          "base_uri": "https://localhost:8080/"
        },
        "id": "P9pztuRFxqox",
        "outputId": "1047473f-e04e-4fd9-9814-39d1d55e44d7"
      },
      "execution_count": null,
      "outputs": [
        {
          "output_type": "stream",
          "name": "stdout",
          "text": [
            "/usr/lib/jvm/java-8-openjdk-amd64\n"
          ]
        }
      ]
    },
    {
      "cell_type": "code",
      "execution_count": null,
      "metadata": {
        "colab": {
          "base_uri": "https://localhost:8080/"
        },
        "id": "GLCx_NnsrwOv",
        "outputId": "da994253-00a2-4477-d150-ea4123b8e99e"
      },
      "outputs": [
        {
          "output_type": "stream",
          "name": "stdout",
          "text": [
            "/content/spark-3.1.1-bin-hadoop3.2\n"
          ]
        }
      ],
      "source": [
        "! echo $SPARK_HOME"
      ]
    },
    {
      "cell_type": "code",
      "execution_count": null,
      "metadata": {
        "id": "Q9Py5XJ6HONw"
      },
      "outputs": [],
      "source": [
        "import findspark\n",
        "findspark.init()"
      ]
    },
    {
      "cell_type": "code",
      "execution_count": null,
      "metadata": {
        "colab": {
          "base_uri": "https://localhost:8080/"
        },
        "id": "Z-LqTJF-S28m",
        "outputId": "5bf41a77-6789-42df-9949-f7700f77f857"
      },
      "outputs": [
        {
          "output_type": "stream",
          "name": "stdout",
          "text": [
            "3.1.1\n"
          ]
        }
      ],
      "source": [
        "import pyspark as spark\n",
        "\n",
        "print(spark.__version__)"
      ]
    },
    {
      "cell_type": "code",
      "execution_count": null,
      "metadata": {
        "colab": {
          "base_uri": "https://localhost:8080/"
        },
        "id": "mfxBfPRPntET",
        "outputId": "50cf98a6-de71-4825-a0bb-7740f8bd6759"
      },
      "outputs": [
        {
          "output_type": "stream",
          "name": "stdout",
          "text": [
            "Accumulator\n",
            "AccumulatorParam\n",
            "BarrierTaskContext\n",
            "BarrierTaskInfo\n",
            "BasicProfiler\n",
            "Broadcast\n",
            "HiveContext\n",
            "InheritableThread\n",
            "MarshalSerializer\n",
            "PickleSerializer\n",
            "Profiler\n",
            "RDD\n",
            "RDDBarrier\n",
            "Row\n",
            "SQLContext\n",
            "SparkConf\n",
            "SparkContext\n",
            "SparkFiles\n",
            "SparkJobInfo\n",
            "SparkStageInfo\n",
            "StatusTracker\n",
            "StorageLevel\n",
            "TaskContext\n",
            "_NoValue\n",
            "__all__\n",
            "__builtins__\n",
            "__cached__\n",
            "__doc__\n",
            "__file__\n",
            "__loader__\n",
            "__name__\n",
            "__package__\n",
            "__path__\n",
            "__spec__\n",
            "__version__\n",
            "_globals\n",
            "accumulators\n",
            "broadcast\n",
            "cloudpickle\n",
            "conf\n",
            "context\n",
            "copy_func\n",
            "files\n",
            "find_spark_home\n",
            "java_gateway\n",
            "join\n",
            "keyword_only\n",
            "profiler\n",
            "rdd\n",
            "rddsampler\n",
            "resource\n",
            "resultiterable\n",
            "serializers\n",
            "shuffle\n",
            "since\n",
            "sql\n",
            "statcounter\n",
            "status\n",
            "storagelevel\n",
            "taskcontext\n",
            "traceback_utils\n",
            "types\n",
            "util\n",
            "version\n",
            "wraps\n"
          ]
        }
      ],
      "source": [
        "for it in dir(spark):\n",
        "  print(it)"
      ]
    },
    {
      "cell_type": "code",
      "source": [
        "from pyspark import SparkContext\n",
        "\n",
        "sc = SparkContext('local', 'First App')"
      ],
      "metadata": {
        "colab": {
          "base_uri": "https://localhost:8080/",
          "height": 252
        },
        "id": "HufctodN1iMK",
        "outputId": "8d14690b-532e-4738-c86e-2d403c35157f"
      },
      "execution_count": null,
      "outputs": [
        {
          "output_type": "error",
          "ename": "ValueError",
          "evalue": "Cannot run multiple SparkContexts at once; existing SparkContext(app=First App, master=local) created by __init__ at <ipython-input-10-25e1a5846fe6>:3 ",
          "traceback": [
            "\u001b[0;31m---------------------------------------------------------------------------\u001b[0m",
            "\u001b[0;31mValueError\u001b[0m                                Traceback (most recent call last)",
            "\u001b[0;32m<ipython-input-12-25e1a5846fe6>\u001b[0m in \u001b[0;36m<cell line: 3>\u001b[0;34m()\u001b[0m\n\u001b[1;32m      1\u001b[0m \u001b[0;32mfrom\u001b[0m \u001b[0mpyspark\u001b[0m \u001b[0;32mimport\u001b[0m \u001b[0mSparkContext\u001b[0m\u001b[0;34m\u001b[0m\u001b[0;34m\u001b[0m\u001b[0m\n\u001b[1;32m      2\u001b[0m \u001b[0;34m\u001b[0m\u001b[0m\n\u001b[0;32m----> 3\u001b[0;31m \u001b[0msc\u001b[0m \u001b[0;34m=\u001b[0m \u001b[0mSparkContext\u001b[0m\u001b[0;34m(\u001b[0m\u001b[0;34m'local'\u001b[0m\u001b[0;34m,\u001b[0m \u001b[0;34m'First App'\u001b[0m\u001b[0;34m)\u001b[0m\u001b[0;34m\u001b[0m\u001b[0;34m\u001b[0m\u001b[0m\n\u001b[0m",
            "\u001b[0;32m/content/spark-3.1.1-bin-hadoop3.2/python/pyspark/context.py\u001b[0m in \u001b[0;36m__init__\u001b[0;34m(self, master, appName, sparkHome, pyFiles, environment, batchSize, serializer, conf, gateway, jsc, profiler_cls)\u001b[0m\n\u001b[1;32m    142\u001b[0m                 \" is not allowed as it is a security risk.\")\n\u001b[1;32m    143\u001b[0m \u001b[0;34m\u001b[0m\u001b[0m\n\u001b[0;32m--> 144\u001b[0;31m         \u001b[0mSparkContext\u001b[0m\u001b[0;34m.\u001b[0m\u001b[0m_ensure_initialized\u001b[0m\u001b[0;34m(\u001b[0m\u001b[0mself\u001b[0m\u001b[0;34m,\u001b[0m \u001b[0mgateway\u001b[0m\u001b[0;34m=\u001b[0m\u001b[0mgateway\u001b[0m\u001b[0;34m,\u001b[0m \u001b[0mconf\u001b[0m\u001b[0;34m=\u001b[0m\u001b[0mconf\u001b[0m\u001b[0;34m)\u001b[0m\u001b[0;34m\u001b[0m\u001b[0;34m\u001b[0m\u001b[0m\n\u001b[0m\u001b[1;32m    145\u001b[0m         \u001b[0;32mtry\u001b[0m\u001b[0;34m:\u001b[0m\u001b[0;34m\u001b[0m\u001b[0;34m\u001b[0m\u001b[0m\n\u001b[1;32m    146\u001b[0m             self._do_init(master, appName, sparkHome, pyFiles, environment, batchSize, serializer,\n",
            "\u001b[0;32m/content/spark-3.1.1-bin-hadoop3.2/python/pyspark/context.py\u001b[0m in \u001b[0;36m_ensure_initialized\u001b[0;34m(cls, instance, gateway, conf)\u001b[0m\n\u001b[1;32m    340\u001b[0m \u001b[0;34m\u001b[0m\u001b[0m\n\u001b[1;32m    341\u001b[0m                     \u001b[0;31m# Raise error if there is already a running Spark context\u001b[0m\u001b[0;34m\u001b[0m\u001b[0;34m\u001b[0m\u001b[0m\n\u001b[0;32m--> 342\u001b[0;31m                     raise ValueError(\n\u001b[0m\u001b[1;32m    343\u001b[0m                         \u001b[0;34m\"Cannot run multiple SparkContexts at once; \"\u001b[0m\u001b[0;34m\u001b[0m\u001b[0;34m\u001b[0m\u001b[0m\n\u001b[1;32m    344\u001b[0m                         \u001b[0;34m\"existing SparkContext(app=%s, master=%s)\"\u001b[0m\u001b[0;34m\u001b[0m\u001b[0;34m\u001b[0m\u001b[0m\n",
            "\u001b[0;31mValueError\u001b[0m: Cannot run multiple SparkContexts at once; existing SparkContext(app=First App, master=local) created by __init__ at <ipython-input-10-25e1a5846fe6>:3 "
          ]
        }
      ]
    },
    {
      "cell_type": "code",
      "execution_count": null,
      "metadata": {
        "colab": {
          "base_uri": "https://localhost:8080/"
        },
        "id": "J01ICAy_TSxB",
        "outputId": "c213a505-e2f1-454c-d576-f737eed4f8d1"
      },
      "outputs": [
        {
          "output_type": "stream",
          "name": "stdout",
          "text": [
            "Python 3.10.12 (main, Nov 20 2023, 15:14:05) [GCC 11.4.0] on linux\n",
            "Type \"help\", \"copyright\", \"credits\" or \"license\" for more information.\n",
            "24/02/01 07:15:37 WARN NativeCodeLoader: Unable to load native-hadoop library for your platform... using builtin-java classes where applicable\n",
            "Using Spark's default log4j profile: org/apache/spark/log4j-defaults.properties\n",
            "Setting default log level to \"WARN\".\n",
            "To adjust logging level use sc.setLogLevel(newLevel). For SparkR, use setLogLevel(newLevel).\n",
            "24/02/01 07:15:41 WARN Utils: Service 'SparkUI' could not bind on port 4040. Attempting port 4041.\n",
            "Welcome to\n",
            "      ____              __\n",
            "     / __/__  ___ _____/ /__\n",
            "    _\\ \\/ _ \\/ _ `/ __/  '_/\n",
            "   /__ / .__/\\_,_/_/ /_/\\_\\   version 3.1.1\n",
            "      /_/\n",
            "\n",
            "Using Python version 3.10.12 (main, Nov 20 2023 15:14:05)\n",
            "Spark context Web UI available at http://a9b695e572bf:4041\n",
            "Spark context available as 'sc' (master = local[*], app id = local-1706771741699).\n",
            "SparkSession available as 'spark'.\n",
            ">>> a = 1\n",
            ">>> b = 2\n",
            ">>> print(a+b)\n",
            "3\n",
            ">>> exit()\n"
          ]
        }
      ],
      "source": [
        "! $SPARK_HOME/bin/pyspark"
      ]
    },
    {
      "cell_type": "code",
      "execution_count": null,
      "metadata": {
        "colab": {
          "base_uri": "https://localhost:8080/"
        },
        "id": "f7ctq8hCuf0z",
        "outputId": "09c544cb-e1d7-4020-caba-70943e716db5"
      },
      "outputs": [
        {
          "output_type": "stream",
          "name": "stdout",
          "text": [
            "Lines with a: 64, lines with b: 32\n"
          ]
        }
      ],
      "source": [
        "from pyspark import SparkContext\n",
        "\n",
        "sc = SparkContext(\"local\", \"First App\")\n",
        "logFile = \"/content/spark-3.1.1-bin-hadoop3.2/README.md\"\n",
        "logData = sc.textFile(logFile).cache()\n",
        "numAs = logData.filter(lambda s: 'a' in s).count()\n",
        "numBs = logData.filter(lambda s: 'b' in s).count()\n",
        "print (\"Lines with a: %i, lines with b: %i\" % (numAs, numBs))"
      ]
    },
    {
      "cell_type": "code",
      "execution_count": null,
      "metadata": {
        "id": "KYp0THz8v3c-"
      },
      "outputs": [],
      "source": [
        "! touch firstapp.py"
      ]
    },
    {
      "cell_type": "code",
      "source": [
        "! cat firstapp.py"
      ],
      "metadata": {
        "colab": {
          "base_uri": "https://localhost:8080/"
        },
        "id": "93Y-OLygNSBN",
        "outputId": "9faafd8d-c878-4372-82e4-b584e9090615"
      },
      "execution_count": null,
      "outputs": [
        {
          "output_type": "stream",
          "name": "stdout",
          "text": [
            "from pyspark import SparkContext\n",
            "\n",
            "sc = SparkContext(\"local\", \"First App\")\n",
            "logFile = \"/content/spark-3.1.1-bin-hadoop3.2/README.md\"\n",
            "logData = sc.textFile(logFile).cache()\n",
            "numAs = logData.filter(lambda s: 'a' in s).count()\n",
            "numBs = logData.filter(lambda s: 'b' in s).count()\n",
            "print (\"Lines with a: %i, lines with b: %i\" % (numAs, numBs))"
          ]
        }
      ]
    },
    {
      "cell_type": "code",
      "execution_count": null,
      "metadata": {
        "id": "UJGgg3HRwJbq",
        "colab": {
          "base_uri": "https://localhost:8080/"
        },
        "outputId": "619cbb89-9f35-4fd6-d144-a563228e56b5"
      },
      "outputs": [
        {
          "output_type": "stream",
          "name": "stdout",
          "text": [
            "24/01/31 10:21:46 WARN NativeCodeLoader: Unable to load native-hadoop library for your platform... using builtin-java classes where applicable\n",
            "Using Spark's default log4j profile: org/apache/spark/log4j-defaults.properties\n",
            "24/01/31 10:21:47 INFO SparkContext: Running Spark version 3.1.1\n",
            "24/01/31 10:21:47 INFO ResourceUtils: ==============================================================\n",
            "24/01/31 10:21:47 INFO ResourceUtils: No custom resources configured for spark.driver.\n",
            "24/01/31 10:21:47 INFO ResourceUtils: ==============================================================\n",
            "24/01/31 10:21:47 INFO SparkContext: Submitted application: First App\n",
            "24/01/31 10:21:47 INFO ResourceProfile: Default ResourceProfile created, executor resources: Map(cores -> name: cores, amount: 1, script: , vendor: , memory -> name: memory, amount: 1024, script: , vendor: , offHeap -> name: offHeap, amount: 0, script: , vendor: ), task resources: Map(cpus -> name: cpus, amount: 1.0)\n",
            "24/01/31 10:21:47 INFO ResourceProfile: Limiting resource is cpu\n",
            "24/01/31 10:21:47 INFO ResourceProfileManager: Added ResourceProfile id: 0\n",
            "24/01/31 10:21:48 INFO SecurityManager: Changing view acls to: root\n",
            "24/01/31 10:21:48 INFO SecurityManager: Changing modify acls to: root\n",
            "24/01/31 10:21:48 INFO SecurityManager: Changing view acls groups to: \n",
            "24/01/31 10:21:48 INFO SecurityManager: Changing modify acls groups to: \n",
            "24/01/31 10:21:48 INFO SecurityManager: SecurityManager: authentication disabled; ui acls disabled; users  with view permissions: Set(root); groups with view permissions: Set(); users  with modify permissions: Set(root); groups with modify permissions: Set()\n",
            "24/01/31 10:21:48 INFO Utils: Successfully started service 'sparkDriver' on port 42727.\n",
            "24/01/31 10:21:48 INFO SparkEnv: Registering MapOutputTracker\n",
            "24/01/31 10:21:48 INFO SparkEnv: Registering BlockManagerMaster\n",
            "24/01/31 10:21:48 INFO BlockManagerMasterEndpoint: Using org.apache.spark.storage.DefaultTopologyMapper for getting topology information\n",
            "24/01/31 10:21:48 INFO BlockManagerMasterEndpoint: BlockManagerMasterEndpoint up\n",
            "24/01/31 10:21:48 INFO SparkEnv: Registering BlockManagerMasterHeartbeat\n",
            "24/01/31 10:21:48 INFO DiskBlockManager: Created local directory at /tmp/blockmgr-5078fe94-c4aa-4b6e-8afd-0b62d7c0a501\n",
            "24/01/31 10:21:48 INFO MemoryStore: MemoryStore started with capacity 366.3 MiB\n",
            "24/01/31 10:21:48 INFO SparkEnv: Registering OutputCommitCoordinator\n",
            "24/01/31 10:21:49 WARN Utils: Service 'SparkUI' could not bind on port 4040. Attempting port 4041.\n",
            "24/01/31 10:21:49 INFO Utils: Successfully started service 'SparkUI' on port 4041.\n",
            "24/01/31 10:21:49 INFO SparkUI: Bound SparkUI to 0.0.0.0, and started at http://94e9033512dc:4041\n",
            "24/01/31 10:21:49 INFO Executor: Starting executor ID driver on host 94e9033512dc\n",
            "24/01/31 10:21:49 INFO Utils: Successfully started service 'org.apache.spark.network.netty.NettyBlockTransferService' on port 37681.\n",
            "24/01/31 10:21:49 INFO NettyBlockTransferService: Server created on 94e9033512dc:37681\n",
            "24/01/31 10:21:49 INFO BlockManager: Using org.apache.spark.storage.RandomBlockReplicationPolicy for block replication policy\n",
            "24/01/31 10:21:49 INFO BlockManagerMaster: Registering BlockManager BlockManagerId(driver, 94e9033512dc, 37681, None)\n",
            "24/01/31 10:21:49 INFO BlockManagerMasterEndpoint: Registering block manager 94e9033512dc:37681 with 366.3 MiB RAM, BlockManagerId(driver, 94e9033512dc, 37681, None)\n",
            "24/01/31 10:21:49 INFO BlockManagerMaster: Registered BlockManager BlockManagerId(driver, 94e9033512dc, 37681, None)\n",
            "24/01/31 10:21:49 INFO BlockManager: Initialized BlockManager: BlockManagerId(driver, 94e9033512dc, 37681, None)\n",
            "24/01/31 10:21:51 INFO MemoryStore: Block broadcast_0 stored as values in memory (estimated size 293.9 KiB, free 366.0 MiB)\n",
            "24/01/31 10:21:51 INFO MemoryStore: Block broadcast_0_piece0 stored as bytes in memory (estimated size 27.0 KiB, free 366.0 MiB)\n",
            "24/01/31 10:21:51 INFO BlockManagerInfo: Added broadcast_0_piece0 in memory on 94e9033512dc:37681 (size: 27.0 KiB, free: 366.3 MiB)\n",
            "24/01/31 10:21:51 INFO SparkContext: Created broadcast 0 from textFile at NativeMethodAccessorImpl.java:0\n",
            "24/01/31 10:21:52 INFO FileInputFormat: Total input files to process : 1\n",
            "24/01/31 10:21:52 INFO SparkContext: Starting job: count at /content/firstapp.py:6\n",
            "24/01/31 10:21:52 INFO DAGScheduler: Got job 0 (count at /content/firstapp.py:6) with 1 output partitions\n",
            "24/01/31 10:21:52 INFO DAGScheduler: Final stage: ResultStage 0 (count at /content/firstapp.py:6)\n",
            "24/01/31 10:21:52 INFO DAGScheduler: Parents of final stage: List()\n",
            "24/01/31 10:21:52 INFO DAGScheduler: Missing parents: List()\n",
            "24/01/31 10:21:52 INFO DAGScheduler: Submitting ResultStage 0 (PythonRDD[2] at count at /content/firstapp.py:6), which has no missing parents\n",
            "24/01/31 10:21:52 INFO MemoryStore: Block broadcast_1 stored as values in memory (estimated size 8.4 KiB, free 366.0 MiB)\n",
            "24/01/31 10:21:52 INFO MemoryStore: Block broadcast_1_piece0 stored as bytes in memory (estimated size 4.9 KiB, free 366.0 MiB)\n",
            "24/01/31 10:21:52 INFO BlockManagerInfo: Added broadcast_1_piece0 in memory on 94e9033512dc:37681 (size: 4.9 KiB, free: 366.3 MiB)\n",
            "24/01/31 10:21:52 INFO SparkContext: Created broadcast 1 from broadcast at DAGScheduler.scala:1383\n",
            "24/01/31 10:21:53 INFO DAGScheduler: Submitting 1 missing tasks from ResultStage 0 (PythonRDD[2] at count at /content/firstapp.py:6) (first 15 tasks are for partitions Vector(0))\n",
            "24/01/31 10:21:53 INFO TaskSchedulerImpl: Adding task set 0.0 with 1 tasks resource profile 0\n",
            "24/01/31 10:21:53 INFO TaskSetManager: Starting task 0.0 in stage 0.0 (TID 0) (94e9033512dc, executor driver, partition 0, PROCESS_LOCAL, 4518 bytes) taskResourceAssignments Map()\n",
            "24/01/31 10:21:53 INFO Executor: Running task 0.0 in stage 0.0 (TID 0)\n",
            "24/01/31 10:21:54 INFO HadoopRDD: Input split: file:/content/spark-3.1.1-bin-hadoop3.2/README.md:0+4488\n",
            "24/01/31 10:21:55 INFO MemoryStore: Block rdd_1_0 stored as values in memory (estimated size 3.0 KiB, free 366.0 MiB)\n",
            "24/01/31 10:21:55 INFO BlockManagerInfo: Added rdd_1_0 in memory on 94e9033512dc:37681 (size: 3.0 KiB, free: 366.3 MiB)\n",
            "24/01/31 10:21:56 INFO PythonRunner: Times: total = 745, boot = 622, init = 123, finish = 0\n",
            "24/01/31 10:21:56 INFO Executor: Finished task 0.0 in stage 0.0 (TID 0). 1440 bytes result sent to driver\n",
            "24/01/31 10:21:56 INFO TaskSetManager: Finished task 0.0 in stage 0.0 (TID 0) in 3175 ms on 94e9033512dc (executor driver) (1/1)\n",
            "24/01/31 10:21:56 INFO PythonAccumulatorV2: Connected to AccumulatorServer at host: 127.0.0.1 port: 48759\n",
            "24/01/31 10:21:56 INFO TaskSchedulerImpl: Removed TaskSet 0.0, whose tasks have all completed, from pool \n",
            "24/01/31 10:21:56 INFO DAGScheduler: ResultStage 0 (count at /content/firstapp.py:6) finished in 3.564 s\n",
            "24/01/31 10:21:56 INFO DAGScheduler: Job 0 is finished. Cancelling potential speculative or zombie tasks for this job\n",
            "24/01/31 10:21:56 INFO TaskSchedulerImpl: Killing all running tasks in stage 0: Stage finished\n",
            "24/01/31 10:21:56 INFO DAGScheduler: Job 0 finished: count at /content/firstapp.py:6, took 3.801206 s\n",
            "24/01/31 10:21:56 INFO SparkContext: Starting job: count at /content/firstapp.py:7\n",
            "24/01/31 10:21:56 INFO DAGScheduler: Got job 1 (count at /content/firstapp.py:7) with 1 output partitions\n",
            "24/01/31 10:21:56 INFO DAGScheduler: Final stage: ResultStage 1 (count at /content/firstapp.py:7)\n",
            "24/01/31 10:21:56 INFO DAGScheduler: Parents of final stage: List()\n",
            "24/01/31 10:21:56 INFO DAGScheduler: Missing parents: List()\n",
            "24/01/31 10:21:56 INFO DAGScheduler: Submitting ResultStage 1 (PythonRDD[3] at count at /content/firstapp.py:7), which has no missing parents\n",
            "24/01/31 10:21:56 INFO MemoryStore: Block broadcast_2 stored as values in memory (estimated size 8.4 KiB, free 366.0 MiB)\n",
            "24/01/31 10:21:56 INFO MemoryStore: Block broadcast_2_piece0 stored as bytes in memory (estimated size 4.9 KiB, free 366.0 MiB)\n",
            "24/01/31 10:21:56 INFO BlockManagerInfo: Added broadcast_2_piece0 in memory on 94e9033512dc:37681 (size: 4.9 KiB, free: 366.3 MiB)\n",
            "24/01/31 10:21:56 INFO SparkContext: Created broadcast 2 from broadcast at DAGScheduler.scala:1383\n",
            "24/01/31 10:21:56 INFO DAGScheduler: Submitting 1 missing tasks from ResultStage 1 (PythonRDD[3] at count at /content/firstapp.py:7) (first 15 tasks are for partitions Vector(0))\n",
            "24/01/31 10:21:56 INFO TaskSchedulerImpl: Adding task set 1.0 with 1 tasks resource profile 0\n",
            "24/01/31 10:21:56 INFO TaskSetManager: Starting task 0.0 in stage 1.0 (TID 1) (94e9033512dc, executor driver, partition 0, PROCESS_LOCAL, 4518 bytes) taskResourceAssignments Map()\n",
            "24/01/31 10:21:56 INFO Executor: Running task 0.0 in stage 1.0 (TID 1)\n",
            "24/01/31 10:21:56 INFO BlockManager: Found block rdd_1_0 locally\n",
            "24/01/31 10:21:56 INFO PythonRunner: Times: total = 68, boot = -244, init = 312, finish = 0\n",
            "24/01/31 10:21:56 INFO Executor: Finished task 0.0 in stage 1.0 (TID 1). 1397 bytes result sent to driver\n",
            "24/01/31 10:21:56 INFO TaskSetManager: Finished task 0.0 in stage 1.0 (TID 1) in 103 ms on 94e9033512dc (executor driver) (1/1)\n",
            "24/01/31 10:21:56 INFO DAGScheduler: ResultStage 1 (count at /content/firstapp.py:7) finished in 0.139 s\n",
            "24/01/31 10:21:56 INFO DAGScheduler: Job 1 is finished. Cancelling potential speculative or zombie tasks for this job\n",
            "24/01/31 10:21:56 INFO TaskSchedulerImpl: Removed TaskSet 1.0, whose tasks have all completed, from pool \n",
            "24/01/31 10:21:56 INFO TaskSchedulerImpl: Killing all running tasks in stage 1: Stage finished\n",
            "24/01/31 10:21:56 INFO DAGScheduler: Job 1 finished: count at /content/firstapp.py:7, took 0.152111 s\n",
            "Lines with a: 64, lines with b: 32\n",
            "24/01/31 10:21:56 INFO SparkContext: Invoking stop() from shutdown hook\n",
            "24/01/31 10:21:56 INFO SparkUI: Stopped Spark web UI at http://94e9033512dc:4041\n",
            "24/01/31 10:21:56 INFO MapOutputTrackerMasterEndpoint: MapOutputTrackerMasterEndpoint stopped!\n",
            "24/01/31 10:21:56 INFO MemoryStore: MemoryStore cleared\n",
            "24/01/31 10:21:56 INFO BlockManager: BlockManager stopped\n",
            "24/01/31 10:21:56 INFO BlockManagerMaster: BlockManagerMaster stopped\n",
            "24/01/31 10:21:56 INFO OutputCommitCoordinator$OutputCommitCoordinatorEndpoint: OutputCommitCoordinator stopped!\n",
            "24/01/31 10:21:56 INFO SparkContext: Successfully stopped SparkContext\n",
            "24/01/31 10:21:56 INFO ShutdownHookManager: Shutdown hook called\n",
            "24/01/31 10:21:56 INFO ShutdownHookManager: Deleting directory /tmp/spark-ad700769-90c1-4a7e-8bba-376238bc1877\n",
            "24/01/31 10:21:56 INFO ShutdownHookManager: Deleting directory /tmp/spark-ade41b65-a539-40eb-a79d-2886051cd754\n",
            "24/01/31 10:21:56 INFO ShutdownHookManager: Deleting directory /tmp/spark-ade41b65-a539-40eb-a79d-2886051cd754/pyspark-89131b32-b163-4fd5-ae96-5bca12aef9a8\n"
          ]
        }
      ],
      "source": [
        "! $SPARK_HOME/bin/spark-submit firstapp.py"
      ]
    },
    {
      "cell_type": "markdown",
      "metadata": {
        "id": "g25j6vVkPUbY"
      },
      "source": [
        "## RDD Manipulation"
      ]
    },
    {
      "cell_type": "code",
      "source": [
        "words = [\"scala\",\n",
        "   \"java\",\n",
        "   \"hadoop\",\n",
        "   \"spark\",\n",
        "   \"akka\",\n",
        "   \"spark vs hadoop\",\n",
        "   \"pyspark\",\n",
        "   \"pyspark and spark\"]\n",
        "print(type(words))\n",
        "print(len(words))"
      ],
      "metadata": {
        "colab": {
          "base_uri": "https://localhost:8080/"
        },
        "id": "mec2h0lY6oex",
        "outputId": "83ddc119-174d-4b0a-fff8-443f13b4b9a6"
      },
      "execution_count": null,
      "outputs": [
        {
          "output_type": "stream",
          "name": "stdout",
          "text": [
            "<class 'list'>\n",
            "8\n"
          ]
        }
      ]
    },
    {
      "cell_type": "code",
      "execution_count": null,
      "metadata": {
        "colab": {
          "base_uri": "https://localhost:8080/"
        },
        "id": "mxSWtSs-bTMw",
        "outputId": "9897c0f6-5471-4ba7-db13-521910b7f5af"
      },
      "outputs": [
        {
          "output_type": "stream",
          "name": "stdout",
          "text": [
            "<class 'pyspark.rdd.RDD'>\n"
          ]
        }
      ],
      "source": [
        "words = sc.parallelize (\n",
        "   [\"scala\",\n",
        "   \"java\",\n",
        "   \"hadoop\",\n",
        "   \"spark\",\n",
        "   \"akka\",\n",
        "   \"spark vs hadoop\",\n",
        "   \"pyspark\",\n",
        "   \"pyspark and spark\"]\n",
        ")\n",
        "print(type(words))"
      ]
    },
    {
      "cell_type": "code",
      "execution_count": null,
      "metadata": {
        "colab": {
          "base_uri": "https://localhost:8080/"
        },
        "id": "5IX_XM6obpqv",
        "outputId": "bfc93f13-9ffd-44e3-9990-3a173a3efc0e"
      },
      "outputs": [
        {
          "output_type": "stream",
          "name": "stdout",
          "text": [
            "8\n"
          ]
        }
      ],
      "source": [
        "print(words.count())"
      ]
    },
    {
      "cell_type": "code",
      "execution_count": null,
      "metadata": {
        "colab": {
          "base_uri": "https://localhost:8080/"
        },
        "id": "bqs6NQ8TcLp7",
        "outputId": "af247c03-ec1d-4003-d7c2-82728e6a32be"
      },
      "outputs": [
        {
          "output_type": "stream",
          "name": "stdout",
          "text": [
            "<class 'list'>\n",
            "['scala', 'java', 'hadoop', 'spark', 'akka', 'spark vs hadoop', 'pyspark', 'pyspark and spark']\n"
          ]
        }
      ],
      "source": [
        "colls = words.collect()\n",
        "print(type(colls))\n",
        "print(colls)"
      ]
    },
    {
      "cell_type": "code",
      "execution_count": null,
      "metadata": {
        "id": "jIlCYFvwctE5"
      },
      "outputs": [],
      "source": [
        "words.foreach(lambda x: print(x))"
      ]
    },
    {
      "cell_type": "code",
      "execution_count": null,
      "metadata": {
        "id": "SPoIYDE0c9uF"
      },
      "outputs": [],
      "source": [
        "! touch foreach.py"
      ]
    },
    {
      "cell_type": "code",
      "execution_count": null,
      "metadata": {
        "colab": {
          "base_uri": "https://localhost:8080/"
        },
        "id": "1rmBsIX_dLTU",
        "outputId": "e0270333-dc5d-4ef4-b66b-29354c80da3a"
      },
      "outputs": [
        {
          "name": "stdout",
          "output_type": "stream",
          "text": [
            "23/09/13 04:37:25 WARN NativeCodeLoader: Unable to load native-hadoop library for your platform... using builtin-java classes where applicable\n",
            "Using Spark's default log4j profile: org/apache/spark/log4j-defaults.properties\n",
            "23/09/13 04:37:26 INFO SparkContext: Running Spark version 3.1.1\n",
            "23/09/13 04:37:26 INFO ResourceUtils: ==============================================================\n",
            "23/09/13 04:37:26 INFO ResourceUtils: No custom resources configured for spark.driver.\n",
            "23/09/13 04:37:26 INFO ResourceUtils: ==============================================================\n",
            "23/09/13 04:37:26 INFO SparkContext: Submitted application: foreach\n",
            "23/09/13 04:37:26 INFO ResourceProfile: Default ResourceProfile created, executor resources: Map(cores -> name: cores, amount: 1, script: , vendor: , memory -> name: memory, amount: 1024, script: , vendor: , offHeap -> name: offHeap, amount: 0, script: , vendor: ), task resources: Map(cpus -> name: cpus, amount: 1.0)\n",
            "23/09/13 04:37:26 INFO ResourceProfile: Limiting resource is cpu\n",
            "23/09/13 04:37:26 INFO ResourceProfileManager: Added ResourceProfile id: 0\n",
            "23/09/13 04:37:26 INFO SecurityManager: Changing view acls to: root\n",
            "23/09/13 04:37:26 INFO SecurityManager: Changing modify acls to: root\n",
            "23/09/13 04:37:26 INFO SecurityManager: Changing view acls groups to: \n",
            "23/09/13 04:37:26 INFO SecurityManager: Changing modify acls groups to: \n",
            "23/09/13 04:37:26 INFO SecurityManager: SecurityManager: authentication disabled; ui acls disabled; users  with view permissions: Set(root); groups with view permissions: Set(); users  with modify permissions: Set(root); groups with modify permissions: Set()\n",
            "23/09/13 04:37:26 INFO Utils: Successfully started service 'sparkDriver' on port 42237.\n",
            "23/09/13 04:37:26 INFO SparkEnv: Registering MapOutputTracker\n",
            "23/09/13 04:37:26 INFO SparkEnv: Registering BlockManagerMaster\n",
            "23/09/13 04:37:26 INFO BlockManagerMasterEndpoint: Using org.apache.spark.storage.DefaultTopologyMapper for getting topology information\n",
            "23/09/13 04:37:26 INFO BlockManagerMasterEndpoint: BlockManagerMasterEndpoint up\n",
            "23/09/13 04:37:26 INFO SparkEnv: Registering BlockManagerMasterHeartbeat\n",
            "23/09/13 04:37:26 INFO DiskBlockManager: Created local directory at /tmp/blockmgr-0829455a-6017-496b-b9a3-e907289707f5\n",
            "23/09/13 04:37:26 INFO MemoryStore: MemoryStore started with capacity 366.3 MiB\n",
            "23/09/13 04:37:26 INFO SparkEnv: Registering OutputCommitCoordinator\n",
            "23/09/13 04:37:27 WARN Utils: Service 'SparkUI' could not bind on port 4040. Attempting port 4041.\n",
            "23/09/13 04:37:27 INFO Utils: Successfully started service 'SparkUI' on port 4041.\n",
            "23/09/13 04:37:27 INFO SparkUI: Bound SparkUI to 0.0.0.0, and started at http://91e326942e88:4041\n",
            "23/09/13 04:37:27 INFO Executor: Starting executor ID driver on host 91e326942e88\n",
            "23/09/13 04:37:27 INFO Utils: Successfully started service 'org.apache.spark.network.netty.NettyBlockTransferService' on port 35183.\n",
            "23/09/13 04:37:27 INFO NettyBlockTransferService: Server created on 91e326942e88:35183\n",
            "23/09/13 04:37:27 INFO BlockManager: Using org.apache.spark.storage.RandomBlockReplicationPolicy for block replication policy\n",
            "23/09/13 04:37:27 INFO BlockManagerMaster: Registering BlockManager BlockManagerId(driver, 91e326942e88, 35183, None)\n",
            "23/09/13 04:37:27 INFO BlockManagerMasterEndpoint: Registering block manager 91e326942e88:35183 with 366.3 MiB RAM, BlockManagerId(driver, 91e326942e88, 35183, None)\n",
            "23/09/13 04:37:27 INFO BlockManagerMaster: Registered BlockManager BlockManagerId(driver, 91e326942e88, 35183, None)\n",
            "23/09/13 04:37:27 INFO BlockManager: Initialized BlockManager: BlockManagerId(driver, 91e326942e88, 35183, None)\n",
            "23/09/13 04:37:28 INFO SparkContext: Starting job: foreach at /content/foreach.py:16\n",
            "23/09/13 04:37:28 INFO DAGScheduler: Got job 0 (foreach at /content/foreach.py:16) with 1 output partitions\n",
            "23/09/13 04:37:28 INFO DAGScheduler: Final stage: ResultStage 0 (foreach at /content/foreach.py:16)\n",
            "23/09/13 04:37:28 INFO DAGScheduler: Parents of final stage: List()\n",
            "23/09/13 04:37:28 INFO DAGScheduler: Missing parents: List()\n",
            "23/09/13 04:37:28 INFO DAGScheduler: Submitting ResultStage 0 (PythonRDD[1] at foreach at /content/foreach.py:16), which has no missing parents\n",
            "23/09/13 04:37:28 INFO MemoryStore: Block broadcast_0 stored as values in memory (estimated size 6.6 KiB, free 366.3 MiB)\n",
            "23/09/13 04:37:28 INFO MemoryStore: Block broadcast_0_piece0 stored as bytes in memory (estimated size 4.0 KiB, free 366.3 MiB)\n",
            "23/09/13 04:37:28 INFO BlockManagerInfo: Added broadcast_0_piece0 in memory on 91e326942e88:35183 (size: 4.0 KiB, free: 366.3 MiB)\n",
            "23/09/13 04:37:28 INFO SparkContext: Created broadcast 0 from broadcast at DAGScheduler.scala:1383\n",
            "23/09/13 04:37:28 INFO DAGScheduler: Submitting 1 missing tasks from ResultStage 0 (PythonRDD[1] at foreach at /content/foreach.py:16) (first 15 tasks are for partitions Vector(0))\n",
            "23/09/13 04:37:28 INFO TaskSchedulerImpl: Adding task set 0.0 with 1 tasks resource profile 0\n",
            "23/09/13 04:37:28 INFO TaskSetManager: Starting task 0.0 in stage 0.0 (TID 0) (91e326942e88, executor driver, partition 0, PROCESS_LOCAL, 4574 bytes) taskResourceAssignments Map()\n",
            "23/09/13 04:37:28 INFO Executor: Running task 0.0 in stage 0.0 (TID 0)\n",
            "scala\n",
            "java\n",
            "hadoop\n",
            "spark\n",
            "akka\n",
            "spark vs hadoop\n",
            "pyspark\n",
            "pyspark and spark\n",
            "23/09/13 04:37:29 INFO PythonRunner: Times: total = 468, boot = 420, init = 47, finish = 1\n",
            "23/09/13 04:37:29 INFO Executor: Finished task 0.0 in stage 0.0 (TID 0). 1354 bytes result sent to driver\n",
            "23/09/13 04:37:29 INFO TaskSetManager: Finished task 0.0 in stage 0.0 (TID 0) in 904 ms on 91e326942e88 (executor driver) (1/1)\n",
            "23/09/13 04:37:29 INFO TaskSchedulerImpl: Removed TaskSet 0.0, whose tasks have all completed, from pool \n",
            "23/09/13 04:37:29 INFO PythonAccumulatorV2: Connected to AccumulatorServer at host: 127.0.0.1 port: 39641\n",
            "23/09/13 04:37:29 INFO DAGScheduler: ResultStage 0 (foreach at /content/foreach.py:16) finished in 1.116 s\n",
            "23/09/13 04:37:29 INFO DAGScheduler: Job 0 is finished. Cancelling potential speculative or zombie tasks for this job\n",
            "23/09/13 04:37:29 INFO TaskSchedulerImpl: Killing all running tasks in stage 0: Stage finished\n",
            "23/09/13 04:37:29 INFO DAGScheduler: Job 0 finished: foreach at /content/foreach.py:16, took 1.176155 s\n",
            "23/09/13 04:37:29 INFO SparkContext: Invoking stop() from shutdown hook\n",
            "23/09/13 04:37:29 INFO SparkUI: Stopped Spark web UI at http://91e326942e88:4041\n",
            "23/09/13 04:37:29 INFO MapOutputTrackerMasterEndpoint: MapOutputTrackerMasterEndpoint stopped!\n",
            "23/09/13 04:37:29 INFO MemoryStore: MemoryStore cleared\n",
            "23/09/13 04:37:29 INFO BlockManager: BlockManager stopped\n",
            "23/09/13 04:37:29 INFO BlockManagerMaster: BlockManagerMaster stopped\n",
            "23/09/13 04:37:29 INFO OutputCommitCoordinator$OutputCommitCoordinatorEndpoint: OutputCommitCoordinator stopped!\n",
            "23/09/13 04:37:29 INFO SparkContext: Successfully stopped SparkContext\n",
            "23/09/13 04:37:29 INFO ShutdownHookManager: Shutdown hook called\n",
            "23/09/13 04:37:29 INFO ShutdownHookManager: Deleting directory /tmp/spark-0e19f593-4abb-47fe-a409-4e7adfe57553\n",
            "23/09/13 04:37:29 INFO ShutdownHookManager: Deleting directory /tmp/spark-0e19f593-4abb-47fe-a409-4e7adfe57553/pyspark-2fe407ad-4924-4df7-a189-fe3e0dd41041\n",
            "23/09/13 04:37:29 INFO ShutdownHookManager: Deleting directory /tmp/spark-c0f174cf-f107-490e-b2a1-a7b2fd63e99c\n"
          ]
        }
      ],
      "source": [
        "! $SPARK_HOME/bin/spark-submit foreach.py > out.txt"
      ]
    },
    {
      "cell_type": "code",
      "execution_count": null,
      "metadata": {
        "colab": {
          "base_uri": "https://localhost:8080/"
        },
        "id": "QhnUptUQeCwX",
        "outputId": "6b7ae122-3e76-4748-b2e8-7ccf1b21b183"
      },
      "outputs": [
        {
          "name": "stdout",
          "output_type": "stream",
          "text": [
            "ParallelCollectionRDD[4] at readRDDFromFile at PythonRDD.scala:274\n"
          ]
        }
      ],
      "source": [
        "print(words)"
      ]
    },
    {
      "cell_type": "code",
      "execution_count": null,
      "metadata": {
        "colab": {
          "base_uri": "https://localhost:8080/"
        },
        "id": "yq_6yKF7eNPY",
        "outputId": "44bbdc07-c8e7-4b1d-93be-bda979444174"
      },
      "outputs": [
        {
          "output_type": "stream",
          "name": "stdout",
          "text": [
            "spark\n",
            "spark vs hadoop\n",
            "pyspark\n",
            "pyspark and spark\n"
          ]
        }
      ],
      "source": [
        "results = words.filter(lambda x: 'spark' in x)\n",
        "for it in results.collect():\n",
        "  print(it)"
      ]
    },
    {
      "cell_type": "code",
      "execution_count": null,
      "metadata": {
        "colab": {
          "base_uri": "https://localhost:8080/"
        },
        "id": "5VTicRaze_nk",
        "outputId": "6cf27da7-ce82-42c4-8684-f83f72aeb692"
      },
      "outputs": [
        {
          "output_type": "stream",
          "name": "stdout",
          "text": [
            "SCALASCALASCALASCALASCALA\n",
            "JAVAJAVAJAVAJAVAJAVA\n",
            "SPARKSPARKSPARKSPARKSPARK\n",
            "AKKAAKKAAKKAAKKAAKKA\n"
          ]
        }
      ],
      "source": [
        "results = words.map(lambda x: x * 5) \\\n",
        "               .filter(lambda x: len(x) < 30) \\\n",
        "               .map(lambda x: x.upper())\n",
        "for it in results.collect():\n",
        "  print(it)"
      ]
    },
    {
      "cell_type": "code",
      "execution_count": null,
      "metadata": {
        "colab": {
          "base_uri": "https://localhost:8080/"
        },
        "id": "FqYnbfUDfrVB",
        "outputId": "f1a1982c-a309-41a2-a324-01e86d0e0b5b"
      },
      "outputs": [
        {
          "output_type": "stream",
          "name": "stdout",
          "text": [
            "1\n",
            "5\n"
          ]
        }
      ],
      "source": [
        "nums = sc.parallelize([1, 2, 3, 4, 5])\n",
        "result = nums.reduce(min)\n",
        "print(result)\n",
        "s = nums.reduce(lambda x, y: x if x > y else y)\n",
        "print(s)"
      ]
    },
    {
      "cell_type": "code",
      "execution_count": null,
      "metadata": {
        "colab": {
          "base_uri": "https://localhost:8080/"
        },
        "id": "Z_xH2JZIgxCG",
        "outputId": "235a167c-b8a7-4f17-fe60-95c6321ec2f2"
      },
      "outputs": [
        {
          "output_type": "stream",
          "name": "stdout",
          "text": [
            "Join RDD -> [('hadoop', (4, 5)), ('spark', (1, 2))]\n"
          ]
        }
      ],
      "source": [
        "x = sc.parallelize([(\"spark\", 1), (\"hadoop\", 4)])\n",
        "y = sc.parallelize([(\"spark\", 2), (\"hadoop\", 5)])\n",
        "joined = x.join(y)\n",
        "final = joined.collect()\n",
        "print (\"Join RDD -> %s\" % (final))"
      ]
    },
    {
      "cell_type": "code",
      "source": [
        "doc = \"Apache Spark is an open-source unified analytics engine for large-scale data processing. Spark provides an interface for programming clusters with implicit data parallelism and fault tolerance. Originally developed at the University of California, Berkeley's AMPLab, the Spark codebase was later donated to the Apache Software Foundation, which has maintained it since.\"\n",
        "result = sc.parallelize([doc]) \\\n",
        "           .flatMap(lambda x: x.split(' ')) \\\n",
        "           .map(lambda x: (x, 1)) \\\n",
        "           .reduceByKey(lambda x, y: x + y)\n",
        "\n",
        "for it in result.collect():\n",
        "  print(it)\n"
      ],
      "metadata": {
        "colab": {
          "base_uri": "https://localhost:8080/"
        },
        "id": "5qTT_UNAVpAI",
        "outputId": "8eda04f1-24e5-43bc-c567-70f5a6ce2194"
      },
      "execution_count": null,
      "outputs": [
        {
          "output_type": "stream",
          "name": "stdout",
          "text": [
            "('Apache', 2)\n",
            "('Spark', 3)\n",
            "('is', 1)\n",
            "('an', 2)\n",
            "('open-source', 1)\n",
            "('unified', 1)\n",
            "('analytics', 1)\n",
            "('engine', 1)\n",
            "('for', 2)\n",
            "('large-scale', 1)\n",
            "('data', 2)\n",
            "('processing.', 1)\n",
            "('provides', 1)\n",
            "('interface', 1)\n",
            "('programming', 1)\n",
            "('clusters', 1)\n",
            "('with', 1)\n",
            "('implicit', 1)\n",
            "('parallelism', 1)\n",
            "('and', 1)\n",
            "('fault', 1)\n",
            "('tolerance.', 1)\n",
            "('Originally', 1)\n",
            "('developed', 1)\n",
            "('at', 1)\n",
            "('the', 3)\n",
            "('University', 1)\n",
            "('of', 1)\n",
            "('California,', 1)\n",
            "(\"Berkeley's\", 1)\n",
            "('AMPLab,', 1)\n",
            "('codebase', 1)\n",
            "('was', 1)\n",
            "('later', 1)\n",
            "('donated', 1)\n",
            "('to', 1)\n",
            "('Software', 1)\n",
            "('Foundation,', 1)\n",
            "('which', 1)\n",
            "('has', 1)\n",
            "('maintained', 1)\n",
            "('it', 1)\n",
            "('since.', 1)\n"
          ]
        }
      ]
    },
    {
      "cell_type": "code",
      "execution_count": null,
      "metadata": {
        "colab": {
          "base_uri": "https://localhost:8080/"
        },
        "id": "KS2OUfxYuBPC",
        "outputId": "56a65599-1475-4f27-bd38-4b1056e50689"
      },
      "outputs": [
        {
          "name": "stdout",
          "output_type": "stream",
          "text": [
            "<class 'pyspark.rdd.RDD'>\n",
            "Serialized 1x Replicated\n",
            "Memory Serialized 1x Replicated\n",
            "This directory includes a few sample datasets to get you started.\n",
            "\n",
            "*   `california_housing_data*.csv` is California housing data from the 1990 US\n",
            "    Census; more information is available at:\n",
            "    https://developers.google.com/machine-learning/crash-course/california-housing-data-description\n",
            "\n",
            "*   `mnist_*.csv` is a small sample of the\n",
            "    [MNIST database](https://en.wikipedia.org/wiki/MNIST_database), which is\n",
            "    described at: http://yann.lecun.com/exdb/mnist/\n",
            "\n",
            "*   `anscombe.json` contains a copy of\n",
            "    [Anscombe's quartet](https://en.wikipedia.org/wiki/Anscombe%27s_quartet); it\n",
            "    was originally described in\n",
            "\n",
            "    Anscombe, F. J. (1973). 'Graphs in Statistical Analysis'. American\n",
            "    Statistician. 27 (1): 17-21. JSTOR 2682899.\n",
            "\n",
            "    and our copy was prepared by the\n",
            "    [vega_datasets library](https://github.com/altair-viz/vega_datasets/blob/4f67bdaad10f45e3549984e17e1b3088c731503d/vega_datasets/_data/anscombe.json).\n"
          ]
        }
      ],
      "source": [
        "dataFile = sc.textFile('/content/sample_data/README.md')\n",
        "print(type(dataFile))\n",
        "print(dataFile.getStorageLevel())\n",
        "dataFile.cache()\n",
        "print(dataFile.getStorageLevel())\n",
        "\n",
        "lines = dataFile.collect()\n",
        "for ll in lines:\n",
        "  print(ll)"
      ]
    },
    {
      "cell_type": "code",
      "execution_count": null,
      "metadata": {
        "colab": {
          "base_uri": "https://localhost:8080/"
        },
        "id": "NjuN8oXnvw7u",
        "outputId": "ae34ff50-47f3-48e9-9e1f-4b92ddb84111"
      },
      "outputs": [
        {
          "name": "stdout",
          "output_type": "stream",
          "text": [
            "*   `california_housing_data*.csv` is California housing data from the 1990 US\n",
            "*   `mnist_*.csv` is a small sample of the\n",
            "*   `anscombe.json` contains a copy of\n"
          ]
        }
      ],
      "source": [
        "# loc cac dong voi dau *\n",
        "linesWithStar = dataFile.filter(lambda x: '*' in x)\n",
        "for line in linesWithStar.collect():\n",
        "  print(line)"
      ]
    },
    {
      "cell_type": "code",
      "execution_count": null,
      "metadata": {
        "colab": {
          "base_uri": "https://localhost:8080/"
        },
        "id": "kbXUi8HRhJ5r",
        "outputId": "47b8f79e-3fd7-4910-f5c3-705b9891f1f7"
      },
      "outputs": [
        {
          "name": "stdout",
          "output_type": "stream",
          "text": [
            "('This', 1)\n",
            "('directory', 1)\n",
            "('includes', 1)\n",
            "('a', 3)\n",
            "('few', 1)\n",
            "('sample', 2)\n",
            "('datasets', 1)\n",
            "('to', 1)\n",
            "('get', 1)\n",
            "('you', 1)\n",
            "('started.', 1)\n",
            "('', 51)\n",
            "('*', 3)\n",
            "('`california_housing_data*.csv`', 1)\n",
            "('is', 4)\n",
            "('California', 1)\n",
            "('housing', 1)\n",
            "('data', 1)\n",
            "('from', 1)\n",
            "('the', 3)\n",
            "('1990', 1)\n",
            "('US', 1)\n",
            "('Census;', 1)\n",
            "('more', 1)\n",
            "('information', 1)\n",
            "('available', 1)\n",
            "('at:', 2)\n",
            "('https://developers.google.com/machine-learning/crash-course/california-housing-data-description', 1)\n",
            "('`mnist_*.csv`', 1)\n",
            "('small', 1)\n",
            "('of', 2)\n",
            "('[MNIST', 1)\n",
            "('database](https://en.wikipedia.org/wiki/MNIST_database),', 1)\n",
            "('which', 1)\n",
            "('described', 2)\n",
            "('http://yann.lecun.com/exdb/mnist/', 1)\n",
            "('`anscombe.json`', 1)\n",
            "('contains', 1)\n",
            "('copy', 2)\n",
            "(\"[Anscombe's\", 1)\n",
            "('quartet](https://en.wikipedia.org/wiki/Anscombe%27s_quartet);', 1)\n",
            "('it', 1)\n",
            "('was', 2)\n",
            "('originally', 1)\n",
            "('in', 2)\n",
            "('Anscombe,', 1)\n",
            "('F.', 1)\n",
            "('J.', 1)\n",
            "('(1973).', 1)\n",
            "(\"'Graphs\", 1)\n",
            "('Statistical', 1)\n",
            "(\"Analysis'.\", 1)\n",
            "('American', 1)\n",
            "('Statistician.', 1)\n",
            "('27', 1)\n",
            "('(1):', 1)\n",
            "('17-21.', 1)\n",
            "('JSTOR', 1)\n",
            "('2682899.', 1)\n",
            "('and', 1)\n",
            "('our', 1)\n",
            "('prepared', 1)\n",
            "('by', 1)\n",
            "('[vega_datasets', 1)\n",
            "('library](https://github.com/altair-viz/vega_datasets/blob/4f67bdaad10f45e3549984e17e1b3088c731503d/vega_datasets/_data/anscombe.json).', 1)\n"
          ]
        }
      ],
      "source": [
        "words = dataFile \\\n",
        "        .flatMap(lambda x: x.split(' ')) \\\n",
        "        .map(lambda x: (x, 1)) \\\n",
        "        .reduceByKey(lambda x, y: x + y)\n",
        "for it in words.collect():\n",
        "  print(it)\n",
        "\n",
        "words.saveAsTextFile('/content/wordcount')"
      ]
    },
    {
      "cell_type": "code",
      "execution_count": null,
      "metadata": {
        "id": "D5dC7Z95wc7h"
      },
      "outputs": [],
      "source": [
        "# dem so luong tu\n",
        "words = dataFile.flatMap(lambda x: x.split(' '))\n",
        "# for it in words.collect():\n",
        "#   print(it)\n",
        "words = words.map(lambda x: (x, 1))\n",
        "counters = words.reduceByKey(lambda x, y: x+y)\n",
        "for it in counters.collect():\n",
        "  print(it)\n",
        "counters.saveAsTextFile('/content/wordcount')"
      ]
    },
    {
      "cell_type": "code",
      "execution_count": null,
      "metadata": {
        "id": "gBRdtfva4TNJ"
      },
      "outputs": [],
      "source": [
        "# tao mot file chua cac so nguyen\n",
        "import random\n",
        "with open('/content/int.txt', 'wt') as g:\n",
        "  for i in range(1000000):\n",
        "    g.write('%d\\n'%(random.randint(0, 1000000)))"
      ]
    },
    {
      "cell_type": "code",
      "execution_count": null,
      "metadata": {
        "colab": {
          "base_uri": "https://localhost:8080/"
        },
        "id": "1QTTWDMJ5Cdz",
        "outputId": "9a8969c0-1ced-4828-f98a-17095f143293"
      },
      "outputs": [
        {
          "name": "stdout",
          "output_type": "stream",
          "text": [
            "500259158377\n"
          ]
        }
      ],
      "source": [
        "# tinh tong cac so\n",
        "dataFile = sc.textFile('/content/int.txt')\n",
        "result = dataFile \\\n",
        "          .map(lambda x: int(x)) \\\n",
        "          .reduce(lambda x, y: x+y)\n",
        "print(result)"
      ]
    },
    {
      "cell_type": "code",
      "execution_count": null,
      "metadata": {
        "colab": {
          "base_uri": "https://localhost:8080/"
        },
        "id": "wXpJOKGI6Ycz",
        "outputId": "85a98773-9387-482f-c633-abf4b68f4de1"
      },
      "outputs": [
        {
          "name": "stdout",
          "output_type": "stream",
          "text": [
            "999999\n"
          ]
        }
      ],
      "source": [
        "# tim so lon nhat\n",
        "dataFile = sc.textFile('/content/int.txt')\n",
        "result = dataFile \\\n",
        "          .map(lambda x: int(x)) \\\n",
        "          .max()\n",
        "print(result)"
      ]
    },
    {
      "cell_type": "code",
      "execution_count": null,
      "metadata": {
        "colab": {
          "base_uri": "https://localhost:8080/"
        },
        "id": "1vpJ8-T66ydl",
        "outputId": "e0fb5e53-7111-4044-fd28-b6e17b35e360"
      },
      "outputs": [
        {
          "name": "stdout",
          "output_type": "stream",
          "text": [
            "500681\n"
          ]
        }
      ],
      "source": [
        "# tim so luong so chan\n",
        "dataFile = sc.textFile('/content/int.txt')\n",
        "result = dataFile \\\n",
        "          .map(lambda x: int(x)) \\\n",
        "          .filter(lambda x: x%2==0) \\\n",
        "          .count()\n",
        "print(result)"
      ]
    },
    {
      "cell_type": "code",
      "execution_count": null,
      "metadata": {
        "colab": {
          "base_uri": "https://localhost:8080/"
        },
        "id": "6NN2Zdw-Oag1",
        "outputId": "e277e182-d068-423c-f678-4965684e3cb5"
      },
      "outputs": [
        {
          "name": "stdout",
          "output_type": "stream",
          "text": [
            "<class 'list'>\n",
            "Stored data -> ['scala', 'java', 'hadoop', 'spark', 'akka']\n",
            "Printing a particular element in RDD -> hadoop\n"
          ]
        }
      ],
      "source": [
        "# Broadcast vars\n",
        "from pyspark import SparkContext\n",
        "\n",
        "sc = SparkContext(\"local\", \"Broadcast app\")\n",
        "words_new = sc.broadcast([\"scala\", \"java\", \"hadoop\", \"spark\", \"akka\"])\n",
        "data = words_new.value\n",
        "print(type(data))\n",
        "print (\"Stored data -> %s\" % (data) )\n",
        "elem = words_new.value[2]\n",
        "print (\"Printing a particular element in RDD -> %s\" % (elem))\n"
      ]
    },
    {
      "cell_type": "code",
      "execution_count": null,
      "metadata": {
        "colab": {
          "base_uri": "https://localhost:8080/"
        },
        "id": "fwaykT1RP0_N",
        "outputId": "cd2a3d3c-2da3-4f2a-c1a1-104aafe510fc"
      },
      "outputs": [
        {
          "name": "stdout",
          "output_type": "stream",
          "text": [
            "Accumulated value is -> 150\n"
          ]
        }
      ],
      "source": [
        "# Accumulator\n",
        "\n",
        "# from pyspark import SparkContext\n",
        "# sc = SparkContext(\"local\", \"Accumulator app\")\n",
        "num = sc.accumulator(10)\n",
        "def f(x):\n",
        "   global num\n",
        "   num += x\n",
        "rdd = sc.parallelize([20,30,40,50])\n",
        "rdd.foreach(f)\n",
        "final = num.value\n",
        "print (\"Accumulated value is -> %i\" % (final))"
      ]
    },
    {
      "cell_type": "code",
      "execution_count": null,
      "metadata": {
        "id": "nwpgXaJjRjIC"
      },
      "outputs": [],
      "source": [
        "from pyspark import SparkConf, SparkContext\n",
        "conf = SparkConf() \\\n",
        "        .setAppName(\"PySpark App\") \\\n",
        "        .setMaster(\"spark://master:7077\")\n",
        "sc = SparkContext(conf=conf)"
      ]
    },
    {
      "cell_type": "code",
      "execution_count": null,
      "metadata": {
        "colab": {
          "base_uri": "https://localhost:8080/"
        },
        "id": "kGn5EUeYSqA-",
        "outputId": "7e81a1a0-4de0-402d-8233-d85aaa9e513b"
      },
      "outputs": [
        {
          "name": "stdout",
          "output_type": "stream",
          "text": [
            "Absolute Path -> /tmp/spark-0094af14-7860-4105-86e7-508b79dee140/userFiles-14b43e11-6e87-4eb1-acc1-9b5a3fe896fd/mnist_test.csv\n"
          ]
        }
      ],
      "source": [
        "from pyspark import SparkContext\n",
        "from pyspark import SparkFiles\n",
        "\n",
        "finddistance = \"/content/sample_data/mnist_test.csv\"\n",
        "finddistancename = \"mnist_test.csv\"\n",
        "# sc = SparkContext(\"local\", \"SparkFile App\")\n",
        "sc.addFile(finddistance)\n",
        "print (\"Absolute Path -> %s\" % SparkFiles.get(finddistancename))"
      ]
    },
    {
      "cell_type": "code",
      "execution_count": null,
      "metadata": {
        "colab": {
          "base_uri": "https://localhost:8080/"
        },
        "id": "vTxL0iM3Udzo",
        "outputId": "057eb4fa-e3f4-4a78-82bc-cd23e6969a3e"
      },
      "outputs": [
        {
          "name": "stdout",
          "output_type": "stream",
          "text": [
            "Disk Memory Serialized 2x Replicated\n"
          ]
        }
      ],
      "source": [
        "from pyspark import SparkContext\n",
        "import pyspark\n",
        "\n",
        "# sc = SparkContext (\n",
        "#    \"local\",\n",
        "#    \"storagelevel app\"\n",
        "# )\n",
        "rdd1 = sc.parallelize([1,2])\n",
        "rdd1.persist(pyspark.StorageLevel.MEMORY_AND_DISK_2)\n",
        "print(rdd1.getStorageLevel())"
      ]
    },
    {
      "cell_type": "markdown",
      "metadata": {
        "id": "0F89dzMfPi_8"
      },
      "source": [
        "## DataFrame"
      ]
    },
    {
      "cell_type": "code",
      "execution_count": null,
      "metadata": {
        "id": "3BZV4DV_9Qa6"
      },
      "outputs": [],
      "source": [
        "from pyspark.sql import SQLContext\n",
        "\n",
        "sqlc = SQLContext(sc)"
      ]
    },
    {
      "cell_type": "code",
      "execution_count": null,
      "metadata": {
        "colab": {
          "base_uri": "https://localhost:8080/"
        },
        "id": "BihETLMsq3tP",
        "outputId": "ef986acc-10a9-4f10-8795-bd20c4e38889"
      },
      "outputs": [
        {
          "name": "stdout",
          "output_type": "stream",
          "text": [
            "<class 'pyspark.sql.dataframe.DataFrame'>\n",
            "Serialized 1x Replicated\n"
          ]
        }
      ],
      "source": [
        "data = [\n",
        "   {\"id\" : \"1201\", \"name\" : \"satish\", \"age\" : \"25\"},\n",
        "   {\"id\" : \"1202\", \"name\" : \"krishna\", \"age\" : \"28\"},\n",
        "   {\"id\" : \"1203\", \"name\" : \"amith\", \"age\" : \"39\"},\n",
        "   {\"id\" : \"1204\", \"name\" : \"javed\", \"age\" : \"23\"},\n",
        "   {\"id\" : \"1205\", \"name\" : \"prudvi\", \"age\" : \"23\"}\n",
        "]\n",
        "df = sqlc.createDataFrame(data)\n",
        "print(type(df))\n",
        "print(df.rdd.getStorageLevel())"
      ]
    },
    {
      "cell_type": "code",
      "execution_count": null,
      "metadata": {
        "colab": {
          "base_uri": "https://localhost:8080/"
        },
        "id": "zWZpvULPrHjp",
        "outputId": "23207237-56dd-45f0-b9dc-83baa9e7b397"
      },
      "outputs": [
        {
          "name": "stdout",
          "output_type": "stream",
          "text": [
            "+---+----+-------+\n",
            "|age|  id|   name|\n",
            "+---+----+-------+\n",
            "| 25|1201| satish|\n",
            "| 28|1202|krishna|\n",
            "| 39|1203|  amith|\n",
            "| 23|1204|  javed|\n",
            "| 23|1205| prudvi|\n",
            "+---+----+-------+\n",
            "\n"
          ]
        }
      ],
      "source": [
        "df.show()"
      ]
    },
    {
      "cell_type": "code",
      "execution_count": null,
      "metadata": {
        "colab": {
          "base_uri": "https://localhost:8080/"
        },
        "id": "wJaURucSrQUn",
        "outputId": "09b0800f-9183-4853-9193-228d2458c22f"
      },
      "outputs": [
        {
          "name": "stdout",
          "output_type": "stream",
          "text": [
            "root\n",
            " |-- age: string (nullable = true)\n",
            " |-- id: string (nullable = true)\n",
            " |-- name: string (nullable = true)\n",
            "\n"
          ]
        }
      ],
      "source": [
        "df.printSchema()"
      ]
    },
    {
      "cell_type": "code",
      "execution_count": null,
      "metadata": {
        "colab": {
          "base_uri": "https://localhost:8080/"
        },
        "id": "Tyz5k-_abK9n",
        "outputId": "e000ef07-0772-4a16-ca99-128556e91e20"
      },
      "outputs": [
        {
          "name": "stdout",
          "output_type": "stream",
          "text": [
            "\"longitude\",\"latitude\",\"housing_median_age\",\"total_rooms\",\"total_bedrooms\",\"population\",\"households\",\"median_income\",\"median_house_value\"\n",
            "-122.050000,37.370000,27.000000,3885.000000,661.000000,1537.000000,606.000000,6.608500,344700.000000\n",
            "-118.300000,34.260000,43.000000,1510.000000,310.000000,809.000000,277.000000,3.599000,176500.000000\n",
            "-117.810000,33.780000,27.000000,3589.000000,507.000000,1484.000000,495.000000,5.793400,270500.000000\n",
            "-118.360000,33.820000,28.000000,67.000000,15.000000,49.000000,11.000000,6.135900,330000.000000\n",
            "-119.670000,36.330000,19.000000,1241.000000,244.000000,850.000000,237.000000,2.937500,81700.000000\n",
            "-119.560000,36.510000,37.000000,1018.000000,213.000000,663.000000,204.000000,1.663500,67000.000000\n",
            "-121.430000,38.630000,43.000000,1009.000000,225.000000,604.000000,218.000000,1.664100,67000.000000\n",
            "-120.650000,35.480000,19.000000,2310.000000,471.000000,1341.000000,441.000000,3.225000,166900.000000\n",
            "-122.840000,38.400000,15.000000,3080.000000,617.000000,1446.000000,599.000000,3.669600,194400.000000\n",
            "-118.020000,34.080000,31.000000,2402.000000,632.000000,2830.000000,603.000000,2.333300,164200.000000\n",
            "-118.240000,33.980000,45.000000,972.000000,249.000000,1288.000000,261.000000,2.205400,125000.000000\n",
            "-119.120000,35.850000,37.000000,736.000000,166.000000,564.000000,138.000000,2.416700,58300.000000\n",
            "-121.930000,37.250000,36.000000,1089.000000,182.000000,535.000000,170.000000,4.690000,252600.000000\n",
            "-117.030000,32.970000,16.000000,3936.000000,694.000000,1935.000000,659.000000,4.562500,231200.000000\n",
            "-117.970000,33.730000,27.000000,2097.000000,325.000000,1217.000000,331.000000,5.712100,222500.000000\n",
            "-117.990000,33.810000,42.000000,161.000000,40.000000,157.000000,50.000000,2.200000,153100.000000\n",
            "-120.810000,37.530000,15.000000,570.000000,123.000000,189.000000,107.000000,1.875000,181300.000000\n",
            "-121.200000,38.690000,26.000000,3077.000000,607.000000,1603.000000,595.000000,2.717400,137500.000000\n",
            "-118.880000,34.210000,26.000000,1590.000000,196.000000,654.000000,199.000000,6.585100,300000.000000\n",
            "-122.590000,38.010000,35.000000,8814.000000,1307.000000,3450.000000,1258.000000,6.172400,414300.000000\n",
            "-122.150000,37.750000,40.000000,1445.000000,256.000000,849.000000,255.000000,3.891300,126300.000000\n",
            "-121.370000,38.680000,36.000000,1775.000000,296.000000,937.000000,305.000000,3.178600,83400.000000\n",
            "-118.160000,34.070000,47.000000,2994.000000,543.000000,1651.000000,561.000000,3.864400,241500.000000\n",
            "-122.200000,37.790000,45.000000,2021.000000,528.000000,1410.000000,480.000000,2.778800,115400.000000\n",
            "-117.280000,33.280000,13.000000,6131.000000,1040.000000,4049.000000,940.000000,3.815600,150700.000000\n",
            "-118.030000,34.160000,36.000000,1401.000000,218.000000,667.000000,225.000000,7.161500,484700.000000\n",
            "-122.420000,37.760000,52.000000,3587.000000,1030.000000,2259.000000,979.000000,2.540300,250000.000000\n",
            "-118.390000,33.990000,32.000000,2612.000000,418.000000,1030.000000,402.000000,6.603000,369200.000000\n",
            "-118.450000,34.070000,19.000000,4845.000000,1609.000000,3751.000000,1539.000000,1.583000,350000.000000\n",
            "-118.480000,34.010000,30.000000,3078.000000,954.000000,1561.000000,901.000000,3.485200,425000.000000\n",
            "-119.350000,36.330000,14.000000,1195.000000,220.000000,568.000000,229.000000,3.148600,105600.000000\n",
            "-118.300000,33.910000,34.000000,1617.000000,493.000000,1530.000000,500.000000,2.618200,172600.000000\n",
            "-121.130000,39.310000,17.000000,3442.000000,705.000000,1693.000000,619.000000,2.810200,128900.000000\n",
            "-118.080000,34.550000,5.000000,16181.000000,2971.000000,8152.000000,2651.000000,4.523700,141800.000000\n",
            "-118.320000,33.940000,38.000000,1067.000000,170.000000,499.000000,169.000000,4.638900,183800.000000\n",
            "-118.110000,34.000000,33.000000,2886.000000,726.000000,2650.000000,728.000000,2.625000,178700.000000\n",
            "-122.530000,37.970000,52.000000,1560.000000,451.000000,700.000000,419.000000,2.512500,270800.000000\n",
            "-118.020000,33.920000,34.000000,1478.000000,251.000000,956.000000,277.000000,5.523800,185300.000000\n",
            "-118.050000,33.930000,31.000000,894.000000,203.000000,883.000000,190.000000,3.677100,141500.000000\n",
            "-119.010000,34.230000,11.000000,5785.000000,1035.000000,2760.000000,985.000000,4.693000,232200.000000\n",
            "-119.320000,36.200000,15.000000,1562.000000,275.000000,961.000000,287.000000,3.423100,83300.000000\n",
            "-116.920000,32.770000,16.000000,2770.000000,406.000000,1269.000000,429.000000,6.678300,275000.000000\n",
            "-118.060000,34.150000,37.000000,1980.000000,226.000000,697.000000,226.000000,15.000100,500001.000000\n",
            "-117.270000,34.090000,36.000000,848.000000,186.000000,737.000000,169.000000,0.983800,79300.000000\n",
            "-118.230000,34.130000,48.000000,1308.000000,286.000000,835.000000,294.000000,4.289100,214800.000000\n",
            "-117.240000,33.170000,4.000000,9998.000000,1874.000000,3925.000000,1672.000000,4.282600,237500.000000\n",
            "-121.910000,37.440000,24.000000,1212.000000,251.000000,799.000000,242.000000,5.080800,212500.000000\n",
            "-118.290000,33.940000,47.000000,1782.000000,338.000000,1003.000000,329.000000,2.539800,105700.000000\n",
            "-121.350000,38.000000,6.000000,1649.000000,369.000000,732.000000,350.000000,3.423100,123800.000000\n",
            "-117.990000,33.780000,19.000000,7399.000000,1698.000000,3554.000000,1593.000000,3.104900,173900.000000\n",
            "-120.990000,37.700000,14.000000,9849.000000,1887.000000,4356.000000,1780.000000,3.587700,160900.000000\n",
            "-119.420000,35.970000,21.000000,554.000000,121.000000,426.000000,122.000000,2.351600,47500.000000\n",
            "-122.210000,37.800000,39.000000,2003.000000,500.000000,1109.000000,464.000000,3.068200,156500.000000\n",
            "-118.170000,33.800000,26.000000,1589.000000,380.000000,883.000000,366.000000,3.531300,187500.000000\n",
            "-117.900000,34.090000,39.000000,1726.000000,333.000000,892.000000,335.000000,4.340900,191800.000000\n",
            "-117.990000,33.930000,36.000000,1287.000000,233.000000,779.000000,229.000000,4.852300,175800.000000\n",
            "-121.420000,38.720000,10.000000,3054.000000,528.000000,1932.000000,510.000000,3.090300,91900.000000\n",
            "-118.770000,34.260000,26.000000,3038.000000,468.000000,1825.000000,468.000000,5.638500,196900.000000\n",
            "-121.930000,37.330000,44.000000,1449.000000,291.000000,676.000000,282.000000,3.575000,292200.000000\n",
            "-121.820000,37.250000,16.000000,2650.000000,600.000000,1969.000000,586.000000,3.946100,194300.000000\n",
            "-122.290000,37.560000,36.000000,805.000000,140.000000,445.000000,139.000000,5.822100,289400.000000\n",
            "-121.780000,37.230000,18.000000,1747.000000,317.000000,1055.000000,285.000000,5.898000,229100.000000\n",
            "-118.410000,34.000000,35.000000,1062.000000,305.000000,1026.000000,307.000000,2.715300,265500.000000\n",
            "-121.670000,40.870000,31.000000,1581.000000,299.000000,776.000000,287.000000,2.906300,77800.000000\n",
            "-118.000000,33.920000,26.000000,2830.000000,399.000000,1204.000000,404.000000,6.127300,289600.000000\n",
            "-117.220000,32.730000,38.000000,3966.000000,768.000000,1640.000000,729.000000,3.840900,291400.000000\n",
            "-121.080000,37.690000,19.000000,6473.000000,1212.000000,3559.000000,1123.000000,3.224600,129300.000000\n",
            "-117.530000,33.920000,12.000000,2290.000000,319.000000,728.000000,228.000000,6.156100,233500.000000\n",
            "-117.460000,34.080000,18.000000,3830.000000,750.000000,2767.000000,702.000000,3.660200,120700.000000\n",
            "-117.970000,33.860000,35.000000,1691.000000,367.000000,1265.000000,378.000000,3.585500,174300.000000\n",
            "-121.920000,37.330000,52.000000,2125.000000,382.000000,930.000000,387.000000,5.283100,299500.000000\n",
            "-118.200000,34.040000,44.000000,1582.000000,544.000000,1998.000000,515.000000,1.688800,125000.000000\n",
            "-118.060000,33.800000,22.000000,1892.000000,442.000000,1015.000000,404.000000,4.137900,212500.000000\n",
            "-122.050000,37.360000,34.000000,2400.000000,419.000000,1017.000000,384.000000,4.136900,316900.000000\n",
            "-123.790000,39.500000,24.000000,1421.000000,291.000000,588.000000,274.000000,2.325000,157300.000000\n",
            "-120.790000,37.490000,44.000000,1186.000000,225.000000,687.000000,234.000000,3.416700,160700.000000\n",
            "-121.890000,37.350000,47.000000,2879.000000,631.000000,2229.000000,606.000000,3.259900,183100.000000\n",
            "-118.430000,34.200000,29.000000,3051.000000,694.000000,1942.000000,679.000000,3.111800,238100.000000\n",
            "-118.750000,34.170000,18.000000,6217.000000,858.000000,2703.000000,834.000000,6.807500,325900.000000\n",
            "-122.470000,37.990000,22.000000,7274.000000,1002.000000,2468.000000,957.000000,7.494000,439200.000000\n",
            "-120.690000,37.400000,46.000000,860.000000,130.000000,496.000000,147.000000,3.516700,137500.000000\n",
            "-118.280000,34.050000,44.000000,968.000000,384.000000,1805.000000,375.000000,1.480100,212500.000000\n",
            "-118.440000,34.250000,35.000000,1583.000000,324.000000,1481.000000,351.000000,3.700000,176000.000000\n",
            "-122.050000,38.260000,21.000000,7195.000000,1416.000000,3927.000000,1377.000000,3.091200,126300.000000\n",
            "-121.990000,37.350000,18.000000,1712.000000,509.000000,972.000000,467.000000,4.397100,238900.000000\n",
            "-121.020000,37.680000,28.000000,2875.000000,560.000000,1608.000000,558.000000,3.548900,106400.000000\n",
            "-119.850000,36.740000,35.000000,1191.000000,190.000000,537.000000,182.000000,3.537500,96700.000000\n",
            "-118.020000,34.080000,28.000000,2769.000000,631.000000,2452.000000,581.000000,2.607100,175900.000000\n",
            "-123.520000,41.010000,17.000000,1564.000000,345.000000,517.000000,222.000000,2.154200,83800.000000\n",
            "-122.400000,37.620000,44.000000,1619.000000,362.000000,1064.000000,335.000000,4.023800,224200.000000\n",
            "-118.130000,34.150000,24.000000,1125.000000,341.000000,579.000000,321.000000,2.812500,141700.000000\n",
            "-122.000000,37.980000,32.000000,1013.000000,169.000000,436.000000,173.000000,5.111800,226900.000000\n",
            "-118.450000,34.250000,36.000000,1453.000000,270.000000,808.000000,275.000000,4.383900,204600.000000\n",
            "-117.500000,33.870000,4.000000,6755.000000,1017.000000,2866.000000,850.000000,5.049300,239800.000000\n",
            "-122.220000,37.840000,50.000000,2935.000000,473.000000,1031.000000,479.000000,7.500000,295200.000000\n",
            "-119.820000,36.640000,30.000000,1694.000000,312.000000,1008.000000,321.000000,2.246600,96000.000000\n",
            "-120.210000,36.770000,20.000000,1745.000000,348.000000,1093.000000,302.000000,2.319400,90600.000000\n",
            "-120.970000,38.420000,16.000000,1748.000000,322.000000,4930.000000,287.000000,4.302900,121900.000000\n",
            "-121.190000,38.870000,20.000000,3118.000000,500.000000,1405.000000,519.000000,6.000000,209400.000000\n",
            "-118.200000,33.770000,52.000000,1375.000000,457.000000,1089.000000,317.000000,2.234400,200000.000000\n",
            "-118.300000,34.020000,49.000000,2120.000000,483.000000,1522.000000,416.000000,1.850000,116800.000000\n",
            "-122.230000,37.790000,43.000000,5963.000000,1344.000000,4367.000000,1231.000000,2.191700,112800.000000\n",
            "-121.310000,38.620000,31.000000,3114.000000,430.000000,1121.000000,456.000000,6.244000,240000.000000\n",
            "-117.250000,32.800000,35.000000,2281.000000,506.000000,1005.000000,496.000000,4.229600,275000.000000\n",
            "-118.260000,33.990000,36.000000,2016.000000,505.000000,1807.000000,464.000000,1.690100,103500.000000\n",
            "-119.390000,36.540000,34.000000,1590.000000,422.000000,1272.000000,407.000000,1.806800,59000.000000\n",
            "-121.510000,38.520000,30.000000,3236.000000,588.000000,1167.000000,569.000000,4.097200,181400.000000\n",
            "-119.180000,34.270000,6.000000,2307.000000,386.000000,910.000000,364.000000,5.215000,279500.000000\n",
            "-118.180000,33.770000,30.000000,1418.000000,439.000000,720.000000,417.000000,2.637100,159400.000000\n",
            "-122.430000,37.740000,52.000000,1514.000000,314.000000,724.000000,301.000000,5.329200,300900.000000\n",
            "-117.930000,33.910000,24.000000,1698.000000,297.000000,676.000000,273.000000,5.201700,364600.000000\n",
            "-124.160000,40.770000,35.000000,2141.000000,438.000000,1053.000000,434.000000,2.852900,85600.000000\n",
            "-117.950000,33.630000,27.000000,2489.000000,481.000000,1082.000000,443.000000,5.877700,358800.000000\n",
            "-118.050000,34.100000,36.000000,1606.000000,318.000000,889.000000,294.000000,4.793100,272600.000000\n",
            "-116.970000,32.810000,19.000000,1573.000000,471.000000,844.000000,414.000000,2.142200,125000.000000\n",
            "-118.850000,34.170000,42.000000,564.000000,96.000000,220.000000,81.000000,4.562500,318800.000000\n",
            "-117.730000,33.630000,15.000000,2874.000000,592.000000,1382.000000,586.000000,5.513700,161800.000000\n",
            "-122.070000,37.340000,30.000000,1851.000000,238.000000,631.000000,236.000000,10.100700,500001.000000\n",
            "-117.180000,33.020000,15.000000,3540.000000,453.000000,1364.000000,425.000000,13.662300,500001.000000\n",
            "-118.410000,34.000000,38.000000,324.000000,70.000000,268.000000,73.000000,2.550000,271400.000000\n",
            "-121.960000,37.300000,20.000000,4228.000000,1006.000000,2334.000000,1007.000000,4.308100,227300.000000\n",
            "-121.740000,38.550000,34.000000,2299.000000,579.000000,1300.000000,536.000000,1.643500,148500.000000\n",
            "-118.210000,33.920000,28.000000,2949.000000,1003.000000,4551.000000,930.000000,1.902600,131900.000000\n",
            "-121.900000,36.610000,29.000000,3412.000000,827.000000,1574.000000,759.000000,2.930900,217100.000000\n",
            "-117.810000,33.840000,17.000000,4343.000000,515.000000,1605.000000,484.000000,10.598100,460100.000000\n",
            "-118.190000,33.930000,42.000000,1829.000000,391.000000,1614.000000,377.000000,3.191200,146400.000000\n",
            "-120.930000,37.730000,14.000000,2799.000000,618.000000,2294.000000,596.000000,2.634300,81500.000000\n",
            "-122.020000,37.960000,25.000000,2615.000000,368.000000,935.000000,366.000000,6.672700,305100.000000\n",
            "-122.470000,37.790000,52.000000,2844.000000,623.000000,1380.000000,596.000000,4.750000,500001.000000\n",
            "-117.190000,34.030000,25.000000,2513.000000,340.000000,900.000000,320.000000,6.496200,182400.000000\n",
            "-117.240000,32.800000,28.000000,1072.000000,331.000000,692.000000,321.000000,2.135700,187500.000000\n",
            "-118.130000,34.100000,19.000000,2742.000000,756.000000,1396.000000,703.000000,2.566300,197500.000000\n",
            "-122.420000,37.730000,50.000000,3426.000000,769.000000,2261.000000,671.000000,2.888000,246400.000000\n",
            "-118.140000,34.710000,32.000000,1164.000000,248.000000,588.000000,270.000000,1.191700,86900.000000\n",
            "-119.760000,36.750000,39.000000,2233.000000,563.000000,2031.000000,491.000000,1.864100,50800.000000\n",
            "-122.340000,37.560000,39.000000,3562.000000,391.000000,1139.000000,391.000000,12.641700,500001.000000\n",
            "-122.450000,40.460000,16.000000,2734.000000,501.000000,1413.000000,484.000000,2.808500,105700.000000\n",
            "-118.290000,33.910000,31.000000,2025.000000,618.000000,2231.000000,593.000000,2.474100,151200.000000\n",
            "-118.320000,33.910000,34.000000,3041.000000,677.000000,1920.000000,640.000000,4.530400,181300.000000\n",
            "-122.040000,37.360000,26.000000,3298.000000,460.000000,1241.000000,472.000000,6.875300,403000.000000\n",
            "-117.390000,34.100000,12.000000,7184.000000,1516.000000,4862.000000,1235.000000,2.449200,103800.000000\n",
            "-122.250000,37.800000,36.000000,1678.000000,606.000000,1645.000000,543.000000,2.230300,116700.000000\n",
            "-117.980000,34.100000,22.000000,5661.000000,1209.000000,5389.000000,1178.000000,3.772700,159700.000000\n",
            "-120.060000,36.950000,24.000000,646.000000,134.000000,454.000000,149.000000,2.125000,61900.000000\n",
            "-121.470000,39.490000,17.000000,1554.000000,242.000000,553.000000,230.000000,3.217400,91800.000000\n",
            "-122.200000,37.790000,35.000000,1802.000000,459.000000,1009.000000,390.000000,2.303600,126000.000000\n",
            "-117.230000,32.750000,23.000000,2415.000000,653.000000,1275.000000,596.000000,3.138900,101800.000000\n",
            "-119.750000,36.740000,39.000000,1740.000000,351.000000,1098.000000,347.000000,1.895800,51300.000000\n",
            "-117.920000,34.030000,35.000000,1341.000000,233.000000,898.000000,216.000000,4.111800,157300.000000\n",
            "-121.640000,39.280000,25.000000,2857.000000,662.000000,2076.000000,685.000000,1.809500,64100.000000\n",
            "-117.140000,32.720000,45.000000,1140.000000,310.000000,840.000000,339.000000,1.615600,156300.000000\n",
            "-122.290000,37.540000,41.000000,1743.000000,349.000000,811.000000,349.000000,4.946400,282400.000000\n",
            "-117.910000,33.940000,15.000000,5799.000000,842.000000,2314.000000,787.000000,6.343300,350500.000000\n",
            "-118.380000,34.270000,8.000000,3248.000000,847.000000,2608.000000,731.000000,2.821400,158300.000000\n",
            "-122.030000,37.600000,24.000000,2077.000000,383.000000,1488.000000,389.000000,4.572100,214700.000000\n",
            "-117.130000,33.150000,16.000000,3907.000000,671.000000,1759.000000,663.000000,3.177600,172600.000000\n",
            "-118.280000,34.000000,42.000000,855.000000,284.000000,890.000000,247.000000,1.277800,112500.000000\n",
            "-122.450000,37.720000,52.000000,1729.000000,319.000000,890.000000,300.000000,4.303600,261800.000000\n",
            "-119.770000,36.770000,38.000000,3065.000000,658.000000,1441.000000,625.000000,2.056400,64700.000000\n",
            "-117.700000,33.640000,15.000000,5743.000000,773.000000,2380.000000,773.000000,8.192600,326600.000000\n",
            "-117.070000,32.790000,36.000000,3583.000000,642.000000,1711.000000,602.000000,3.974500,170800.000000\n",
            "-117.850000,33.620000,13.000000,5192.000000,658.000000,1865.000000,662.000000,15.000100,500001.000000\n",
            "-117.760000,33.710000,15.000000,1010.000000,350.000000,470.000000,342.000000,3.222900,108300.000000\n",
            "-117.190000,34.940000,31.000000,2034.000000,444.000000,1097.000000,367.000000,2.152200,60800.000000\n",
            "-120.970000,37.690000,15.000000,4065.000000,841.000000,1986.000000,680.000000,3.072000,114300.000000\n",
            "-117.190000,33.640000,12.000000,1481.000000,265.000000,757.000000,243.000000,3.235000,210700.000000\n",
            "-118.380000,33.910000,36.000000,2904.000000,515.000000,1463.000000,534.000000,5.837400,289600.000000\n",
            "-121.560000,38.260000,43.000000,1906.000000,327.000000,996.000000,314.000000,2.974400,136800.000000\n",
            "-118.960000,35.870000,17.000000,1668.000000,307.000000,888.000000,277.000000,3.779400,96200.000000\n",
            "-116.960000,32.800000,24.000000,2493.000000,693.000000,1420.000000,643.000000,1.835700,104200.000000\n",
            "-118.270000,33.940000,30.000000,1764.000000,397.000000,1406.000000,362.000000,1.449000,93100.000000\n",
            "-119.180000,34.190000,36.000000,4519.000000,1081.000000,4818.000000,1061.000000,2.856100,179100.000000\n",
            "-118.230000,33.900000,28.000000,1108.000000,284.000000,1498.000000,289.000000,2.470600,88800.000000\n",
            "-120.490000,37.260000,28.000000,2159.000000,416.000000,1283.000000,378.000000,1.893900,83000.000000\n",
            "-121.430000,38.640000,34.000000,2010.000000,411.000000,1501.000000,422.000000,2.041700,65900.000000\n",
            "-118.140000,34.170000,42.000000,2757.000000,713.000000,2112.000000,653.000000,2.714800,166800.000000\n",
            "-119.090000,35.410000,12.000000,3449.000000,522.000000,1754.000000,551.000000,5.623500,130600.000000\n",
            "-118.020000,33.710000,24.000000,2598.000000,443.000000,1184.000000,435.000000,5.862300,287800.000000\n",
            "-121.530000,39.060000,20.000000,561.000000,109.000000,308.000000,114.000000,3.302100,70800.000000\n",
            "-119.290000,34.280000,38.000000,2387.000000,748.000000,1537.000000,741.000000,2.314700,192500.000000\n",
            "-121.840000,37.340000,33.000000,1019.000000,191.000000,938.000000,215.000000,4.092900,165000.000000\n",
            "-117.990000,33.880000,42.000000,1461.000000,302.000000,986.000000,314.000000,3.955900,161100.000000\n",
            "-122.240000,37.550000,3.000000,6164.000000,1175.000000,2198.000000,975.000000,6.741300,435900.000000\n",
            "-121.800000,37.310000,21.000000,2630.000000,446.000000,1789.000000,389.000000,5.054300,232000.000000\n",
            "-117.430000,34.080000,13.000000,4563.000000,1187.000000,2475.000000,1019.000000,2.118900,121700.000000\n",
            "-118.280000,34.020000,29.000000,515.000000,229.000000,2690.000000,217.000000,0.499900,500001.000000\n",
            "-117.300000,33.060000,31.000000,2128.000000,520.000000,1049.000000,485.000000,4.027000,290000.000000\n",
            "-118.200000,34.040000,18.000000,796.000000,227.000000,547.000000,218.000000,1.033300,135400.000000\n",
            "-117.630000,34.110000,30.000000,2674.000000,428.000000,1404.000000,456.000000,4.296900,165600.000000\n",
            "-121.940000,37.330000,37.000000,818.000000,269.000000,576.000000,261.000000,2.190200,250000.000000\n",
            "-118.070000,33.930000,5.000000,906.000000,187.000000,1453.000000,158.000000,4.125000,171900.000000\n",
            "-117.190000,32.830000,30.000000,3225.000000,555.000000,1601.000000,532.000000,4.331700,173300.000000\n",
            "-118.210000,33.890000,42.000000,1739.000000,370.000000,1104.000000,297.000000,2.212500,120700.000000\n",
            "-118.410000,34.190000,39.000000,1169.000000,242.000000,612.000000,247.000000,4.142900,200000.000000\n",
            "-117.000000,32.800000,29.000000,2045.000000,398.000000,912.000000,368.000000,3.018900,144100.000000\n",
            "-116.920000,32.860000,11.000000,2204.000000,518.000000,1472.000000,497.000000,2.369300,127000.000000\n",
            "-121.040000,38.950000,22.000000,1931.000000,445.000000,1009.000000,407.000000,2.750000,153200.000000\n",
            "-122.120000,37.450000,38.000000,1276.000000,314.000000,955.000000,287.000000,2.009600,155700.000000\n",
            "-119.480000,36.540000,28.000000,2112.000000,363.000000,1011.000000,335.000000,4.222200,108900.000000\n",
            "-121.020000,37.680000,25.000000,3262.000000,588.000000,1834.000000,578.000000,3.996000,114500.000000\n",
            "-123.280000,40.770000,25.000000,767.000000,206.000000,301.000000,121.000000,1.625000,79200.000000\n",
            "-122.890000,39.110000,10.000000,1588.000000,333.000000,585.000000,254.000000,2.255100,71100.000000\n",
            "-122.040000,37.970000,21.000000,6445.000000,1839.000000,3621.000000,1735.000000,2.584100,112500.000000\n",
            "-118.080000,33.810000,21.000000,1189.000000,281.000000,577.000000,264.000000,3.315500,237500.000000\n",
            "-118.310000,34.090000,36.000000,787.000000,420.000000,1506.000000,360.000000,1.241200,216700.000000\n",
            "-122.160000,37.750000,35.000000,667.000000,140.000000,406.000000,133.000000,3.804700,94300.000000\n",
            "-121.610000,38.380000,37.000000,1365.000000,276.000000,952.000000,268.000000,4.037000,156900.000000\n",
            "-122.100000,37.680000,31.000000,1892.000000,428.000000,1162.000000,389.000000,3.125000,167100.000000\n",
            "-122.280000,37.870000,49.000000,2026.000000,548.000000,963.000000,521.000000,1.980500,173700.000000\n",
            "-116.910000,34.240000,23.000000,6379.000000,1636.000000,1350.000000,568.000000,1.633600,124500.000000\n",
            "-121.830000,37.280000,33.000000,1115.000000,250.000000,1168.000000,261.000000,3.900900,178600.000000\n",
            "-118.300000,33.810000,17.000000,5544.000000,1068.000000,3008.000000,1038.000000,5.322000,282700.000000\n",
            "-117.960000,33.700000,23.000000,4417.000000,740.000000,1865.000000,693.000000,5.342800,279300.000000\n",
            "-122.140000,40.070000,31.000000,2053.000000,465.000000,1193.000000,447.000000,1.492300,44400.000000\n",
            "-121.440000,38.730000,25.000000,1287.000000,224.000000,727.000000,236.000000,4.739600,135500.000000\n",
            "-122.260000,37.550000,17.000000,4576.000000,814.000000,1941.000000,807.000000,5.957200,443800.000000\n",
            "-121.640000,37.140000,14.000000,5487.000000,1024.000000,2823.000000,979.000000,4.175000,229800.000000\n",
            "-117.180000,34.480000,8.000000,3561.000000,691.000000,2156.000000,659.000000,2.777800,86900.000000\n",
            "-122.280000,38.340000,44.000000,1066.000000,190.000000,416.000000,174.000000,3.638900,304000.000000\n",
            "-117.900000,33.600000,25.000000,2465.000000,585.000000,906.000000,472.000000,3.653800,500001.000000\n",
            "-122.180000,37.780000,33.000000,142.000000,31.000000,575.000000,47.000000,3.875000,225000.000000\n",
            "-121.490000,38.510000,30.000000,3166.000000,607.000000,1857.000000,579.000000,3.176800,79500.000000\n",
            "-118.190000,33.910000,43.000000,1531.000000,357.000000,1509.000000,376.000000,2.635400,128100.000000\n",
            "-118.270000,34.100000,50.000000,2113.000000,398.000000,793.000000,418.000000,4.713200,304600.000000\n",
            "-121.440000,38.610000,34.000000,172.000000,38.000000,149.000000,55.000000,2.644200,55000.000000\n",
            "-121.910000,37.430000,33.000000,2791.000000,496.000000,1714.000000,485.000000,4.830400,224900.000000\n",
            "-117.860000,33.720000,31.000000,1194.000000,297.000000,1602.000000,306.000000,2.333300,157700.000000\n",
            "-118.350000,33.920000,29.000000,736.000000,232.000000,584.000000,231.000000,3.616700,200000.000000\n",
            "-117.260000,33.840000,12.000000,1159.000000,209.000000,523.000000,159.000000,2.723200,123200.000000\n",
            "-122.430000,37.730000,52.000000,3602.000000,738.000000,2270.000000,647.000000,3.893400,251800.000000\n",
            "-121.800000,37.990000,16.000000,3077.000000,465.000000,1575.000000,446.000000,5.500000,179500.000000\n",
            "-122.580000,38.460000,15.000000,2936.000000,517.000000,1182.000000,501.000000,3.398100,246900.000000\n",
            "-122.470000,37.780000,52.000000,2042.000000,378.000000,1153.000000,408.000000,4.185600,404700.000000\n",
            "-118.080000,34.000000,32.000000,1165.000000,358.000000,997.000000,361.000000,0.981700,166300.000000\n",
            "-122.000000,37.350000,20.000000,4304.000000,851.000000,2059.000000,835.000000,5.167400,333000.000000\n",
            "-119.020000,35.410000,21.000000,2534.000000,554.000000,1297.000000,517.000000,2.057500,67000.000000\n",
            "-118.130000,34.180000,52.000000,1464.000000,211.000000,603.000000,226.000000,5.830900,309100.000000\n",
            "-121.940000,37.270000,23.000000,1932.000000,552.000000,997.000000,482.000000,3.662000,211900.000000\n",
            "-120.510000,35.910000,39.000000,768.000000,162.000000,264.000000,118.000000,5.324500,250000.000000\n",
            "-121.650000,38.030000,28.000000,3144.000000,694.000000,1095.000000,482.000000,3.440200,192400.000000\n",
            "-121.620000,39.790000,11.000000,3835.000000,727.000000,1456.000000,658.000000,2.537400,97200.000000\n",
            "-117.080000,32.820000,16.000000,1787.000000,236.000000,770.000000,228.000000,7.129800,278600.000000\n",
            "-123.210000,39.140000,15.000000,2235.000000,545.000000,1376.000000,516.000000,1.903200,100000.000000\n",
            "-119.610000,36.330000,32.000000,1492.000000,284.000000,926.000000,264.000000,3.013900,61500.000000\n",
            "-114.980000,33.070000,18.000000,1183.000000,363.000000,374.000000,127.000000,3.160700,57500.000000\n",
            "-118.380000,34.040000,36.000000,3005.000000,771.000000,2054.000000,758.000000,2.043700,309100.000000\n",
            "-117.990000,33.700000,13.000000,4013.000000,903.000000,1999.000000,859.000000,4.625000,248800.000000\n",
            "-116.260000,33.720000,10.000000,9404.000000,1827.000000,3208.000000,1283.000000,3.108600,105800.000000\n",
            "-118.400000,34.000000,10.000000,1526.000000,339.000000,705.000000,268.000000,5.808300,321800.000000\n",
            "-120.640000,35.460000,6.000000,5876.000000,1406.000000,2877.000000,1304.000000,2.543700,146400.000000\n",
            "-122.030000,37.390000,22.000000,3280.000000,933.000000,1842.000000,795.000000,4.410700,232700.000000\n",
            "-118.290000,33.880000,36.000000,1751.000000,438.000000,1175.000000,419.000000,3.073900,218600.000000\n",
            "-117.020000,32.690000,7.000000,6055.000000,1004.000000,3031.000000,952.000000,4.436000,135000.000000\n",
            "-119.320000,36.300000,15.000000,2864.000000,571.000000,1480.000000,475.000000,2.969800,93400.000000\n",
            "-122.310000,38.010000,18.000000,4123.000000,874.000000,1895.000000,772.000000,3.275900,195000.000000\n",
            "-118.860000,34.190000,27.000000,1931.000000,261.000000,736.000000,244.000000,6.780500,392900.000000\n",
            "-117.140000,33.810000,13.000000,4496.000000,756.000000,2044.000000,695.000000,3.277800,148800.000000\n",
            "-118.640000,34.220000,25.000000,2762.000000,410.000000,1166.000000,439.000000,6.864300,333700.000000\n",
            "-116.630000,33.890000,22.000000,1540.000000,364.000000,610.000000,268.000000,1.522700,71000.000000\n",
            "-118.280000,34.110000,45.000000,1607.000000,331.000000,633.000000,332.000000,3.144500,438300.000000\n",
            "-119.030000,35.380000,52.000000,1695.000000,290.000000,540.000000,260.000000,2.731200,147100.000000\n",
            "-118.260000,33.880000,36.000000,1212.000000,222.000000,775.000000,224.000000,5.559100,136500.000000\n",
            "-117.890000,33.850000,18.000000,2036.000000,414.000000,1292.000000,380.000000,3.875000,273000.000000\n",
            "-122.090000,37.380000,36.000000,2587.000000,416.000000,1055.000000,410.000000,6.199500,407200.000000\n",
            "-122.940000,39.100000,18.000000,681.000000,120.000000,272.000000,105.000000,2.890600,140600.000000\n",
            "-117.100000,32.680000,42.000000,2013.000000,568.000000,1920.000000,557.000000,2.072400,107600.000000\n",
            "-118.980000,35.410000,36.000000,1482.000000,266.000000,640.000000,274.000000,3.875000,94500.000000\n",
            "-120.230000,37.960000,52.000000,1230.000000,262.000000,609.000000,243.000000,2.005700,68200.000000\n",
            "-118.200000,33.940000,43.000000,1934.000000,511.000000,1895.000000,493.000000,2.502900,159700.000000\n",
            "-121.300000,37.950000,9.000000,674.000000,242.000000,575.000000,193.000000,2.202400,45000.000000\n",
            "-121.740000,38.550000,33.000000,6861.000000,1820.000000,3717.000000,1767.000000,1.731100,182600.000000\n",
            "-121.960000,37.330000,35.000000,2294.000000,411.000000,1054.000000,449.000000,4.066700,276900.000000\n",
            "-120.600000,37.360000,27.000000,2521.000000,484.000000,1307.000000,456.000000,3.091100,86900.000000\n",
            "-122.470000,37.700000,44.000000,2034.000000,423.000000,1491.000000,373.000000,4.534100,236500.000000\n",
            "-117.050000,32.580000,23.000000,1918.000000,339.000000,1392.000000,340.000000,4.087000,134800.000000\n",
            "-117.900000,33.870000,34.000000,1411.000000,292.000000,1040.000000,299.000000,3.433800,195200.000000\n",
            "-117.230000,32.870000,15.000000,2290.000000,662.000000,1034.000000,594.000000,3.010400,204200.000000\n",
            "-122.080000,37.880000,24.000000,2059.000000,462.000000,410.000000,294.000000,2.397100,99400.000000\n",
            "-118.210000,33.800000,45.000000,1160.000000,274.000000,1095.000000,269.000000,2.730800,139000.000000\n",
            "-122.080000,37.640000,30.000000,5267.000000,1253.000000,4065.000000,1113.000000,3.347900,182100.000000\n",
            "-118.380000,34.140000,40.000000,1965.000000,354.000000,666.000000,357.000000,6.087600,483800.000000\n",
            "-118.200000,33.800000,45.000000,2456.000000,495.000000,1300.000000,450.000000,3.979200,210200.000000\n",
            "-117.620000,33.430000,27.000000,3858.000000,1062.000000,2321.000000,873.000000,3.315500,231000.000000\n",
            "-122.110000,37.400000,31.000000,2836.000000,490.000000,1138.000000,481.000000,4.951900,500001.000000\n",
            "-122.840000,38.980000,21.000000,939.000000,176.000000,556.000000,178.000000,1.719600,75000.000000\n",
            "-121.260000,38.270000,20.000000,1314.000000,229.000000,712.000000,219.000000,4.412500,144600.000000\n",
            "-116.890000,33.730000,15.000000,2094.000000,316.000000,937.000000,277.000000,5.362300,201300.000000\n",
            "-122.670000,38.440000,32.000000,3771.000000,741.000000,1786.000000,721.000000,3.241500,172200.000000\n",
            "-117.940000,33.870000,46.000000,2066.000000,450.000000,1275.000000,448.000000,3.937500,187000.000000\n",
            "-118.140000,34.690000,34.000000,1439.000000,327.000000,708.000000,298.000000,3.269900,100000.000000\n",
            "-122.400000,37.590000,22.000000,2754.000000,477.000000,1163.000000,479.000000,6.230600,500001.000000\n",
            "-118.080000,33.840000,28.000000,4216.000000,948.000000,2997.000000,896.000000,3.796100,162700.000000\n",
            "-116.360000,33.780000,6.000000,24121.000000,4522.000000,4176.000000,2221.000000,3.379900,239300.000000\n",
            "-117.940000,33.850000,26.000000,1888.000000,429.000000,1550.000000,458.000000,3.339300,168600.000000\n",
            "-117.470000,33.940000,34.000000,559.000000,139.000000,532.000000,137.000000,3.068700,88500.000000\n",
            "-117.640000,33.650000,4.000000,6842.000000,1512.000000,3256.000000,1439.000000,5.413200,216600.000000\n",
            "-118.500000,34.240000,34.000000,2634.000000,412.000000,1114.000000,423.000000,5.940100,315300.000000\n",
            "-118.190000,33.780000,24.000000,225.000000,72.000000,439.000000,71.000000,2.853300,137500.000000\n",
            "-117.660000,34.120000,16.000000,3853.000000,541.000000,1726.000000,497.000000,6.119500,251100.000000\n",
            "-122.300000,37.970000,34.000000,2854.000000,528.000000,1211.000000,452.000000,3.535300,164700.000000\n",
            "-122.140000,37.680000,31.000000,3184.000000,716.000000,1561.000000,628.000000,2.795500,183100.000000\n",
            "-118.260000,33.940000,41.000000,1510.000000,410.000000,1408.000000,389.000000,1.650000,94200.000000\n",
            "-118.230000,33.930000,39.000000,2065.000000,532.000000,2015.000000,535.000000,0.847800,104900.000000\n",
            "-120.960000,38.660000,11.000000,2339.000000,436.000000,1062.000000,380.000000,3.903600,180800.000000\n",
            "-117.840000,35.350000,28.000000,1913.000000,486.000000,858.000000,371.000000,1.996200,50800.000000\n",
            "-119.160000,34.200000,35.000000,2183.000000,636.000000,3504.000000,623.000000,1.970400,160300.000000\n",
            "-122.650000,38.230000,52.000000,1735.000000,347.000000,712.000000,343.000000,3.171100,200800.000000\n",
            "-121.880000,37.370000,14.000000,6016.000000,1404.000000,3258.000000,1316.000000,3.574500,333700.000000\n",
            "-118.400000,34.040000,43.000000,3863.000000,537.000000,1398.000000,511.000000,8.593800,500001.000000\n",
            "-118.270000,34.110000,36.000000,1832.000000,539.000000,934.000000,486.000000,3.052100,276600.000000\n",
            "-118.440000,34.300000,38.000000,1595.000000,314.000000,1181.000000,327.000000,3.400000,155500.000000\n",
            "-121.770000,37.680000,41.000000,1501.000000,299.000000,629.000000,288.000000,4.680600,209400.000000\n",
            "-119.990000,38.880000,17.000000,2807.000000,529.000000,675.000000,251.000000,2.745700,107800.000000\n",
            "-118.360000,33.960000,26.000000,3543.000000,1055.000000,2742.000000,951.000000,2.550400,151300.000000\n",
            "-118.320000,33.970000,52.000000,1778.000000,320.000000,795.000000,279.000000,3.511400,138800.000000\n",
            "-118.270000,34.270000,27.000000,5205.000000,859.000000,2363.000000,888.000000,6.194600,276100.000000\n",
            "-116.810000,33.900000,17.000000,2009.000000,469.000000,820.000000,381.000000,1.328600,81800.000000\n",
            "-118.390000,33.960000,45.000000,1436.000000,374.000000,662.000000,292.000000,3.625000,329400.000000\n",
            "-118.070000,33.910000,29.000000,2387.000000,570.000000,1978.000000,548.000000,3.195700,159200.000000\n",
            "-118.350000,34.220000,30.000000,1260.000000,222.000000,638.000000,229.000000,4.130200,258300.000000\n",
            "-118.430000,34.020000,41.000000,2403.000000,516.000000,1001.000000,514.000000,4.390600,500001.000000\n",
            "-121.730000,37.680000,17.000000,20354.000000,3493.000000,8768.000000,3293.000000,5.449600,238900.000000\n",
            "-117.310000,32.980000,17.000000,2789.000000,648.000000,849.000000,345.000000,4.101200,244700.000000\n",
            "-122.290000,37.560000,12.000000,6474.000000,1467.000000,2516.000000,1390.000000,5.035300,305800.000000\n",
            "-119.690000,34.380000,39.000000,1383.000000,459.000000,677.000000,362.000000,2.250000,281300.000000\n",
            "-122.070000,38.000000,37.000000,978.000000,202.000000,462.000000,184.000000,3.625000,156300.000000\n",
            "-118.050000,34.160000,41.000000,3320.000000,713.000000,1236.000000,659.000000,3.569400,278600.000000\n",
            "-122.070000,37.660000,28.000000,2280.000000,610.000000,1255.000000,587.000000,2.671900,161200.000000\n",
            "-121.800000,37.270000,10.000000,3301.000000,593.000000,2190.000000,575.000000,6.223000,260700.000000\n",
            "-122.690000,38.340000,23.000000,2846.000000,516.000000,1526.000000,492.000000,3.733000,163500.000000\n",
            "-117.080000,32.700000,35.000000,1477.000000,264.000000,852.000000,279.000000,3.178600,100600.000000\n",
            "-119.760000,36.730000,46.000000,1347.000000,282.000000,854.000000,267.000000,1.872300,52600.000000\n",
            "-118.370000,34.050000,52.000000,1563.000000,306.000000,776.000000,308.000000,3.625000,440900.000000\n",
            "-122.700000,38.350000,14.000000,1555.000000,369.000000,493.000000,335.000000,1.603300,67500.000000\n",
            "-118.130000,34.010000,45.000000,1179.000000,268.000000,736.000000,252.000000,2.708300,161800.000000\n",
            "-119.350000,36.210000,26.000000,2481.000000,586.000000,1445.000000,498.000000,1.637800,60300.000000\n",
            "-117.670000,34.030000,20.000000,8561.000000,1411.000000,4861.000000,1450.000000,4.705600,165500.000000\n",
            "-117.970000,34.150000,33.000000,2474.000000,472.000000,1268.000000,437.000000,6.457600,500001.000000\n",
            "-118.080000,34.080000,38.000000,1889.000000,407.000000,1330.000000,396.000000,3.921900,205200.000000\n",
            "-121.230000,38.780000,13.000000,3813.000000,871.000000,1513.000000,783.000000,2.080700,142600.000000\n",
            "-118.200000,34.020000,49.000000,1098.000000,317.000000,1411.000000,301.000000,2.750000,146000.000000\n",
            "-118.170000,34.020000,41.000000,676.000000,216.000000,851.000000,199.000000,2.307700,140600.000000\n",
            "-117.800000,34.060000,34.000000,1081.000000,205.000000,1325.000000,252.000000,3.629800,108500.000000\n",
            "-118.300000,33.970000,46.000000,1425.000000,317.000000,1140.000000,304.000000,3.375000,98500.000000\n",
            "-122.470000,37.690000,30.000000,837.000000,213.000000,606.000000,199.000000,4.875000,258800.000000\n",
            "-118.200000,33.960000,44.000000,2144.000000,477.000000,1760.000000,452.000000,2.322100,161600.000000\n",
            "-117.130000,32.910000,16.000000,2715.000000,581.000000,1619.000000,584.000000,4.000000,154700.000000\n",
            "-119.770000,36.810000,25.000000,1565.000000,271.000000,661.000000,275.000000,3.427900,84700.000000\n",
            "-118.470000,34.250000,21.000000,2692.000000,477.000000,1330.000000,456.000000,4.541700,238900.000000\n",
            "-122.250000,37.800000,42.000000,4120.000000,1065.000000,1715.000000,1015.000000,2.934500,225000.000000\n",
            "-118.500000,34.170000,37.000000,880.000000,154.000000,369.000000,155.000000,4.142900,303600.000000\n",
            "-122.240000,37.490000,38.000000,4105.000000,950.000000,2561.000000,909.000000,3.868400,265600.000000\n",
            "-117.150000,32.930000,16.000000,2718.000000,438.000000,1515.000000,431.000000,5.143300,185300.000000\n",
            "-120.850000,37.770000,35.000000,404.000000,96.000000,261.000000,100.000000,2.458300,75000.000000\n",
            "-122.250000,37.830000,35.000000,1613.000000,428.000000,675.000000,422.000000,3.472200,243100.000000\n",
            "-118.330000,33.770000,33.000000,4244.000000,595.000000,1534.000000,557.000000,9.821400,500001.000000\n",
            "-124.150000,40.780000,41.000000,2127.000000,358.000000,911.000000,349.000000,3.171100,104200.000000\n",
            "-117.940000,33.790000,24.000000,4179.000000,784.000000,1902.000000,733.000000,4.798600,236500.000000\n",
            "-121.590000,39.150000,5.000000,1922.000000,489.000000,938.000000,439.000000,2.047400,61300.000000\n",
            "-122.690000,38.440000,31.000000,1808.000000,315.000000,691.000000,280.000000,3.858300,193200.000000\n",
            "-122.510000,38.760000,9.000000,2589.000000,482.000000,1050.000000,374.000000,4.043500,132600.000000\n",
            "-117.890000,33.610000,45.000000,1883.000000,419.000000,653.000000,328.000000,4.222200,500001.000000\n",
            "-117.190000,32.770000,9.000000,634.000000,152.000000,248.000000,133.000000,3.857100,143800.000000\n",
            "-117.150000,32.750000,40.000000,2261.000000,579.000000,903.000000,525.000000,2.465000,198700.000000\n",
            "-122.210000,37.480000,20.000000,505.000000,216.000000,326.000000,216.000000,2.928600,237500.000000\n",
            "-118.250000,33.790000,38.000000,1730.000000,460.000000,1724.000000,424.000000,2.730800,150400.000000\n",
            "-120.490000,40.310000,16.000000,1821.000000,360.000000,969.000000,359.000000,3.464300,85100.000000\n",
            "-118.300000,33.740000,20.000000,2625.000000,673.000000,1184.000000,606.000000,3.916700,285200.000000\n",
            "-117.140000,32.700000,47.000000,552.000000,161.000000,593.000000,174.000000,0.958900,90000.000000\n",
            "-121.300000,37.970000,52.000000,2259.000000,417.000000,766.000000,385.000000,2.298100,105400.000000\n",
            "-119.780000,36.750000,31.000000,1404.000000,379.000000,1515.000000,387.000000,1.281300,56400.000000\n",
            "-118.380000,34.180000,32.000000,3553.000000,1060.000000,3129.000000,1010.000000,2.560300,174200.000000\n",
            "-118.130000,34.100000,24.000000,4670.000000,1185.000000,2478.000000,1107.000000,3.197500,252400.000000\n",
            "-118.300000,33.730000,42.000000,1731.000000,435.000000,866.000000,403.000000,2.745100,255400.000000\n",
            "-118.440000,33.990000,44.000000,305.000000,72.000000,156.000000,70.000000,5.964100,275000.000000\n",
            "-117.480000,34.080000,17.000000,1834.000000,390.000000,1253.000000,357.000000,3.102800,106400.000000\n",
            "-122.350000,37.970000,31.000000,2892.000000,685.000000,2104.000000,641.000000,3.218800,113800.000000\n",
            "-119.710000,34.410000,31.000000,1034.000000,319.000000,997.000000,308.000000,2.653800,231800.000000\n",
            "-116.920000,32.810000,23.000000,2668.000000,528.000000,1510.000000,524.000000,3.366900,158900.000000\n",
            "-122.110000,37.660000,35.000000,2843.000000,652.000000,1726.000000,643.000000,3.090000,174100.000000\n",
            "-117.410000,33.940000,29.000000,3181.000000,714.000000,1603.000000,706.000000,3.250000,112500.000000\n",
            "-122.450000,37.740000,38.000000,5688.000000,930.000000,2263.000000,908.000000,6.203000,346800.000000\n",
            "-118.360000,33.800000,38.000000,2553.000000,400.000000,1042.000000,393.000000,6.974200,500001.000000\n",
            "-121.660000,36.680000,10.000000,913.000000,265.000000,508.000000,251.000000,0.991400,147500.000000\n",
            "-122.420000,37.760000,52.000000,2038.000000,629.000000,2007.000000,596.000000,2.570100,266700.000000\n",
            "-118.290000,34.050000,30.000000,1417.000000,589.000000,1615.000000,540.000000,1.386700,193800.000000\n",
            "-119.820000,34.430000,15.000000,1482.000000,345.000000,669.000000,379.000000,3.077300,112500.000000\n",
            "-119.340000,36.220000,38.000000,2708.000000,460.000000,1260.000000,455.000000,3.090500,78200.000000\n",
            "-121.500000,38.610000,5.000000,1395.000000,373.000000,638.000000,322.000000,2.674500,225000.000000\n",
            "-121.880000,37.460000,5.000000,1819.000000,245.000000,802.000000,228.000000,10.972200,500001.000000\n",
            "-118.270000,33.940000,34.000000,721.000000,165.000000,661.000000,171.000000,2.078900,92400.000000\n",
            "-122.170000,37.730000,46.000000,2163.000000,470.000000,925.000000,435.000000,3.250000,177500.000000\n",
            "-122.220000,37.850000,28.000000,5287.000000,1048.000000,2031.000000,956.000000,5.457000,337300.000000\n",
            "-117.200000,32.830000,36.000000,1089.000000,240.000000,623.000000,226.000000,2.590900,176000.000000\n",
            "-120.690000,35.490000,16.000000,2666.000000,450.000000,1203.000000,429.000000,4.137500,222400.000000\n",
            "-122.700000,38.970000,17.000000,2554.000000,540.000000,723.000000,319.000000,3.237500,114200.000000\n",
            "-118.370000,34.150000,29.000000,2630.000000,617.000000,1071.000000,573.000000,3.366900,376100.000000\n",
            "-118.350000,34.000000,40.000000,2894.000000,395.000000,1063.000000,409.000000,6.939000,372000.000000\n",
            "-118.390000,37.360000,38.000000,1813.000000,410.000000,902.000000,396.000000,2.326100,98400.000000\n",
            "-118.110000,34.200000,36.000000,4915.000000,725.000000,1897.000000,700.000000,6.827000,359400.000000\n",
            "-121.720000,36.810000,18.000000,1984.000000,379.000000,1078.000000,359.000000,3.296900,229900.000000\n",
            "-118.520000,34.160000,39.000000,2693.000000,478.000000,1219.000000,435.000000,5.170000,335400.000000\n",
            "-118.120000,33.900000,35.000000,3478.000000,730.000000,1885.000000,673.000000,2.937500,206500.000000\n",
            "-119.690000,36.790000,5.000000,2613.000000,476.000000,1490.000000,481.000000,4.099300,83000.000000\n",
            "-118.030000,33.780000,26.000000,2001.000000,302.000000,836.000000,298.000000,5.106100,257500.000000\n",
            "-120.670000,35.620000,6.000000,12779.000000,2441.000000,6085.000000,2157.000000,3.866100,168100.000000\n",
            "-118.430000,34.030000,36.000000,1552.000000,388.000000,867.000000,352.000000,3.646700,346700.000000\n",
            "-121.620000,39.130000,41.000000,1147.000000,243.000000,583.000000,239.000000,2.243100,63400.000000\n",
            "-118.970000,37.640000,13.000000,1907.000000,544.000000,575.000000,234.000000,3.068500,162500.000000\n",
            "-117.250000,32.740000,36.000000,3548.000000,956.000000,1648.000000,866.000000,2.696200,288200.000000\n",
            "-122.280000,37.800000,52.000000,215.000000,87.000000,904.000000,88.000000,0.866800,137500.000000\n",
            "-118.190000,34.140000,38.000000,1826.000000,300.000000,793.000000,297.000000,5.296200,291500.000000\n",
            "-117.900000,33.850000,32.000000,1605.000000,314.000000,986.000000,306.000000,3.337500,186200.000000\n",
            "-119.020000,37.640000,14.000000,5919.000000,1278.000000,265.000000,112.000000,3.243100,221400.000000\n",
            "-118.370000,34.200000,34.000000,2199.000000,609.000000,2488.000000,597.000000,2.986100,171800.000000\n",
            "-122.410000,37.750000,52.000000,1057.000000,276.000000,837.000000,292.000000,2.453100,229000.000000\n",
            "-117.940000,33.920000,28.000000,639.000000,179.000000,1062.000000,169.000000,3.058800,145200.000000\n",
            "-118.220000,34.120000,28.000000,3306.000000,1025.000000,2670.000000,942.000000,3.091900,185400.000000\n",
            "-117.240000,34.040000,4.000000,4289.000000,682.000000,1981.000000,705.000000,5.336600,165100.000000\n",
            "-122.080000,37.660000,33.000000,1547.000000,372.000000,1063.000000,356.000000,2.562500,154300.000000\n",
            "-122.280000,37.850000,48.000000,2063.000000,484.000000,1054.000000,466.000000,2.262500,132900.000000\n",
            "-118.210000,33.900000,35.000000,2420.000000,579.000000,2010.000000,540.000000,2.081700,104600.000000\n",
            "-118.010000,33.920000,35.000000,1606.000000,289.000000,829.000000,273.000000,5.273000,187600.000000\n",
            "-118.290000,34.180000,10.000000,4292.000000,1075.000000,2719.000000,987.000000,3.697400,286600.000000\n",
            "-118.210000,33.960000,48.000000,284.000000,104.000000,422.000000,119.000000,1.282600,145500.000000\n",
            "-117.230000,32.810000,28.000000,1508.000000,263.000000,996.000000,267.000000,3.802600,270000.000000\n",
            "-117.030000,33.130000,15.000000,7000.000000,1185.000000,3555.000000,1118.000000,4.702200,172800.000000\n",
            "-121.850000,37.220000,21.000000,6203.000000,798.000000,2494.000000,800.000000,7.720100,362700.000000\n",
            "-122.400000,37.720000,47.000000,1465.000000,306.000000,1119.000000,315.000000,4.267200,219400.000000\n",
            "-120.470000,34.980000,6.000000,5762.000000,1115.000000,2551.000000,919.000000,3.072300,137300.000000\n",
            "-121.140000,37.480000,6.000000,1772.000000,332.000000,1011.000000,331.000000,3.704500,128100.000000\n",
            "-119.340000,36.620000,26.000000,1922.000000,339.000000,1148.000000,332.000000,2.605800,92200.000000\n",
            "-117.660000,34.080000,36.000000,1485.000000,236.000000,623.000000,261.000000,3.303600,141000.000000\n",
            "-116.840000,33.080000,15.000000,2755.000000,519.000000,1474.000000,460.000000,4.040800,225900.000000\n",
            "-118.290000,34.050000,11.000000,677.000000,370.000000,1143.000000,341.000000,2.386400,350000.000000\n",
            "-119.980000,38.940000,23.000000,1564.000000,298.000000,339.000000,147.000000,4.041700,99300.000000\n",
            "-118.100000,33.910000,35.000000,1653.000000,325.000000,1072.000000,301.000000,3.270800,159700.000000\n",
            "-120.070000,36.960000,42.000000,963.000000,216.000000,471.000000,211.000000,2.289800,66100.000000\n",
            "-119.110000,35.390000,22.000000,984.000000,176.000000,451.000000,170.000000,3.250000,88900.000000\n",
            "-117.720000,34.100000,46.000000,2477.000000,458.000000,1034.000000,455.000000,5.500000,289700.000000\n",
            "-117.900000,33.650000,30.000000,2196.000000,486.000000,1131.000000,460.000000,4.413500,272300.000000\n",
            "-121.980000,37.290000,31.000000,2750.000000,664.000000,1459.000000,660.000000,3.228700,264900.000000\n",
            "-122.030000,36.960000,32.000000,2182.000000,406.000000,1122.000000,370.000000,3.520000,284200.000000\n",
            "-117.420000,34.080000,21.000000,4460.000000,930.000000,2657.000000,839.000000,2.756900,127500.000000\n",
            "-117.660000,34.110000,19.000000,3445.000000,661.000000,1635.000000,580.000000,5.068100,230500.000000\n",
            "-119.290000,34.240000,27.000000,4742.000000,775.000000,1682.000000,696.000000,6.194000,500001.000000\n",
            "-117.020000,32.710000,20.000000,4050.000000,745.000000,2870.000000,761.000000,3.736600,121800.000000\n",
            "-122.850000,38.620000,16.000000,4418.000000,704.000000,1908.000000,697.000000,4.591300,244600.000000\n",
            "-118.330000,33.910000,35.000000,1092.000000,302.000000,962.000000,297.000000,3.590300,183300.000000\n",
            "-118.400000,34.020000,40.000000,593.000000,137.000000,371.000000,132.000000,4.693200,332800.000000\n",
            "-118.380000,33.840000,26.000000,2869.000000,567.000000,1157.000000,538.000000,6.038200,355300.000000\n",
            "-118.050000,34.110000,42.000000,3677.000000,627.000000,1779.000000,622.000000,5.150900,426500.000000\n",
            "-117.430000,33.930000,36.000000,2386.000000,396.000000,1176.000000,374.000000,4.512200,113300.000000\n",
            "-118.100000,34.160000,44.000000,2795.000000,496.000000,1235.000000,469.000000,4.238600,283700.000000\n",
            "-122.530000,37.860000,38.000000,1183.000000,196.000000,628.000000,205.000000,3.750000,478600.000000\n",
            "-118.300000,33.970000,42.000000,944.000000,200.000000,567.000000,190.000000,2.631100,124100.000000\n",
            "-118.200000,33.890000,37.000000,2394.000000,568.000000,2499.000000,551.000000,2.532100,105100.000000\n",
            "-118.020000,34.150000,44.000000,2419.000000,437.000000,1045.000000,432.000000,3.875000,280800.000000\n",
            "-121.530000,39.520000,30.000000,1030.000000,161.000000,448.000000,159.000000,2.482100,73800.000000\n",
            "-117.920000,33.900000,13.000000,1814.000000,320.000000,1010.000000,313.000000,6.348900,337900.000000\n",
            "-118.370000,34.210000,33.000000,2034.000000,470.000000,1990.000000,423.000000,3.745500,159600.000000\n",
            "-118.040000,33.850000,18.000000,3628.000000,546.000000,1922.000000,544.000000,7.505700,328500.000000\n",
            "-118.460000,33.980000,19.000000,2520.000000,726.000000,964.000000,663.000000,3.806800,500001.000000\n",
            "-118.050000,33.900000,36.000000,1047.000000,227.000000,975.000000,239.000000,3.189700,155000.000000\n",
            "-122.950000,40.710000,26.000000,2231.000000,421.000000,987.000000,364.000000,2.479200,88800.000000\n",
            "-122.000000,37.300000,28.000000,5096.000000,1011.000000,2588.000000,954.000000,5.357000,355200.000000\n",
            "-121.860000,37.400000,21.000000,1386.000000,260.000000,946.000000,257.000000,6.522600,258500.000000\n",
            "-119.250000,36.560000,35.000000,1675.000000,373.000000,1131.000000,316.000000,1.672200,59100.000000\n",
            "-118.210000,34.560000,12.000000,2472.000000,408.000000,1048.000000,380.000000,4.709700,262100.000000\n",
            "-118.260000,34.020000,39.000000,698.000000,232.000000,1046.000000,228.000000,2.235600,119500.000000\n",
            "-117.280000,34.150000,32.000000,2170.000000,430.000000,815.000000,401.000000,3.176500,135000.000000\n",
            "-122.440000,37.660000,21.000000,5108.000000,1510.000000,3288.000000,1405.000000,3.192700,252600.000000\n",
            "-118.990000,35.390000,36.000000,1438.000000,348.000000,1054.000000,341.000000,1.831900,55400.000000\n",
            "-117.140000,34.060000,15.000000,3057.000000,510.000000,1154.000000,460.000000,3.974100,141100.000000\n",
            "-122.150000,37.410000,15.000000,2577.000000,360.000000,979.000000,364.000000,10.476000,500001.000000\n",
            "-121.200000,38.670000,26.000000,1546.000000,287.000000,773.000000,299.000000,2.980300,115400.000000\n",
            "-122.150000,37.470000,37.000000,1844.000000,382.000000,1634.000000,417.000000,2.799300,145500.000000\n",
            "-118.340000,33.950000,25.000000,3762.000000,1281.000000,4015.000000,1178.000000,2.158700,143800.000000\n",
            "-118.250000,34.080000,44.000000,1425.000000,438.000000,1121.000000,374.000000,2.110800,200000.000000\n",
            "-119.580000,36.100000,21.000000,1382.000000,327.000000,1469.000000,355.000000,1.396700,46500.000000\n",
            "-121.310000,38.710000,18.000000,3998.000000,744.000000,2071.000000,660.000000,4.383600,102000.000000\n",
            "-118.420000,34.120000,27.000000,2089.000000,303.000000,654.000000,270.000000,12.376700,500001.000000\n",
            "-117.180000,34.060000,52.000000,954.000000,233.000000,533.000000,239.000000,1.302100,100000.000000\n",
            "-115.900000,32.690000,18.000000,414.000000,86.000000,98.000000,54.000000,1.541700,57500.000000\n",
            "-118.360000,33.980000,46.000000,1425.000000,283.000000,782.000000,273.000000,5.057000,246300.000000\n",
            "-122.500000,37.600000,35.000000,2197.000000,369.000000,971.000000,326.000000,4.250000,241700.000000\n",
            "-121.500000,36.810000,20.000000,1345.000000,230.000000,731.000000,217.000000,4.233300,363300.000000\n",
            "-118.190000,33.820000,11.000000,872.000000,203.000000,422.000000,221.000000,4.636400,156300.000000\n",
            "-117.300000,34.150000,40.000000,961.000000,199.000000,509.000000,182.000000,2.060000,85500.000000\n",
            "-118.420000,34.230000,34.000000,1531.000000,278.000000,1064.000000,274.000000,5.668700,207300.000000\n",
            "-118.120000,33.900000,38.000000,1222.000000,282.000000,756.000000,256.000000,4.125000,173900.000000\n",
            "-119.800000,36.790000,45.000000,1337.000000,187.000000,471.000000,187.000000,5.187000,153800.000000\n",
            "-119.740000,34.350000,34.000000,1664.000000,292.000000,705.000000,257.000000,5.000000,329400.000000\n",
            "-121.970000,37.970000,26.000000,1977.000000,264.000000,817.000000,273.000000,5.751200,240200.000000\n",
            "-117.070000,34.050000,14.000000,5764.000000,1006.000000,1876.000000,841.000000,1.969400,173200.000000\n",
            "-122.290000,37.820000,2.000000,158.000000,43.000000,94.000000,57.000000,2.562500,60000.000000\n",
            "-116.310000,33.650000,8.000000,3079.000000,558.000000,1572.000000,474.000000,4.593800,102600.000000\n",
            "-118.270000,34.010000,43.000000,1235.000000,385.000000,1745.000000,372.000000,2.081700,113300.000000\n",
            "-122.440000,37.760000,52.000000,1968.000000,472.000000,784.000000,430.000000,3.370200,370000.000000\n",
            "-118.270000,34.150000,14.000000,1744.000000,536.000000,1494.000000,531.000000,3.217100,230800.000000\n",
            "-118.410000,34.030000,36.000000,3053.000000,635.000000,1234.000000,577.000000,5.163700,500001.000000\n",
            "-121.450000,38.610000,32.000000,2436.000000,612.000000,1509.000000,618.000000,1.042400,81400.000000\n",
            "-117.250000,32.830000,17.000000,2075.000000,262.000000,704.000000,241.000000,10.952900,500001.000000\n",
            "-119.800000,36.820000,24.000000,5377.000000,1005.000000,2010.000000,982.000000,3.454200,121200.000000\n",
            "-121.310000,38.010000,22.000000,2101.000000,514.000000,1304.000000,511.000000,2.834800,101600.000000\n",
            "-118.180000,34.050000,41.000000,762.000000,147.000000,817.000000,176.000000,3.750000,123100.000000\n",
            "-122.130000,37.370000,30.000000,2139.000000,260.000000,742.000000,242.000000,11.806000,500001.000000\n",
            "-119.750000,36.780000,28.000000,3257.000000,752.000000,1981.000000,712.000000,2.293000,71700.000000\n",
            "-117.090000,32.740000,42.000000,1986.000000,472.000000,1472.000000,475.000000,2.175700,110100.000000\n",
            "-122.020000,37.330000,25.000000,3823.000000,584.000000,1689.000000,571.000000,7.369300,373600.000000\n",
            "-117.200000,32.840000,34.000000,3353.000000,544.000000,1583.000000,571.000000,4.550000,187700.000000\n",
            "-118.140000,34.010000,46.000000,1746.000000,447.000000,1296.000000,392.000000,2.392900,156800.000000\n",
            "-122.430000,37.780000,29.000000,1310.000000,364.000000,1009.000000,379.000000,1.384400,177500.000000\n",
            "-118.100000,34.010000,29.000000,2077.000000,564.000000,2087.000000,543.000000,2.660000,189200.000000\n",
            "-118.350000,34.100000,20.000000,2745.000000,782.000000,1161.000000,739.000000,3.904400,436400.000000\n",
            "-118.000000,33.810000,33.000000,2970.000000,547.000000,1869.000000,539.000000,4.363600,201800.000000\n",
            "-121.460000,38.560000,52.000000,1750.000000,372.000000,764.000000,369.000000,2.919100,111800.000000\n",
            "-118.270000,33.870000,21.000000,6108.000000,1130.000000,3244.000000,1113.000000,4.276800,181400.000000\n",
            "-118.260000,33.950000,44.000000,1771.000000,378.000000,1296.000000,399.000000,1.638900,96700.000000\n",
            "-119.010000,35.380000,52.000000,114.000000,26.000000,158.000000,26.000000,1.075000,67500.000000\n",
            "-117.080000,32.800000,32.000000,1587.000000,268.000000,635.000000,249.000000,3.375000,178100.000000\n",
            "-122.200000,40.260000,15.000000,2102.000000,358.000000,957.000000,371.000000,3.190800,137900.000000\n",
            "-119.980000,38.940000,25.000000,1339.000000,328.000000,503.000000,219.000000,1.901800,109700.000000\n",
            "-122.530000,37.950000,22.000000,7446.000000,1979.000000,2980.000000,1888.000000,3.583800,271300.000000\n",
            "-118.300000,34.050000,51.000000,1005.000000,314.000000,1227.000000,306.000000,2.429700,162500.000000\n",
            "-121.860000,39.750000,18.000000,1651.000000,309.000000,856.000000,293.000000,3.504600,118300.000000\n",
            "-122.060000,37.330000,23.000000,4507.000000,751.000000,2167.000000,722.000000,7.010200,500001.000000\n",
            "-122.450000,38.010000,36.000000,4501.000000,832.000000,2196.000000,800.000000,4.318200,252700.000000\n",
            "-117.010000,32.770000,24.000000,2311.000000,536.000000,1005.000000,525.000000,2.900000,185200.000000\n",
            "-120.870000,37.760000,16.000000,1174.000000,249.000000,601.000000,242.000000,1.714300,113300.000000\n",
            "-121.790000,38.540000,7.000000,1777.000000,513.000000,4479.000000,504.000000,1.465300,310000.000000\n",
            "-117.810000,33.820000,22.000000,2898.000000,335.000000,1057.000000,324.000000,10.811100,500001.000000\n",
            "-117.590000,33.660000,3.000000,1206.000000,256.000000,563.000000,287.000000,5.158900,167800.000000\n",
            "-117.360000,34.090000,32.000000,3616.000000,631.000000,2131.000000,593.000000,3.287900,95500.000000\n",
            "-121.520000,39.500000,33.000000,1462.000000,241.000000,569.000000,231.000000,3.283300,82600.000000\n",
            "-122.270000,37.840000,52.000000,1503.000000,298.000000,690.000000,275.000000,2.603300,162900.000000\n",
            "-122.210000,40.200000,19.000000,3404.000000,731.000000,1421.000000,683.000000,2.614900,84400.000000\n",
            "-117.240000,33.180000,19.000000,3337.000000,565.000000,1646.000000,554.000000,5.019500,200200.000000\n",
            "-122.550000,37.980000,31.000000,3807.000000,828.000000,1581.000000,795.000000,3.293000,337500.000000\n",
            "-118.450000,34.000000,46.000000,1777.000000,362.000000,896.000000,334.000000,4.450000,348300.000000\n",
            "-117.880000,33.850000,34.000000,1127.000000,185.000000,588.000000,181.000000,4.375000,224700.000000\n",
            "-117.180000,32.760000,52.000000,2023.000000,301.000000,649.000000,285.000000,4.739600,441700.000000\n",
            "-118.300000,33.880000,29.000000,850.000000,229.000000,563.000000,204.000000,3.737500,247700.000000\n",
            "-122.040000,38.280000,12.000000,3861.000000,795.000000,2129.000000,806.000000,3.676000,135000.000000\n",
            "-122.430000,40.470000,16.000000,3552.000000,704.000000,1801.000000,658.000000,2.149600,97700.000000\n",
            "-118.380000,33.860000,24.000000,3124.000000,560.000000,1312.000000,542.000000,6.302100,333800.000000\n",
            "-119.570000,36.090000,6.000000,2015.000000,413.000000,992.000000,319.000000,2.388900,53200.000000\n",
            "-117.870000,34.120000,34.000000,1004.000000,220.000000,772.000000,217.000000,3.857100,174500.000000\n",
            "-116.880000,32.810000,35.000000,2926.000000,562.000000,1590.000000,506.000000,4.201400,143200.000000\n",
            "-118.580000,34.210000,13.000000,6227.000000,1317.000000,3739.000000,1226.000000,4.031300,299300.000000\n",
            "-122.040000,37.880000,32.000000,3250.000000,550.000000,1230.000000,557.000000,4.642400,312700.000000\n",
            "-122.440000,37.720000,52.000000,1775.000000,347.000000,1102.000000,367.000000,4.312500,267200.000000\n",
            "-121.810000,37.370000,26.000000,2987.000000,539.000000,1931.000000,518.000000,5.109900,213100.000000\n",
            "-122.500000,37.770000,52.000000,2433.000000,454.000000,1070.000000,420.000000,4.125000,359500.000000\n",
            "-121.940000,37.940000,26.000000,1299.000000,174.000000,533.000000,180.000000,6.229600,291700.000000\n",
            "-118.450000,34.120000,20.000000,10722.000000,1617.000000,3731.000000,1511.000000,9.744900,500001.000000\n",
            "-121.700000,39.070000,26.000000,2668.000000,510.000000,1437.000000,505.000000,3.312500,100000.000000\n",
            "-118.100000,34.650000,33.000000,873.000000,177.000000,425.000000,142.000000,2.670000,187500.000000\n",
            "-119.020000,36.060000,41.000000,2279.000000,538.000000,1908.000000,511.000000,1.395200,43100.000000\n",
            "-118.060000,34.080000,42.000000,1988.000000,402.000000,1239.000000,402.000000,3.256900,201500.000000\n",
            "-117.660000,33.610000,17.000000,3464.000000,519.000000,1713.000000,530.000000,6.047100,248400.000000\n",
            "-117.400000,33.940000,30.000000,1198.000000,251.000000,1019.000000,214.000000,3.050900,82700.000000\n",
            "-118.190000,33.830000,30.000000,2246.000000,552.000000,1032.000000,548.000000,3.587100,347100.000000\n",
            "-121.550000,39.510000,50.000000,1050.000000,288.000000,485.000000,260.000000,1.160700,51700.000000\n",
            "-121.980000,37.140000,37.000000,74.000000,19.000000,63.000000,17.000000,9.590800,350000.000000\n",
            "-117.060000,32.610000,24.000000,4369.000000,1353.000000,3123.000000,1247.000000,2.057100,152300.000000\n",
            "-118.320000,34.040000,39.000000,2965.000000,812.000000,2638.000000,794.000000,2.532000,172700.000000\n",
            "-117.130000,32.760000,41.000000,1545.000000,420.000000,747.000000,415.000000,2.375000,154400.000000\n",
            "-122.500000,37.760000,46.000000,2226.000000,480.000000,1272.000000,468.000000,4.264400,284100.000000\n",
            "-120.870000,37.620000,30.000000,455.000000,70.000000,220.000000,69.000000,4.895800,142500.000000\n",
            "-118.240000,34.220000,41.000000,2476.000000,506.000000,1271.000000,485.000000,3.453100,263900.000000\n",
            "-117.690000,33.480000,25.000000,3240.000000,481.000000,1462.000000,497.000000,6.181500,288500.000000\n",
            "-122.200000,39.750000,18.000000,2603.000000,576.000000,1616.000000,588.000000,2.019200,63700.000000\n",
            "-117.080000,32.640000,43.000000,1005.000000,230.000000,548.000000,252.000000,1.867200,145800.000000\n",
            "-117.910000,33.820000,32.000000,1408.000000,307.000000,1331.000000,284.000000,3.701400,179600.000000\n",
            "-122.000000,38.730000,31.000000,371.000000,74.000000,208.000000,84.000000,3.875000,137500.000000\n",
            "-118.290000,33.840000,33.000000,896.000000,208.000000,843.000000,200.000000,3.500000,183000.000000\n",
            "-118.130000,33.860000,45.000000,1320.000000,256.000000,645.000000,256.000000,4.400000,209500.000000\n",
            "-118.350000,33.890000,29.000000,2940.000000,708.000000,2175.000000,684.000000,3.648600,229000.000000\n",
            "-122.130000,40.010000,21.000000,916.000000,194.000000,451.000000,178.000000,2.125000,63300.000000\n",
            "-122.070000,37.960000,37.000000,1217.000000,199.000000,552.000000,194.000000,5.044500,196200.000000\n",
            "-117.260000,32.850000,30.000000,3652.000000,499.000000,978.000000,462.000000,8.237400,500001.000000\n",
            "-117.870000,33.740000,16.000000,1243.000000,365.000000,1925.000000,376.000000,2.763200,158900.000000\n",
            "-121.880000,37.440000,23.000000,1310.000000,267.000000,910.000000,261.000000,5.399400,237900.000000\n",
            "-121.670000,36.580000,11.000000,5892.000000,837.000000,2327.000000,812.000000,6.155100,291800.000000\n",
            "-116.890000,33.790000,12.000000,701.000000,130.000000,434.000000,110.000000,2.057700,56700.000000\n",
            "-122.660000,38.470000,20.000000,2806.000000,477.000000,1369.000000,460.000000,4.750000,190500.000000\n",
            "-121.450000,38.540000,38.000000,1865.000000,384.000000,1052.000000,354.000000,1.789100,60500.000000\n",
            "-121.000000,37.660000,43.000000,2369.000000,413.000000,944.000000,422.000000,3.263200,138100.000000\n",
            "-117.270000,32.840000,34.000000,1655.000000,450.000000,870.000000,411.000000,3.210900,376000.000000\n",
            "-117.870000,34.110000,23.000000,4066.000000,819.000000,2105.000000,737.000000,4.655600,199600.000000\n",
            "-121.440000,37.750000,16.000000,2229.000000,458.000000,1199.000000,445.000000,3.482100,170600.000000\n",
            "-118.130000,33.760000,44.000000,2532.000000,621.000000,961.000000,550.000000,3.935200,406900.000000\n",
            "-118.310000,34.260000,41.000000,1297.000000,327.000000,733.000000,315.000000,3.058300,160300.000000\n",
            "-122.000000,38.370000,18.000000,1048.000000,185.000000,469.000000,162.000000,3.625000,125000.000000\n",
            "-122.270000,41.230000,40.000000,1958.000000,386.000000,725.000000,331.000000,2.189800,65500.000000\n",
            "-120.890000,37.520000,42.000000,1200.000000,221.000000,647.000000,192.000000,2.540200,157500.000000\n",
            "-118.750000,34.290000,17.000000,5512.000000,765.000000,2734.000000,814.000000,6.607300,258100.000000\n",
            "-118.180000,34.020000,36.000000,1138.000000,296.000000,1484.000000,320.000000,2.281300,150700.000000\n",
            "-121.370000,38.410000,14.000000,3727.000000,685.000000,1741.000000,646.000000,3.562500,125700.000000\n",
            "-120.310000,37.290000,36.000000,969.000000,206.000000,732.000000,175.000000,1.593800,57600.000000\n",
            "-117.880000,33.730000,32.000000,1947.000000,355.000000,1786.000000,332.000000,4.572600,177500.000000\n",
            "-117.330000,33.980000,52.000000,1417.000000,353.000000,881.000000,300.000000,1.953100,162500.000000\n",
            "-118.490000,34.030000,30.000000,4061.000000,927.000000,1487.000000,865.000000,4.182700,435100.000000\n",
            "-121.930000,38.010000,9.000000,2294.000000,389.000000,1142.000000,365.000000,5.336300,160800.000000\n",
            "-122.450000,37.700000,46.000000,2193.000000,499.000000,1814.000000,489.000000,4.012500,230100.000000\n",
            "-117.080000,32.750000,20.000000,1886.000000,586.000000,1134.000000,525.000000,1.502900,100000.000000\n",
            "-116.190000,33.690000,11.000000,5692.000000,1346.000000,5682.000000,1273.000000,2.538300,74000.000000\n",
            "-119.730000,36.620000,35.000000,2080.000000,365.000000,1026.000000,333.000000,3.578100,92800.000000\n",
            "-117.120000,32.590000,28.000000,2793.000000,706.000000,1825.000000,676.000000,2.672400,144500.000000\n",
            "-117.630000,34.090000,8.000000,3557.000000,890.000000,2251.000000,765.000000,2.681800,114100.000000\n",
            "-118.260000,34.070000,40.000000,680.000000,273.000000,995.000000,249.000000,2.260700,165600.000000\n",
            "-118.260000,33.970000,46.000000,1521.000000,352.000000,1100.000000,334.000000,1.550000,100600.000000\n",
            "-119.840000,36.750000,34.000000,1186.000000,300.000000,774.000000,271.000000,1.575000,57100.000000\n",
            "-121.280000,38.670000,29.000000,1087.000000,174.000000,430.000000,174.000000,4.362500,158800.000000\n",
            "-117.350000,34.110000,34.000000,2104.000000,388.000000,1578.000000,365.000000,3.083300,88400.000000\n",
            "-121.320000,36.420000,20.000000,1054.000000,269.000000,1219.000000,273.000000,3.043700,76600.000000\n",
            "-118.350000,34.020000,34.000000,3978.000000,1073.000000,2725.000000,1035.000000,1.762200,167900.000000\n",
            "-119.810000,37.670000,24.000000,172.000000,42.000000,79.000000,30.000000,3.833300,93800.000000\n",
            "-118.150000,34.050000,33.000000,3287.000000,649.000000,1783.000000,653.000000,3.847200,293300.000000\n",
            "-121.220000,37.810000,17.000000,2879.000000,542.000000,1802.000000,530.000000,3.637800,126100.000000\n",
            "-119.720000,34.430000,30.000000,2491.000000,656.000000,1091.000000,576.000000,2.513900,279500.000000\n",
            "-117.850000,33.840000,17.000000,2830.000000,502.000000,1370.000000,459.000000,5.178500,247300.000000\n",
            "-117.200000,32.790000,31.000000,3417.000000,533.000000,1245.000000,532.000000,4.778800,276000.000000\n",
            "-118.630000,34.180000,33.000000,5252.000000,760.000000,2041.000000,730.000000,6.797700,389700.000000\n",
            "-117.490000,33.640000,3.000000,8874.000000,1302.000000,3191.000000,1027.000000,6.858800,302000.000000\n",
            "-118.370000,33.840000,35.000000,1792.000000,322.000000,978.000000,326.000000,4.958300,342800.000000\n",
            "-122.020000,38.260000,20.000000,3899.000000,763.000000,2198.000000,779.000000,3.206100,120400.000000\n",
            "-121.330000,38.660000,17.000000,2767.000000,584.000000,1275.000000,568.000000,2.590900,125400.000000\n",
            "-118.740000,36.230000,22.000000,1033.000000,232.000000,442.000000,136.000000,2.644700,137500.000000\n",
            "-117.890000,34.490000,12.000000,3449.000000,598.000000,1502.000000,540.000000,3.704300,150800.000000\n",
            "-117.410000,33.960000,24.000000,4481.000000,901.000000,2398.000000,823.000000,3.864000,123400.000000\n",
            "-118.750000,34.420000,28.000000,1000.000000,206.000000,545.000000,154.000000,2.416700,191700.000000\n",
            "-122.480000,37.740000,52.000000,2285.000000,435.000000,1211.000000,442.000000,4.020800,323100.000000\n",
            "-118.140000,34.040000,43.000000,1949.000000,464.000000,1216.000000,457.000000,3.321400,209300.000000\n",
            "-122.560000,37.900000,36.000000,1760.000000,283.000000,562.000000,246.000000,6.754600,402400.000000\n",
            "-122.090000,37.390000,43.000000,2065.000000,535.000000,1029.000000,500.000000,3.731800,327700.000000\n",
            "-121.800000,36.940000,29.000000,2377.000000,476.000000,1669.000000,499.000000,2.821400,190100.000000\n",
            "-117.830000,33.830000,13.000000,3759.000000,489.000000,1496.000000,499.000000,8.381800,377600.000000\n",
            "-121.680000,36.900000,13.000000,833.000000,130.000000,405.000000,127.000000,5.272900,322900.000000\n",
            "-122.300000,37.880000,52.000000,409.000000,97.000000,208.000000,98.000000,1.697100,138800.000000\n",
            "-121.040000,37.670000,16.000000,19.000000,19.000000,166.000000,9.000000,0.536000,162500.000000\n",
            "-118.320000,34.090000,28.000000,2173.000000,819.000000,2548.000000,763.000000,1.879000,218800.000000\n",
            "-118.120000,33.810000,36.000000,1774.000000,299.000000,784.000000,298.000000,5.044700,249200.000000\n",
            "-121.810000,39.700000,21.000000,5051.000000,1054.000000,2948.000000,980.000000,1.586300,81300.000000\n",
            "-121.840000,36.520000,18.000000,3165.000000,533.000000,1312.000000,434.000000,6.523400,357400.000000\n",
            "-121.790000,37.330000,18.000000,3611.000000,614.000000,2381.000000,642.000000,5.634500,231000.000000\n",
            "-118.160000,34.180000,48.000000,568.000000,145.000000,559.000000,135.000000,2.413500,135700.000000\n",
            "-119.400000,36.590000,37.000000,1486.000000,296.000000,977.000000,290.000000,3.507400,93800.000000\n",
            "-122.270000,37.800000,39.000000,1715.000000,623.000000,1327.000000,467.000000,1.847700,179200.000000\n",
            "-117.730000,33.570000,5.000000,11976.000000,2495.000000,4327.000000,2009.000000,4.848800,194400.000000\n",
            "-121.280000,37.920000,30.000000,1061.000000,230.000000,851.000000,195.000000,2.441200,61600.000000\n",
            "-119.810000,36.770000,43.000000,2341.000000,395.000000,890.000000,375.000000,3.426500,85000.000000\n",
            "-122.260000,37.850000,50.000000,1120.000000,283.000000,697.000000,264.000000,2.125000,140000.000000\n",
            "-117.950000,33.930000,37.000000,2633.000000,630.000000,1904.000000,630.000000,2.612300,161300.000000\n",
            "-120.120000,38.120000,37.000000,3355.000000,666.000000,338.000000,136.000000,2.062500,88900.000000\n",
            "-121.880000,37.350000,52.000000,1704.000000,418.000000,1336.000000,411.000000,2.816700,183500.000000\n",
            "-118.110000,33.870000,15.000000,3254.000000,598.000000,1772.000000,618.000000,5.041700,240800.000000\n",
            "-122.080000,37.690000,42.000000,1414.000000,274.000000,629.000000,244.000000,3.347800,184900.000000\n",
            "-121.680000,39.150000,14.000000,2774.000000,451.000000,1292.000000,428.000000,4.383300,115200.000000\n",
            "-122.160000,37.710000,36.000000,666.000000,132.000000,366.000000,134.000000,3.464300,175000.000000\n",
            "-118.070000,34.090000,35.000000,1224.000000,267.000000,887.000000,276.000000,4.098700,202400.000000\n",
            "-117.690000,33.650000,16.000000,5805.000000,852.000000,2356.000000,795.000000,6.106200,274600.000000\n",
            "-118.350000,34.030000,49.000000,2334.000000,530.000000,1334.000000,447.000000,1.890000,124000.000000\n",
            "-122.790000,39.020000,23.000000,642.000000,203.000000,265.000000,84.000000,1.883300,96900.000000\n",
            "-118.140000,33.890000,33.000000,2867.000000,786.000000,1774.000000,705.000000,2.929200,183400.000000\n",
            "-121.890000,37.420000,26.000000,40.000000,8.000000,52.000000,7.000000,7.719700,225000.000000\n",
            "-122.410000,37.760000,52.000000,492.000000,139.000000,316.000000,168.000000,3.086500,225000.000000\n",
            "-118.600000,34.160000,37.000000,3441.000000,584.000000,1283.000000,544.000000,4.165600,313100.000000\n",
            "-118.410000,34.020000,24.000000,2610.000000,756.000000,1322.000000,692.000000,3.502200,281300.000000\n",
            "-117.530000,33.970000,29.000000,1430.000000,273.000000,872.000000,283.000000,4.083300,141000.000000\n",
            "-117.130000,32.700000,35.000000,365.000000,98.000000,463.000000,112.000000,2.558800,78800.000000\n",
            "-117.140000,32.900000,16.000000,3217.000000,716.000000,2054.000000,687.000000,4.223400,162100.000000\n",
            "-118.160000,34.110000,31.000000,5715.000000,1154.000000,2639.000000,1079.000000,4.166100,364400.000000\n",
            "-117.180000,32.700000,42.000000,1691.000000,286.000000,761.000000,281.000000,5.138600,404500.000000\n",
            "-117.970000,33.720000,24.000000,2991.000000,500.000000,1437.000000,453.000000,5.428600,273400.000000\n",
            "-118.250000,34.090000,52.000000,104.000000,20.000000,32.000000,17.000000,3.750000,241700.000000\n",
            "-118.140000,34.110000,52.000000,3367.000000,545.000000,1427.000000,535.000000,5.229200,444500.000000\n",
            "-120.010000,34.540000,30.000000,2992.000000,609.000000,1288.000000,465.000000,3.937500,292900.000000\n",
            "-117.410000,34.100000,5.000000,4937.000000,1139.000000,2204.000000,812.000000,2.527200,92000.000000\n",
            "-118.220000,34.520000,7.000000,4524.000000,735.000000,2298.000000,717.000000,6.553800,311600.000000\n",
            "-117.910000,33.870000,29.000000,1121.000000,291.000000,762.000000,276.000000,2.500000,143800.000000\n",
            "-117.090000,32.760000,29.000000,1650.000000,496.000000,882.000000,445.000000,2.228700,140000.000000\n",
            "-122.270000,37.820000,52.000000,1630.000000,456.000000,1162.000000,400.000000,1.247500,104200.000000\n",
            "-118.200000,34.060000,46.000000,321.000000,101.000000,401.000000,86.000000,2.102900,109400.000000\n",
            "-118.360000,33.900000,40.000000,1271.000000,276.000000,725.000000,234.000000,5.045200,231900.000000\n",
            "-122.000000,37.860000,18.000000,8953.000000,1074.000000,3011.000000,993.000000,10.737200,500001.000000\n",
            "-121.360000,39.520000,15.000000,2490.000000,527.000000,1229.000000,497.000000,2.391700,85700.000000\n",
            "-122.000000,38.280000,3.000000,7030.000000,1191.000000,3238.000000,1055.000000,4.962000,161700.000000\n",
            "-117.700000,33.680000,29.000000,5650.000000,1084.000000,3985.000000,1056.000000,2.819200,162500.000000\n",
            "-118.280000,34.030000,26.000000,2107.000000,809.000000,2821.000000,572.000000,0.844000,350000.000000\n",
            "-118.250000,34.150000,13.000000,1107.000000,479.000000,616.000000,443.000000,0.818500,187500.000000\n",
            "-122.540000,37.930000,43.000000,2998.000000,470.000000,970.000000,430.000000,5.538500,431800.000000\n",
            "-118.250000,34.020000,50.000000,180.000000,89.000000,356.000000,76.000000,2.194400,158300.000000\n",
            "-122.060000,36.980000,15.000000,3385.000000,669.000000,1571.000000,615.000000,4.225400,320900.000000\n",
            "-122.450000,37.770000,52.000000,2339.000000,548.000000,1090.000000,507.000000,3.367900,350000.000000\n",
            "-118.040000,33.850000,23.000000,3132.000000,469.000000,1646.000000,478.000000,5.777000,315900.000000\n",
            "-118.120000,34.150000,19.000000,557.000000,216.000000,673.000000,212.000000,2.176300,168800.000000\n",
            "-118.310000,33.940000,43.000000,2104.000000,393.000000,1132.000000,394.000000,3.068200,142000.000000\n",
            "-118.440000,34.160000,33.000000,1616.000000,322.000000,580.000000,311.000000,4.039100,337500.000000\n",
            "-118.460000,34.170000,24.000000,2814.000000,675.000000,1463.000000,620.000000,4.187500,309300.000000\n",
            "-117.930000,34.060000,35.000000,1022.000000,183.000000,628.000000,187.000000,3.937500,187500.000000\n",
            "-121.810000,36.570000,13.000000,3030.000000,413.000000,1027.000000,363.000000,6.961500,500001.000000\n",
            "-118.420000,34.000000,33.000000,1139.000000,299.000000,734.000000,257.000000,3.270800,325000.000000\n",
            "-118.330000,34.010000,44.000000,1762.000000,463.000000,786.000000,445.000000,1.923100,188500.000000\n",
            "-118.240000,33.930000,19.000000,325.000000,74.000000,354.000000,87.000000,2.750000,90600.000000\n",
            "-116.940000,32.810000,22.000000,4266.000000,1010.000000,2766.000000,985.000000,2.817500,135200.000000\n",
            "-122.600000,38.240000,16.000000,2621.000000,416.000000,1247.000000,386.000000,4.860300,198400.000000\n",
            "-118.210000,33.970000,52.000000,4220.000000,908.000000,3731.000000,892.000000,3.190100,167600.000000\n",
            "-118.730000,34.270000,25.000000,3409.000000,493.000000,1699.000000,484.000000,5.653000,225800.000000\n",
            "-122.120000,37.370000,37.000000,1446.000000,181.000000,549.000000,190.000000,10.735500,500001.000000\n",
            "-122.420000,40.440000,16.000000,994.000000,185.000000,495.000000,181.000000,2.187500,76400.000000\n",
            "-122.130000,37.720000,26.000000,2862.000000,394.000000,1030.000000,397.000000,7.912000,367300.000000\n",
            "-121.170000,37.880000,22.000000,1283.000000,256.000000,3082.000000,239.000000,3.536500,111800.000000\n",
            "-122.430000,37.720000,48.000000,1289.000000,280.000000,782.000000,235.000000,3.671900,259800.000000\n",
            "-118.220000,33.910000,27.000000,500.000000,159.000000,732.000000,162.000000,2.742600,103100.000000\n",
            "-121.170000,37.970000,28.000000,1374.000000,248.000000,769.000000,229.000000,3.638900,130400.000000\n",
            "-122.270000,37.860000,52.000000,2307.000000,583.000000,1127.000000,548.000000,1.844700,198200.000000\n",
            "-119.190000,36.140000,41.000000,759.000000,140.000000,408.000000,129.000000,3.900000,85900.000000\n",
            "-122.410000,37.600000,31.000000,4424.000000,834.000000,1915.000000,817.000000,4.136400,412000.000000\n",
            "-116.830000,32.810000,18.000000,2367.000000,402.000000,1021.000000,395.000000,4.812500,210500.000000\n",
            "-119.340000,36.330000,17.000000,2250.000000,430.000000,1218.000000,468.000000,4.181200,93700.000000\n",
            "-123.220000,39.160000,29.000000,6121.000000,1222.000000,3595.000000,1189.000000,2.631000,109600.000000\n",
            "-121.920000,37.720000,22.000000,4638.000000,716.000000,2302.000000,687.000000,5.347000,219500.000000\n",
            "-116.570000,33.760000,25.000000,2616.000000,547.000000,581.000000,343.000000,3.136400,301600.000000\n",
            "-118.170000,34.180000,44.000000,1401.000000,246.000000,607.000000,271.000000,2.847200,218800.000000\n",
            "-117.200000,32.800000,36.000000,4018.000000,1067.000000,1620.000000,842.000000,2.359900,168400.000000\n",
            "-117.580000,34.090000,27.000000,754.000000,200.000000,746.000000,185.000000,1.953100,100800.000000\n",
            "-118.240000,33.960000,34.000000,1724.000000,432.000000,1876.000000,416.000000,2.107800,100600.000000\n",
            "-122.240000,40.180000,39.000000,2191.000000,493.000000,1307.000000,499.000000,1.648300,60800.000000\n",
            "-119.690000,36.820000,15.000000,3303.000000,512.000000,1687.000000,505.000000,4.810000,93600.000000\n",
            "-121.690000,36.620000,19.000000,1907.000000,323.000000,681.000000,270.000000,6.033200,244900.000000\n",
            "-119.280000,36.350000,7.000000,3598.000000,701.000000,2080.000000,678.000000,3.111100,72400.000000\n",
            "-117.990000,33.810000,46.000000,38.000000,8.000000,66.000000,14.000000,4.166700,162500.000000\n",
            "-117.650000,35.000000,36.000000,1184.000000,316.000000,672.000000,241.000000,1.910700,39800.000000\n",
            "-118.150000,34.020000,43.000000,2172.000000,605.000000,2386.000000,597.000000,2.823900,150600.000000\n",
            "-122.430000,37.730000,52.000000,1583.000000,347.000000,935.000000,341.000000,4.678600,263200.000000\n",
            "-117.040000,32.730000,36.000000,2084.000000,400.000000,1097.000000,398.000000,3.271700,130700.000000\n",
            "-118.080000,34.140000,45.000000,2923.000000,604.000000,1903.000000,560.000000,3.172900,218700.000000\n",
            "-121.070000,39.200000,45.000000,204.000000,62.000000,133.000000,51.000000,1.000000,90600.000000\n",
            "-117.120000,32.660000,52.000000,16.000000,4.000000,8.000000,3.000000,1.125000,60000.000000\n",
            "-118.130000,34.130000,39.000000,2099.000000,397.000000,1500.000000,380.000000,4.830400,493200.000000\n",
            "-122.220000,37.880000,20.000000,95.000000,13.000000,31.000000,15.000000,2.444400,475000.000000\n",
            "-122.520000,37.930000,34.000000,2782.000000,502.000000,1219.000000,507.000000,5.077900,333900.000000\n",
            "-122.090000,37.630000,36.000000,1570.000000,274.000000,992.000000,249.000000,5.364400,168800.000000\n",
            "-117.970000,33.820000,26.000000,4013.000000,985.000000,2442.000000,922.000000,3.765500,197700.000000\n",
            "-118.280000,34.050000,41.000000,1075.000000,597.000000,2260.000000,614.000000,1.300000,162500.000000\n",
            "-118.390000,33.790000,30.000000,4402.000000,563.000000,1582.000000,551.000000,10.898000,500001.000000\n",
            "-122.400000,37.580000,26.000000,3281.000000,531.000000,1145.000000,480.000000,6.358000,500001.000000\n",
            "-118.260000,34.060000,42.000000,2541.000000,1282.000000,3974.000000,1189.000000,1.585400,87500.000000\n",
            "-122.160000,37.480000,36.000000,2238.000000,479.000000,1949.000000,457.000000,2.376900,157300.000000\n",
            "-117.430000,34.110000,17.000000,4109.000000,884.000000,2544.000000,780.000000,2.775700,109800.000000\n",
            "-118.280000,33.930000,42.000000,1898.000000,460.000000,1503.000000,429.000000,2.517900,97400.000000\n",
            "-118.370000,33.950000,5.000000,6955.000000,2062.000000,3591.000000,1566.000000,3.111000,247600.000000\n",
            "-121.490000,38.560000,52.000000,1777.000000,368.000000,624.000000,350.000000,3.672900,137800.000000\n",
            "-121.800000,38.550000,11.000000,5121.000000,899.000000,2258.000000,901.000000,4.716800,223200.000000\n",
            "-122.190000,39.920000,20.000000,2563.000000,658.000000,1363.000000,611.000000,1.023000,54200.000000\n",
            "-118.010000,33.840000,29.000000,3740.000000,691.000000,1724.000000,638.000000,3.962800,215600.000000\n",
            "-118.310000,33.960000,48.000000,2015.000000,356.000000,1020.000000,338.000000,4.062500,138700.000000\n",
            "-121.060000,39.220000,52.000000,1749.000000,422.000000,837.000000,391.000000,2.325000,109700.000000\n",
            "-121.350000,38.610000,27.000000,3900.000000,776.000000,1549.000000,761.000000,2.778800,115700.000000\n",
            "-118.310000,33.990000,48.000000,2235.000000,433.000000,1363.000000,433.000000,1.655900,101400.000000\n",
            "-121.930000,37.270000,28.000000,3428.000000,753.000000,1753.000000,729.000000,4.103300,281000.000000\n",
            "-117.310000,33.170000,7.000000,2349.000000,312.000000,809.000000,282.000000,5.552000,283900.000000\n",
            "-120.890000,37.480000,27.000000,1118.000000,195.000000,647.000000,209.000000,2.913500,159400.000000\n",
            "-119.470000,35.140000,19.000000,4190.000000,690.000000,1973.000000,702.000000,3.992900,88300.000000\n",
            "-118.410000,34.180000,35.000000,1975.000000,384.000000,882.000000,406.000000,4.375000,291700.000000\n",
            "-119.810000,36.700000,52.000000,314.000000,57.000000,178.000000,66.000000,1.240400,52500.000000\n",
            "-117.080000,33.160000,11.000000,6341.000000,1030.000000,2697.000000,977.000000,4.855400,206700.000000\n",
            "-119.270000,35.870000,12.000000,972.000000,269.000000,1134.000000,286.000000,1.630000,49500.000000\n",
            "-122.310000,40.750000,18.000000,1411.000000,330.000000,494.000000,227.000000,1.491100,75800.000000\n",
            "-117.200000,33.290000,12.000000,6358.000000,1182.000000,2778.000000,1020.000000,4.035700,295900.000000\n",
            "-118.430000,34.260000,43.000000,729.000000,172.000000,935.000000,174.000000,2.951900,140900.000000\n",
            "-121.520000,39.510000,30.000000,3085.000000,610.000000,1688.000000,575.000000,2.334000,72200.000000\n",
            "-118.770000,34.270000,7.000000,3074.000000,794.000000,1816.000000,654.000000,2.713700,196400.000000\n",
            "-124.100000,40.950000,17.000000,1485.000000,345.000000,823.000000,316.000000,1.899300,78400.000000\n",
            "-117.150000,32.800000,27.000000,1937.000000,537.000000,1211.000000,482.000000,2.750000,87500.000000\n",
            "-118.370000,34.160000,11.000000,2901.000000,871.000000,1659.000000,789.000000,3.110600,209400.000000\n",
            "-122.500000,37.740000,44.000000,2792.000000,615.000000,1640.000000,579.000000,4.062500,272800.000000\n",
            "-120.920000,39.560000,48.000000,1276.000000,292.000000,358.000000,145.000000,1.875000,66600.000000\n",
            "-122.470000,38.510000,25.000000,928.000000,195.000000,413.000000,184.000000,3.490400,196900.000000\n",
            "-117.890000,33.610000,41.000000,1790.000000,361.000000,540.000000,284.000000,6.024700,500001.000000\n",
            "-121.350000,38.400000,11.000000,2322.000000,459.000000,1373.000000,424.000000,3.175000,94400.000000\n",
            "-117.920000,34.120000,32.000000,2552.000000,576.000000,2161.000000,548.000000,2.945900,144400.000000\n",
            "-118.310000,33.800000,30.000000,3096.000000,757.000000,2048.000000,704.000000,3.125000,233300.000000\n",
            "-120.350000,37.040000,37.000000,1495.000000,292.000000,858.000000,275.000000,2.930600,46300.000000\n",
            "-122.000000,37.310000,28.000000,3811.000000,585.000000,1795.000000,581.000000,7.838300,372700.000000\n",
            "-118.010000,33.950000,37.000000,1165.000000,210.000000,627.000000,221.000000,4.692300,181000.000000\n",
            "-118.070000,34.090000,40.000000,1745.000000,370.000000,1293.000000,357.000000,2.547400,198100.000000\n",
            "-117.500000,33.920000,28.000000,2101.000000,337.000000,1061.000000,348.000000,4.550000,146800.000000\n",
            "-123.740000,40.660000,25.000000,2395.000000,431.000000,983.000000,375.000000,3.046900,136000.000000\n",
            "-122.030000,37.910000,29.000000,5438.000000,871.000000,2310.000000,890.000000,5.036200,275300.000000\n",
            "-118.910000,34.220000,15.000000,5644.000000,757.000000,2659.000000,783.000000,6.755900,312000.000000\n",
            "-117.960000,34.140000,9.000000,907.000000,207.000000,619.000000,194.000000,3.946400,179600.000000\n",
            "-121.800000,38.010000,46.000000,2273.000000,495.000000,1088.000000,447.000000,2.253200,109400.000000\n",
            "-122.290000,37.530000,35.000000,2043.000000,511.000000,1089.000000,504.000000,3.027800,310600.000000\n",
            "-122.140000,37.670000,34.000000,3036.000000,533.000000,1366.000000,500.000000,4.238600,192300.000000\n",
            "-117.850000,33.790000,52.000000,2102.000000,403.000000,898.000000,365.000000,3.682700,236800.000000\n",
            "-122.100000,37.650000,31.000000,1797.000000,327.000000,796.000000,319.000000,4.442700,204500.000000\n",
            "-122.120000,37.910000,34.000000,5683.000000,755.000000,1962.000000,723.000000,8.367800,455300.000000\n",
            "-119.290000,36.320000,27.000000,1513.000000,374.000000,839.000000,350.000000,1.201200,64600.000000\n",
            "-117.400000,34.010000,25.000000,1858.000000,366.000000,1311.000000,331.000000,2.708300,87800.000000\n",
            "-117.060000,32.770000,32.000000,3888.000000,827.000000,3868.000000,841.000000,3.075500,166800.000000\n",
            "-118.300000,34.250000,44.000000,1442.000000,285.000000,859.000000,292.000000,4.583300,197300.000000\n",
            "-122.230000,40.150000,14.000000,2297.000000,573.000000,1637.000000,551.000000,1.787000,51600.000000\n",
            "-117.910000,33.820000,32.000000,2696.000000,640.000000,2330.000000,626.000000,2.947900,184600.000000\n",
            "-122.530000,37.970000,44.000000,3595.000000,953.000000,1831.000000,910.000000,2.603600,287500.000000\n",
            "-121.790000,37.000000,28.000000,2715.000000,451.000000,1154.000000,386.000000,4.802100,290400.000000\n",
            "-118.460000,33.990000,44.000000,1122.000000,287.000000,531.000000,256.000000,4.059800,335900.000000\n",
            "-118.030000,33.970000,32.000000,2468.000000,552.000000,1190.000000,479.000000,3.827500,238500.000000\n",
            "-122.320000,38.000000,32.000000,2275.000000,397.000000,1233.000000,418.000000,4.043700,162800.000000\n",
            "-118.280000,34.170000,22.000000,2664.000000,651.000000,1553.000000,629.000000,3.635400,256300.000000\n",
            "-119.140000,36.060000,32.000000,1838.000000,441.000000,1628.000000,425.000000,1.645200,41500.000000\n",
            "-117.130000,34.070000,34.000000,2405.000000,541.000000,1342.000000,514.000000,2.803100,86900.000000\n",
            "-120.670000,35.300000,32.000000,4202.000000,986.000000,2309.000000,956.000000,2.216500,231700.000000\n",
            "-118.060000,34.120000,34.000000,2941.000000,558.000000,1660.000000,576.000000,4.566700,271500.000000\n",
            "-122.390000,40.570000,38.000000,855.000000,172.000000,468.000000,150.000000,1.409100,84400.000000\n",
            "-118.390000,33.880000,33.000000,2543.000000,439.000000,1098.000000,416.000000,5.968300,495500.000000\n",
            "-118.160000,34.020000,47.000000,1055.000000,298.000000,1303.000000,302.000000,2.696400,138800.000000\n",
            "-122.580000,37.980000,52.000000,1180.000000,216.000000,467.000000,197.000000,4.961500,292200.000000\n",
            "-118.020000,33.920000,35.000000,2075.000000,424.000000,1312.000000,396.000000,3.796900,164800.000000\n",
            "-119.700000,34.400000,25.000000,1858.000000,493.000000,865.000000,460.000000,3.093800,312500.000000\n",
            "-122.680000,38.430000,29.000000,488.000000,63.000000,161.000000,62.000000,6.077400,334400.000000\n",
            "-121.350000,38.590000,29.000000,1285.000000,193.000000,460.000000,206.000000,5.324300,265700.000000\n",
            "-121.980000,37.270000,25.000000,3075.000000,564.000000,1633.000000,543.000000,5.252800,269400.000000\n",
            "-118.080000,34.580000,5.000000,1113.000000,186.000000,631.000000,168.000000,4.171900,146600.000000\n",
            "-118.250000,34.060000,20.000000,41.000000,17.000000,87.000000,25.000000,1.549100,225000.000000\n",
            "-122.250000,37.820000,26.000000,3959.000000,1196.000000,1749.000000,1217.000000,3.023300,255000.000000\n",
            "-119.050000,34.350000,39.000000,950.000000,300.000000,1366.000000,312.000000,2.244300,146600.000000\n",
            "-117.540000,33.760000,5.000000,5846.000000,1035.000000,3258.000000,1001.000000,4.796500,160800.000000\n",
            "-118.210000,33.880000,31.000000,1332.000000,417.000000,1405.000000,363.000000,2.012500,143000.000000\n",
            "-117.200000,32.790000,29.000000,1213.000000,228.000000,654.000000,246.000000,4.598700,255600.000000\n",
            "-120.960000,37.590000,11.000000,4236.000000,879.000000,2410.000000,850.000000,2.384900,122000.000000\n",
            "-118.240000,34.010000,48.000000,396.000000,99.000000,485.000000,110.000000,2.375000,107500.000000\n",
            "-118.270000,34.000000,43.000000,1638.000000,434.000000,1213.000000,390.000000,1.340300,110800.000000\n",
            "-122.250000,37.890000,41.000000,1125.000000,195.000000,356.000000,181.000000,6.159300,344000.000000\n",
            "-117.300000,34.090000,40.000000,1051.000000,244.000000,745.000000,243.000000,2.184200,75200.000000\n",
            "-120.910000,37.740000,19.000000,1690.000000,327.000000,855.000000,296.000000,3.250000,176700.000000\n",
            "-122.160000,38.900000,33.000000,1221.000000,236.000000,488.000000,199.000000,3.757400,92700.000000\n",
            "-118.310000,33.890000,35.000000,2144.000000,423.000000,1192.000000,417.000000,4.145800,231500.000000\n",
            "-118.180000,34.020000,43.000000,887.000000,219.000000,965.000000,217.000000,2.625000,133900.000000\n",
            "-117.970000,33.750000,32.000000,1564.000000,270.000000,973.000000,290.000000,3.750000,190400.000000\n",
            "-117.950000,35.080000,1.000000,83.000000,15.000000,32.000000,15.000000,4.875000,141700.000000\n",
            "-118.030000,33.910000,35.000000,2323.000000,406.000000,1741.000000,398.000000,4.243700,164100.000000\n",
            "-118.380000,33.970000,43.000000,2715.000000,458.000000,1151.000000,434.000000,7.489700,362600.000000\n",
            "-119.820000,36.720000,25.000000,2581.000000,528.000000,1642.000000,509.000000,1.643500,52600.000000\n",
            "-122.060000,37.680000,30.000000,5367.000000,1207.000000,2667.000000,1047.000000,3.179600,170300.000000\n",
            "-122.410000,40.550000,19.000000,3753.000000,761.000000,1952.000000,738.000000,3.095400,86500.000000\n",
            "-117.880000,33.720000,36.000000,1910.000000,352.000000,1593.000000,329.000000,3.890000,170000.000000\n",
            "-120.800000,38.310000,37.000000,1341.000000,256.000000,533.000000,242.000000,3.213500,123600.000000\n",
            "-118.100000,34.170000,48.000000,1111.000000,229.000000,421.000000,202.000000,3.281300,268100.000000\n",
            "-118.090000,34.120000,38.000000,1713.000000,285.000000,779.000000,286.000000,5.615200,359900.000000\n",
            "-118.310000,34.060000,47.000000,3038.000000,1533.000000,4225.000000,1472.000000,1.672500,187500.000000\n",
            "-118.020000,33.800000,16.000000,2956.000000,393.000000,1379.000000,429.000000,8.495200,359600.000000\n",
            "-121.940000,37.280000,18.000000,4356.000000,1334.000000,1968.000000,1245.000000,3.629400,240000.000000\n",
            "-117.950000,34.080000,37.000000,1137.000000,203.000000,672.000000,226.000000,3.296900,189000.000000\n",
            "-118.150000,33.940000,36.000000,1948.000000,341.000000,992.000000,363.000000,4.259400,242400.000000\n",
            "-121.810000,37.990000,22.000000,2331.000000,359.000000,1086.000000,340.000000,5.143500,150800.000000\n",
            "-121.810000,38.580000,17.000000,1964.000000,314.000000,808.000000,286.000000,5.962900,286000.000000\n",
            "-121.280000,38.770000,6.000000,3819.000000,550.000000,1738.000000,587.000000,5.871800,201400.000000\n",
            "-118.430000,34.010000,43.000000,1487.000000,242.000000,675.000000,247.000000,5.340300,489800.000000\n",
            "-121.380000,38.590000,36.000000,1239.000000,237.000000,764.000000,222.000000,3.015600,103000.000000\n",
            "-117.680000,35.650000,15.000000,2701.000000,576.000000,1245.000000,513.000000,3.326900,81900.000000\n",
            "-117.690000,33.580000,8.000000,2887.000000,351.000000,1176.000000,351.000000,10.395300,500001.000000\n",
            "-118.240000,34.000000,23.000000,588.000000,157.000000,716.000000,173.000000,1.205600,87500.000000\n",
            "-117.700000,33.600000,25.000000,1321.000000,295.000000,396.000000,278.000000,3.113100,77100.000000\n",
            "-118.380000,33.860000,12.000000,4235.000000,735.000000,1798.000000,683.000000,6.424200,365500.000000\n",
            "-117.050000,32.610000,31.000000,4033.000000,715.000000,2585.000000,715.000000,3.509600,139900.000000\n",
            "-121.380000,38.640000,19.000000,4563.000000,1069.000000,2256.000000,926.000000,2.147200,143400.000000\n",
            "-117.100000,32.740000,20.000000,3854.000000,1046.000000,3555.000000,966.000000,1.674700,100000.000000\n",
            "-122.470000,37.760000,48.000000,2064.000000,484.000000,1055.000000,467.000000,2.871100,329600.000000\n",
            "-117.840000,33.760000,16.000000,238.000000,51.000000,93.000000,50.000000,5.375000,215700.000000\n",
            "-122.260000,37.880000,52.000000,2604.000000,837.000000,1798.000000,769.000000,1.725000,287500.000000\n",
            "-118.400000,33.870000,45.000000,2181.000000,505.000000,965.000000,471.000000,5.381600,500001.000000\n",
            "-122.370000,38.330000,29.000000,1868.000000,291.000000,764.000000,284.000000,4.825000,195100.000000\n",
            "-117.980000,34.010000,27.000000,2643.000000,418.000000,1344.000000,381.000000,5.705700,262100.000000\n",
            "-122.700000,38.450000,26.000000,2011.000000,557.000000,855.000000,530.000000,1.125000,233300.000000\n",
            "-118.410000,33.970000,44.000000,2789.000000,503.000000,3732.000000,474.000000,4.617600,352300.000000\n",
            "-121.920000,37.300000,36.000000,2088.000000,358.000000,772.000000,347.000000,4.276200,310100.000000\n",
            "-122.110000,37.370000,49.000000,1068.000000,190.000000,410.000000,171.000000,7.204500,500001.000000\n",
            "-121.870000,37.390000,9.000000,2522.000000,547.000000,1591.000000,481.000000,4.909100,259700.000000\n",
            "-120.180000,39.140000,25.000000,2171.000000,386.000000,248.000000,116.000000,3.037500,171900.000000\n",
            "-117.060000,32.760000,36.000000,2785.000000,577.000000,1275.000000,527.000000,2.301500,156800.000000\n",
            "-117.240000,33.930000,12.000000,7105.000000,1447.000000,4520.000000,1333.000000,3.270500,113200.000000\n",
            "-118.250000,33.980000,47.000000,617.000000,162.000000,754.000000,144.000000,2.296900,116700.000000\n",
            "-117.800000,33.680000,14.000000,2635.000000,516.000000,1150.000000,499.000000,4.439100,306700.000000\n",
            "-119.780000,36.370000,41.000000,831.000000,149.000000,443.000000,146.000000,3.140600,100000.000000\n",
            "-117.040000,32.700000,7.000000,9311.000000,1703.000000,7302.000000,1694.000000,4.419000,156900.000000\n",
            "-118.290000,34.000000,6.000000,1487.000000,468.000000,1509.000000,403.000000,1.463900,112500.000000\n",
            "-118.360000,34.060000,52.000000,2130.000000,455.000000,921.000000,395.000000,2.960500,500001.000000\n",
            "-122.420000,37.620000,39.000000,1355.000000,214.000000,682.000000,246.000000,6.344300,324700.000000\n",
            "-118.420000,34.250000,37.000000,1545.000000,341.000000,1909.000000,352.000000,3.679100,148100.000000\n",
            "-121.100000,38.950000,17.000000,1475.000000,403.000000,943.000000,363.000000,2.128700,55300.000000\n",
            "-117.740000,34.050000,27.000000,852.000000,237.000000,1024.000000,221.000000,2.114100,110900.000000\n",
            "-122.390000,37.740000,52.000000,126.000000,24.000000,37.000000,27.000000,10.226400,225000.000000\n",
            "-118.370000,34.080000,52.000000,2946.000000,695.000000,1258.000000,650.000000,3.978300,374100.000000\n",
            "-122.080000,37.870000,24.000000,6130.000000,1359.000000,1750.000000,1286.000000,2.916700,102700.000000\n",
            "-118.440000,34.200000,28.000000,1732.000000,435.000000,1198.000000,417.000000,2.921900,241300.000000\n",
            "-121.370000,38.560000,19.000000,6308.000000,1167.000000,3012.000000,1112.000000,2.946400,113500.000000\n",
            "-122.100000,37.930000,20.000000,10212.000000,1424.000000,4083.000000,1374.000000,8.039000,382200.000000\n",
            "-117.220000,32.950000,4.000000,18123.000000,3173.000000,7301.000000,2964.000000,6.357000,322500.000000\n",
            "-122.130000,37.460000,31.000000,2247.000000,573.000000,1711.000000,511.000000,3.264200,185600.000000\n",
            "-122.300000,38.290000,20.000000,1789.000000,434.000000,1113.000000,398.000000,2.472800,139700.000000\n",
            "-123.410000,40.610000,17.000000,769.000000,205.000000,301.000000,126.000000,1.787500,55000.000000\n",
            "-120.770000,37.010000,28.000000,1689.000000,378.000000,1057.000000,267.000000,3.125000,156300.000000\n",
            "-118.800000,34.410000,45.000000,1610.000000,406.000000,1148.000000,347.000000,2.700000,120400.000000\n",
            "-119.270000,34.270000,52.000000,1577.000000,343.000000,836.000000,335.000000,3.589300,206600.000000\n",
            "-122.470000,37.740000,52.000000,3797.000000,668.000000,1633.000000,658.000000,5.678700,363600.000000\n",
            "-118.260000,34.130000,25.000000,3208.000000,1111.000000,2843.000000,1005.000000,2.667300,218100.000000\n",
            "-119.770000,36.760000,40.000000,2009.000000,519.000000,2219.000000,505.000000,1.210100,49100.000000\n",
            "-124.160000,41.920000,19.000000,1668.000000,324.000000,841.000000,283.000000,2.133600,75000.000000\n",
            "-119.030000,36.130000,24.000000,2259.000000,408.000000,1169.000000,395.000000,1.710600,95500.000000\n",
            "-122.180000,37.790000,41.000000,1411.000000,233.000000,626.000000,214.000000,7.087500,240700.000000\n",
            "-123.850000,39.390000,23.000000,4671.000000,912.000000,2095.000000,857.000000,3.184000,140500.000000\n",
            "-122.700000,38.330000,16.000000,1244.000000,242.000000,696.000000,236.000000,3.636900,158700.000000\n",
            "-118.100000,33.850000,36.000000,956.000000,159.000000,416.000000,157.000000,4.642900,223700.000000\n",
            "-117.990000,34.080000,35.000000,1032.000000,207.000000,954.000000,191.000000,2.890600,134800.000000\n",
            "-121.930000,37.730000,8.000000,831.000000,231.000000,404.000000,224.000000,3.375000,350000.000000\n",
            "-118.440000,34.230000,43.000000,2257.000000,429.000000,1418.000000,442.000000,4.527800,181800.000000\n",
            "-118.320000,34.260000,24.000000,5106.000000,1010.000000,2310.000000,957.000000,4.437500,191500.000000\n",
            "-118.150000,34.110000,39.000000,2618.000000,582.000000,1314.000000,532.000000,3.587500,309300.000000\n",
            "-117.740000,34.040000,27.000000,2215.000000,440.000000,1987.000000,449.000000,3.042900,129600.000000\n",
            "-121.350000,38.280000,17.000000,2756.000000,557.000000,1986.000000,530.000000,3.223400,82000.000000\n",
            "-122.750000,39.010000,17.000000,4162.000000,967.000000,889.000000,414.000000,3.418700,200500.000000\n",
            "-120.660000,35.460000,17.000000,3748.000000,609.000000,1860.000000,612.000000,4.517900,225600.000000\n",
            "-122.620000,38.920000,13.000000,520.000000,115.000000,249.000000,109.000000,1.841700,84700.000000\n",
            "-117.220000,34.260000,16.000000,8020.000000,1432.000000,1749.000000,540.000000,4.971600,162500.000000\n",
            "-117.920000,33.750000,8.000000,2325.000000,598.000000,1511.000000,565.000000,3.362900,137500.000000\n",
            "-122.280000,37.810000,36.000000,2914.000000,562.000000,1236.000000,509.000000,2.446400,102100.000000\n",
            "-118.120000,33.810000,37.000000,1798.000000,331.000000,860.000000,340.000000,4.214300,228500.000000\n",
            "-119.190000,36.060000,29.000000,1815.000000,376.000000,1421.000000,339.000000,1.909100,71300.000000\n",
            "-117.970000,34.070000,22.000000,1438.000000,364.000000,1325.000000,335.000000,2.780200,162500.000000\n",
            "-118.090000,34.030000,27.000000,3797.000000,597.000000,2043.000000,614.000000,5.500000,276800.000000\n",
            "-121.930000,37.280000,10.000000,3163.000000,832.000000,1537.000000,797.000000,4.167400,214000.000000\n",
            "-122.650000,38.960000,27.000000,2143.000000,580.000000,898.000000,367.000000,1.676900,63200.000000\n",
            "-122.490000,37.750000,48.000000,2387.000000,424.000000,1041.000000,408.000000,3.756200,321200.000000\n",
            "-122.310000,37.560000,45.000000,1792.000000,301.000000,829.000000,318.000000,4.901300,330100.000000\n",
            "-121.270000,38.140000,33.000000,3557.000000,894.000000,2659.000000,894.000000,2.288300,86900.000000\n",
            "-118.390000,34.230000,18.000000,3405.000000,831.000000,3001.000000,795.000000,3.008300,181900.000000\n",
            "-118.390000,34.070000,33.000000,5301.000000,1281.000000,2243.000000,1159.000000,4.238600,500001.000000\n",
            "-117.150000,32.920000,16.000000,2366.000000,392.000000,1482.000000,407.000000,4.902400,182900.000000\n",
            "-122.090000,37.380000,34.000000,1959.000000,342.000000,849.000000,357.000000,6.288400,414700.000000\n",
            "-117.060000,32.610000,23.000000,1630.000000,362.000000,1267.000000,418.000000,2.562500,131100.000000\n",
            "-122.330000,37.910000,36.000000,1954.000000,513.000000,1437.000000,440.000000,1.125000,93800.000000\n",
            "-116.920000,32.760000,7.000000,1659.000000,237.000000,862.000000,242.000000,5.274100,249400.000000\n",
            "-116.000000,34.120000,32.000000,3163.000000,712.000000,1358.000000,544.000000,2.125000,57700.000000\n",
            "-117.690000,33.600000,19.000000,3562.000000,439.000000,1584.000000,470.000000,6.421100,288100.000000\n",
            "-117.230000,33.910000,9.000000,11654.000000,2100.000000,7596.000000,2127.000000,4.047300,127200.000000\n",
            "-117.180000,34.040000,41.000000,1766.000000,288.000000,753.000000,278.000000,4.912500,140700.000000\n",
            "-121.330000,38.280000,14.000000,980.000000,171.000000,659.000000,183.000000,4.430600,170100.000000\n",
            "-121.880000,37.320000,38.000000,1787.000000,508.000000,2113.000000,530.000000,2.638600,177600.000000\n",
            "-122.520000,37.970000,33.000000,563.000000,194.000000,265.000000,169.000000,2.750000,231300.000000\n",
            "-117.770000,34.060000,27.000000,2178.000000,629.000000,2379.000000,591.000000,1.976600,108000.000000\n",
            "-121.010000,37.720000,23.000000,1373.000000,264.000000,677.000000,245.000000,2.548600,161100.000000\n",
            "-117.330000,33.870000,14.000000,2300.000000,335.000000,1001.000000,311.000000,5.104500,161300.000000\n",
            "-118.240000,33.970000,37.000000,1212.000000,314.000000,1403.000000,279.000000,2.553600,117200.000000\n",
            "-117.800000,33.890000,25.000000,3121.000000,381.000000,1278.000000,389.000000,7.021700,357900.000000\n",
            "-119.620000,36.560000,30.000000,1722.000000,372.000000,1467.000000,403.000000,1.887800,51600.000000\n",
            "-122.160000,37.690000,36.000000,1118.000000,219.000000,625.000000,228.000000,3.781300,192200.000000\n",
            "-117.970000,33.800000,35.000000,2985.000000,474.000000,1614.000000,453.000000,5.463100,225600.000000\n",
            "-120.870000,37.760000,16.000000,2022.000000,413.000000,1126.000000,408.000000,2.565500,116400.000000\n",
            "-120.460000,37.310000,26.000000,3170.000000,572.000000,1524.000000,565.000000,3.480000,95300.000000\n",
            "-118.230000,34.140000,39.000000,277.000000,89.000000,182.000000,91.000000,2.395800,175000.000000\n",
            "-121.070000,38.660000,22.000000,1831.000000,274.000000,813.000000,269.000000,4.639400,173400.000000\n",
            "-120.090000,36.950000,16.000000,3222.000000,511.000000,1425.000000,503.000000,4.154400,119400.000000\n",
            "-118.210000,33.960000,38.000000,2090.000000,519.000000,1871.000000,504.000000,2.468800,169000.000000\n",
            "-122.630000,38.230000,37.000000,1966.000000,348.000000,875.000000,381.000000,4.070300,223800.000000\n",
            "-119.400000,36.250000,25.000000,1696.000000,279.000000,909.000000,291.000000,2.300000,132800.000000\n",
            "-117.380000,33.210000,31.000000,1502.000000,367.000000,1514.000000,342.000000,2.644200,103300.000000\n",
            "-117.250000,32.800000,37.000000,1096.000000,260.000000,490.000000,267.000000,3.266300,270600.000000\n",
            "-122.230000,40.570000,18.000000,1633.000000,243.000000,750.000000,252.000000,5.158500,150800.000000\n",
            "-121.230000,38.790000,45.000000,907.000000,176.000000,463.000000,190.000000,2.229200,92000.000000\n",
            "-121.550000,40.480000,14.000000,2413.000000,524.000000,805.000000,329.000000,2.785700,77400.000000\n",
            "-117.890000,33.920000,34.000000,1473.000000,312.000000,1025.000000,315.000000,3.833300,170400.000000\n",
            "-117.230000,32.720000,43.000000,952.000000,209.000000,392.000000,210.000000,2.163500,244200.000000\n",
            "-117.920000,33.790000,35.000000,1785.000000,288.000000,1033.000000,297.000000,4.573900,190500.000000\n",
            "-117.580000,34.110000,14.000000,11635.000000,2055.000000,6443.000000,2009.000000,4.754700,157600.000000\n",
            "-120.850000,38.690000,18.000000,5928.000000,1097.000000,2697.000000,1096.000000,3.487200,141400.000000\n",
            "-121.530000,38.480000,5.000000,27870.000000,5027.000000,11935.000000,4855.000000,4.881100,212200.000000\n",
            "-117.210000,32.820000,31.000000,2035.000000,383.000000,866.000000,360.000000,3.852900,212000.000000\n",
            "-117.350000,34.130000,26.000000,3920.000000,570.000000,1862.000000,552.000000,3.728600,132000.000000\n",
            "-118.170000,33.790000,30.000000,1349.000000,519.000000,2646.000000,552.000000,1.931800,115900.000000\n",
            "-118.300000,34.260000,37.000000,2824.000000,633.000000,1619.000000,573.000000,3.556800,184500.000000\n",
            "-118.020000,33.830000,16.000000,1139.000000,328.000000,665.000000,290.000000,3.293300,260000.000000\n",
            "-116.990000,33.010000,11.000000,1412.000000,185.000000,529.000000,166.000000,7.751700,500001.000000\n",
            "-122.560000,38.010000,21.000000,2144.000000,400.000000,840.000000,398.000000,4.600000,239500.000000\n",
            "-118.150000,34.100000,39.000000,3856.000000,867.000000,1847.000000,830.000000,3.455900,364900.000000\n",
            "-117.930000,33.730000,27.000000,3662.000000,834.000000,3009.000000,743.000000,3.981600,179500.000000\n",
            "-121.090000,38.030000,21.000000,2064.000000,342.000000,1021.000000,359.000000,4.517000,152200.000000\n",
            "-116.660000,33.090000,24.000000,1378.000000,272.000000,532.000000,188.000000,1.590900,221900.000000\n",
            "-118.260000,33.830000,24.000000,3059.000000,729.000000,2064.000000,629.000000,3.551800,184600.000000\n",
            "-117.940000,33.930000,14.000000,999.000000,232.000000,1037.000000,244.000000,2.712500,166100.000000\n",
            "-116.930000,32.830000,19.000000,3038.000000,529.000000,1463.000000,509.000000,3.944000,172500.000000\n",
            "-122.290000,37.850000,52.000000,477.000000,119.000000,218.000000,106.000000,2.568200,120000.000000\n",
            "-122.480000,37.670000,14.000000,3395.000000,1059.000000,2258.000000,945.000000,2.964000,319700.000000\n",
            "-119.330000,36.310000,15.000000,1472.000000,228.000000,892.000000,257.000000,5.390900,113000.000000\n",
            "-118.410000,34.210000,35.000000,1789.000000,292.000000,897.000000,267.000000,5.592000,239900.000000\n",
            "-119.500000,34.350000,39.000000,308.000000,38.000000,59.000000,21.000000,11.779400,500001.000000\n",
            "-118.330000,34.110000,48.000000,1601.000000,464.000000,784.000000,461.000000,3.064200,342900.000000\n",
            "-118.300000,34.100000,29.000000,3403.000000,1367.000000,3432.000000,1174.000000,1.708300,166700.000000\n",
            "-119.750000,34.400000,31.000000,1997.000000,299.000000,826.000000,301.000000,6.892700,500001.000000\n",
            "-120.940000,39.320000,14.000000,3120.000000,595.000000,1569.000000,556.000000,3.538500,157400.000000\n",
            "-117.680000,35.610000,9.000000,4241.000000,832.000000,1929.000000,742.000000,3.598800,84500.000000\n",
            "-122.270000,38.120000,45.000000,4423.000000,1001.000000,2109.000000,874.000000,2.693700,111800.000000\n",
            "-118.210000,34.110000,32.000000,2759.000000,499.000000,1661.000000,533.000000,4.381200,228200.000000\n",
            "-117.230000,33.100000,4.000000,1862.000000,291.000000,685.000000,248.000000,7.745000,237400.000000\n",
            "-119.460000,35.140000,30.000000,2943.000000,697.000000,1565.000000,584.000000,2.531300,45800.000000\n",
            "-119.780000,36.760000,50.000000,1343.000000,322.000000,1063.000000,342.000000,1.750000,49800.000000\n",
            "-117.810000,33.660000,20.000000,2851.000000,490.000000,1192.000000,463.000000,5.875200,274200.000000\n",
            "-119.290000,34.310000,25.000000,1092.000000,190.000000,702.000000,215.000000,3.906300,192700.000000\n",
            "-122.410000,37.610000,46.000000,2975.000000,643.000000,1479.000000,577.000000,3.821400,273600.000000\n",
            "-120.320000,37.290000,38.000000,576.000000,130.000000,478.000000,112.000000,2.338200,59600.000000\n",
            "-118.370000,34.160000,40.000000,1973.000000,382.000000,774.000000,352.000000,4.412200,282300.000000\n",
            "-122.050000,37.050000,41.000000,2422.000000,502.000000,915.000000,366.000000,4.167900,201300.000000\n",
            "-118.460000,34.030000,52.000000,523.000000,124.000000,317.000000,130.000000,2.279400,337500.000000\n",
            "-117.120000,32.760000,43.000000,2336.000000,644.000000,1203.000000,614.000000,2.359400,127800.000000\n",
            "-122.040000,37.570000,12.000000,5719.000000,1064.000000,3436.000000,1057.000000,5.287900,231200.000000\n",
            "-121.970000,37.360000,34.000000,884.000000,153.000000,534.000000,154.000000,6.011600,271200.000000\n",
            "-121.280000,38.530000,18.000000,224.000000,38.000000,95.000000,41.000000,3.104200,165000.000000\n",
            "-119.090000,35.300000,3.000000,2821.000000,519.000000,1353.000000,495.000000,3.685200,109800.000000\n",
            "-121.750000,36.910000,42.000000,1368.000000,468.000000,2312.000000,484.000000,2.559900,151400.000000\n",
            "-121.860000,38.000000,4.000000,4075.000000,927.000000,2239.000000,849.000000,3.585700,165200.000000\n",
            "-118.530000,34.450000,26.000000,828.000000,149.000000,508.000000,158.000000,5.237400,185500.000000\n",
            "-117.940000,33.810000,24.000000,4602.000000,1131.000000,3003.000000,1014.000000,3.677100,172200.000000\n",
            "-119.840000,34.450000,26.000000,4424.000000,616.000000,1839.000000,601.000000,6.365400,331200.000000\n",
            "-118.240000,33.910000,37.000000,1607.000000,377.000000,1526.000000,375.000000,1.715800,94300.000000\n",
            "-117.060000,33.140000,27.000000,3819.000000,674.000000,2447.000000,717.000000,3.818500,137200.000000\n",
            "-120.980000,37.670000,33.000000,1433.000000,298.000000,824.000000,302.000000,2.762100,109100.000000\n",
            "-117.740000,34.090000,30.000000,3199.000000,591.000000,2192.000000,563.000000,3.487100,136400.000000\n",
            "-118.180000,34.010000,39.000000,322.000000,82.000000,319.000000,90.000000,2.636400,148800.000000\n",
            "-118.240000,33.890000,32.000000,1132.000000,266.000000,1211.000000,279.000000,2.183800,98300.000000\n",
            "-123.080000,40.400000,10.000000,365.000000,102.000000,140.000000,49.000000,1.796900,37500.000000\n",
            "-117.320000,34.070000,52.000000,1226.000000,269.000000,693.000000,272.000000,1.996300,76900.000000\n",
            "-118.240000,33.850000,25.000000,9594.000000,1489.000000,5237.000000,1496.000000,5.968400,193300.000000\n",
            "-122.230000,37.780000,52.000000,472.000000,146.000000,415.000000,126.000000,2.642900,71300.000000\n",
            "-121.180000,38.780000,13.000000,3480.000000,528.000000,1432.000000,532.000000,6.164200,277800.000000\n",
            "-118.100000,33.910000,29.000000,505.000000,113.000000,411.000000,113.000000,2.639700,164400.000000\n",
            "-121.970000,38.040000,38.000000,2505.000000,554.000000,1595.000000,498.000000,2.583300,83500.000000\n",
            "-118.470000,34.000000,41.000000,2331.000000,636.000000,1839.000000,537.000000,2.288000,263500.000000\n",
            "-119.310000,36.390000,32.000000,2293.000000,466.000000,1538.000000,468.000000,1.934200,68600.000000\n",
            "-122.170000,37.710000,38.000000,890.000000,200.000000,481.000000,198.000000,3.244000,179800.000000\n",
            "-122.490000,37.680000,35.000000,2405.000000,461.000000,1583.000000,471.000000,5.065900,238000.000000\n",
            "-121.300000,37.980000,39.000000,3375.000000,659.000000,1388.000000,631.000000,2.636400,93800.000000\n",
            "-121.370000,38.570000,22.000000,4899.000000,847.000000,1701.000000,826.000000,5.244900,387000.000000\n",
            "-122.080000,37.610000,6.000000,2605.000000,474.000000,1568.000000,433.000000,5.040600,261400.000000\n",
            "-117.110000,32.570000,32.000000,2723.000000,586.000000,1702.000000,562.000000,3.337100,140500.000000\n",
            "-122.090000,37.400000,22.000000,1489.000000,436.000000,662.000000,470.000000,3.517900,197200.000000\n",
            "-122.010000,36.980000,27.000000,2820.000000,730.000000,1511.000000,745.000000,2.589000,242400.000000\n",
            "-118.250000,34.000000,36.000000,1033.000000,267.000000,1112.000000,229.000000,1.723700,105800.000000\n",
            "-117.830000,33.660000,16.000000,1574.000000,385.000000,515.000000,363.000000,5.342300,291700.000000\n",
            "-121.960000,37.740000,2.000000,200.000000,20.000000,25.000000,9.000000,15.000100,350000.000000\n",
            "-119.810000,36.730000,51.000000,956.000000,196.000000,662.000000,180.000000,2.101000,56700.000000\n",
            "-118.620000,34.060000,25.000000,3546.000000,584.000000,1530.000000,601.000000,7.400100,500001.000000\n",
            "-122.350000,37.960000,35.000000,1326.000000,346.000000,1023.000000,295.000000,2.072400,97700.000000\n",
            "-119.060000,36.100000,21.000000,1344.000000,249.000000,868.000000,221.000000,2.589300,63600.000000\n",
            "-122.470000,37.750000,52.000000,1598.000000,285.000000,689.000000,265.000000,4.607100,337400.000000\n",
            "-122.540000,37.900000,41.000000,3170.000000,622.000000,1091.000000,528.000000,3.781300,389200.000000\n",
            "-119.730000,36.760000,30.000000,1548.000000,282.000000,886.000000,311.000000,3.100000,71300.000000\n",
            "-122.030000,36.960000,40.000000,584.000000,126.000000,316.000000,139.000000,3.593800,243500.000000\n",
            "-119.750000,36.780000,33.000000,1145.000000,197.000000,508.000000,198.000000,2.333300,81300.000000\n",
            "-117.300000,33.060000,24.000000,2171.000000,511.000000,870.000000,442.000000,3.194000,276300.000000\n",
            "-121.990000,36.960000,16.000000,875.000000,201.000000,300.000000,157.000000,2.625000,377300.000000\n",
            "-120.730000,39.630000,17.000000,1791.000000,356.000000,432.000000,190.000000,3.882600,92400.000000\n",
            "-118.480000,34.030000,19.000000,902.000000,284.000000,414.000000,272.000000,1.333300,310000.000000\n",
            "-118.220000,33.950000,36.000000,1679.000000,483.000000,2249.000000,487.000000,2.816700,160400.000000\n",
            "-118.240000,33.970000,43.000000,1357.000000,349.000000,1657.000000,331.000000,2.081900,111800.000000\n",
            "-117.820000,35.030000,30.000000,2555.000000,510.000000,1347.000000,467.000000,3.369300,71800.000000\n",
            "-117.020000,32.700000,18.000000,1643.000000,283.000000,1134.000000,269.000000,5.176900,133000.000000\n",
            "-122.350000,37.940000,47.000000,1275.000000,275.000000,844.000000,273.000000,2.896700,95600.000000\n",
            "-119.800000,36.780000,50.000000,1818.000000,374.000000,737.000000,338.000000,2.261400,73000.000000\n",
            "-122.190000,37.480000,38.000000,1300.000000,269.000000,608.000000,292.000000,4.556800,286900.000000\n",
            "-122.380000,37.590000,31.000000,3052.000000,844.000000,1581.000000,788.000000,3.074400,457700.000000\n",
            "-122.150000,37.750000,44.000000,1938.000000,399.000000,946.000000,331.000000,3.225000,135800.000000\n",
            "-119.350000,36.190000,6.000000,958.000000,226.000000,734.000000,230.000000,1.034900,67800.000000\n",
            "-120.450000,34.950000,7.000000,1479.000000,532.000000,1057.000000,459.000000,2.253800,162500.000000\n",
            "-122.280000,38.290000,19.000000,531.000000,112.000000,139.000000,80.000000,1.987500,325000.000000\n",
            "-122.260000,37.840000,49.000000,713.000000,202.000000,462.000000,189.000000,1.025000,118800.000000\n",
            "-122.300000,37.810000,52.000000,572.000000,109.000000,274.000000,82.000000,1.851600,85000.000000\n",
            "-118.220000,33.900000,22.000000,312.000000,107.000000,583.000000,119.000000,1.942300,98400.000000\n",
            "-117.670000,33.640000,11.000000,2722.000000,554.000000,1565.000000,508.000000,5.164500,164100.000000\n",
            "-122.020000,37.010000,20.000000,1005.000000,138.000000,345.000000,129.000000,10.096800,500001.000000\n",
            "-117.380000,33.190000,17.000000,353.000000,112.000000,359.000000,118.000000,1.562500,162500.000000\n",
            "-118.010000,34.080000,30.000000,2281.000000,522.000000,1969.000000,500.000000,3.653100,166300.000000\n",
            "-118.600000,34.130000,20.000000,14291.000000,1934.000000,5452.000000,1875.000000,9.123200,472000.000000\n",
            "-118.520000,34.200000,19.000000,4315.000000,1304.000000,2490.000000,1222.000000,2.643700,195000.000000\n",
            "-118.420000,34.270000,35.000000,2700.000000,702.000000,3444.000000,679.000000,1.486700,124000.000000\n",
            "-122.080000,37.710000,35.000000,2211.000000,350.000000,1004.000000,365.000000,5.463900,238600.000000\n",
            "-117.650000,33.570000,5.000000,1998.000000,500.000000,1185.000000,446.000000,4.354200,195600.000000\n",
            "-120.540000,37.680000,18.000000,335.000000,76.000000,189.000000,67.000000,1.227300,87500.000000\n",
            "-118.310000,34.050000,40.000000,1667.000000,365.000000,1161.000000,384.000000,3.140600,417600.000000\n",
            "-122.420000,37.600000,34.000000,3562.000000,565.000000,1542.000000,563.000000,5.878300,405100.000000\n",
            "-118.180000,33.980000,38.000000,1477.000000,374.000000,1514.000000,408.000000,2.570300,178600.000000\n",
            "-121.250000,36.320000,12.000000,4776.000000,1082.000000,4601.000000,1066.000000,2.918400,100500.000000\n",
            "-118.170000,34.690000,12.000000,4881.000000,803.000000,2188.000000,724.000000,4.166700,171900.000000\n",
            "-120.330000,39.300000,16.000000,868.000000,178.000000,44.000000,21.000000,3.000000,175000.000000\n",
            "-118.380000,34.060000,29.000000,3946.000000,1008.000000,1676.000000,876.000000,2.782400,450000.000000\n",
            "-119.780000,36.730000,52.000000,1377.000000,319.000000,1280.000000,259.000000,1.234400,43300.000000\n",
            "-118.330000,33.970000,44.000000,2526.000000,579.000000,1423.000000,573.000000,2.536300,158800.000000\n",
            "-118.370000,34.060000,36.000000,1661.000000,395.000000,690.000000,365.000000,3.343800,500001.000000\n",
            "-119.000000,35.390000,51.000000,1373.000000,284.000000,648.000000,300.000000,2.829500,72100.000000\n",
            "-117.950000,33.870000,35.000000,1854.000000,383.000000,1115.000000,381.000000,4.478400,185200.000000\n",
            "-118.380000,34.580000,18.000000,1859.000000,375.000000,913.000000,372.000000,4.345600,148900.000000\n",
            "-118.290000,34.080000,25.000000,2459.000000,823.000000,2635.000000,763.000000,2.400000,173900.000000\n",
            "-120.970000,37.680000,16.000000,2493.000000,535.000000,1370.000000,504.000000,3.336800,121200.000000\n",
            "-122.280000,37.870000,52.000000,589.000000,132.000000,288.000000,131.000000,3.515600,200000.000000\n",
            "-118.140000,33.880000,41.000000,1531.000000,343.000000,1119.000000,341.000000,4.364600,161400.000000\n",
            "-122.060000,37.380000,20.000000,4293.000000,1272.000000,2389.000000,1210.000000,4.271900,270800.000000\n",
            "-118.540000,34.270000,28.000000,2309.000000,300.000000,931.000000,302.000000,6.741500,348200.000000\n",
            "-117.880000,33.840000,25.000000,1781.000000,349.000000,918.000000,378.000000,3.928600,262700.000000\n",
            "-118.300000,34.190000,52.000000,1704.000000,277.000000,746.000000,262.000000,4.798600,326100.000000\n",
            "-117.840000,33.800000,35.000000,1490.000000,251.000000,629.000000,257.000000,4.366100,222100.000000\n",
            "-121.270000,38.650000,25.000000,2787.000000,601.000000,1247.000000,522.000000,2.901600,159800.000000\n",
            "-117.880000,33.870000,21.000000,1519.000000,388.000000,1203.000000,366.000000,3.208300,145300.000000\n",
            "-119.880000,34.420000,22.000000,2367.000000,492.000000,1333.000000,488.000000,3.630400,312200.000000\n",
            "-118.480000,34.010000,31.000000,1829.000000,458.000000,719.000000,392.000000,4.400000,353800.000000\n",
            "-116.950000,33.860000,1.000000,6.000000,2.000000,8.000000,2.000000,1.625000,55000.000000\n",
            "-117.670000,33.510000,17.000000,2112.000000,480.000000,1893.000000,433.000000,4.038800,120400.000000\n",
            "-118.350000,34.040000,38.000000,1626.000000,375.000000,1019.000000,372.000000,2.368700,146800.000000\n",
            "-124.160000,40.800000,52.000000,2167.000000,480.000000,908.000000,451.000000,1.611100,74700.000000\n",
            "-118.350000,34.050000,33.000000,2880.000000,836.000000,1416.000000,736.000000,2.678100,328800.000000\n",
            "-119.080000,34.350000,24.000000,3663.000000,828.000000,2718.000000,778.000000,3.275700,186000.000000\n",
            "-122.510000,37.780000,45.000000,2564.000000,499.000000,1056.000000,460.000000,4.732800,351100.000000\n",
            "-118.360000,34.140000,30.000000,1376.000000,317.000000,629.000000,320.000000,3.682300,295200.000000\n",
            "-121.960000,37.550000,4.000000,3746.000000,993.000000,1606.000000,838.000000,4.138700,162500.000000\n",
            "-117.190000,32.770000,30.000000,2747.000000,640.000000,3185.000000,657.000000,3.765000,238000.000000\n",
            "-118.090000,33.890000,42.000000,1150.000000,215.000000,708.000000,204.000000,3.687500,171500.000000\n",
            "-121.760000,36.900000,44.000000,919.000000,309.000000,1321.000000,301.000000,2.077500,121400.000000\n",
            "-118.140000,33.920000,35.000000,2378.000000,559.000000,1799.000000,546.000000,3.932700,190500.000000\n",
            "-119.060000,34.360000,52.000000,1239.000000,320.000000,934.000000,298.000000,1.861800,183300.000000\n",
            "-118.120000,34.160000,52.000000,2218.000000,437.000000,1211.000000,422.000000,5.023700,241900.000000\n",
            "-117.800000,34.150000,14.000000,7876.000000,1253.000000,3699.000000,1162.000000,5.542300,248700.000000\n",
            "-120.040000,39.240000,30.000000,2369.000000,469.000000,510.000000,213.000000,2.650000,123800.000000\n",
            "-121.470000,38.480000,25.000000,2969.000000,551.000000,1745.000000,487.000000,2.638200,76200.000000\n",
            "-122.270000,37.540000,15.000000,2126.000000,310.000000,905.000000,306.000000,8.908300,500001.000000\n",
            "-122.020000,37.540000,31.000000,1240.000000,264.000000,719.000000,236.000000,3.535000,210300.000000\n",
            "-121.380000,38.400000,15.000000,4155.000000,637.000000,1722.000000,616.000000,4.883100,154400.000000\n",
            "-122.040000,37.350000,20.000000,2016.000000,313.000000,767.000000,310.000000,6.837000,383000.000000\n",
            "-117.120000,32.760000,41.000000,1469.000000,421.000000,803.000000,395.000000,2.185600,120500.000000\n",
            "-117.340000,34.180000,7.000000,2914.000000,481.000000,1584.000000,499.000000,4.631200,124900.000000\n",
            "-121.020000,37.670000,32.000000,3951.000000,797.000000,1916.000000,740.000000,2.672200,111500.000000\n",
            "-119.060000,34.380000,33.000000,1465.000000,262.000000,731.000000,266.000000,3.946400,230300.000000\n",
            "-118.160000,33.910000,35.000000,1403.000000,338.000000,1415.000000,367.000000,3.096700,144000.000000\n",
            "-121.920000,37.340000,52.000000,2584.000000,491.000000,1087.000000,433.000000,4.400000,391300.000000\n",
            "-119.030000,34.210000,11.000000,4528.000000,729.000000,2398.000000,684.000000,5.304400,319000.000000\n",
            "-121.960000,37.340000,37.000000,663.000000,127.000000,293.000000,132.000000,3.781300,247800.000000\n",
            "-114.610000,33.620000,16.000000,1187.000000,261.000000,1115.000000,242.000000,2.175900,61500.000000\n",
            "-117.270000,33.150000,4.000000,23915.000000,4135.000000,10877.000000,3958.000000,4.635700,244900.000000\n",
            "-121.370000,38.620000,27.000000,1743.000000,380.000000,697.000000,368.000000,1.667800,166100.000000\n",
            "-118.180000,33.820000,43.000000,2210.000000,469.000000,1042.000000,418.000000,3.500000,216700.000000\n",
            "-118.020000,33.770000,33.000000,2683.000000,436.000000,1520.000000,456.000000,5.009100,211500.000000\n",
            "-120.050000,34.470000,21.000000,1241.000000,248.000000,746.000000,211.000000,3.805600,425000.000000\n",
            "-118.250000,34.010000,45.000000,782.000000,270.000000,1030.000000,235.000000,1.089800,93400.000000\n",
            "-119.540000,38.510000,14.000000,1250.000000,272.000000,721.000000,234.000000,2.350000,95700.000000\n",
            "-117.270000,34.500000,7.000000,2045.000000,342.000000,878.000000,292.000000,6.029600,194100.000000\n",
            "-121.960000,36.990000,23.000000,3209.000000,748.000000,1423.000000,666.000000,2.737500,238000.000000\n",
            "-118.190000,34.040000,45.000000,963.000000,234.000000,1194.000000,239.000000,2.180600,134900.000000\n",
            "-121.280000,37.950000,49.000000,1200.000000,364.000000,1448.000000,318.000000,1.109400,52500.000000\n",
            "-117.960000,33.790000,29.000000,1813.000000,501.000000,1170.000000,482.000000,2.067700,214500.000000\n",
            "-118.440000,34.170000,25.000000,4966.000000,1134.000000,1941.000000,958.000000,3.808100,286700.000000\n",
            "-122.310000,37.520000,35.000000,1817.000000,262.000000,659.000000,262.000000,6.833600,457200.000000\n",
            "-117.970000,33.920000,24.000000,2017.000000,416.000000,900.000000,436.000000,3.000000,251400.000000\n",
            "-117.710000,34.050000,20.000000,2281.000000,444.000000,1545.000000,481.000000,2.573500,130500.000000\n",
            "-118.420000,34.020000,26.000000,2664.000000,842.000000,1745.000000,789.000000,3.426900,301900.000000\n",
            "-120.250000,37.110000,20.000000,2062.000000,466.000000,1285.000000,456.000000,1.531900,50500.000000\n",
            "-121.350000,38.510000,29.000000,2337.000000,391.000000,1054.000000,352.000000,4.220600,157700.000000\n",
            "-120.250000,38.550000,15.000000,4403.000000,891.000000,1103.000000,433.000000,3.012500,111700.000000\n",
            "-118.020000,34.020000,21.000000,5992.000000,986.000000,2647.000000,969.000000,5.240500,302400.000000\n",
            "-120.660000,35.260000,15.000000,5540.000000,1319.000000,2383.000000,1165.000000,2.265600,226200.000000\n",
            "-120.660000,40.420000,35.000000,1450.000000,325.000000,717.000000,297.000000,2.507400,66400.000000\n",
            "-118.150000,35.060000,15.000000,1069.000000,296.000000,569.000000,263.000000,2.044100,73300.000000\n",
            "-122.510000,37.780000,47.000000,2496.000000,494.000000,1201.000000,454.000000,4.035300,342200.000000\n",
            "-120.460000,34.650000,22.000000,1298.000000,358.000000,1272.000000,363.000000,1.648800,117500.000000\n",
            "-117.930000,33.930000,25.000000,2431.000000,534.000000,1702.000000,523.000000,3.793300,184400.000000\n",
            "-118.210000,33.970000,49.000000,1409.000000,313.000000,1268.000000,317.000000,3.940800,170600.000000\n",
            "-120.180000,34.620000,25.000000,1337.000000,219.000000,671.000000,225.000000,3.191200,226400.000000\n",
            "-122.140000,37.430000,18.000000,2060.000000,563.000000,1144.000000,600.000000,4.068600,378600.000000\n",
            "-123.110000,40.600000,23.000000,708.000000,202.000000,316.000000,136.000000,1.160200,65000.000000\n",
            "-117.940000,33.840000,25.000000,4016.000000,831.000000,2166.000000,774.000000,3.188400,135400.000000\n",
            "-122.750000,38.480000,4.000000,6487.000000,1112.000000,2958.000000,1131.000000,4.541700,197400.000000\n",
            "-121.610000,37.150000,16.000000,5498.000000,729.000000,2051.000000,694.000000,7.860100,416300.000000\n",
            "-122.420000,40.600000,5.000000,2614.000000,433.000000,1275.000000,411.000000,3.446400,122900.000000\n",
            "-119.160000,34.950000,14.000000,4054.000000,787.000000,1581.000000,579.000000,3.088200,148200.000000\n",
            "-118.630000,34.240000,9.000000,4759.000000,924.000000,1884.000000,915.000000,4.833300,277200.000000\n",
            "-121.950000,36.980000,34.000000,3745.000000,958.000000,1622.000000,802.000000,3.154600,261200.000000\n",
            "-117.250000,32.790000,43.000000,906.000000,240.000000,458.000000,205.000000,1.836500,328600.000000\n",
            "-119.180000,34.220000,15.000000,4615.000000,1008.000000,2549.000000,973.000000,3.906300,198700.000000\n",
            "-117.260000,32.820000,34.000000,5846.000000,785.000000,1817.000000,747.000000,8.496000,500001.000000\n",
            "-117.070000,32.790000,25.000000,2489.000000,314.000000,911.000000,309.000000,7.833600,277600.000000\n",
            "-116.760000,34.230000,10.000000,4374.000000,989.000000,1020.000000,376.000000,2.607100,89000.000000\n",
            "-118.250000,34.130000,52.000000,322.000000,88.000000,229.000000,89.000000,2.125000,243800.000000\n",
            "-117.280000,34.260000,18.000000,3895.000000,689.000000,1086.000000,375.000000,3.367200,133600.000000\n",
            "-122.570000,38.110000,32.000000,3521.000000,748.000000,1706.000000,723.000000,3.470500,228600.000000\n",
            "-122.450000,37.790000,52.000000,1457.000000,215.000000,495.000000,208.000000,10.709700,500001.000000\n",
            "-117.770000,33.710000,15.000000,2102.000000,295.000000,1060.000000,303.000000,7.314100,337100.000000\n",
            "-119.440000,36.610000,17.000000,1531.000000,280.000000,775.000000,246.000000,3.907300,91600.000000\n",
            "-118.320000,33.930000,37.000000,2379.000000,462.000000,1327.000000,445.000000,4.250000,172100.000000\n",
            "-118.220000,33.790000,28.000000,3008.000000,629.000000,2537.000000,596.000000,2.300000,137500.000000\n",
            "-122.650000,38.480000,17.000000,1090.000000,164.000000,473.000000,163.000000,5.506100,231800.000000\n",
            "-121.230000,37.960000,44.000000,2204.000000,473.000000,1277.000000,435.000000,1.553900,59200.000000\n",
            "-117.860000,34.090000,26.000000,3408.000000,542.000000,1664.000000,543.000000,6.149800,239100.000000\n",
            "-122.060000,37.860000,16.000000,5187.000000,1014.000000,1512.000000,986.000000,4.455100,252400.000000\n",
            "-117.360000,34.100000,29.000000,2819.000000,637.000000,1683.000000,608.000000,2.320500,87600.000000\n",
            "-117.300000,34.100000,49.000000,60.000000,11.000000,76.000000,13.000000,2.562500,75000.000000\n",
            "-122.140000,38.030000,42.000000,118.000000,34.000000,54.000000,30.000000,2.579500,225000.000000\n",
            "-121.640000,36.800000,18.000000,5915.000000,1000.000000,2975.000000,975.000000,4.581200,255200.000000\n",
            "-122.240000,38.010000,11.000000,3751.000000,565.000000,1949.000000,555.000000,5.786200,269400.000000\n",
            "-116.860000,34.310000,19.000000,1649.000000,328.000000,382.000000,151.000000,4.055600,133000.000000\n",
            "-122.710000,37.880000,21.000000,2845.000000,552.000000,599.000000,250.000000,4.312500,495800.000000\n",
            "-117.090000,32.560000,8.000000,864.000000,156.000000,626.000000,172.000000,4.898400,151500.000000\n",
            "-122.250000,37.470000,35.000000,3183.000000,515.000000,1313.000000,487.000000,5.906200,383200.000000\n",
            "-118.120000,33.770000,20.000000,4534.000000,954.000000,1941.000000,892.000000,6.036200,463500.000000\n",
            "-120.960000,37.670000,17.000000,2434.000000,511.000000,1558.000000,546.000000,2.921900,114300.000000\n",
            "-119.300000,36.320000,23.000000,3521.000000,615.000000,1712.000000,636.000000,3.387500,92500.000000\n",
            "-117.390000,33.960000,52.000000,1992.000000,345.000000,948.000000,358.000000,3.291700,129300.000000\n",
            "-121.000000,37.600000,22.000000,4412.000000,925.000000,3116.000000,817.000000,2.689900,82100.000000\n",
            "-117.090000,32.640000,19.000000,2571.000000,791.000000,1205.000000,783.000000,1.620000,131300.000000\n",
            "-122.050000,37.930000,15.000000,7803.000000,1603.000000,2957.000000,1546.000000,4.450000,184900.000000\n",
            "-120.430000,34.870000,26.000000,1699.000000,272.000000,799.000000,266.000000,3.987100,157700.000000\n",
            "-122.090000,37.690000,43.000000,500.000000,110.000000,273.000000,120.000000,3.312500,150000.000000\n",
            "-118.460000,34.010000,39.000000,711.000000,148.000000,347.000000,153.000000,4.281300,297200.000000\n",
            "-121.980000,37.370000,35.000000,995.000000,202.000000,615.000000,199.000000,5.094200,217500.000000\n",
            "-121.970000,37.760000,8.000000,3743.000000,581.000000,1633.000000,567.000000,6.702700,381900.000000\n",
            "-117.810000,33.830000,8.000000,7326.000000,884.000000,2569.000000,798.000000,10.157000,477100.000000\n",
            "-118.160000,33.890000,38.000000,483.000000,113.000000,389.000000,108.000000,2.185900,143800.000000\n",
            "-115.570000,32.780000,25.000000,2007.000000,301.000000,1135.000000,332.000000,5.128000,99600.000000\n",
            "-117.620000,33.420000,27.000000,1005.000000,266.000000,460.000000,243.000000,3.102900,190600.000000\n",
            "-121.510000,38.560000,43.000000,1048.000000,312.000000,1320.000000,294.000000,1.064900,137500.000000\n",
            "-117.110000,32.750000,18.000000,1943.000000,587.000000,1329.000000,522.000000,1.769600,103100.000000\n",
            "-122.460000,37.720000,37.000000,1833.000000,388.000000,1093.000000,363.000000,3.070300,211800.000000\n",
            "-122.010000,37.580000,17.000000,4313.000000,717.000000,2629.000000,721.000000,5.757900,231800.000000\n",
            "-116.850000,34.260000,18.000000,6988.000000,1635.000000,2044.000000,726.000000,2.430800,90600.000000\n",
            "-122.180000,37.150000,17.000000,1457.000000,289.000000,591.000000,235.000000,5.578500,284100.000000\n",
            "-116.950000,32.820000,19.000000,5308.000000,1058.000000,2852.000000,1092.000000,2.916100,135700.000000\n",
            "-117.230000,32.740000,16.000000,1953.000000,404.000000,798.000000,385.000000,4.816700,169800.000000\n",
            "-117.840000,34.110000,17.000000,3499.000000,621.000000,1911.000000,621.000000,4.889400,191700.000000\n",
            "-122.490000,37.760000,48.000000,1351.000000,270.000000,650.000000,265.000000,3.527800,339800.000000\n",
            "-117.930000,33.710000,10.000000,2775.000000,717.000000,1581.000000,633.000000,4.136600,158800.000000\n",
            "-118.180000,33.740000,30.000000,5915.000000,1750.000000,2136.000000,1503.000000,4.096800,310000.000000\n",
            "-118.080000,33.920000,38.000000,1335.000000,282.000000,1011.000000,269.000000,3.690800,157500.000000\n",
            "-118.300000,34.010000,52.000000,1444.000000,343.000000,1154.000000,334.000000,2.062500,134400.000000\n",
            "-122.170000,39.310000,35.000000,2791.000000,552.000000,1395.000000,476.000000,2.562500,62700.000000\n",
            "-117.140000,32.750000,19.000000,1358.000000,613.000000,766.000000,630.000000,1.035300,150000.000000\n",
            "-117.940000,34.040000,36.000000,1431.000000,354.000000,1367.000000,334.000000,3.559200,160200.000000\n",
            "-121.740000,37.190000,11.000000,1290.000000,197.000000,881.000000,191.000000,4.203900,500001.000000\n",
            "-118.360000,33.810000,26.000000,1575.000000,300.000000,881.000000,309.000000,5.177800,359900.000000\n",
            "-122.440000,37.780000,37.000000,1235.000000,314.000000,481.000000,297.000000,3.687500,492300.000000\n",
            "-118.190000,33.810000,23.000000,954.000000,390.000000,804.000000,373.000000,2.583300,181300.000000\n",
            "-117.290000,33.190000,18.000000,6235.000000,1233.000000,4127.000000,1162.000000,3.070400,151600.000000\n",
            "-117.240000,32.850000,18.000000,3117.000000,475.000000,904.000000,368.000000,6.758700,388500.000000\n",
            "-117.240000,32.800000,29.000000,3376.000000,882.000000,1513.000000,843.000000,3.101000,238200.000000\n",
            "-120.980000,38.660000,9.000000,2073.000000,404.000000,916.000000,373.000000,3.225000,163300.000000\n",
            "-119.630000,36.760000,22.000000,4126.000000,614.000000,1795.000000,613.000000,4.925000,154700.000000\n",
            "-121.650000,37.120000,14.000000,4721.000000,999.000000,2648.000000,888.000000,3.689500,239300.000000\n",
            "-121.900000,37.440000,12.000000,4228.000000,734.000000,2594.000000,732.000000,6.608600,299400.000000\n",
            "-122.110000,37.700000,23.000000,1689.000000,461.000000,828.000000,443.000000,2.155200,161400.000000\n",
            "-118.290000,33.950000,35.000000,1401.000000,362.000000,1357.000000,327.000000,2.091700,99300.000000\n",
            "-117.760000,34.060000,30.000000,1700.000000,504.000000,1719.000000,459.000000,2.227000,91900.000000\n",
            "-118.320000,34.080000,52.000000,2370.000000,473.000000,1053.000000,434.000000,4.142900,380300.000000\n",
            "-117.080000,32.720000,32.000000,2286.000000,468.000000,1741.000000,467.000000,3.044600,101900.000000\n",
            "-117.130000,32.790000,35.000000,1362.000000,243.000000,698.000000,255.000000,3.645800,173800.000000\n",
            "-121.940000,36.980000,24.000000,3010.000000,562.000000,1360.000000,504.000000,4.200600,290700.000000\n",
            "-118.230000,33.960000,36.000000,1062.000000,270.000000,1136.000000,273.000000,1.659700,109100.000000\n",
            "-121.980000,37.360000,34.000000,1735.000000,318.000000,1019.000000,301.000000,4.562500,242700.000000\n",
            "-118.280000,34.120000,50.000000,2384.000000,312.000000,836.000000,337.000000,12.876300,500001.000000\n",
            "-122.130000,37.150000,39.000000,2854.000000,613.000000,1338.000000,518.000000,3.942300,180300.000000\n",
            "-118.200000,33.780000,48.000000,1766.000000,497.000000,1908.000000,466.000000,1.987200,168800.000000\n",
            "-117.730000,34.120000,26.000000,1279.000000,163.000000,412.000000,157.000000,6.173100,293800.000000\n",
            "-117.990000,33.690000,12.000000,2480.000000,858.000000,1441.000000,788.000000,1.670500,350000.000000\n",
            "-117.940000,34.060000,32.000000,3418.000000,662.000000,2003.000000,622.000000,4.033300,210200.000000\n",
            "-117.390000,34.110000,5.000000,2987.000000,457.000000,1821.000000,485.000000,4.888900,138900.000000\n",
            "-122.000000,38.350000,38.000000,1918.000000,364.000000,745.000000,348.000000,2.570700,126000.000000\n",
            "-120.980000,37.590000,2.000000,5042.000000,834.000000,2784.000000,787.000000,4.648400,145900.000000\n",
            "-118.260000,34.120000,45.000000,2839.000000,698.000000,1768.000000,653.000000,3.130600,214000.000000\n",
            "-122.160000,37.680000,16.000000,1687.000000,348.000000,568.000000,352.000000,2.386900,83300.000000\n",
            "-118.120000,33.830000,45.000000,1579.000000,278.000000,687.000000,285.000000,5.042400,225900.000000\n",
            "-117.880000,33.790000,32.000000,1484.000000,295.000000,928.000000,295.000000,5.141800,190300.000000\n",
            "-122.410000,37.710000,40.000000,2054.000000,433.000000,1738.000000,429.000000,4.992600,213900.000000\n",
            "-122.390000,37.730000,43.000000,4864.000000,972.000000,3134.000000,959.000000,4.339300,217300.000000\n",
            "-121.930000,36.630000,33.000000,1740.000000,342.000000,638.000000,329.000000,3.191200,319800.000000\n",
            "-120.310000,38.020000,11.000000,2366.000000,398.000000,1046.000000,387.000000,3.820300,139700.000000\n",
            "-122.470000,37.610000,34.000000,4551.000000,837.000000,2208.000000,834.000000,5.436400,279300.000000\n",
            "-117.680000,34.000000,5.000000,3761.000000,580.000000,2335.000000,648.000000,5.733800,225400.000000\n",
            "-122.280000,37.850000,41.000000,535.000000,123.000000,317.000000,119.000000,2.403800,107500.000000\n",
            "-117.180000,32.920000,4.000000,15025.000000,2616.000000,7560.000000,2392.000000,5.196000,210700.000000\n",
            "-117.700000,33.600000,26.000000,2283.000000,506.000000,634.000000,469.000000,2.377400,74300.000000\n",
            "-122.480000,37.750000,52.000000,2074.000000,401.000000,1136.000000,409.000000,4.770300,331000.000000\n",
            "-117.150000,32.740000,26.000000,3149.000000,832.000000,1320.000000,808.000000,3.025900,211700.000000\n",
            "-119.900000,36.790000,22.000000,1970.000000,332.000000,1066.000000,319.000000,3.312500,106100.000000\n",
            "-117.190000,32.780000,34.000000,4108.000000,664.000000,1659.000000,644.000000,4.409700,252000.000000\n",
            "-118.390000,34.030000,25.000000,3442.000000,1050.000000,1890.000000,914.000000,3.057400,319400.000000\n",
            "-117.780000,33.680000,15.000000,1834.000000,330.000000,841.000000,309.000000,6.063400,234300.000000\n",
            "-119.670000,36.650000,20.000000,2512.000000,449.000000,1464.000000,450.000000,3.921100,92300.000000\n",
            "-118.260000,34.020000,41.000000,848.000000,323.000000,1428.000000,313.000000,1.560300,109600.000000\n",
            "-122.240000,38.010000,16.000000,2084.000000,315.000000,1154.000000,307.000000,6.010200,235600.000000\n",
            "-122.250000,38.160000,17.000000,4459.000000,944.000000,1812.000000,888.000000,2.937500,106700.000000\n",
            "-117.320000,33.800000,11.000000,3196.000000,576.000000,1757.000000,552.000000,4.098200,173300.000000\n",
            "-118.210000,34.060000,52.000000,470.000000,115.000000,434.000000,123.000000,2.095000,109100.000000\n",
            "-119.770000,36.800000,24.000000,3748.000000,770.000000,1827.000000,719.000000,2.722200,83100.000000\n",
            "-121.860000,37.410000,16.000000,1603.000000,287.000000,1080.000000,296.000000,6.125600,266900.000000\n",
            "-117.970000,33.880000,9.000000,1344.000000,279.000000,530.000000,265.000000,5.073100,185100.000000\n",
            "-121.840000,39.720000,52.000000,1457.000000,389.000000,802.000000,342.000000,0.956600,69000.000000\n",
            "-118.510000,34.200000,37.000000,2066.000000,434.000000,1031.000000,414.000000,4.092400,188400.000000\n",
            "-117.930000,33.780000,28.000000,4380.000000,820.000000,2187.000000,835.000000,3.901800,182300.000000\n",
            "-117.750000,33.610000,16.000000,2270.000000,488.000000,709.000000,489.000000,3.284500,227600.000000\n",
            "-121.460000,38.700000,32.000000,965.000000,183.000000,568.000000,188.000000,3.861100,93900.000000\n",
            "-119.280000,36.320000,29.000000,2274.000000,514.000000,1234.000000,521.000000,1.913800,66900.000000\n",
            "-118.740000,34.280000,21.000000,4056.000000,637.000000,1974.000000,634.000000,5.902400,221000.000000\n",
            "-119.330000,36.190000,27.000000,418.000000,163.000000,332.000000,141.000000,1.071400,63800.000000\n",
            "-118.750000,34.270000,24.000000,3241.000000,461.000000,1567.000000,446.000000,5.598300,233300.000000\n",
            "-118.210000,33.930000,33.000000,2739.000000,801.000000,3423.000000,741.000000,2.284700,132700.000000\n",
            "-122.370000,37.960000,37.000000,1572.000000,402.000000,1046.000000,350.000000,0.740300,68600.000000\n",
            "-121.980000,37.280000,27.000000,3526.000000,589.000000,1725.000000,553.000000,5.781200,275000.000000\n",
            "-117.030000,32.610000,23.000000,1553.000000,216.000000,778.000000,229.000000,5.153800,171300.000000\n",
            "-117.280000,34.410000,14.000000,2105.000000,396.000000,960.000000,396.000000,2.993400,118200.000000\n",
            "-118.020000,34.130000,33.000000,2874.000000,458.000000,1239.000000,431.000000,5.232900,430900.000000\n",
            "-117.900000,34.060000,33.000000,1330.000000,209.000000,578.000000,192.000000,5.640600,266200.000000\n",
            "-118.470000,34.240000,19.000000,2405.000000,661.000000,1855.000000,621.000000,2.311100,255400.000000\n",
            "-122.490000,37.860000,35.000000,2729.000000,538.000000,969.000000,528.000000,6.766900,500001.000000\n",
            "-121.440000,38.680000,19.000000,2476.000000,534.000000,1355.000000,463.000000,2.062500,94400.000000\n",
            "-118.360000,34.200000,14.000000,1878.000000,614.000000,1874.000000,559.000000,2.526700,231800.000000\n",
            "-117.280000,33.060000,8.000000,4172.000000,1022.000000,2585.000000,941.000000,4.011800,245800.000000\n",
            "-122.430000,37.730000,52.000000,1142.000000,224.000000,494.000000,206.000000,5.060200,298900.000000\n",
            "-118.130000,34.130000,52.000000,2826.000000,381.000000,924.000000,365.000000,7.997600,500001.000000\n",
            "-118.050000,33.950000,33.000000,1954.000000,390.000000,1600.000000,376.000000,3.612500,170800.000000\n",
            "-121.990000,38.260000,18.000000,921.000000,126.000000,368.000000,120.000000,6.084200,261100.000000\n",
            "-122.470000,37.780000,52.000000,1941.000000,436.000000,955.000000,425.000000,4.133900,396400.000000\n",
            "-121.270000,38.660000,15.000000,2642.000000,520.000000,1032.000000,475.000000,4.138200,189800.000000\n",
            "-122.240000,37.810000,52.000000,2026.000000,482.000000,709.000000,456.000000,3.272700,268500.000000\n",
            "-121.440000,38.470000,5.000000,5666.000000,1178.000000,3139.000000,1131.000000,3.360800,108900.000000\n",
            "-118.120000,33.770000,10.000000,7264.000000,1137.000000,2528.000000,1057.000000,10.223300,500001.000000\n",
            "-117.980000,33.940000,32.000000,2562.000000,491.000000,1222.000000,446.000000,4.098500,226200.000000\n",
            "-118.070000,34.160000,35.000000,2459.000000,438.000000,970.000000,437.000000,4.214300,369400.000000\n",
            "-118.190000,34.140000,46.000000,2387.000000,488.000000,1181.000000,456.000000,3.605800,257900.000000\n",
            "-118.210000,34.120000,52.000000,1301.000000,389.000000,1189.000000,361.000000,2.513900,190000.000000\n",
            "-121.920000,36.630000,36.000000,877.000000,175.000000,349.000000,168.000000,3.416700,339100.000000\n",
            "-117.970000,33.840000,18.000000,1063.000000,209.000000,462.000000,223.000000,2.834800,219000.000000\n",
            "-118.410000,33.990000,39.000000,3014.000000,822.000000,3212.000000,777.000000,1.198500,215000.000000\n",
            "-119.440000,36.600000,34.000000,864.000000,184.000000,579.000000,171.000000,2.041700,72500.000000\n",
            "-122.700000,39.140000,13.000000,532.000000,111.000000,214.000000,62.000000,3.392900,108300.000000\n",
            "-122.300000,37.560000,37.000000,1962.000000,367.000000,1267.000000,382.000000,4.734400,271800.000000\n",
            "-121.990000,37.540000,26.000000,2332.000000,371.000000,1285.000000,404.000000,5.388000,225000.000000\n",
            "-118.380000,33.980000,25.000000,7105.000000,1012.000000,2519.000000,1004.000000,6.811200,500001.000000\n",
            "-117.980000,33.830000,17.000000,3506.000000,992.000000,2104.000000,893.000000,3.300600,185800.000000\n",
            "-117.960000,33.680000,25.000000,2004.000000,349.000000,1085.000000,343.000000,4.765600,230700.000000\n",
            "-117.640000,33.660000,6.000000,5221.000000,1217.000000,2597.000000,1119.000000,4.607600,204000.000000\n",
            "-121.290000,37.330000,36.000000,48.000000,12.000000,27.000000,8.000000,4.000000,75000.000000\n",
            "-122.440000,37.770000,52.000000,5604.000000,1268.000000,2023.000000,1196.000000,4.408500,400000.000000\n",
            "-118.330000,33.980000,28.000000,3889.000000,1199.000000,3121.000000,1046.000000,1.880600,113900.000000\n",
            "-121.290000,37.990000,30.000000,1271.000000,528.000000,2019.000000,524.000000,1.515200,81300.000000\n",
            "-121.800000,37.350000,17.000000,2529.000000,423.000000,1756.000000,429.000000,5.101700,240700.000000\n",
            "-119.290000,36.530000,33.000000,1509.000000,352.000000,1734.000000,336.000000,1.625000,50300.000000\n",
            "-118.110000,34.030000,36.000000,1493.000000,316.000000,989.000000,293.000000,3.527200,213700.000000\n",
            "-121.870000,37.420000,19.000000,12128.000000,2112.000000,6810.000000,2040.000000,6.441900,264500.000000\n",
            "-122.090000,37.700000,33.000000,4413.000000,1107.000000,2239.000000,1051.000000,2.986100,208200.000000\n",
            "-122.290000,37.870000,52.000000,2225.000000,460.000000,1145.000000,430.000000,2.616500,150000.000000\n",
            "-117.110000,32.660000,52.000000,25.000000,5.000000,14.000000,9.000000,1.625000,118800.000000\n",
            "-121.900000,37.390000,42.000000,42.000000,14.000000,26.000000,14.000000,1.736100,500001.000000\n",
            "-117.520000,33.880000,21.000000,722.000000,178.000000,770.000000,165.000000,2.565600,102500.000000\n",
            "-121.470000,38.700000,31.000000,1007.000000,181.000000,563.000000,185.000000,3.625000,91300.000000\n",
            "-122.280000,37.520000,27.000000,2958.000000,655.000000,1285.000000,577.000000,4.080100,397800.000000\n",
            "-118.410000,34.250000,33.000000,827.000000,192.000000,981.000000,184.000000,2.642900,143100.000000\n",
            "-122.250000,37.800000,52.000000,2087.000000,510.000000,1197.000000,488.000000,3.014900,218400.000000\n",
            "-119.050000,34.240000,24.000000,4341.000000,646.000000,1929.000000,703.000000,5.429800,279600.000000\n",
            "-118.260000,34.060000,33.000000,1950.000000,1047.000000,3707.000000,1012.000000,1.723800,110000.000000\n",
            "-117.090000,32.700000,15.000000,869.000000,217.000000,887.000000,216.000000,1.458300,84200.000000\n",
            "-117.390000,34.070000,15.000000,1966.000000,331.000000,1118.000000,323.000000,3.855800,122700.000000\n",
            "-122.220000,37.790000,37.000000,2343.000000,574.000000,1608.000000,523.000000,2.149400,132500.000000\n",
            "-118.430000,34.040000,52.000000,2425.000000,435.000000,962.000000,412.000000,5.858700,494700.000000\n",
            "-117.560000,33.880000,36.000000,838.000000,210.000000,722.000000,180.000000,2.486100,96200.000000\n",
            "-118.130000,34.160000,52.000000,1787.000000,427.000000,1107.000000,410.000000,2.566400,215000.000000\n",
            "-122.210000,37.470000,33.000000,1266.000000,415.000000,1991.000000,334.000000,2.920000,202800.000000\n",
            "-118.080000,33.780000,34.000000,2287.000000,347.000000,1051.000000,346.000000,5.576700,372000.000000\n",
            "-118.230000,34.210000,29.000000,2584.000000,608.000000,1217.000000,568.000000,3.328700,273400.000000\n",
            "-117.230000,32.730000,44.000000,1168.000000,263.000000,509.000000,256.000000,2.727300,269700.000000\n",
            "-118.190000,33.770000,21.000000,2103.000000,727.000000,1064.000000,603.000000,1.617800,137500.000000\n",
            "-117.170000,32.810000,26.000000,788.000000,127.000000,346.000000,125.000000,5.060300,185700.000000\n",
            "-122.000000,36.970000,39.000000,2702.000000,646.000000,1136.000000,491.000000,2.894100,256700.000000\n",
            "-120.610000,35.120000,12.000000,3430.000000,793.000000,1840.000000,720.000000,2.982100,162000.000000\n",
            "-118.170000,33.830000,46.000000,1362.000000,214.000000,531.000000,222.000000,4.312500,290500.000000\n",
            "-117.860000,33.890000,24.000000,2002.000000,253.000000,820.000000,241.000000,6.961200,274500.000000\n",
            "-118.510000,34.220000,36.000000,1493.000000,285.000000,766.000000,272.000000,4.864600,213200.000000\n",
            "-118.260000,33.900000,38.000000,1566.000000,318.000000,981.000000,318.000000,4.023400,111900.000000\n",
            "-118.020000,34.040000,27.000000,5640.000000,1001.000000,3538.000000,978.000000,5.065000,215400.000000\n",
            "-118.370000,34.100000,37.000000,407.000000,67.000000,100.000000,47.000000,15.000100,500001.000000\n",
            "-117.990000,33.790000,35.000000,2301.000000,467.000000,2272.000000,454.000000,3.956600,167800.000000\n",
            "-122.420000,37.710000,44.000000,2080.000000,489.000000,1781.000000,478.000000,3.682700,215300.000000\n",
            "-117.250000,33.930000,8.000000,10110.000000,1761.000000,5804.000000,1703.000000,4.265400,137600.000000\n",
            "-122.040000,37.850000,27.000000,6039.000000,780.000000,2181.000000,761.000000,9.586200,469400.000000\n",
            "-117.230000,32.870000,11.000000,3123.000000,740.000000,1223.000000,634.000000,5.417000,196800.000000\n",
            "-117.160000,32.810000,35.000000,1213.000000,200.000000,532.000000,181.000000,3.680600,172400.000000\n",
            "-118.090000,33.900000,37.000000,1147.000000,258.000000,742.000000,242.000000,4.046100,153500.000000\n",
            "-118.080000,34.070000,32.000000,4089.000000,975.000000,3775.000000,955.000000,3.290000,205500.000000\n",
            "-117.090000,32.790000,31.000000,2019.000000,417.000000,872.000000,386.000000,3.196400,177700.000000\n",
            "-121.660000,37.130000,20.000000,4477.000000,924.000000,2656.000000,871.000000,3.878800,226900.000000\n",
            "-118.240000,33.960000,34.000000,946.000000,254.000000,1101.000000,239.000000,1.739600,105900.000000\n",
            "-122.020000,37.530000,21.000000,4280.000000,673.000000,2216.000000,681.000000,5.707200,242200.000000\n",
            "-117.820000,33.900000,25.000000,1137.000000,170.000000,524.000000,164.000000,7.574400,259300.000000\n",
            "-118.210000,33.940000,34.000000,710.000000,205.000000,1134.000000,233.000000,2.773400,141100.000000\n",
            "-117.880000,34.000000,32.000000,265.000000,51.000000,170.000000,50.000000,3.937500,187500.000000\n",
            "-118.110000,33.860000,36.000000,2750.000000,487.000000,1386.000000,458.000000,4.990400,221700.000000\n",
            "-118.860000,34.070000,16.000000,1409.000000,244.000000,970.000000,172.000000,8.014400,500001.000000\n",
            "-122.490000,38.320000,30.000000,1631.000000,284.000000,788.000000,284.000000,3.309800,195500.000000\n",
            "-121.660000,39.660000,17.000000,3502.000000,655.000000,1763.000000,613.000000,2.962500,101200.000000\n",
            "-122.330000,37.930000,34.000000,2326.000000,471.000000,1356.000000,441.000000,2.347500,90300.000000\n",
            "-117.280000,33.200000,20.000000,4835.000000,854.000000,2983.000000,834.000000,4.342800,152100.000000\n",
            "-122.160000,37.720000,38.000000,1007.000000,245.000000,618.000000,239.000000,2.875000,144800.000000\n",
            "-117.850000,34.120000,30.000000,4367.000000,1033.000000,2524.000000,954.000000,3.044800,192100.000000\n",
            "-119.260000,35.500000,38.000000,2536.000000,409.000000,1133.000000,430.000000,4.237500,78600.000000\n",
            "-123.350000,40.990000,23.000000,141.000000,59.000000,47.000000,23.000000,1.125000,66000.000000\n",
            "-118.140000,34.160000,39.000000,2776.000000,840.000000,2546.000000,773.000000,2.575000,153500.000000\n",
            "-118.390000,34.230000,43.000000,1193.000000,299.000000,1184.000000,320.000000,2.151800,161600.000000\n",
            "-117.030000,32.790000,17.000000,7352.000000,1699.000000,3331.000000,1634.000000,2.700600,166300.000000\n",
            "-117.840000,33.800000,34.000000,2004.000000,331.000000,843.000000,328.000000,3.590000,230600.000000\n",
            "-116.690000,33.500000,13.000000,1187.000000,255.000000,442.000000,179.000000,1.910700,155700.000000\n",
            "-121.090000,37.610000,42.000000,1787.000000,296.000000,921.000000,287.000000,3.886400,171400.000000\n",
            "-117.140000,32.760000,35.000000,2539.000000,661.000000,1308.000000,629.000000,2.677700,146400.000000\n",
            "-122.690000,38.460000,32.000000,2970.000000,504.000000,1117.000000,512.000000,5.000000,275900.000000\n",
            "-121.130000,38.550000,8.000000,530.000000,109.000000,398.000000,96.000000,4.203100,212500.000000\n",
            "-121.870000,37.270000,25.000000,1730.000000,226.000000,721.000000,243.000000,7.584500,279300.000000\n",
            "-117.910000,33.660000,26.000000,5761.000000,1326.000000,2681.000000,1116.000000,4.034100,243300.000000\n",
            "-121.940000,37.340000,42.000000,2174.000000,420.000000,1304.000000,464.000000,3.142900,286500.000000\n",
            "-121.830000,37.950000,17.000000,1133.000000,244.000000,716.000000,235.000000,2.875000,162500.000000\n",
            "-124.170000,41.800000,16.000000,2739.000000,480.000000,1259.000000,436.000000,3.755700,109400.000000\n",
            "-118.330000,34.060000,52.000000,1368.000000,231.000000,737.000000,248.000000,8.361700,433800.000000\n",
            "-118.240000,33.800000,28.000000,636.000000,169.000000,788.000000,143.000000,3.616100,131300.000000\n",
            "-122.590000,38.120000,25.000000,7784.000000,1145.000000,3445.000000,1166.000000,6.013200,287900.000000\n",
            "-122.480000,37.710000,29.000000,1048.000000,150.000000,455.000000,152.000000,6.127800,417600.000000\n",
            "-120.730000,37.380000,37.000000,653.000000,176.000000,827.000000,176.000000,1.923600,64400.000000\n",
            "-117.040000,32.620000,26.000000,3620.000000,607.000000,2000.000000,593.000000,4.996200,156000.000000\n",
            "-118.440000,34.270000,36.000000,1111.000000,275.000000,1333.000000,266.000000,3.534700,158100.000000\n",
            "-121.000000,37.610000,36.000000,2647.000000,604.000000,2045.000000,550.000000,2.273000,62900.000000\n",
            "-117.840000,33.890000,24.000000,3935.000000,625.000000,1912.000000,593.000000,5.795100,226900.000000\n",
            "-122.250000,37.770000,52.000000,1527.000000,320.000000,825.000000,264.000000,3.453100,208800.000000\n",
            "-118.360000,34.100000,37.000000,7097.000000,2010.000000,2913.000000,1939.000000,2.875000,300000.000000\n",
            "-116.920000,32.790000,24.000000,4055.000000,742.000000,2123.000000,744.000000,4.522400,142000.000000\n",
            "-121.940000,38.350000,8.000000,3157.000000,559.000000,1758.000000,569.000000,4.412000,140100.000000\n",
            "-120.870000,35.410000,16.000000,2168.000000,444.000000,782.000000,374.000000,3.018700,278100.000000\n",
            "-118.100000,33.830000,36.000000,2000.000000,343.000000,956.000000,352.000000,5.373500,234400.000000\n",
            "-117.990000,34.070000,31.000000,1507.000000,369.000000,1548.000000,347.000000,3.432700,147200.000000\n",
            "-121.490000,37.940000,31.000000,1860.000000,394.000000,1848.000000,293.000000,2.289100,162500.000000\n",
            "-119.630000,36.320000,36.000000,1518.000000,287.000000,749.000000,255.000000,2.233300,61000.000000\n",
            "-121.890000,39.760000,15.000000,10265.000000,1860.000000,4591.000000,1906.000000,3.070000,142600.000000\n",
            "-117.110000,32.760000,31.000000,2293.000000,549.000000,1108.000000,557.000000,3.385400,204400.000000\n",
            "-118.140000,34.070000,42.000000,1036.000000,199.000000,656.000000,215.000000,4.190200,235000.000000\n",
            "-118.260000,33.950000,38.000000,1387.000000,346.000000,1240.000000,355.000000,1.689800,95100.000000\n",
            "-122.350000,40.560000,16.000000,2801.000000,614.000000,1695.000000,563.000000,1.900000,81600.000000\n",
            "-118.260000,34.060000,40.000000,637.000000,273.000000,1150.000000,263.000000,1.862500,131300.000000\n",
            "-117.820000,33.710000,9.000000,5206.000000,992.000000,4660.000000,978.000000,2.885000,162500.000000\n",
            "-119.980000,38.960000,25.000000,2443.000000,444.000000,868.000000,342.000000,3.541700,114800.000000\n",
            "-118.430000,34.090000,27.000000,1613.000000,200.000000,497.000000,197.000000,7.983500,500001.000000\n",
            "-117.140000,32.750000,20.000000,1182.000000,379.000000,678.000000,326.000000,2.193700,162500.000000\n",
            "-118.470000,34.300000,16.000000,2495.000000,551.000000,2314.000000,567.000000,3.673600,192200.000000\n",
            "-121.780000,38.680000,39.000000,2806.000000,662.000000,1659.000000,638.000000,1.978700,97800.000000\n",
            "-122.280000,37.800000,52.000000,96.000000,31.000000,191.000000,34.000000,0.750000,162500.000000\n",
            "-117.210000,32.800000,19.000000,786.000000,282.000000,525.000000,229.000000,1.727300,137500.000000\n",
            "-121.460000,38.540000,48.000000,1001.000000,205.000000,605.000000,175.000000,1.833300,58200.000000\n",
            "-121.130000,36.210000,30.000000,1484.000000,414.000000,1200.000000,351.000000,1.754800,95800.000000\n",
            "-122.530000,37.970000,52.000000,205.000000,119.000000,228.000000,132.000000,1.906300,200000.000000\n",
            "-122.350000,37.920000,36.000000,921.000000,200.000000,585.000000,236.000000,1.922400,94000.000000\n",
            "-122.120000,37.280000,21.000000,349.000000,64.000000,149.000000,56.000000,5.869100,360000.000000\n",
            "-121.320000,38.260000,4.000000,6125.000000,1063.000000,3077.000000,953.000000,4.117900,134600.000000\n",
            "-121.910000,36.620000,40.000000,1292.000000,271.000000,504.000000,230.000000,2.475000,258300.000000\n",
            "-117.810000,33.710000,16.000000,2666.000000,387.000000,1227.000000,347.000000,7.376900,302400.000000\n",
            "-119.710000,36.810000,19.000000,2282.000000,550.000000,1034.000000,500.000000,1.661800,69700.000000\n",
            "-119.190000,34.170000,27.000000,2183.000000,364.000000,1458.000000,388.000000,4.456700,191100.000000\n",
            "-117.820000,33.790000,26.000000,2641.000000,633.000000,3657.000000,617.000000,4.133900,222300.000000\n",
            "-118.270000,34.160000,48.000000,1301.000000,253.000000,637.000000,260.000000,4.343800,252700.000000\n",
            "-118.330000,34.100000,45.000000,1913.000000,696.000000,1552.000000,611.000000,2.088800,237500.000000\n",
            "-122.290000,37.910000,46.000000,2085.000000,346.000000,748.000000,354.000000,4.053600,262000.000000\n",
            "-118.020000,33.820000,21.000000,2052.000000,456.000000,1173.000000,432.000000,3.788500,204500.000000\n",
            "-118.220000,33.960000,35.000000,1437.000000,474.000000,2113.000000,484.000000,2.617900,158800.000000\n",
            "-116.890000,32.820000,18.000000,2515.000000,443.000000,1442.000000,449.000000,5.020100,154400.000000\n",
            "-117.950000,33.860000,35.000000,2478.000000,431.000000,1333.000000,427.000000,5.209900,191400.000000\n",
            "-122.270000,37.480000,26.000000,3542.000000,507.000000,1392.000000,524.000000,8.518400,500001.000000\n",
            "-120.510000,39.520000,26.000000,2286.000000,444.000000,498.000000,216.000000,2.065000,96100.000000\n",
            "-118.420000,34.090000,40.000000,3552.000000,392.000000,1024.000000,370.000000,15.000100,500001.000000\n",
            "-119.500000,35.270000,23.000000,3827.000000,696.000000,1993.000000,617.000000,3.074200,57900.000000\n",
            "-122.910000,39.070000,21.000000,2202.000000,484.000000,1000.000000,381.000000,2.442300,102300.000000\n",
            "-122.460000,37.770000,52.000000,1824.000000,388.000000,799.000000,363.000000,3.750000,435700.000000\n",
            "-121.540000,36.990000,27.000000,2361.000000,449.000000,1782.000000,397.000000,3.261400,305000.000000\n",
            "-118.450000,34.190000,37.000000,1073.000000,254.000000,739.000000,253.000000,2.466700,192200.000000\n",
            "-117.950000,34.050000,35.000000,1309.000000,276.000000,1113.000000,253.000000,4.375000,156500.000000\n",
            "-120.560000,35.480000,12.000000,4161.000000,731.000000,1609.000000,615.000000,5.094700,267500.000000\n",
            "-122.460000,37.650000,21.000000,2751.000000,502.000000,2027.000000,491.000000,5.257300,322900.000000\n",
            "-117.850000,33.760000,33.000000,1866.000000,327.000000,1053.000000,371.000000,4.546100,213800.000000\n",
            "-118.210000,33.920000,37.000000,1705.000000,403.000000,1839.000000,410.000000,2.583300,132700.000000\n",
            "-118.170000,33.980000,31.000000,1236.000000,329.000000,1486.000000,337.000000,3.093800,155400.000000\n",
            "-121.790000,37.340000,20.000000,2018.000000,328.000000,1196.000000,323.000000,4.931800,262400.000000\n",
            "-117.980000,33.830000,32.000000,1133.000000,166.000000,523.000000,187.000000,6.213000,230800.000000\n",
            "-118.430000,34.300000,37.000000,1394.000000,313.000000,1111.000000,327.000000,3.602300,161800.000000\n",
            "-121.690000,39.360000,34.000000,842.000000,186.000000,635.000000,165.000000,1.835500,63000.000000\n",
            "-117.270000,33.770000,16.000000,2876.000000,576.000000,1859.000000,545.000000,2.087800,101300.000000\n",
            "-122.410000,37.590000,40.000000,2401.000000,383.000000,894.000000,356.000000,5.649300,422400.000000\n",
            "-117.480000,34.100000,30.000000,2287.000000,531.000000,1796.000000,503.000000,2.583300,90600.000000\n",
            "-117.060000,32.700000,12.000000,3943.000000,737.000000,3280.000000,751.000000,4.112000,141400.000000\n",
            "-121.920000,36.630000,40.000000,1076.000000,193.000000,406.000000,180.000000,3.494300,311100.000000\n",
            "-120.440000,37.310000,16.000000,3369.000000,532.000000,1770.000000,574.000000,5.266200,126200.000000\n",
            "-117.180000,32.700000,44.000000,2655.000000,514.000000,1102.000000,489.000000,3.675900,368800.000000\n",
            "-121.570000,39.120000,30.000000,2601.000000,534.000000,1702.000000,506.000000,2.080000,56600.000000\n",
            "-122.210000,37.790000,52.000000,762.000000,190.000000,600.000000,195.000000,3.089300,125000.000000\n",
            "-118.910000,35.300000,28.000000,1793.000000,358.000000,1233.000000,351.000000,2.784500,82200.000000\n",
            "-121.950000,37.320000,20.000000,1145.000000,198.000000,431.000000,173.000000,3.110300,281900.000000\n",
            "-121.350000,38.680000,20.000000,7085.000000,1222.000000,3455.000000,1229.000000,4.311800,120000.000000\n",
            "-121.280000,38.760000,47.000000,2901.000000,631.000000,1276.000000,578.000000,2.136600,101900.000000\n",
            "-118.350000,33.890000,30.000000,1143.000000,299.000000,776.000000,273.000000,4.282900,240000.000000\n",
            "-121.980000,37.970000,26.000000,2714.000000,390.000000,1232.000000,409.000000,5.961700,231100.000000\n",
            "-120.020000,38.920000,24.000000,1194.000000,246.000000,414.000000,151.000000,3.239600,101900.000000\n",
            "-122.280000,37.770000,52.000000,1468.000000,363.000000,870.000000,347.000000,2.968800,220800.000000\n",
            "-118.060000,34.580000,36.000000,1493.000000,258.000000,899.000000,260.000000,3.860000,109300.000000\n",
            "-119.020000,35.380000,52.000000,90.000000,35.000000,36.000000,31.000000,0.805400,60000.000000\n",
            "-122.430000,37.790000,52.000000,6186.000000,1566.000000,2065.000000,1374.000000,5.854300,500001.000000\n",
            "-118.070000,33.860000,17.000000,3666.000000,562.000000,2104.000000,579.000000,5.681800,338900.000000\n",
            "-122.300000,38.000000,34.000000,1712.000000,317.000000,956.000000,341.000000,4.439400,162000.000000\n",
            "-117.170000,33.280000,16.000000,1921.000000,312.000000,862.000000,280.000000,5.178600,376800.000000\n",
            "-117.300000,34.140000,37.000000,1454.000000,261.000000,761.000000,248.000000,2.343800,88100.000000\n",
            "-117.710000,33.600000,25.000000,1949.000000,459.000000,602.000000,428.000000,2.760100,72500.000000\n",
            "-122.500000,37.780000,46.000000,2646.000000,607.000000,1418.000000,563.000000,3.716700,332800.000000\n",
            "-122.720000,38.450000,41.000000,1743.000000,373.000000,780.000000,357.000000,3.146700,175500.000000\n",
            "-118.430000,34.180000,31.000000,2417.000000,510.000000,1102.000000,507.000000,3.890600,282200.000000\n",
            "-118.030000,33.970000,22.000000,2185.000000,623.000000,1644.000000,606.000000,2.593000,192000.000000\n",
            "-118.420000,33.990000,23.000000,5548.000000,1245.000000,2847.000000,1229.000000,4.422800,366900.000000\n",
            "-118.290000,33.960000,31.000000,4022.000000,1208.000000,3707.000000,1007.000000,1.309600,116300.000000\n",
            "-117.980000,33.730000,22.000000,4232.000000,624.000000,2408.000000,660.000000,6.653900,284900.000000\n",
            "-121.910000,39.140000,45.000000,845.000000,155.000000,343.000000,136.000000,2.125000,62000.000000\n",
            "-119.590000,36.640000,27.000000,823.000000,171.000000,798.000000,200.000000,3.052100,113800.000000\n",
            "-118.330000,34.110000,37.000000,2330.000000,434.000000,846.000000,457.000000,8.233500,430200.000000\n",
            "-120.630000,38.750000,17.000000,3145.000000,621.000000,1432.000000,559.000000,2.720100,117500.000000\n",
            "-122.120000,37.750000,28.000000,794.000000,111.000000,329.000000,109.000000,7.692300,329800.000000\n",
            "-118.350000,33.950000,45.000000,1076.000000,213.000000,781.000000,238.000000,3.950000,164000.000000\n",
            "-120.440000,34.960000,29.000000,2374.000000,562.000000,1617.000000,463.000000,2.653100,108300.000000\n",
            "-117.080000,33.120000,43.000000,107.000000,44.000000,107.000000,48.000000,0.705400,137500.000000\n",
            "-121.270000,38.610000,17.000000,6663.000000,1369.000000,2840.000000,1299.000000,2.945200,115600.000000\n",
            "-120.070000,36.960000,32.000000,1268.000000,283.000000,549.000000,273.000000,1.451100,65200.000000\n",
            "-117.660000,34.060000,39.000000,1405.000000,339.000000,1489.000000,336.000000,1.608000,91800.000000\n",
            "-117.060000,33.010000,24.000000,2618.000000,485.000000,726.000000,443.000000,3.519200,159100.000000\n",
            "-117.920000,33.730000,17.000000,1692.000000,293.000000,934.000000,280.000000,4.472800,205800.000000\n",
            "-117.930000,33.920000,34.000000,2271.000000,437.000000,1393.000000,433.000000,4.244300,174400.000000\n",
            "-122.590000,38.920000,15.000000,1410.000000,329.000000,599.000000,273.000000,2.195300,75000.000000\n",
            "-118.140000,33.840000,36.000000,3002.000000,484.000000,1322.000000,471.000000,4.933000,228900.000000\n",
            "-120.790000,37.080000,9.000000,97.000000,20.000000,91.000000,22.000000,2.906300,55000.000000\n",
            "-117.600000,34.110000,18.000000,6025.000000,1062.000000,3360.000000,1028.000000,4.888900,155700.000000\n",
            "-122.020000,37.550000,33.000000,1325.000000,274.000000,909.000000,267.000000,4.568700,177200.000000\n",
            "-118.140000,33.970000,31.000000,1161.000000,267.000000,1175.000000,282.000000,3.011400,177000.000000\n",
            "-122.310000,37.540000,38.000000,1946.000000,407.000000,975.000000,417.000000,4.072600,385400.000000\n",
            "-122.260000,37.830000,52.000000,2432.000000,715.000000,1377.000000,696.000000,2.589800,176000.000000\n",
            "-121.880000,37.680000,23.000000,2234.000000,270.000000,854.000000,286.000000,7.333000,337200.000000\n",
            "-122.530000,37.940000,18.000000,878.000000,255.000000,384.000000,247.000000,4.734400,200000.000000\n",
            "-117.710000,33.630000,16.000000,1565.000000,274.000000,950.000000,280.000000,5.839900,220600.000000\n",
            "-120.100000,39.190000,17.000000,1480.000000,241.000000,202.000000,80.000000,3.937500,213200.000000\n",
            "-117.770000,33.720000,9.000000,2153.000000,316.000000,954.000000,324.000000,7.813900,304700.000000\n",
            "-118.010000,33.840000,35.000000,4166.000000,713.000000,2354.000000,709.000000,5.177500,213400.000000\n",
            "-122.190000,37.710000,36.000000,361.000000,69.000000,158.000000,58.000000,5.546100,262500.000000\n",
            "-120.360000,38.210000,10.000000,4300.000000,845.000000,1480.000000,609.000000,2.820800,139900.000000\n",
            "-117.320000,34.030000,13.000000,3853.000000,761.000000,1685.000000,669.000000,3.902400,122400.000000\n",
            "-117.710000,34.020000,17.000000,12689.000000,2426.000000,7343.000000,2230.000000,3.636100,157700.000000\n",
            "-118.260000,33.910000,33.000000,954.000000,241.000000,655.000000,218.000000,2.588200,92800.000000\n",
            "-121.940000,36.580000,23.000000,4911.000000,693.000000,1480.000000,606.000000,6.777000,500000.000000\n",
            "-121.760000,37.690000,29.000000,3433.000000,711.000000,1919.000000,709.000000,3.384100,184400.000000\n",
            "-121.940000,36.550000,30.000000,2722.000000,584.000000,628.000000,384.000000,3.404800,487100.000000\n",
            "-122.640000,38.010000,36.000000,1199.000000,232.000000,551.000000,229.000000,3.732100,266700.000000\n",
            "-119.340000,36.340000,5.000000,4505.000000,834.000000,1917.000000,775.000000,4.014400,126600.000000\n",
            "-122.060000,37.270000,16.000000,1612.000000,221.000000,567.000000,208.000000,10.579300,500001.000000\n",
            "-117.940000,33.730000,24.000000,4197.000000,718.000000,2468.000000,714.000000,5.256300,211400.000000\n",
            "-118.440000,33.980000,21.000000,18132.000000,5419.000000,7431.000000,4930.000000,5.335900,500001.000000\n",
            "-117.690000,34.010000,30.000000,2598.000000,573.000000,2170.000000,518.000000,2.300000,95600.000000\n",
            "-117.870000,34.150000,24.000000,5745.000000,735.000000,2061.000000,679.000000,8.282700,451400.000000\n",
            "-119.690000,36.380000,25.000000,1688.000000,302.000000,879.000000,277.000000,3.321400,103100.000000\n",
            "-122.280000,38.000000,26.000000,2335.000000,413.000000,980.000000,417.000000,3.447100,178900.000000\n",
            "-118.330000,34.040000,31.000000,1090.000000,251.000000,955.000000,239.000000,2.913000,192500.000000\n",
            "-118.170000,34.070000,37.000000,1155.000000,225.000000,814.000000,241.000000,3.875000,148500.000000\n",
            "-117.950000,34.140000,13.000000,3859.000000,710.000000,2283.000000,759.000000,4.559400,184500.000000\n",
            "-118.280000,33.790000,28.000000,1895.000000,420.000000,1422.000000,389.000000,4.381600,191300.000000\n",
            "-120.860000,37.690000,5.000000,6660.000000,1217.000000,3012.000000,1087.000000,3.080900,143600.000000\n",
            "-120.150000,39.170000,32.000000,1684.000000,359.000000,454.000000,209.000000,2.912500,145800.000000\n",
            "-117.050000,32.710000,25.000000,3292.000000,608.000000,2266.000000,592.000000,3.298600,119200.000000\n",
            "-121.440000,38.520000,36.000000,3446.000000,950.000000,2460.000000,847.000000,1.652100,69700.000000\n",
            "-118.500000,34.190000,26.000000,2156.000000,509.000000,1142.000000,470.000000,4.000000,224700.000000\n",
            "-121.440000,37.760000,5.000000,7264.000000,1285.000000,3670.000000,1146.000000,5.044300,194800.000000\n",
            "-121.950000,37.370000,39.000000,446.000000,129.000000,317.000000,127.000000,3.035700,208300.000000\n",
            "-122.430000,37.770000,52.000000,2685.000000,629.000000,1170.000000,614.000000,3.689400,418800.000000\n",
            "-118.280000,34.010000,48.000000,483.000000,190.000000,775.000000,188.000000,2.330900,126600.000000\n",
            "-118.280000,33.840000,27.000000,2326.000000,533.000000,1697.000000,546.000000,3.863300,187900.000000\n",
            "-118.330000,34.040000,48.000000,2437.000000,443.000000,1400.000000,426.000000,2.628000,251100.000000\n",
            "-118.270000,33.950000,35.000000,2073.000000,494.000000,1753.000000,490.000000,1.500000,93600.000000\n",
            "-120.420000,34.910000,4.000000,6986.000000,1217.000000,2801.000000,1212.000000,3.213500,212700.000000\n",
            "-117.100000,32.830000,16.000000,1049.000000,154.000000,467.000000,160.000000,6.204700,248100.000000\n",
            "-121.890000,36.890000,18.000000,2774.000000,492.000000,1283.000000,353.000000,5.368000,352000.000000\n",
            "-118.220000,33.960000,42.000000,1380.000000,331.000000,1290.000000,288.000000,2.800000,161800.000000\n",
            "-117.270000,33.020000,13.000000,5723.000000,1242.000000,2450.000000,1140.000000,4.717900,376700.000000\n",
            "-121.290000,38.680000,20.000000,1881.000000,378.000000,921.000000,360.000000,1.858900,144000.000000\n",
            "-121.950000,37.310000,27.000000,2462.000000,570.000000,1278.000000,565.000000,3.565200,329500.000000\n",
            "-118.960000,35.370000,41.000000,1463.000000,339.000000,1066.000000,318.000000,1.746700,52400.000000\n",
            "-121.880000,36.580000,29.000000,4910.000000,871.000000,3438.000000,904.000000,4.043200,450000.000000\n",
            "-117.250000,34.410000,13.000000,3682.000000,668.000000,1606.000000,668.000000,2.187500,119700.000000\n",
            "-118.380000,33.770000,17.000000,10950.000000,2207.000000,4713.000000,2043.000000,6.306400,418300.000000\n",
            "-114.550000,32.800000,19.000000,2570.000000,820.000000,1431.000000,608.000000,1.275000,56100.000000\n",
            "-119.810000,34.440000,23.000000,3172.000000,588.000000,1467.000000,559.000000,4.680600,288900.000000\n",
            "-117.120000,33.490000,4.000000,21988.000000,4055.000000,8824.000000,3252.000000,3.996300,191100.000000\n",
            "-118.320000,33.800000,39.000000,1415.000000,298.000000,729.000000,278.000000,3.164800,244800.000000\n",
            "-122.180000,37.730000,43.000000,1391.000000,293.000000,855.000000,285.000000,2.519200,76400.000000\n",
            "-118.100000,34.130000,47.000000,2234.000000,276.000000,749.000000,260.000000,15.000100,500001.000000\n",
            "-122.270000,40.390000,26.000000,1833.000000,422.000000,939.000000,408.000000,1.357100,59000.000000\n",
            "-121.940000,37.730000,22.000000,6719.000000,1068.000000,2843.000000,994.000000,6.126500,260300.000000\n",
            "-121.290000,38.630000,24.000000,2868.000000,527.000000,1284.000000,487.000000,3.318200,213000.000000\n",
            "-117.590000,33.440000,3.000000,5813.000000,1264.000000,2363.000000,1041.000000,4.389700,341300.000000\n",
            "-118.440000,34.190000,29.000000,1599.000000,459.000000,1143.000000,438.000000,2.458300,199100.000000\n",
            "-118.150000,34.030000,42.000000,1481.000000,411.000000,1206.000000,394.000000,2.680600,189300.000000\n",
            "-116.480000,33.800000,15.000000,3004.000000,615.000000,437.000000,210.000000,3.666700,90000.000000\n",
            "-118.410000,33.980000,33.000000,3331.000000,777.000000,1695.000000,735.000000,3.972700,307200.000000\n",
            "-121.050000,37.650000,5.000000,3096.000000,545.000000,1760.000000,519.000000,4.570100,146400.000000\n",
            "-122.420000,37.800000,50.000000,2494.000000,731.000000,958.000000,712.000000,3.235600,500001.000000\n",
            "-117.310000,34.110000,38.000000,1208.000000,321.000000,1225.000000,317.000000,1.466300,64000.000000\n",
            "-116.990000,32.760000,21.000000,3833.000000,595.000000,1645.000000,589.000000,4.625000,273500.000000\n",
            "-122.110000,37.890000,32.000000,2372.000000,516.000000,1067.000000,492.000000,4.323500,279500.000000\n",
            "-122.270000,37.800000,10.000000,105.000000,42.000000,125.000000,39.000000,0.972200,137500.000000\n",
            "-121.870000,37.380000,16.000000,3275.000000,529.000000,1863.000000,527.000000,5.542900,269100.000000\n",
            "-118.200000,33.770000,22.000000,1118.000000,437.000000,1190.000000,399.000000,1.979700,143800.000000\n",
            "-117.120000,32.570000,35.000000,1450.000000,256.000000,930.000000,286.000000,2.671500,133300.000000\n",
            "-118.330000,34.000000,52.000000,1114.000000,169.000000,486.000000,176.000000,4.291700,247600.000000\n",
            "-117.170000,32.820000,21.000000,2869.000000,596.000000,1471.000000,577.000000,3.037500,197600.000000\n",
            "-120.360000,40.450000,19.000000,689.000000,143.000000,355.000000,127.000000,1.733300,70000.000000\n",
            "-116.520000,33.810000,12.000000,12396.000000,2552.000000,2548.000000,1265.000000,3.439400,162200.000000\n",
            "-119.820000,36.770000,41.000000,1441.000000,274.000000,646.000000,296.000000,3.056800,71300.000000\n",
            "-118.350000,33.870000,28.000000,2319.000000,579.000000,1369.000000,564.000000,3.616900,257000.000000\n",
            "-117.340000,34.490000,9.000000,3293.000000,585.000000,1678.000000,530.000000,3.294100,98300.000000\n",
            "-118.550000,34.170000,36.000000,2127.000000,297.000000,761.000000,274.000000,7.839200,500001.000000\n",
            "-122.110000,38.090000,11.000000,673.000000,145.000000,318.000000,137.000000,2.392900,122500.000000\n",
            "-122.260000,37.560000,23.000000,7283.000000,1342.000000,3399.000000,1298.000000,5.668300,391000.000000\n",
            "-121.350000,38.660000,24.000000,3313.000000,769.000000,1631.000000,681.000000,2.555600,105700.000000\n",
            "-118.210000,34.040000,37.000000,845.000000,249.000000,881.000000,252.000000,2.245400,165000.000000\n",
            "-118.340000,34.070000,52.000000,3421.000000,598.000000,1203.000000,564.000000,4.161800,500001.000000\n",
            "-117.880000,34.130000,25.000000,2559.000000,654.000000,1674.000000,623.000000,2.854700,155600.000000\n",
            "-117.870000,33.840000,23.000000,1678.000000,369.000000,912.000000,347.000000,4.500000,237300.000000\n",
            "-117.340000,34.080000,33.000000,4924.000000,1007.000000,3502.000000,953.000000,3.233000,99400.000000\n",
            "-118.330000,34.020000,11.000000,1249.000000,313.000000,625.000000,336.000000,0.870200,170500.000000\n",
            "-118.330000,33.790000,29.000000,4389.000000,873.000000,2069.000000,901.000000,4.107100,365600.000000\n",
            "-119.290000,35.760000,15.000000,3938.000000,789.000000,3500.000000,768.000000,2.129500,59800.000000\n",
            "-117.090000,32.620000,37.000000,1538.000000,298.000000,867.000000,285.000000,3.072900,128700.000000\n",
            "-121.810000,37.250000,5.000000,1975.000000,520.000000,861.000000,440.000000,4.456500,159000.000000\n",
            "-120.290000,37.940000,17.000000,1459.000000,297.000000,753.000000,271.000000,3.050000,144800.000000\n",
            "-120.700000,35.140000,17.000000,5805.000000,1097.000000,1919.000000,932.000000,3.535200,357800.000000\n",
            "-118.170000,34.060000,36.000000,871.000000,201.000000,2862.000000,181.000000,2.184500,123800.000000\n",
            "-117.990000,33.930000,27.000000,3708.000000,718.000000,1921.000000,721.000000,4.375000,210400.000000\n",
            "-118.250000,34.220000,30.000000,2062.000000,396.000000,1089.000000,375.000000,5.536200,301200.000000\n",
            "-118.110000,33.830000,36.000000,1820.000000,313.000000,899.000000,295.000000,4.918000,225200.000000\n",
            "-122.040000,37.330000,22.000000,4011.000000,963.000000,2206.000000,879.000000,4.572100,351200.000000\n",
            "-119.670000,36.570000,32.000000,1604.000000,292.000000,868.000000,276.000000,2.190800,110000.000000\n",
            "-119.560000,36.710000,37.000000,1609.000000,374.000000,1173.000000,344.000000,2.181000,59900.000000\n",
            "-122.350000,37.960000,36.000000,2191.000000,531.000000,1563.000000,524.000000,2.516400,114200.000000\n",
            "-117.080000,32.580000,15.000000,1462.000000,274.000000,1002.000000,271.000000,3.969800,142700.000000\n",
            "-118.610000,34.200000,29.000000,1673.000000,284.000000,794.000000,270.000000,5.519100,245800.000000\n",
            "-118.240000,34.140000,27.000000,2909.000000,1021.000000,2614.000000,935.000000,2.144400,229000.000000\n",
            "-118.400000,34.030000,43.000000,1006.000000,201.000000,520.000000,199.000000,6.566900,372800.000000\n",
            "-116.980000,33.260000,12.000000,5898.000000,1002.000000,3129.000000,945.000000,4.764700,254100.000000\n",
            "-117.930000,33.680000,33.000000,2664.000000,432.000000,1197.000000,429.000000,5.069000,264200.000000\n",
            "-122.250000,37.470000,38.000000,645.000000,124.000000,265.000000,103.000000,5.468800,305000.000000\n",
            "-118.190000,33.840000,44.000000,2731.000000,577.000000,1396.000000,555.000000,4.177100,219100.000000\n",
            "-118.450000,34.320000,23.000000,3481.000000,641.000000,1952.000000,682.000000,4.260000,189400.000000\n",
            "-122.140000,39.970000,27.000000,1079.000000,222.000000,625.000000,197.000000,3.131900,62700.000000\n",
            "-118.300000,34.020000,27.000000,2190.000000,626.000000,1768.000000,528.000000,1.244600,103800.000000\n",
            "-117.900000,33.730000,31.000000,1171.000000,306.000000,1690.000000,301.000000,3.263900,155200.000000\n",
            "-121.580000,39.150000,38.000000,1756.000000,396.000000,837.000000,401.000000,1.912200,55500.000000\n",
            "-121.950000,38.350000,16.000000,2084.000000,292.000000,1099.000000,292.000000,5.826900,150200.000000\n",
            "-117.690000,34.070000,35.000000,3222.000000,559.000000,1970.000000,550.000000,3.708300,131000.000000\n",
            "-117.080000,32.740000,35.000000,1434.000000,253.000000,753.000000,228.000000,2.381200,135100.000000\n",
            "-118.290000,34.000000,41.000000,1807.000000,493.000000,1731.000000,471.000000,1.234700,111700.000000\n",
            "-123.800000,39.460000,35.000000,1718.000000,345.000000,698.000000,299.000000,2.924300,131600.000000\n",
            "-119.120000,35.330000,4.000000,8574.000000,1489.000000,4250.000000,1444.000000,5.103600,103400.000000\n",
            "-121.800000,37.340000,20.000000,2686.000000,414.000000,1507.000000,405.000000,5.806800,263900.000000\n",
            "-117.090000,32.750000,19.000000,2739.000000,707.000000,2004.000000,622.000000,1.631800,117700.000000\n",
            "-122.130000,37.430000,40.000000,3454.000000,648.000000,1498.000000,647.000000,5.211400,438400.000000\n",
            "-117.980000,33.760000,24.000000,1880.000000,405.000000,967.000000,418.000000,4.454500,192500.000000\n",
            "-122.330000,37.940000,43.000000,1876.000000,389.000000,807.000000,377.000000,3.157100,141600.000000\n",
            "-121.440000,38.540000,39.000000,2855.000000,574.000000,1217.000000,562.000000,3.240400,93600.000000\n",
            "-118.020000,33.700000,23.000000,5069.000000,770.000000,2473.000000,769.000000,6.304700,285700.000000\n",
            "-117.880000,33.840000,26.000000,1499.000000,290.000000,755.000000,277.000000,3.589300,238500.000000\n",
            "-120.460000,37.310000,35.000000,2042.000000,378.000000,953.000000,356.000000,2.734400,87800.000000\n",
            "-118.310000,33.720000,26.000000,2711.000000,508.000000,1372.000000,459.000000,4.145100,326700.000000\n",
            "-117.820000,33.670000,17.000000,2895.000000,439.000000,1588.000000,450.000000,6.276000,290700.000000\n",
            "-117.990000,33.870000,17.000000,2334.000000,537.000000,1662.000000,535.000000,3.014700,217000.000000\n",
            "-119.800000,36.860000,7.000000,6434.000000,1201.000000,2733.000000,1045.000000,3.765600,145000.000000\n",
            "-121.470000,38.580000,43.000000,3807.000000,952.000000,1484.000000,850.000000,2.326600,137500.000000\n",
            "-117.600000,33.870000,15.000000,7626.000000,1570.000000,3823.000000,1415.000000,3.441900,138100.000000\n",
            "-117.100000,32.750000,11.000000,2393.000000,726.000000,1905.000000,711.000000,1.344800,91300.000000\n",
            "-117.880000,33.760000,17.000000,1768.000000,474.000000,1079.000000,436.000000,1.782300,205300.000000\n",
            "-118.350000,33.990000,48.000000,2741.000000,439.000000,1115.000000,459.000000,5.051400,269100.000000\n",
            "-121.810000,37.310000,14.000000,2731.000000,578.000000,1109.000000,551.000000,3.138200,139700.000000\n",
            "-120.430000,34.900000,30.000000,2388.000000,393.000000,1117.000000,375.000000,4.105800,164000.000000\n",
            "-118.190000,34.050000,29.000000,855.000000,199.000000,785.000000,169.000000,2.696400,122200.000000\n",
            "-117.890000,33.910000,33.000000,1264.000000,224.000000,527.000000,227.000000,3.732100,216500.000000\n",
            "-118.270000,34.020000,21.000000,1314.000000,375.000000,1505.000000,366.000000,2.319000,97200.000000\n",
            "-116.730000,34.520000,16.000000,1247.000000,315.000000,433.000000,159.000000,1.056800,75000.000000\n",
            "-121.500000,38.520000,37.000000,2008.000000,466.000000,1261.000000,427.000000,2.257400,59100.000000\n",
            "-120.610000,35.120000,16.000000,1671.000000,354.000000,935.000000,340.000000,2.579200,163800.000000\n",
            "-120.630000,36.980000,20.000000,2380.000000,489.000000,1581.000000,505.000000,2.059500,61300.000000\n",
            "-117.060000,32.590000,13.000000,3920.000000,775.000000,2814.000000,760.000000,4.061600,148800.000000\n",
            "-119.020000,35.420000,40.000000,1912.000000,439.000000,1015.000000,413.000000,1.459800,52600.000000\n",
            "-118.140000,34.030000,38.000000,1447.000000,293.000000,1042.000000,284.000000,4.137500,211500.000000\n",
            "-118.310000,33.730000,52.000000,2025.000000,361.000000,957.000000,363.000000,4.205900,350000.000000\n",
            "-121.940000,38.370000,14.000000,1156.000000,216.000000,574.000000,227.000000,3.239600,143800.000000\n",
            "-122.510000,37.920000,32.000000,2622.000000,541.000000,1022.000000,464.000000,3.764700,375000.000000\n",
            "-119.450000,36.160000,27.000000,2119.000000,373.000000,1268.000000,345.000000,2.815200,106900.000000\n",
            "-118.190000,33.970000,27.000000,2911.000000,972.000000,3559.000000,945.000000,1.948500,146300.000000\n",
            "-116.710000,33.750000,25.000000,10665.000000,2161.000000,1874.000000,852.000000,3.062500,150500.000000\n",
            "-118.280000,33.990000,35.000000,1138.000000,304.000000,1128.000000,311.000000,1.881800,100000.000000\n",
            "-118.120000,33.850000,37.000000,2584.000000,453.000000,1333.000000,481.000000,4.366100,219900.000000\n",
            "-122.530000,37.630000,27.000000,2589.000000,658.000000,1386.000000,608.000000,2.908700,228200.000000\n",
            "-121.060000,37.730000,5.000000,2256.000000,420.000000,1246.000000,397.000000,4.923600,155900.000000\n",
            "-120.880000,38.450000,25.000000,1374.000000,297.000000,657.000000,288.000000,2.547600,97900.000000\n",
            "-117.110000,32.580000,12.000000,1086.000000,294.000000,870.000000,290.000000,2.421300,132500.000000\n",
            "-117.900000,33.650000,27.000000,3310.000000,598.000000,1402.000000,563.000000,6.632000,441100.000000\n",
            "-121.870000,37.660000,52.000000,775.000000,134.000000,315.000000,123.000000,5.067700,233300.000000\n",
            "-121.300000,37.960000,52.000000,1354.000000,314.000000,679.000000,311.000000,1.778800,97400.000000\n",
            "-117.800000,33.850000,16.000000,4151.000000,637.000000,1558.000000,604.000000,5.806000,304900.000000\n",
            "-118.550000,34.200000,31.000000,1963.000000,420.000000,1494.000000,415.000000,3.531300,211800.000000\n",
            "-118.440000,34.240000,36.000000,1660.000000,301.000000,1225.000000,307.000000,4.095000,184000.000000\n",
            "-117.910000,33.880000,34.000000,1851.000000,291.000000,784.000000,290.000000,5.233600,235600.000000\n",
            "-118.510000,34.230000,27.000000,4580.000000,918.000000,2252.000000,850.000000,4.792600,454400.000000\n",
            "-119.150000,34.170000,23.000000,2239.000000,537.000000,784.000000,497.000000,1.603800,194300.000000\n",
            "-122.080000,37.900000,32.000000,1075.000000,170.000000,486.000000,173.000000,5.049900,306800.000000\n",
            "-122.410000,37.710000,28.000000,5015.000000,1240.000000,3900.000000,1029.000000,1.226900,181900.000000\n",
            "-122.220000,37.470000,35.000000,367.000000,113.000000,398.000000,109.000000,2.500000,166700.000000\n",
            "-117.870000,33.920000,17.000000,4575.000000,764.000000,2054.000000,737.000000,6.057100,272400.000000\n",
            "-122.000000,36.970000,30.000000,1029.000000,242.000000,753.000000,249.000000,3.120500,240500.000000\n",
            "-117.070000,32.600000,13.000000,1607.000000,435.000000,983.000000,400.000000,2.290300,106300.000000\n",
            "-118.160000,34.060000,27.000000,1675.000000,274.000000,785.000000,275.000000,5.828000,301100.000000\n",
            "-117.050000,33.030000,16.000000,87.000000,20.000000,32.000000,21.000000,4.357100,144600.000000\n",
            "-117.240000,33.200000,26.000000,1701.000000,404.000000,989.000000,367.000000,2.511900,171700.000000\n",
            "-119.730000,34.450000,44.000000,2261.000000,328.000000,763.000000,294.000000,6.744900,415600.000000\n",
            "-117.320000,33.170000,18.000000,2143.000000,299.000000,828.000000,283.000000,4.238300,239000.000000\n",
            "-121.830000,37.270000,14.000000,2855.000000,380.000000,1420.000000,383.000000,6.671200,311500.000000\n",
            "-122.320000,40.420000,17.000000,3019.000000,578.000000,1538.000000,545.000000,2.793000,76500.000000\n",
            "-121.770000,36.940000,18.000000,1063.000000,341.000000,1033.000000,313.000000,2.019200,171300.000000\n",
            "-118.270000,33.790000,39.000000,1513.000000,365.000000,1227.000000,354.000000,3.392900,184600.000000\n",
            "-117.930000,33.830000,30.000000,1561.000000,381.000000,1104.000000,391.000000,3.375000,201900.000000\n",
            "-117.110000,32.820000,17.000000,1787.000000,330.000000,1341.000000,314.000000,2.875000,112500.000000\n",
            "-119.230000,35.740000,16.000000,2275.000000,659.000000,1914.000000,614.000000,2.033000,68400.000000\n",
            "-122.470000,37.710000,42.000000,1961.000000,427.000000,1211.000000,409.000000,3.515600,239400.000000\n",
            "-121.930000,36.630000,41.000000,1049.000000,198.000000,428.000000,183.000000,4.357100,287500.000000\n",
            "-117.280000,33.020000,21.000000,2736.000000,585.000000,1251.000000,576.000000,4.235600,347700.000000\n",
            "-118.990000,35.240000,40.000000,282.000000,59.000000,213.000000,71.000000,2.350000,91700.000000\n",
            "-119.140000,36.230000,22.000000,2935.000000,523.000000,1927.000000,530.000000,2.587500,70400.000000\n",
            "-122.420000,40.590000,24.000000,5045.000000,972.000000,2220.000000,979.000000,2.679200,138900.000000\n",
            "-117.090000,32.660000,37.000000,1232.000000,330.000000,1086.000000,330.000000,1.638900,114300.000000\n",
            "-118.140000,34.700000,36.000000,1205.000000,317.000000,678.000000,290.000000,2.018200,98400.000000\n",
            "-122.040000,36.980000,35.000000,2155.000000,355.000000,866.000000,335.000000,5.618800,404700.000000\n",
            "-117.020000,32.800000,31.000000,2692.000000,445.000000,1129.000000,450.000000,4.458300,170000.000000\n",
            "-117.290000,34.490000,3.000000,7689.000000,1545.000000,3804.000000,1399.000000,3.387100,111800.000000\n",
            "-122.090000,37.210000,15.000000,1969.000000,332.000000,822.000000,324.000000,7.877400,394900.000000\n",
            "-121.010000,37.650000,47.000000,1713.000000,334.000000,570.000000,297.000000,2.196900,149400.000000\n",
            "-116.770000,33.080000,13.000000,1406.000000,260.000000,737.000000,279.000000,5.584200,239100.000000\n",
            "-121.960000,37.340000,36.000000,844.000000,153.000000,373.000000,160.000000,5.791000,254100.000000\n",
            "-119.700000,34.420000,41.000000,725.000000,239.000000,582.000000,214.000000,3.166700,362500.000000\n",
            "-119.460000,35.170000,40.000000,4164.000000,812.000000,1998.000000,773.000000,2.832300,50800.000000\n",
            "-122.010000,37.300000,25.000000,4044.000000,551.000000,1699.000000,533.000000,8.083700,380600.000000\n",
            "-118.060000,33.830000,22.000000,5290.000000,1054.000000,2812.000000,1021.000000,4.530000,226400.000000\n",
            "-118.400000,34.190000,30.000000,521.000000,126.000000,306.000000,129.000000,4.112500,216700.000000\n",
            "-119.630000,34.440000,37.000000,3188.000000,442.000000,984.000000,376.000000,9.452200,500001.000000\n",
            "-117.890000,33.770000,29.000000,2577.000000,445.000000,1849.000000,470.000000,4.473200,194800.000000\n",
            "-119.540000,36.520000,16.000000,2703.000000,415.000000,1106.000000,372.000000,4.204500,120900.000000\n",
            "-118.430000,34.170000,33.000000,1679.000000,404.000000,933.000000,412.000000,2.697900,266000.000000\n",
            "-117.100000,32.580000,33.000000,393.000000,76.000000,330.000000,80.000000,4.102900,122700.000000\n",
            "-122.280000,37.790000,30.000000,4145.000000,869.000000,3668.000000,855.000000,2.544400,275000.000000\n",
            "-118.320000,34.110000,48.000000,4472.000000,1579.000000,2796.000000,1397.000000,2.397400,410700.000000\n",
            "-118.420000,34.020000,28.000000,3167.000000,737.000000,1248.000000,665.000000,3.194100,394700.000000\n",
            "-119.560000,36.510000,9.000000,3860.000000,809.000000,2157.000000,770.000000,2.503300,70100.000000\n",
            "-122.420000,37.780000,19.000000,4065.000000,1645.000000,2079.000000,1470.000000,3.146200,187500.000000\n",
            "-120.910000,37.730000,31.000000,840.000000,154.000000,429.000000,150.000000,2.406300,170200.000000\n",
            "-122.080000,37.590000,16.000000,1816.000000,365.000000,1367.000000,355.000000,4.235000,156300.000000\n",
            "-121.770000,37.310000,16.000000,1649.000000,228.000000,769.000000,230.000000,6.645500,302600.000000\n",
            "-117.050000,33.030000,14.000000,5180.000000,1051.000000,1639.000000,991.000000,4.500000,222200.000000\n",
            "-121.950000,37.260000,34.000000,1482.000000,255.000000,584.000000,246.000000,5.512100,264700.000000\n",
            "-119.030000,35.420000,45.000000,1628.000000,352.000000,754.000000,334.000000,2.570300,62400.000000\n",
            "-121.530000,38.600000,25.000000,5154.000000,1105.000000,3196.000000,1073.000000,2.756600,80200.000000\n",
            "-118.160000,33.960000,24.000000,1635.000000,507.000000,2480.000000,481.000000,2.443200,187500.000000\n",
            "-121.890000,36.600000,40.000000,626.000000,164.000000,337.000000,150.000000,2.791700,225000.000000\n",
            "-117.070000,33.670000,11.000000,939.000000,187.000000,557.000000,190.000000,2.375000,145800.000000\n",
            "-122.390000,37.590000,32.000000,4497.000000,730.000000,1846.000000,715.000000,6.132300,500001.000000\n",
            "-118.440000,34.050000,32.000000,1880.000000,435.000000,798.000000,417.000000,4.710900,500000.000000\n",
            "-121.350000,38.040000,5.000000,4303.000000,613.000000,2206.000000,621.000000,5.584200,159100.000000\n",
            "-122.420000,37.760000,52.000000,4407.000000,1192.000000,2280.000000,1076.000000,3.393700,270000.000000\n",
            "-118.020000,33.940000,33.000000,2382.000000,404.000000,1339.000000,389.000000,5.301600,192200.000000\n",
            "-121.320000,38.030000,16.000000,4045.000000,623.000000,1862.000000,625.000000,4.875000,143100.000000\n",
            "-118.380000,34.050000,49.000000,702.000000,143.000000,458.000000,187.000000,4.895800,333600.000000\n",
            "-119.290000,36.540000,18.000000,2581.000000,628.000000,2732.000000,592.000000,1.842900,58300.000000\n",
            "-117.760000,33.540000,28.000000,2250.000000,329.000000,826.000000,323.000000,6.925700,466400.000000\n",
            "-122.290000,38.290000,52.000000,3217.000000,742.000000,1670.000000,671.000000,2.439800,163100.000000\n",
            "-117.800000,33.810000,14.000000,1206.000000,142.000000,572.000000,149.000000,8.847000,388700.000000\n",
            "-121.950000,37.350000,52.000000,2382.000000,523.000000,1096.000000,492.000000,4.265600,236100.000000\n",
            "-117.870000,33.990000,21.000000,2837.000000,515.000000,2031.000000,555.000000,4.927100,209700.000000\n",
            "-121.460000,38.560000,52.000000,907.000000,180.000000,479.000000,177.000000,2.212500,104000.000000\n",
            "-117.990000,34.080000,11.000000,2399.000000,527.000000,2307.000000,531.000000,3.562500,141000.000000\n",
            "-121.530000,38.500000,17.000000,3087.000000,477.000000,1365.000000,495.000000,6.466700,216800.000000\n",
            "-121.140000,37.520000,37.000000,1358.000000,231.000000,586.000000,214.000000,3.164500,170800.000000\n",
            "-118.290000,33.890000,35.000000,2810.000000,614.000000,1578.000000,601.000000,3.590000,200600.000000\n",
            "-117.100000,33.090000,5.000000,12045.000000,2162.000000,5640.000000,1997.000000,4.437500,353000.000000\n",
            "-123.200000,39.230000,26.000000,786.000000,168.000000,494.000000,161.000000,2.358300,105400.000000\n",
            "-117.120000,32.760000,26.000000,1221.000000,331.000000,620.000000,296.000000,2.482100,123600.000000\n",
            "-120.440000,34.960000,30.000000,1685.000000,315.000000,1290.000000,368.000000,3.472200,112500.000000\n",
            "-115.560000,32.780000,34.000000,2856.000000,555.000000,1627.000000,522.000000,3.208300,76200.000000\n",
            "-121.470000,38.560000,51.000000,2083.000000,559.000000,874.000000,524.000000,2.022100,95800.000000\n",
            "-121.680000,37.930000,44.000000,1014.000000,225.000000,704.000000,238.000000,1.655400,119400.000000\n",
            "-118.100000,34.140000,26.000000,6262.000000,1645.000000,3001.000000,1505.000000,3.657200,213200.000000\n",
            "-118.430000,34.220000,34.000000,1588.000000,360.000000,1080.000000,340.000000,3.660000,184600.000000\n",
            "-120.970000,37.660000,19.000000,1974.000000,393.000000,799.000000,377.000000,3.128600,137500.000000\n",
            "-119.340000,34.390000,27.000000,669.000000,131.000000,314.000000,106.000000,2.465900,231300.000000\n",
            "-118.500000,34.200000,34.000000,1617.000000,344.000000,938.000000,305.000000,3.915000,217700.000000\n",
            "-120.980000,38.670000,13.000000,3432.000000,516.000000,1286.000000,470.000000,5.584000,186600.000000\n",
            "-118.350000,34.000000,28.000000,3085.000000,621.000000,1162.000000,558.000000,3.250000,301000.000000\n",
            "-122.490000,38.220000,33.000000,1486.000000,290.000000,781.000000,274.000000,3.564700,251800.000000\n",
            "-118.320000,33.970000,46.000000,1504.000000,270.000000,814.000000,306.000000,4.391900,157100.000000\n",
            "-117.130000,32.690000,36.000000,1469.000000,400.000000,1271.000000,340.000000,1.043000,90100.000000\n",
            "-117.030000,33.000000,6.000000,6139.000000,793.000000,2693.000000,770.000000,7.756900,387400.000000\n",
            "-122.260000,38.020000,5.000000,3846.000000,786.000000,2053.000000,716.000000,5.047300,184800.000000\n",
            "-117.270000,32.850000,26.000000,1373.000000,336.000000,608.000000,268.000000,4.425000,475000.000000\n",
            "-117.940000,33.860000,36.000000,2824.000000,493.000000,1394.000000,507.000000,4.647700,194700.000000\n",
            "-119.310000,34.700000,19.000000,961.000000,218.000000,479.000000,138.000000,3.343800,156300.000000\n",
            "-122.100000,37.610000,35.000000,2361.000000,458.000000,1727.000000,467.000000,4.528100,173600.000000\n",
            "-118.000000,33.900000,35.000000,1942.000000,332.000000,1127.000000,325.000000,4.514400,206300.000000\n",
            "-117.370000,33.980000,43.000000,2862.000000,772.000000,1878.000000,675.000000,2.115100,96700.000000\n",
            "-121.520000,38.650000,17.000000,1269.000000,233.000000,494.000000,231.000000,3.961500,331300.000000\n",
            "-118.460000,34.070000,42.000000,2564.000000,460.000000,913.000000,414.000000,9.222500,500001.000000\n",
            "-118.040000,34.070000,39.000000,1382.000000,315.000000,1090.000000,308.000000,3.812500,174000.000000\n",
            "-118.080000,33.880000,27.000000,923.000000,186.000000,1014.000000,204.000000,3.825000,159500.000000\n",
            "-122.430000,37.800000,52.000000,2788.000000,813.000000,1302.000000,764.000000,4.199000,400000.000000\n",
            "-119.290000,34.370000,41.000000,1408.000000,311.000000,793.000000,264.000000,2.544100,161200.000000\n",
            "-122.040000,37.000000,52.000000,3365.000000,644.000000,796.000000,333.000000,2.971200,116600.000000\n",
            "-115.570000,32.790000,50.000000,1291.000000,277.000000,864.000000,274.000000,1.666700,68100.000000\n",
            "-117.560000,34.420000,6.000000,4264.000000,749.000000,2005.000000,666.000000,3.469500,138800.000000\n",
            "-120.630000,38.680000,14.000000,1821.000000,316.000000,769.000000,266.000000,3.078900,131700.000000\n",
            "-118.320000,34.090000,44.000000,2666.000000,830.000000,2297.000000,726.000000,1.676000,208800.000000\n",
            "-118.350000,34.080000,52.000000,1710.000000,350.000000,727.000000,355.000000,4.583300,333900.000000\n",
            "-122.270000,37.510000,36.000000,1406.000000,224.000000,598.000000,237.000000,5.896400,414800.000000\n",
            "-119.060000,35.330000,14.000000,5264.000000,1064.000000,3278.000000,1049.000000,3.811700,82800.000000\n",
            "-117.150000,32.900000,12.000000,1681.000000,381.000000,1050.000000,362.000000,4.200800,176100.000000\n",
            "-122.470000,37.760000,39.000000,3200.000000,689.000000,1391.000000,618.000000,3.634600,338000.000000\n",
            "-122.030000,37.310000,19.000000,2885.000000,859.000000,1520.000000,784.000000,3.375000,275700.000000\n",
            "-119.310000,36.320000,23.000000,2945.000000,592.000000,1419.000000,532.000000,2.573300,88800.000000\n",
            "-120.580000,38.770000,15.000000,2155.000000,394.000000,857.000000,356.000000,4.030000,141200.000000\n",
            "-117.210000,34.490000,14.000000,2125.000000,348.000000,1067.000000,360.000000,3.633300,116200.000000\n",
            "-122.080000,37.650000,35.000000,1813.000000,393.000000,1093.000000,374.000000,3.681800,165400.000000\n",
            "-122.250000,40.150000,15.000000,1677.000000,346.000000,858.000000,327.000000,2.437500,59200.000000\n",
            "-118.210000,34.140000,44.000000,1681.000000,407.000000,1105.000000,387.000000,3.222200,186500.000000\n",
            "-122.140000,37.730000,51.000000,2619.000000,403.000000,922.000000,393.000000,4.604200,251900.000000\n",
            "-121.590000,39.770000,24.000000,1535.000000,276.000000,664.000000,273.000000,2.306800,97300.000000\n",
            "-122.190000,37.470000,44.000000,1371.000000,263.000000,589.000000,301.000000,4.806800,312300.000000\n",
            "-120.440000,34.950000,38.000000,3004.000000,794.000000,2601.000000,747.000000,2.274300,106400.000000\n",
            "-121.780000,37.310000,7.000000,1973.000000,328.000000,1047.000000,303.000000,6.234000,292200.000000\n",
            "-118.240000,34.200000,41.000000,2067.000000,452.000000,1282.000000,455.000000,5.575600,309900.000000\n",
            "-121.570000,39.160000,33.000000,2033.000000,375.000000,914.000000,330.000000,2.696400,68500.000000\n",
            "-119.840000,36.830000,17.000000,2273.000000,298.000000,700.000000,263.000000,6.864500,195900.000000\n",
            "-119.290000,34.440000,34.000000,4314.000000,878.000000,2361.000000,831.000000,3.227900,243100.000000\n",
            "-118.140000,34.180000,52.000000,1700.000000,317.000000,996.000000,329.000000,3.968800,175000.000000\n",
            "-119.570000,36.100000,37.000000,1676.000000,316.000000,707.000000,274.000000,2.059500,60700.000000\n",
            "-121.800000,37.320000,23.000000,1829.000000,346.000000,1277.000000,324.000000,4.809200,217400.000000\n",
            "-118.130000,34.160000,52.000000,1596.000000,314.000000,1024.000000,292.000000,3.671900,227900.000000\n",
            "-121.900000,37.460000,29.000000,2385.000000,513.000000,1788.000000,510.000000,3.842100,220700.000000\n",
            "-121.920000,37.330000,52.000000,2962.000000,557.000000,1215.000000,506.000000,4.776800,301100.000000\n",
            "-123.100000,39.360000,19.000000,1056.000000,248.000000,611.000000,226.000000,1.746000,105000.000000\n",
            "-122.860000,40.560000,12.000000,1350.000000,300.000000,423.000000,172.000000,1.739300,81300.000000\n",
            "-122.440000,37.750000,52.000000,3114.000000,637.000000,1144.000000,591.000000,4.000000,375000.000000\n",
            "-120.620000,35.120000,22.000000,1240.000000,294.000000,768.000000,288.000000,2.655000,160000.000000\n",
            "-118.360000,33.880000,22.000000,1388.000000,336.000000,930.000000,287.000000,2.798100,275000.000000\n",
            "-118.360000,33.820000,26.000000,5166.000000,1313.000000,2738.000000,1239.000000,3.356500,360800.000000\n",
            "-118.270000,33.770000,39.000000,1731.000000,485.000000,2115.000000,478.000000,1.536900,141300.000000\n",
            "-122.280000,37.900000,52.000000,2003.000000,250.000000,658.000000,244.000000,10.082500,397000.000000\n",
            "-117.980000,33.660000,26.000000,3527.000000,547.000000,1615.000000,542.000000,6.162400,279400.000000\n",
            "-118.210000,33.930000,39.000000,354.000000,73.000000,184.000000,58.000000,2.767900,108900.000000\n",
            "-120.430000,37.350000,15.000000,1613.000000,203.000000,673.000000,213.000000,5.937800,212200.000000\n",
            "-120.960000,37.480000,32.000000,1256.000000,212.000000,682.000000,236.000000,2.984400,135900.000000\n",
            "-117.330000,34.120000,33.000000,933.000000,219.000000,838.000000,211.000000,1.341700,69000.000000\n",
            "-119.810000,36.780000,36.000000,1650.000000,313.000000,660.000000,298.000000,3.000000,79700.000000\n",
            "-118.380000,34.050000,35.000000,3517.000000,879.000000,1632.000000,784.000000,3.095600,500001.000000\n",
            "-117.960000,33.800000,33.000000,1984.000000,420.000000,1119.000000,387.000000,3.482100,231300.000000\n",
            "-118.430000,34.240000,37.000000,1279.000000,241.000000,987.000000,233.000000,4.005700,172700.000000\n",
            "-117.870000,33.790000,25.000000,2546.000000,545.000000,1543.000000,521.000000,4.192000,219900.000000\n",
            "-124.180000,40.790000,40.000000,1398.000000,311.000000,788.000000,279.000000,1.466800,64600.000000\n",
            "-117.240000,32.830000,18.000000,3109.000000,501.000000,949.000000,368.000000,7.435100,445700.000000\n",
            "-121.570000,37.000000,18.000000,7241.000000,1225.000000,4168.000000,1138.000000,4.571400,260300.000000\n",
            "-117.370000,33.190000,38.000000,861.000000,213.000000,486.000000,204.000000,4.187500,185000.000000\n",
            "-121.890000,37.460000,5.000000,1519.000000,186.000000,705.000000,186.000000,10.379800,500001.000000\n",
            "-122.680000,38.010000,41.000000,1865.000000,392.000000,825.000000,369.000000,4.201100,255400.000000\n",
            "-118.310000,34.020000,46.000000,2217.000000,489.000000,1227.000000,448.000000,1.685100,108800.000000\n",
            "-118.290000,33.890000,33.000000,2138.000000,567.000000,1072.000000,528.000000,2.742800,208900.000000\n",
            "-117.300000,34.120000,43.000000,1018.000000,261.000000,736.000000,215.000000,2.600000,66900.000000\n",
            "-117.300000,33.850000,15.000000,3991.000000,751.000000,2317.000000,657.000000,2.954200,127900.000000\n",
            "-117.350000,33.160000,22.000000,1331.000000,305.000000,580.000000,193.000000,3.975000,500001.000000\n",
            "-122.430000,37.760000,52.000000,2242.000000,459.000000,751.000000,464.000000,4.750000,500001.000000\n",
            "-119.010000,35.390000,29.000000,1820.000000,459.000000,1134.000000,419.000000,1.828900,59400.000000\n",
            "-121.570000,37.010000,44.000000,1448.000000,393.000000,1066.000000,357.000000,2.062500,170300.000000\n",
            "-122.420000,37.650000,39.000000,4402.000000,894.000000,2941.000000,887.000000,3.856500,239800.000000\n",
            "-122.430000,37.780000,49.000000,2246.000000,587.000000,1277.000000,546.000000,2.979200,350000.000000\n",
            "-118.130000,33.900000,36.000000,1477.000000,305.000000,788.000000,291.000000,3.625000,195800.000000\n",
            "-118.060000,33.820000,25.000000,2637.000000,462.000000,965.000000,415.000000,4.583300,190900.000000\n",
            "-119.220000,34.340000,29.000000,3128.000000,672.000000,1815.000000,648.000000,2.982100,175700.000000\n",
            "-121.510000,38.550000,46.000000,1485.000000,278.000000,531.000000,291.000000,2.788500,137200.000000\n",
            "-121.420000,38.500000,24.000000,7740.000000,1539.000000,4333.000000,1397.000000,3.025000,87900.000000\n",
            "-122.260000,37.850000,52.000000,2202.000000,434.000000,910.000000,402.000000,3.203100,281500.000000\n",
            "-118.400000,33.870000,26.000000,6712.000000,1441.000000,2803.000000,1394.000000,5.227600,434500.000000\n",
            "-118.380000,33.890000,35.000000,1778.000000,330.000000,732.000000,312.000000,6.574500,379300.000000\n",
            "-119.950000,36.960000,18.000000,1996.000000,379.000000,1327.000000,356.000000,2.608700,96000.000000\n",
            "-118.120000,34.020000,32.000000,1789.000000,528.000000,1429.000000,517.000000,1.890600,224500.000000\n",
            "-117.900000,36.950000,19.000000,99.000000,26.000000,51.000000,22.000000,1.729200,137500.000000\n",
            "-116.280000,32.840000,18.000000,382.000000,128.000000,194.000000,69.000000,2.517900,58800.000000\n",
            "-122.450000,37.770000,52.000000,1722.000000,465.000000,885.000000,437.000000,3.090600,500001.000000\n",
            "-121.620000,39.760000,14.000000,2063.000000,559.000000,934.000000,529.000000,1.778800,85800.000000\n",
            "-122.000000,38.350000,24.000000,745.000000,116.000000,300.000000,115.000000,3.617600,158500.000000\n",
            "-121.710000,39.250000,37.000000,1871.000000,321.000000,806.000000,294.000000,4.000000,101400.000000\n",
            "-119.190000,34.220000,26.000000,3175.000000,736.000000,2460.000000,775.000000,3.125000,219900.000000\n",
            "-118.060000,33.910000,21.000000,2863.000000,701.000000,1489.000000,621.000000,3.203100,180700.000000\n",
            "-118.000000,33.930000,35.000000,1288.000000,240.000000,758.000000,250.000000,4.920500,173900.000000\n",
            "-118.260000,34.110000,47.000000,2183.000000,510.000000,1445.000000,503.000000,3.666700,210900.000000\n",
            "-118.510000,34.260000,29.000000,2472.000000,354.000000,1109.000000,397.000000,5.543300,332500.000000\n",
            "-117.960000,33.980000,25.000000,1259.000000,184.000000,599.000000,170.000000,5.740700,302200.000000\n",
            "-123.390000,38.990000,28.000000,1416.000000,294.000000,812.000000,258.000000,3.406300,109400.000000\n",
            "-121.690000,38.160000,33.000000,1808.000000,363.000000,824.000000,340.000000,3.293700,96400.000000\n",
            "-121.930000,37.320000,51.000000,2711.000000,728.000000,1607.000000,724.000000,3.000000,184700.000000\n",
            "-117.260000,33.260000,9.000000,4609.000000,798.000000,2582.000000,746.000000,4.342900,173900.000000\n",
            "-121.410000,38.530000,37.000000,1058.000000,224.000000,588.000000,231.000000,2.973700,72100.000000\n",
            "-117.900000,33.900000,18.000000,3821.000000,576.000000,1430.000000,568.000000,6.939900,349600.000000\n",
            "-118.540000,36.120000,11.000000,4103.000000,882.000000,356.000000,171.000000,2.102900,99100.000000\n",
            "-117.240000,32.820000,20.000000,2467.000000,332.000000,731.000000,335.000000,7.255900,392300.000000\n",
            "-121.900000,37.240000,24.000000,7521.000000,1364.000000,3970.000000,1318.000000,4.400400,255800.000000\n",
            "-118.170000,33.870000,49.000000,1937.000000,445.000000,1339.000000,440.000000,3.031900,162800.000000\n",
            "-117.310000,33.160000,4.000000,5846.000000,894.000000,2282.000000,801.000000,5.595600,247800.000000\n",
            "-118.410000,34.170000,35.000000,2027.000000,428.000000,879.000000,402.000000,4.692000,330900.000000\n",
            "-118.380000,34.220000,32.000000,362.000000,100.000000,348.000000,102.000000,2.267900,150000.000000\n",
            "-117.160000,33.730000,10.000000,2381.000000,454.000000,1323.000000,477.000000,2.632200,140700.000000\n",
            "-119.710000,34.400000,27.000000,3782.000000,771.000000,1742.000000,751.000000,4.045100,395100.000000\n",
            "-117.360000,33.200000,26.000000,2447.000000,482.000000,1405.000000,486.000000,3.291700,150800.000000\n",
            "-118.210000,33.800000,41.000000,1251.000000,279.000000,1053.000000,278.000000,3.277800,150800.000000\n",
            "-120.930000,39.900000,20.000000,1511.000000,328.000000,791.000000,320.000000,2.022100,70900.000000\n",
            "-118.130000,33.840000,48.000000,1895.000000,294.000000,881.000000,293.000000,6.336400,307400.000000\n",
            "-118.270000,33.930000,41.000000,570.000000,135.000000,466.000000,121.000000,2.645800,91300.000000\n",
            "-118.050000,33.780000,25.000000,2356.000000,330.000000,937.000000,326.000000,6.626400,359100.000000\n",
            "-118.430000,34.270000,36.000000,1002.000000,250.000000,1312.000000,249.000000,3.024000,148000.000000\n",
            "-118.370000,33.910000,35.000000,1742.000000,283.000000,812.000000,282.000000,5.670400,303700.000000\n",
            "-122.500000,37.750000,46.000000,2298.000000,457.000000,1429.000000,477.000000,4.021700,272400.000000\n",
            "-118.300000,34.010000,52.000000,1908.000000,428.000000,1271.000000,394.000000,2.588500,136200.000000\n",
            "-119.160000,34.150000,23.000000,3204.000000,644.000000,2295.000000,614.000000,3.948500,196600.000000\n",
            "-117.040000,32.680000,14.000000,1320.000000,270.000000,943.000000,260.000000,5.094700,152700.000000\n",
            "-121.400000,38.610000,37.000000,1994.000000,347.000000,782.000000,355.000000,4.148800,136400.000000\n",
            "-118.030000,33.930000,35.000000,2470.000000,416.000000,1386.000000,411.000000,5.273600,179500.000000\n",
            "-119.890000,34.440000,25.000000,2786.000000,470.000000,1669.000000,462.000000,5.518400,268300.000000\n",
            "-120.880000,38.580000,8.000000,3417.000000,604.000000,1703.000000,623.000000,4.082700,170700.000000\n",
            "-118.210000,33.790000,32.000000,2020.000000,613.000000,2557.000000,562.000000,2.139700,145300.000000\n",
            "-121.460000,38.570000,52.000000,1625.000000,419.000000,614.000000,383.000000,2.054900,156700.000000\n",
            "-122.020000,37.310000,34.000000,2629.000000,433.000000,1301.000000,431.000000,6.083000,341400.000000\n",
            "-118.500000,34.160000,34.000000,3547.000000,523.000000,1187.000000,500.000000,7.139000,424000.000000\n",
            "-121.320000,38.660000,26.000000,1149.000000,193.000000,500.000000,194.000000,5.078000,163400.000000\n",
            "-118.090000,33.890000,42.000000,991.000000,215.000000,717.000000,219.000000,4.092600,164400.000000\n",
            "-118.390000,33.820000,30.000000,3433.000000,918.000000,1526.000000,828.000000,4.581700,500001.000000\n",
            "-118.000000,33.960000,37.000000,2414.000000,323.000000,878.000000,305.000000,9.154100,453800.000000\n",
            "-117.260000,33.190000,4.000000,2342.000000,595.000000,1518.000000,545.000000,2.946900,216100.000000\n",
            "-122.470000,37.870000,36.000000,4471.000000,618.000000,1315.000000,582.000000,11.570600,500001.000000\n",
            "-117.060000,32.710000,25.000000,2681.000000,596.000000,1947.000000,553.000000,2.896400,104300.000000\n",
            "-117.440000,33.930000,33.000000,1371.000000,236.000000,715.000000,227.000000,4.375000,129900.000000\n",
            "-118.120000,33.990000,26.000000,2296.000000,534.000000,1777.000000,507.000000,2.539500,191000.000000\n",
            "-118.150000,34.180000,46.000000,2230.000000,488.000000,1985.000000,456.000000,2.232800,142100.000000\n",
            "-120.430000,34.690000,33.000000,2054.000000,373.000000,1067.000000,358.000000,3.602300,128300.000000\n",
            "-120.840000,37.530000,14.000000,3643.000000,706.000000,2070.000000,697.000000,3.152300,141800.000000\n",
            "-122.070000,37.130000,26.000000,1127.000000,199.000000,543.000000,199.000000,4.979200,240000.000000\n",
            "-118.410000,33.960000,32.000000,1044.000000,219.000000,567.000000,222.000000,4.147100,284400.000000\n",
            "-121.510000,38.790000,29.000000,1716.000000,323.000000,850.000000,282.000000,2.932400,137500.000000\n",
            "-117.330000,33.190000,15.000000,3672.000000,845.000000,1827.000000,796.000000,2.971600,173600.000000\n",
            "-116.540000,33.870000,16.000000,3648.000000,1035.000000,1687.000000,581.000000,1.916700,70400.000000\n",
            "-118.500000,34.200000,18.000000,4249.000000,933.000000,2047.000000,909.000000,4.130400,229100.000000\n",
            "-118.300000,33.750000,23.000000,1957.000000,517.000000,1454.000000,526.000000,3.505600,203100.000000\n",
            "-117.990000,33.730000,24.000000,2104.000000,421.000000,1181.000000,414.000000,3.836500,250900.000000\n",
            "-118.110000,33.890000,34.000000,2508.000000,594.000000,1549.000000,545.000000,3.206900,236500.000000\n",
            "-122.730000,38.430000,29.000000,2677.000000,691.000000,1880.000000,664.000000,2.186400,143200.000000\n",
            "-119.640000,36.340000,32.000000,2958.000000,670.000000,1504.000000,627.000000,1.860600,56700.000000\n",
            "-116.870000,34.240000,15.000000,4419.000000,822.000000,622.000000,267.000000,3.968800,182800.000000\n",
            "-118.220000,33.980000,34.000000,2283.000000,809.000000,3032.000000,832.000000,2.438700,175000.000000\n",
            "-122.340000,37.970000,19.000000,392.000000,109.000000,287.000000,81.000000,6.042600,110000.000000\n",
            "-118.080000,33.820000,26.000000,4259.000000,588.000000,1644.000000,581.000000,6.251900,345700.000000\n",
            "-117.700000,33.480000,6.000000,16590.000000,2696.000000,6223.000000,2357.000000,6.308800,340300.000000\n",
            "-118.220000,33.880000,37.000000,1149.000000,280.000000,1016.000000,250.000000,2.125000,101900.000000\n",
            "-120.970000,38.910000,7.000000,4341.000000,716.000000,1978.000000,682.000000,4.831100,172200.000000\n",
            "-122.250000,37.800000,29.000000,2468.000000,864.000000,1335.000000,773.000000,1.392900,193800.000000\n",
            "-118.410000,33.880000,40.000000,925.000000,254.000000,371.000000,227.000000,5.253300,500001.000000\n",
            "-117.040000,32.690000,27.000000,1790.000000,356.000000,1286.000000,347.000000,3.543700,115800.000000\n",
            "-122.410000,38.160000,37.000000,1549.000000,301.000000,863.000000,275.000000,2.745700,254700.000000\n",
            "-120.250000,37.930000,13.000000,493.000000,76.000000,196.000000,68.000000,3.375000,134100.000000\n",
            "-121.980000,38.390000,3.000000,9488.000000,1417.000000,4095.000000,1335.000000,5.178100,191900.000000\n",
            "-122.470000,37.720000,47.000000,1176.000000,286.000000,564.000000,258.000000,3.205900,350000.000000\n",
            "-118.180000,34.130000,39.000000,2902.000000,460.000000,1007.000000,420.000000,6.195300,363000.000000\n",
            "-118.090000,33.990000,35.000000,2787.000000,639.000000,1923.000000,614.000000,3.575700,177900.000000\n",
            "-121.940000,37.750000,16.000000,5121.000000,735.000000,2464.000000,761.000000,6.620400,296100.000000\n",
            "-117.070000,32.740000,38.000000,1901.000000,392.000000,1099.000000,406.000000,2.766100,113900.000000\n",
            "-118.140000,34.040000,40.000000,1966.000000,391.000000,1120.000000,362.000000,3.710900,198800.000000\n",
            "-122.410000,37.810000,25.000000,1178.000000,545.000000,592.000000,441.000000,3.672800,500001.000000\n",
            "-117.710000,33.630000,16.000000,1641.000000,354.000000,945.000000,318.000000,3.426100,219700.000000\n",
            "-119.640000,34.430000,34.000000,3045.000000,570.000000,1002.000000,488.000000,5.623000,500001.000000\n",
            "-118.100000,33.980000,33.000000,1927.000000,482.000000,1623.000000,479.000000,3.526800,152000.000000\n",
            "-122.040000,37.390000,5.000000,8745.000000,2211.000000,3959.000000,2019.000000,4.768500,280100.000000\n",
            "-122.030000,37.180000,10.000000,212.000000,38.000000,78.000000,21.000000,6.062200,390000.000000\n",
            "-122.300000,37.560000,36.000000,1379.000000,228.000000,750.000000,227.000000,5.538100,282000.000000\n",
            "-117.360000,33.920000,7.000000,9376.000000,1181.000000,3570.000000,1107.000000,8.532600,315200.000000\n",
            "-121.380000,37.880000,44.000000,1158.000000,226.000000,1094.000000,224.000000,2.684200,156300.000000\n",
            "-119.980000,38.930000,28.000000,1194.000000,272.000000,494.000000,203.000000,2.328100,85800.000000\n",
            "-117.160000,32.710000,52.000000,845.000000,451.000000,1230.000000,375.000000,1.091800,22500.000000\n",
            "-122.360000,37.930000,17.000000,1258.000000,254.000000,885.000000,229.000000,3.050000,121600.000000\n",
            "-118.230000,34.170000,37.000000,4524.000000,1005.000000,2099.000000,937.000000,3.578100,366700.000000\n",
            "-118.470000,34.100000,32.000000,8041.000000,1141.000000,2768.000000,1106.000000,11.197800,500001.000000\n",
            "-124.140000,40.800000,32.000000,1373.000000,312.000000,872.000000,306.000000,2.500000,72600.000000\n",
            "-117.800000,33.550000,35.000000,2067.000000,428.000000,724.000000,377.000000,5.837100,500001.000000\n",
            "-118.020000,34.120000,38.000000,1778.000000,288.000000,870.000000,281.000000,6.578400,408500.000000\n",
            "-122.740000,38.480000,12.000000,4174.000000,670.000000,1882.000000,647.000000,4.551000,178300.000000\n",
            "-118.340000,33.830000,34.000000,1761.000000,329.000000,965.000000,329.000000,5.399000,358500.000000\n",
            "-120.680000,35.290000,37.000000,1354.000000,293.000000,753.000000,290.000000,3.250000,225000.000000\n",
            "-122.450000,37.640000,19.000000,6326.000000,1025.000000,3444.000000,984.000000,6.249800,353300.000000\n",
            "-122.040000,37.620000,35.000000,1032.000000,173.000000,453.000000,176.000000,6.396000,208500.000000\n",
            "-122.790000,38.540000,5.000000,3986.000000,737.000000,1887.000000,687.000000,3.776800,213800.000000\n",
            "-117.220000,32.860000,4.000000,16289.000000,4585.000000,7604.000000,4176.000000,3.628700,280800.000000\n",
            "-120.080000,39.610000,32.000000,1404.000000,247.000000,544.000000,201.000000,2.777800,72900.000000\n",
            "-118.360000,34.150000,41.000000,3545.000000,698.000000,1221.000000,651.000000,4.300000,500001.000000\n",
            "-121.360000,38.560000,17.000000,6225.000000,938.000000,3064.000000,947.000000,5.288100,138000.000000\n",
            "-122.320000,41.310000,45.000000,1393.000000,294.000000,521.000000,249.000000,1.191500,71900.000000\n",
            "-121.590000,39.750000,20.000000,908.000000,206.000000,481.000000,211.000000,2.200000,80800.000000\n",
            "-117.300000,34.150000,45.000000,942.000000,166.000000,401.000000,174.000000,3.859400,90800.000000\n",
            "-117.710000,33.650000,16.000000,3774.000000,456.000000,1587.000000,430.000000,8.608800,307400.000000\n",
            "-118.310000,34.260000,37.000000,1444.000000,246.000000,624.000000,239.000000,5.760000,239400.000000\n",
            "-122.040000,36.980000,51.000000,1076.000000,206.000000,495.000000,201.000000,2.928600,258300.000000\n",
            "-118.260000,34.240000,35.000000,1535.000000,283.000000,816.000000,287.000000,6.187300,312100.000000\n",
            "-118.280000,33.960000,39.000000,882.000000,221.000000,697.000000,189.000000,1.847200,99100.000000\n",
            "-123.500000,39.670000,22.000000,2124.000000,450.000000,1122.000000,446.000000,2.179300,71500.000000\n",
            "-117.190000,33.140000,12.000000,3652.000000,923.000000,1677.000000,728.000000,2.326700,92000.000000\n",
            "-121.120000,38.860000,17.000000,3949.000000,717.000000,1683.000000,686.000000,3.380200,216500.000000\n",
            "-118.410000,34.210000,35.000000,2215.000000,459.000000,1594.000000,446.000000,4.016700,193200.000000\n",
            "-116.540000,33.820000,12.000000,9482.000000,2501.000000,2725.000000,1300.000000,1.559500,115600.000000\n",
            "-121.610000,39.760000,31.000000,2431.000000,512.000000,1026.000000,427.000000,2.542800,85000.000000\n",
            "-121.990000,37.920000,14.000000,1780.000000,224.000000,764.000000,226.000000,9.024300,427700.000000\n",
            "-122.060000,37.540000,20.000000,6483.000000,1068.000000,3526.000000,1060.000000,5.083800,248200.000000\n",
            "-122.080000,37.720000,32.000000,2476.000000,368.000000,1048.000000,367.000000,5.619400,274700.000000\n",
            "-118.930000,36.100000,19.000000,2988.000000,681.000000,1654.000000,576.000000,2.379200,90000.000000\n",
            "-122.780000,38.970000,11.000000,5175.000000,971.000000,2144.000000,792.000000,3.046600,97300.000000\n",
            "-121.220000,37.970000,37.000000,1514.000000,337.000000,1121.000000,337.000000,2.401000,58400.000000\n",
            "-121.470000,38.610000,35.000000,1372.000000,360.000000,850.000000,328.000000,1.633100,67500.000000\n",
            "-122.310000,37.540000,49.000000,1340.000000,281.000000,660.000000,284.000000,4.163000,393800.000000\n",
            "-122.000000,37.300000,29.000000,3429.000000,524.000000,1518.000000,520.000000,7.218000,400700.000000\n",
            "-122.410000,37.800000,52.000000,812.000000,252.000000,629.000000,247.000000,2.587500,500001.000000\n",
            "-118.290000,34.050000,34.000000,1102.000000,448.000000,1325.000000,439.000000,1.597200,168800.000000\n",
            "-118.610000,34.150000,32.000000,4491.000000,815.000000,1696.000000,749.000000,4.910200,319100.000000\n",
            "-116.480000,33.840000,5.000000,5480.000000,1371.000000,1050.000000,485.000000,1.720400,137500.000000\n",
            "-118.260000,33.780000,27.000000,1672.000000,491.000000,1723.000000,462.000000,2.045800,174500.000000\n",
            "-117.340000,34.510000,6.000000,5667.000000,1385.000000,2447.000000,1199.000000,2.361700,103100.000000\n",
            "-122.460000,37.670000,16.000000,3372.000000,1101.000000,2049.000000,1021.000000,4.130300,146500.000000\n",
            "-118.350000,34.110000,33.000000,7478.000000,1678.000000,2701.000000,1500.000000,4.171700,500001.000000\n",
            "-117.300000,34.100000,44.000000,589.000000,130.000000,504.000000,137.000000,1.775000,63400.000000\n",
            "-118.440000,34.150000,44.000000,1778.000000,251.000000,641.000000,251.000000,10.054900,500001.000000\n",
            "-118.630000,34.180000,32.000000,1646.000000,242.000000,697.000000,233.000000,6.668900,433000.000000\n",
            "-117.950000,33.760000,24.000000,3956.000000,812.000000,3196.000000,795.000000,4.351200,191400.000000\n",
            "-122.250000,37.450000,34.000000,2999.000000,365.000000,927.000000,369.000000,10.281100,500001.000000\n",
            "-117.590000,33.650000,4.000000,1793.000000,390.000000,897.000000,386.000000,4.246300,182800.000000\n",
            "-114.490000,33.970000,17.000000,2809.000000,635.000000,83.000000,45.000000,1.615400,87500.000000\n",
            "-118.510000,34.200000,34.000000,2871.000000,581.000000,1350.000000,535.000000,3.704900,227500.000000\n",
            "-122.030000,38.010000,27.000000,3228.000000,562.000000,1666.000000,588.000000,4.570700,175900.000000\n",
            "-118.430000,33.990000,45.000000,2092.000000,451.000000,1190.000000,429.000000,3.802100,323000.000000\n",
            "-122.510000,37.760000,43.000000,2345.000000,624.000000,1439.000000,614.000000,2.844800,268900.000000\n",
            "-119.550000,36.690000,21.000000,1551.000000,423.000000,1519.000000,406.000000,1.713200,55900.000000\n",
            "-122.240000,38.150000,10.000000,6817.000000,1188.000000,4163.000000,1135.000000,4.452900,144100.000000\n",
            "-117.870000,34.020000,16.000000,3552.000000,575.000000,2120.000000,573.000000,6.433300,271500.000000\n",
            "-122.130000,37.700000,21.000000,4124.000000,1054.000000,2162.000000,998.000000,2.632100,223100.000000\n",
            "-121.330000,38.600000,25.000000,4260.000000,607.000000,1635.000000,640.000000,6.281700,288200.000000\n",
            "-121.910000,37.470000,13.000000,5377.000000,744.000000,2759.000000,760.000000,6.868000,337300.000000\n",
            "-118.530000,34.040000,45.000000,1711.000000,264.000000,735.000000,261.000000,9.107800,500001.000000\n",
            "-121.330000,38.000000,32.000000,4474.000000,929.000000,2177.000000,884.000000,3.288900,98900.000000\n",
            "-117.850000,34.060000,24.000000,3128.000000,497.000000,1406.000000,472.000000,7.528600,462700.000000\n",
            "-118.430000,35.120000,8.000000,1968.000000,376.000000,930.000000,360.000000,3.263200,99800.000000\n",
            "-118.070000,33.970000,36.000000,1265.000000,273.000000,1052.000000,253.000000,4.892900,156200.000000\n",
            "-117.160000,32.780000,34.000000,2515.000000,488.000000,1594.000000,515.000000,3.738100,165000.000000\n",
            "-116.290000,34.180000,15.000000,4203.000000,966.000000,1756.000000,695.000000,2.182000,60800.000000\n",
            "-120.660000,35.290000,16.000000,2272.000000,629.000000,1689.000000,649.000000,1.703100,195000.000000\n",
            "-119.790000,36.770000,30.000000,1610.000000,410.000000,1000.000000,397.000000,2.035700,60200.000000\n",
            "-122.140000,37.750000,33.000000,1334.000000,200.000000,579.000000,202.000000,6.832300,255900.000000\n",
            "-122.320000,37.970000,33.000000,1595.000000,292.000000,991.000000,300.000000,4.693700,134100.000000\n",
            "-119.800000,36.830000,17.000000,1560.000000,261.000000,709.000000,258.000000,4.331500,95800.000000\n",
            "-117.330000,33.160000,29.000000,3559.000000,552.000000,1533.000000,545.000000,4.058500,245500.000000\n",
            "-121.860000,37.230000,24.000000,4337.000000,670.000000,1936.000000,652.000000,5.890400,271400.000000\n",
            "-122.240000,37.810000,52.000000,2093.000000,550.000000,918.000000,483.000000,2.747700,243800.000000\n",
            "-120.850000,37.770000,10.000000,423.000000,110.000000,295.000000,94.000000,1.358300,85200.000000\n",
            "-116.950000,33.790000,20.000000,2399.000000,546.000000,1726.000000,542.000000,1.884500,77700.000000\n",
            "-117.220000,33.220000,16.000000,2134.000000,643.000000,1555.000000,560.000000,1.721700,175000.000000\n",
            "-122.230000,40.170000,21.000000,1401.000000,331.000000,651.000000,299.000000,2.225000,64700.000000\n",
            "-118.450000,34.030000,41.000000,2083.000000,528.000000,993.000000,481.000000,4.023100,353900.000000\n",
            "-118.990000,35.270000,32.000000,444.000000,102.000000,242.000000,87.000000,1.152800,150000.000000\n",
            "-117.580000,33.870000,34.000000,1511.000000,272.000000,773.000000,265.000000,3.531300,142100.000000\n",
            "-118.650000,36.570000,20.000000,1431.000000,416.000000,570.000000,225.000000,1.482100,143300.000000\n",
            "-121.400000,38.660000,50.000000,880.000000,150.000000,1148.000000,148.000000,2.506200,112500.000000\n",
            "-119.460000,35.860000,22.000000,1750.000000,374.000000,1113.000000,338.000000,1.505000,42700.000000\n",
            "-118.220000,33.980000,32.000000,2643.000000,737.000000,2784.000000,711.000000,2.535200,184400.000000\n",
            "-118.380000,33.820000,35.000000,3053.000000,623.000000,1311.000000,589.000000,5.158900,439200.000000\n",
            "-117.770000,33.690000,16.000000,1666.000000,341.000000,479.000000,336.000000,2.140600,55000.000000\n",
            "-118.460000,34.180000,35.000000,1819.000000,465.000000,1336.000000,419.000000,3.458300,253200.000000\n",
            "-122.420000,37.790000,6.000000,670.000000,301.000000,655.000000,284.000000,3.442300,117500.000000\n",
            "-118.310000,33.770000,20.000000,5776.000000,956.000000,2757.000000,936.000000,6.644700,416800.000000\n",
            "-121.670000,37.130000,19.000000,3269.000000,483.000000,1383.000000,452.000000,5.620500,300800.000000\n",
            "-121.330000,38.570000,17.000000,1621.000000,350.000000,706.000000,338.000000,2.368400,150000.000000\n",
            "-120.830000,37.520000,6.000000,1488.000000,252.000000,773.000000,259.000000,4.185900,150000.000000\n",
            "-118.120000,33.990000,27.000000,2316.000000,559.000000,2012.000000,544.000000,2.815500,176800.000000\n",
            "-118.110000,34.070000,39.000000,1270.000000,299.000000,1073.000000,278.000000,3.308800,186600.000000\n",
            "-122.670000,38.240000,29.000000,2644.000000,464.000000,1372.000000,450.000000,5.054400,261800.000000\n",
            "-117.290000,34.090000,24.000000,1451.000000,387.000000,1178.000000,330.000000,1.180600,68300.000000\n",
            "-121.800000,37.190000,45.000000,1797.000000,303.000000,870.000000,281.000000,4.541700,434500.000000\n",
            "-120.300000,37.970000,17.000000,3243.000000,619.000000,1408.000000,566.000000,2.474000,120100.000000\n",
            "-120.450000,34.650000,21.000000,1182.000000,243.000000,733.000000,251.000000,3.144200,131600.000000\n",
            "-119.290000,34.230000,22.000000,2486.000000,608.000000,709.000000,523.000000,2.901800,275000.000000\n",
            "-118.340000,34.020000,49.000000,1609.000000,371.000000,896.000000,389.000000,2.515600,136600.000000\n",
            "-117.940000,33.800000,23.000000,2757.000000,734.000000,1811.000000,707.000000,2.800000,214300.000000\n",
            "-116.850000,34.260000,19.000000,5395.000000,1220.000000,981.000000,366.000000,2.609400,92400.000000\n",
            "-117.890000,33.760000,34.000000,1050.000000,210.000000,723.000000,201.000000,4.800000,192700.000000\n",
            "-118.290000,34.030000,27.000000,1084.000000,287.000000,1085.000000,279.000000,2.135000,119600.000000\n",
            "-118.120000,34.060000,35.000000,1729.000000,438.000000,1308.000000,412.000000,2.532100,197200.000000\n",
            "-121.410000,38.600000,16.000000,5407.000000,1467.000000,2523.000000,1265.000000,2.047100,104200.000000\n",
            "-120.620000,35.130000,26.000000,3971.000000,803.000000,1792.000000,723.000000,2.712800,209900.000000\n",
            "-118.180000,33.800000,42.000000,2301.000000,621.000000,2114.000000,561.000000,2.057900,132700.000000\n",
            "-117.510000,34.160000,2.000000,718.000000,98.000000,119.000000,50.000000,4.100000,315000.000000\n",
            "-118.160000,34.030000,40.000000,2201.000000,636.000000,2682.000000,595.000000,2.359000,143400.000000\n",
            "-118.170000,34.110000,39.000000,1758.000000,436.000000,892.000000,447.000000,3.640600,278900.000000\n",
            "-117.690000,33.650000,15.000000,5394.000000,748.000000,2383.000000,706.000000,7.561900,302000.000000\n",
            "-122.200000,37.770000,41.000000,1547.000000,415.000000,1024.000000,341.000000,2.056200,102000.000000\n",
            "-121.330000,37.960000,42.000000,1619.000000,340.000000,906.000000,339.000000,2.548800,80300.000000\n",
            "-121.840000,38.130000,33.000000,596.000000,105.000000,212.000000,94.000000,4.281300,81300.000000\n",
            "-117.760000,34.050000,36.000000,2910.000000,819.000000,3055.000000,782.000000,1.902900,98000.000000\n",
            "-122.430000,37.790000,52.000000,3219.000000,969.000000,1152.000000,830.000000,4.204200,500001.000000\n",
            "-122.320000,37.570000,33.000000,3384.000000,819.000000,2626.000000,793.000000,3.228500,234800.000000\n",
            "-118.160000,34.070000,42.000000,3836.000000,777.000000,2118.000000,754.000000,3.636400,254600.000000\n",
            "-124.090000,40.950000,18.000000,2250.000000,484.000000,1248.000000,472.000000,2.589300,99600.000000\n",
            "-121.990000,38.350000,45.000000,1778.000000,339.000000,839.000000,319.000000,2.465900,102900.000000\n",
            "-122.720000,38.420000,26.000000,3604.000000,734.000000,2605.000000,704.000000,3.096900,143800.000000\n",
            "-122.110000,37.660000,29.000000,2544.000000,643.000000,2332.000000,603.000000,3.209100,150000.000000\n",
            "-121.840000,36.620000,26.000000,32.000000,8.000000,27.000000,10.000000,2.225000,150000.000000\n",
            "-118.180000,34.120000,29.000000,2640.000000,737.000000,1795.000000,655.000000,2.369000,173400.000000\n",
            "-122.450000,38.270000,25.000000,5024.000000,881.000000,1994.000000,838.000000,4.223700,262300.000000\n",
            "-117.910000,33.650000,17.000000,1328.000000,377.000000,762.000000,344.000000,2.222200,276800.000000\n",
            "-116.470000,33.770000,26.000000,4300.000000,767.000000,1557.000000,669.000000,4.410700,122500.000000\n",
            "-122.410000,37.730000,42.000000,2604.000000,573.000000,1703.000000,507.000000,3.423100,230200.000000\n",
            "-119.780000,36.800000,34.000000,2200.000000,493.000000,1243.000000,431.000000,1.851400,66500.000000\n",
            "-119.710000,34.360000,34.000000,1706.000000,276.000000,628.000000,243.000000,4.184200,364000.000000\n",
            "-118.360000,34.030000,40.000000,2323.000000,661.000000,1847.000000,614.000000,1.831600,113500.000000\n",
            "-121.890000,37.990000,4.000000,2171.000000,597.000000,928.000000,461.000000,4.101600,170500.000000\n",
            "-121.980000,37.330000,25.000000,3223.000000,612.000000,1529.000000,602.000000,5.121000,287600.000000\n",
            "-118.470000,34.250000,34.000000,1732.000000,399.000000,1120.000000,401.000000,4.149200,195700.000000\n",
            "-117.260000,32.990000,16.000000,2127.000000,512.000000,1532.000000,499.000000,2.734800,231300.000000\n",
            "-118.090000,34.070000,45.000000,726.000000,146.000000,568.000000,160.000000,3.034700,183200.000000\n",
            "-118.450000,37.250000,20.000000,1468.000000,283.000000,721.000000,270.000000,3.081700,118800.000000\n",
            "-117.780000,33.540000,29.000000,1421.000000,462.000000,520.000000,339.000000,2.296900,450000.000000\n",
            "-117.460000,33.900000,10.000000,9738.000000,2130.000000,4936.000000,1840.000000,3.318700,144800.000000\n",
            "-121.850000,39.740000,39.000000,1139.000000,265.000000,623.000000,264.000000,2.283300,85800.000000\n",
            "-117.290000,34.110000,48.000000,1498.000000,448.000000,1586.000000,455.000000,1.168700,70800.000000\n",
            "-121.200000,37.790000,36.000000,866.000000,160.000000,502.000000,149.000000,2.479800,101500.000000\n",
            "-118.430000,33.960000,20.000000,1901.000000,270.000000,704.000000,254.000000,8.781900,500001.000000\n",
            "-122.110000,37.400000,15.000000,255.000000,63.000000,138.000000,74.000000,4.659100,175000.000000\n",
            "-119.060000,36.080000,19.000000,2554.000000,443.000000,1301.000000,419.000000,4.185600,72100.000000\n",
            "-118.370000,33.880000,20.000000,2439.000000,474.000000,1219.000000,497.000000,5.961900,335900.000000\n",
            "-120.790000,38.430000,40.000000,1391.000000,246.000000,546.000000,214.000000,3.910700,129800.000000\n",
            "-122.200000,39.930000,9.000000,1296.000000,287.000000,768.000000,260.000000,1.919100,54400.000000\n",
            "-122.230000,37.760000,52.000000,1049.000000,185.000000,374.000000,176.000000,4.145800,248500.000000\n",
            "-121.990000,38.530000,6.000000,4598.000000,834.000000,2561.000000,812.000000,3.418600,127300.000000\n",
            "-118.460000,34.020000,39.000000,3599.000000,776.000000,1569.000000,763.000000,5.257100,405400.000000\n",
            "-115.600000,33.040000,31.000000,314.000000,61.000000,152.000000,56.000000,3.347200,91700.000000\n",
            "-117.220000,32.780000,22.000000,2020.000000,466.000000,1010.000000,429.000000,3.452700,175000.000000\n",
            "-118.630000,34.220000,18.000000,1376.000000,225.000000,670.000000,205.000000,6.514600,277600.000000\n",
            "-124.140000,40.720000,18.000000,2581.000000,499.000000,1375.000000,503.000000,2.844600,100500.000000\n",
            "-116.430000,33.780000,17.000000,4293.000000,712.000000,1091.000000,464.000000,6.143700,232100.000000\n",
            "-117.890000,33.730000,32.000000,728.000000,134.000000,837.000000,135.000000,4.076900,163900.000000\n",
            "-117.700000,33.530000,5.000000,6698.000000,1254.000000,2834.000000,1139.000000,5.908800,288500.000000\n",
            "-122.470000,37.850000,19.000000,1926.000000,593.000000,881.000000,546.000000,2.914500,140400.000000\n",
            "-120.630000,38.730000,11.000000,4577.000000,836.000000,1944.000000,700.000000,4.067500,140200.000000\n",
            "-118.590000,34.200000,18.000000,847.000000,185.000000,733.000000,178.000000,5.214900,201900.000000\n",
            "-118.360000,33.930000,40.000000,1625.000000,500.000000,2036.000000,476.000000,2.629800,156500.000000\n",
            "-118.410000,33.850000,16.000000,6123.000000,1989.000000,2853.000000,1789.000000,4.425000,336400.000000\n",
            "-117.190000,32.770000,16.000000,3273.000000,670.000000,1305.000000,671.000000,4.136800,151000.000000\n",
            "-117.780000,33.860000,16.000000,3471.000000,708.000000,1769.000000,691.000000,4.106400,246100.000000\n",
            "-121.860000,39.740000,13.000000,3494.000000,843.000000,1571.000000,784.000000,1.101900,120200.000000\n",
            "-119.040000,35.310000,11.000000,2161.000000,371.000000,1267.000000,388.000000,4.195700,92700.000000\n",
            "-118.260000,34.020000,40.000000,1259.000000,362.000000,1499.000000,327.000000,1.838200,126400.000000\n",
            "-117.250000,34.490000,4.000000,2372.000000,361.000000,1017.000000,322.000000,5.111200,170900.000000\n",
            "-120.040000,39.270000,24.000000,2237.000000,491.000000,264.000000,95.000000,4.136400,154500.000000\n",
            "-121.420000,38.540000,29.000000,2358.000000,493.000000,1071.000000,470.000000,2.925000,94300.000000\n",
            "-118.150000,34.200000,46.000000,1505.000000,261.000000,857.000000,269.000000,4.500000,184200.000000\n",
            "-118.080000,33.880000,26.000000,1507.000000,270.000000,931.000000,275.000000,5.164500,244900.000000\n",
            "-122.430000,37.800000,52.000000,2696.000000,572.000000,925.000000,552.000000,5.036500,500000.000000\n",
            "-115.490000,32.670000,24.000000,1266.000000,275.000000,1083.000000,298.000000,1.482800,73100.000000\n",
            "-120.980000,38.340000,27.000000,3471.000000,653.000000,1793.000000,600.000000,3.550800,99100.000000\n",
            "-116.140000,34.450000,12.000000,8796.000000,1721.000000,11139.000000,1680.000000,2.261200,137500.000000\n",
            "-117.110000,32.730000,27.000000,3160.000000,627.000000,1628.000000,612.000000,3.886400,132600.000000\n",
            "-118.470000,34.000000,38.000000,1235.000000,390.000000,891.000000,376.000000,2.714300,287500.000000\n",
            "-121.420000,37.740000,19.000000,1393.000000,367.000000,915.000000,355.000000,1.195700,103100.000000\n",
            "-122.250000,37.820000,52.000000,2474.000000,403.000000,1104.000000,398.000000,5.883000,340700.000000\n",
            "-118.050000,33.720000,22.000000,5416.000000,1271.000000,2260.000000,1184.000000,3.803800,174500.000000\n",
            "-122.020000,36.970000,44.000000,594.000000,169.000000,325.000000,139.000000,1.155200,250000.000000\n",
            "-115.570000,32.800000,33.000000,1192.000000,213.000000,1066.000000,211.000000,4.571400,68600.000000\n",
            "-121.290000,37.800000,6.000000,110.000000,26.000000,69.000000,24.000000,3.729200,475000.000000\n",
            "-122.080000,37.880000,26.000000,2947.000000,647.000000,825.000000,626.000000,2.933000,85000.000000\n",
            "-121.770000,37.650000,16.000000,4290.000000,554.000000,1952.000000,576.000000,7.358800,327500.000000\n",
            "-119.810000,36.720000,46.000000,1414.000000,268.000000,902.000000,243.000000,1.583300,56700.000000\n",
            "-118.350000,33.970000,26.000000,1725.000000,431.000000,1130.000000,404.000000,3.270800,128100.000000\n",
            "-118.200000,34.190000,38.000000,2176.000000,266.000000,798.000000,243.000000,15.000100,500001.000000\n",
            "-118.790000,34.140000,7.000000,3003.000000,504.000000,1143.000000,466.000000,5.854800,500001.000000\n",
            "-118.120000,34.160000,30.000000,1762.000000,416.000000,940.000000,398.000000,2.863100,188600.000000\n",
            "-118.220000,33.960000,36.000000,1542.000000,458.000000,1711.000000,468.000000,1.902800,164200.000000\n",
            "-121.300000,37.990000,38.000000,2375.000000,494.000000,1167.000000,471.000000,2.667300,87500.000000\n",
            "-121.840000,36.610000,21.000000,2876.000000,802.000000,2487.000000,795.000000,2.200700,112800.000000\n",
            "-117.900000,34.070000,36.000000,1009.000000,164.000000,466.000000,149.000000,5.851900,249400.000000\n",
            "-120.400000,34.860000,11.000000,1633.000000,348.000000,504.000000,327.000000,2.050800,275000.000000\n",
            "-117.950000,33.800000,32.000000,1219.000000,192.000000,634.000000,197.000000,5.237000,215700.000000\n",
            "-118.300000,33.940000,36.000000,2041.000000,531.000000,1390.000000,464.000000,2.011400,99300.000000\n",
            "-121.600000,37.900000,5.000000,14684.000000,2252.000000,4276.000000,1722.000000,6.905100,340900.000000\n",
            "-122.410000,37.590000,34.000000,3931.000000,622.000000,1717.000000,621.000000,6.294600,450000.000000\n",
            "-118.450000,34.050000,28.000000,801.000000,399.000000,936.000000,406.000000,2.187500,181300.000000\n",
            "-118.180000,33.860000,43.000000,2752.000000,645.000000,1674.000000,614.000000,3.671900,161300.000000\n",
            "-121.780000,40.120000,14.000000,388.000000,108.000000,35.000000,17.000000,6.135900,106300.000000\n",
            "-118.210000,34.040000,47.000000,1325.000000,393.000000,1557.000000,352.000000,2.800000,148400.000000\n",
            "-118.380000,34.090000,28.000000,4001.000000,1352.000000,1799.000000,1220.000000,2.578400,272900.000000\n",
            "-117.180000,32.840000,32.000000,1351.000000,237.000000,823.000000,269.000000,4.276800,167800.000000\n",
            "-117.300000,32.850000,28.000000,2334.000000,694.000000,770.000000,552.000000,3.132400,500001.000000\n",
            "-119.020000,35.420000,42.000000,2271.000000,458.000000,1124.000000,447.000000,2.758300,64900.000000\n",
            "-124.010000,40.970000,21.000000,1513.000000,319.000000,943.000000,301.000000,3.538000,102700.000000\n",
            "-118.100000,34.130000,44.000000,1745.000000,237.000000,693.000000,248.000000,9.791200,500001.000000\n",
            "-119.810000,36.770000,49.000000,1749.000000,314.000000,705.000000,300.000000,3.150000,72200.000000\n",
            "-122.550000,38.000000,18.000000,3119.000000,803.000000,1395.000000,722.000000,3.926500,301100.000000\n",
            "-117.620000,34.080000,30.000000,1372.000000,235.000000,1047.000000,225.000000,3.159700,116300.000000\n",
            "-121.290000,37.960000,52.000000,888.000000,324.000000,630.000000,258.000000,1.241100,112500.000000\n",
            "-119.090000,34.240000,17.000000,10214.000000,1589.000000,3409.000000,1327.000000,5.380600,452100.000000\n",
            "-117.200000,32.770000,30.000000,156.000000,45.000000,77.000000,40.000000,3.267900,137500.000000\n",
            "-122.270000,37.450000,41.000000,830.000000,136.000000,353.000000,153.000000,6.382400,500001.000000\n",
            "-117.310000,34.410000,14.000000,3019.000000,643.000000,1639.000000,582.000000,1.528800,103400.000000\n",
            "-118.280000,33.830000,18.000000,5923.000000,1409.000000,3887.000000,1322.000000,3.471200,194400.000000\n",
            "-118.270000,34.050000,26.000000,1164.000000,674.000000,1685.000000,541.000000,1.572700,225000.000000\n",
            "-118.170000,34.090000,45.000000,1327.000000,271.000000,1069.000000,284.000000,3.397700,153800.000000\n",
            "-122.540000,37.740000,42.000000,2006.000000,415.000000,1230.000000,435.000000,4.178600,271100.000000\n",
            "-118.280000,33.770000,47.000000,307.000000,69.000000,374.000000,65.000000,2.906300,146900.000000\n",
            "-118.040000,33.720000,24.000000,7141.000000,1330.000000,3418.000000,1268.000000,4.664900,237800.000000\n",
            "-117.390000,33.920000,25.000000,2886.000000,583.000000,2327.000000,577.000000,2.385100,113700.000000\n",
            "-119.010000,35.370000,35.000000,120.000000,35.000000,477.000000,41.000000,1.912500,47500.000000\n",
            "-122.410000,37.740000,34.000000,1403.000000,262.000000,839.000000,255.000000,4.703100,255200.000000\n",
            "-118.290000,33.910000,41.000000,2475.000000,532.000000,1416.000000,470.000000,3.837200,156400.000000\n",
            "-117.250000,33.220000,19.000000,2167.000000,443.000000,1654.000000,435.000000,3.500000,135800.000000\n",
            "-117.650000,33.460000,19.000000,7034.000000,1139.000000,2824.000000,1068.000000,6.087300,277300.000000\n",
            "-121.980000,37.800000,17.000000,3354.000000,422.000000,1457.000000,425.000000,7.647300,345800.000000\n",
            "-118.050000,33.840000,21.000000,4890.000000,653.000000,2295.000000,654.000000,6.983000,329700.000000\n",
            "-122.030000,37.270000,25.000000,4460.000000,553.000000,1608.000000,561.000000,10.795800,500001.000000\n",
            "-120.520000,35.240000,5.000000,4413.000000,804.000000,2003.000000,725.000000,5.026700,253300.000000\n",
            "-117.950000,34.140000,33.000000,1943.000000,440.000000,1526.000000,353.000000,3.038000,137500.000000\n",
            "-118.160000,34.690000,35.000000,3114.000000,583.000000,1974.000000,545.000000,3.902800,126800.000000\n",
            "-121.480000,39.100000,19.000000,2043.000000,421.000000,1018.000000,390.000000,2.595200,92400.000000\n",
            "-117.530000,33.940000,21.000000,5675.000000,935.000000,2834.000000,865.000000,4.226300,203200.000000\n",
            "-122.290000,37.910000,40.000000,2085.000000,329.000000,796.000000,339.000000,5.535700,273700.000000\n",
            "-121.780000,38.690000,31.000000,2547.000000,535.000000,1579.000000,509.000000,2.677400,95800.000000\n",
            "-117.970000,33.840000,34.000000,874.000000,153.000000,549.000000,153.000000,4.866700,186800.000000\n",
            "-122.260000,37.860000,52.000000,3774.000000,744.000000,1461.000000,679.000000,2.940500,289500.000000\n",
            "-117.960000,33.690000,20.000000,3123.000000,441.000000,1319.000000,432.000000,6.091000,290400.000000\n",
            "-118.390000,34.190000,36.000000,904.000000,191.000000,627.000000,191.000000,2.416700,192900.000000\n",
            "-122.480000,37.510000,22.000000,1564.000000,278.000000,761.000000,270.000000,4.757800,318500.000000\n",
            "-118.600000,34.210000,19.000000,2581.000000,857.000000,2004.000000,784.000000,2.615900,182300.000000\n",
            "-122.350000,40.560000,12.000000,3900.000000,863.000000,2145.000000,864.000000,1.988100,85200.000000\n",
            "-118.240000,34.030000,52.000000,142.000000,47.000000,137.000000,45.000000,1.833300,312500.000000\n",
            "-117.610000,34.080000,20.000000,3550.000000,736.000000,2229.000000,681.000000,3.019900,128800.000000\n",
            "-121.030000,37.670000,24.000000,2162.000000,459.000000,1468.000000,441.000000,3.185700,98300.000000\n",
            "-119.690000,36.810000,15.000000,2892.000000,496.000000,1634.000000,501.000000,4.493400,88000.000000\n",
            "-118.270000,34.060000,26.000000,513.000000,338.000000,1204.000000,321.000000,1.490400,275000.000000\n",
            "-118.260000,34.070000,30.000000,929.000000,238.000000,763.000000,214.000000,2.522700,187500.000000\n",
            "-120.910000,38.980000,13.000000,7689.000000,1415.000000,3264.000000,1198.000000,3.653000,146800.000000\n",
            "-117.140000,32.710000,32.000000,719.000000,251.000000,894.000000,208.000000,1.845600,103100.000000\n",
            "-117.200000,32.820000,35.000000,2772.000000,537.000000,1392.000000,521.000000,3.337000,172300.000000\n",
            "-123.800000,39.440000,52.000000,1533.000000,336.000000,754.000000,340.000000,1.921300,95000.000000\n",
            "-122.330000,37.980000,32.000000,1967.000000,348.000000,1144.000000,364.000000,4.413500,150100.000000\n",
            "-117.370000,33.970000,38.000000,1156.000000,241.000000,877.000000,200.000000,1.451400,79900.000000\n",
            "-122.040000,37.300000,26.000000,1714.000000,270.000000,778.000000,262.000000,6.075000,417000.000000\n",
            "-118.210000,33.980000,35.000000,1705.000000,562.000000,2212.000000,539.000000,2.325000,161500.000000\n",
            "-117.320000,34.110000,38.000000,1462.000000,337.000000,1208.000000,324.000000,2.260400,68100.000000\n",
            "-118.120000,34.080000,49.000000,1782.000000,374.000000,1010.000000,367.000000,3.158300,268200.000000\n",
            "-121.560000,39.690000,8.000000,2836.000000,522.000000,1163.000000,512.000000,3.130000,168300.000000\n",
            "-117.940000,33.800000,28.000000,2914.000000,489.000000,1500.000000,499.000000,4.942900,254800.000000\n",
            "-117.980000,33.850000,23.000000,2089.000000,377.000000,1085.000000,362.000000,4.765000,181500.000000\n",
            "-122.850000,38.770000,18.000000,2856.000000,513.000000,1027.000000,405.000000,4.695300,241700.000000\n",
            "-116.240000,33.760000,9.000000,1961.000000,595.000000,966.000000,275.000000,3.812500,96700.000000\n",
            "-122.320000,37.960000,25.000000,1728.000000,403.000000,934.000000,412.000000,3.375000,133700.000000\n",
            "-118.950000,35.410000,21.000000,3999.000000,727.000000,1889.000000,688.000000,3.875000,99500.000000\n",
            "-122.420000,37.670000,42.000000,2274.000000,429.000000,1255.000000,397.000000,5.120500,226300.000000\n",
            "-118.250000,33.980000,39.000000,1553.000000,461.000000,2271.000000,437.000000,1.737800,121900.000000\n",
            "-118.400000,34.220000,36.000000,2557.000000,540.000000,1556.000000,491.000000,3.659100,183800.000000\n",
            "-120.560000,38.390000,20.000000,1326.000000,307.000000,563.000000,237.000000,2.666700,86600.000000\n",
            "-121.630000,39.100000,22.000000,3585.000000,548.000000,1757.000000,577.000000,4.174000,100100.000000\n",
            "-122.200000,37.470000,44.000000,1927.000000,332.000000,846.000000,362.000000,4.208300,278200.000000\n",
            "-122.110000,37.110000,46.000000,1993.000000,404.000000,850.000000,327.000000,5.208000,206800.000000\n",
            "-118.250000,33.840000,19.000000,1731.000000,420.000000,1032.000000,364.000000,3.812500,208100.000000\n",
            "-118.350000,34.180000,46.000000,2711.000000,491.000000,1277.000000,490.000000,4.282000,224700.000000\n",
            "-118.140000,33.860000,44.000000,1436.000000,257.000000,745.000000,233.000000,4.625000,213400.000000\n",
            "-122.260000,38.280000,24.000000,2831.000000,502.000000,1462.000000,503.000000,4.500000,158300.000000\n",
            "-120.240000,37.960000,34.000000,1747.000000,395.000000,935.000000,362.000000,1.625000,79400.000000\n",
            "-121.590000,39.740000,17.000000,1646.000000,330.000000,750.000000,344.000000,2.379800,83800.000000\n",
            "-122.720000,40.170000,16.000000,396.000000,78.000000,188.000000,72.000000,1.388900,87500.000000\n",
            "-118.480000,34.310000,31.000000,1091.000000,256.000000,892.000000,238.000000,3.000000,172400.000000\n",
            "-121.100000,38.940000,42.000000,410.000000,117.000000,706.000000,112.000000,1.017900,125000.000000\n",
            "-118.100000,33.970000,35.000000,2426.000000,529.000000,2010.000000,514.000000,2.992200,163500.000000\n",
            "-120.970000,37.670000,16.000000,1499.000000,250.000000,1292.000000,271.000000,4.385100,117300.000000\n",
            "-121.910000,36.970000,19.000000,4920.000000,1092.000000,1807.000000,922.000000,3.511200,231900.000000\n",
            "-121.470000,37.580000,14.000000,1594.000000,292.000000,887.000000,287.000000,4.662500,294000.000000\n",
            "-121.930000,37.720000,26.000000,3816.000000,637.000000,1935.000000,642.000000,4.469700,221300.000000\n",
            "-117.830000,33.790000,29.000000,1454.000000,236.000000,724.000000,262.000000,4.854200,218100.000000\n",
            "-117.890000,33.730000,33.000000,1308.000000,375.000000,2175.000000,347.000000,3.082400,177400.000000\n",
            "-117.840000,34.000000,26.000000,797.000000,117.000000,383.000000,114.000000,6.875800,253800.000000\n",
            "-116.860000,34.240000,19.000000,5411.000000,1042.000000,441.000000,185.000000,3.132400,132000.000000\n",
            "-121.280000,38.740000,33.000000,4384.000000,778.000000,1775.000000,789.000000,4.050000,134700.000000\n",
            "-119.630000,36.640000,33.000000,1036.000000,181.000000,620.000000,174.000000,3.410700,110400.000000\n",
            "-121.060000,38.250000,13.000000,651.000000,102.000000,301.000000,104.000000,3.652800,200000.000000\n",
            "-122.010000,37.400000,24.000000,1297.000000,297.000000,441.000000,282.000000,3.143900,47500.000000\n",
            "-117.220000,33.310000,12.000000,2924.000000,433.000000,1193.000000,394.000000,6.247500,331300.000000\n",
            "-116.310000,33.730000,19.000000,12467.000000,2508.000000,4086.000000,1761.000000,3.284600,131900.000000\n",
            "-121.290000,38.020000,12.000000,2006.000000,426.000000,1849.000000,396.000000,2.543700,99000.000000\n",
            "-121.000000,37.640000,52.000000,530.000000,177.000000,325.000000,158.000000,1.187500,90600.000000\n",
            "-121.080000,39.210000,17.000000,3033.000000,590.000000,1319.000000,583.000000,2.481100,111800.000000\n",
            "-121.880000,37.990000,16.000000,3787.000000,515.000000,1606.000000,507.000000,5.567600,174200.000000\n",
            "-117.180000,32.740000,20.000000,1165.000000,269.000000,459.000000,244.000000,3.175000,191700.000000\n",
            "-117.200000,32.850000,22.000000,3501.000000,631.000000,1297.000000,581.000000,4.789100,295300.000000\n",
            "-117.160000,33.920000,12.000000,3236.000000,502.000000,1610.000000,502.000000,4.756800,143500.000000\n",
            "-118.350000,34.050000,44.000000,1856.000000,493.000000,1374.000000,469.000000,2.098400,158000.000000\n",
            "-119.050000,36.060000,23.000000,2344.000000,407.000000,1184.000000,406.000000,3.162500,70600.000000\n",
            "-121.150000,38.690000,52.000000,240.000000,44.000000,6675.000000,29.000000,6.135900,225000.000000\n",
            "-123.160000,39.130000,33.000000,1320.000000,303.000000,1048.000000,303.000000,1.781300,94700.000000\n",
            "-121.360000,38.590000,32.000000,3303.000000,480.000000,1185.000000,436.000000,5.050800,225700.000000\n",
            "-118.280000,33.730000,52.000000,2085.000000,588.000000,1767.000000,516.000000,2.193500,243200.000000\n",
            "-118.360000,33.890000,27.000000,2837.000000,684.000000,2141.000000,648.000000,3.132500,215000.000000\n",
            "-121.240000,38.630000,4.000000,11021.000000,1565.000000,3857.000000,1494.000000,7.258200,273200.000000\n",
            "-117.690000,33.550000,3.000000,1618.000000,266.000000,710.000000,246.000000,6.074300,274300.000000\n",
            "-118.460000,34.270000,28.000000,1865.000000,463.000000,1182.000000,440.000000,2.619300,172300.000000\n",
            "-122.280000,37.860000,52.000000,3007.000000,691.000000,1582.000000,636.000000,2.565200,157700.000000\n",
            "-118.280000,33.940000,32.000000,1381.000000,375.000000,1268.000000,354.000000,1.105100,94200.000000\n",
            "-122.180000,37.730000,42.000000,909.000000,215.000000,646.000000,198.000000,2.906300,80000.000000\n",
            "-122.870000,38.390000,34.000000,1138.000000,205.000000,541.000000,180.000000,4.514700,271400.000000\n",
            "-119.750000,34.440000,28.000000,1080.000000,298.000000,524.000000,251.000000,1.843200,327300.000000\n",
            "-117.210000,32.850000,15.000000,2593.000000,521.000000,901.000000,456.000000,4.206500,277800.000000\n",
            "-118.200000,33.820000,34.000000,2807.000000,768.000000,2217.000000,744.000000,2.428600,204800.000000\n",
            "-121.880000,37.320000,40.000000,1331.000000,374.000000,1276.000000,389.000000,2.754600,172500.000000\n",
            "-118.460000,34.140000,34.000000,5264.000000,771.000000,1738.000000,753.000000,8.811500,500001.000000\n",
            "-118.290000,34.090000,35.000000,2198.000000,998.000000,3441.000000,912.000000,2.046700,158300.000000\n",
            "-117.880000,34.110000,30.000000,3082.000000,602.000000,2008.000000,619.000000,4.141100,182700.000000\n",
            "-117.680000,33.650000,6.000000,10395.000000,1915.000000,4783.000000,1811.000000,5.928000,239900.000000\n",
            "-120.350000,39.340000,29.000000,1986.000000,474.000000,337.000000,100.000000,4.027800,95800.000000\n",
            "-118.020000,33.820000,19.000000,2485.000000,437.000000,1286.000000,431.000000,4.746600,258300.000000\n",
            "-118.350000,33.920000,24.000000,2728.000000,845.000000,2023.000000,773.000000,2.750000,239700.000000\n",
            "-122.340000,37.970000,19.000000,2237.000000,580.000000,1438.000000,551.000000,2.338200,120700.000000\n",
            "-118.330000,34.020000,46.000000,1528.000000,391.000000,933.000000,366.000000,2.197900,125700.000000\n",
            "-118.400000,33.900000,37.000000,2458.000000,400.000000,920.000000,375.000000,7.892400,500001.000000\n",
            "-117.970000,33.730000,18.000000,3698.000000,574.000000,2046.000000,614.000000,6.298400,269800.000000\n",
            "-121.320000,38.570000,15.000000,3369.000000,499.000000,1733.000000,470.000000,5.310000,127500.000000\n",
            "-117.940000,33.880000,46.000000,1747.000000,312.000000,770.000000,296.000000,5.421700,256000.000000\n",
            "-118.540000,34.150000,26.000000,10111.000000,1295.000000,3599.000000,1257.000000,10.229200,500001.000000\n",
            "-117.860000,33.830000,23.000000,2377.000000,403.000000,1101.000000,408.000000,5.343900,227100.000000\n",
            "-119.950000,36.800000,30.000000,1233.000000,214.000000,620.000000,199.000000,3.429700,112500.000000\n",
            "-121.420000,36.860000,41.000000,440.000000,106.000000,389.000000,94.000000,2.681800,225000.000000\n",
            "-117.090000,32.690000,34.000000,1469.000000,267.000000,1031.000000,267.000000,3.458300,112700.000000\n",
            "-119.200000,34.150000,27.000000,2076.000000,681.000000,1904.000000,647.000000,1.477300,160800.000000\n",
            "-117.170000,32.760000,45.000000,3149.000000,639.000000,1160.000000,661.000000,2.726600,354200.000000\n",
            "-117.900000,33.910000,36.000000,1376.000000,257.000000,687.000000,221.000000,3.540300,195400.000000\n",
            "-122.030000,37.330000,23.000000,4221.000000,671.000000,1782.000000,641.000000,7.486300,412300.000000\n",
            "-118.180000,33.900000,31.000000,2536.000000,603.000000,2625.000000,576.000000,3.090900,150900.000000\n",
            "-119.050000,35.320000,11.000000,7035.000000,1455.000000,3525.000000,1387.000000,3.482700,93600.000000\n",
            "-119.670000,34.470000,35.000000,2700.000000,422.000000,1995.000000,383.000000,4.975700,500001.000000\n",
            "-118.350000,34.170000,44.000000,2572.000000,613.000000,1280.000000,570.000000,3.558300,232000.000000\n",
            "-118.300000,33.870000,31.000000,1398.000000,261.000000,823.000000,263.000000,5.064100,234900.000000\n",
            "-118.250000,34.160000,52.000000,2477.000000,385.000000,993.000000,371.000000,4.913500,368100.000000\n",
            "-117.910000,33.820000,29.000000,1444.000000,326.000000,1038.000000,271.000000,2.384300,182900.000000\n",
            "-118.360000,33.980000,40.000000,1113.000000,234.000000,584.000000,231.000000,3.092700,316000.000000\n",
            "-121.290000,37.990000,45.000000,965.000000,198.000000,498.000000,195.000000,1.694400,75200.000000\n",
            "-122.740000,38.460000,9.000000,2268.000000,594.000000,1311.000000,585.000000,2.660700,91500.000000\n",
            "-118.290000,33.930000,31.000000,3894.000000,1017.000000,3590.000000,962.000000,2.043700,137200.000000\n",
            "-122.050000,37.310000,25.000000,4601.000000,696.000000,2003.000000,666.000000,8.072700,455500.000000\n",
            "-117.080000,32.570000,18.000000,2203.000000,544.000000,1943.000000,497.000000,2.250000,103200.000000\n",
            "-122.040000,37.970000,10.000000,974.000000,316.000000,631.000000,286.000000,2.315200,140600.000000\n",
            "-120.310000,37.110000,38.000000,1696.000000,301.000000,985.000000,278.000000,2.405400,112500.000000\n",
            "-117.270000,34.100000,9.000000,3904.000000,1042.000000,3688.000000,896.000000,1.802200,78000.000000\n",
            "-118.260000,33.950000,44.000000,1481.000000,329.000000,999.000000,315.000000,1.514700,94600.000000\n",
            "-118.110000,34.160000,52.000000,1353.000000,274.000000,852.000000,306.000000,3.458300,239900.000000\n",
            "-118.340000,33.990000,34.000000,397.000000,132.000000,250.000000,121.000000,1.675000,166700.000000\n",
            "-117.890000,33.600000,40.000000,1639.000000,352.000000,498.000000,278.000000,5.633600,500001.000000\n",
            "-119.720000,34.420000,52.000000,1759.000000,387.000000,980.000000,402.000000,4.012500,261000.000000\n",
            "-118.440000,34.180000,36.000000,2077.000000,496.000000,1206.000000,528.000000,2.232600,221000.000000\n",
            "-122.080000,37.970000,9.000000,2643.000000,439.000000,1105.000000,467.000000,6.657900,245200.000000\n",
            "-122.450000,37.760000,50.000000,2518.000000,507.000000,979.000000,516.000000,4.691200,500001.000000\n",
            "-118.220000,33.940000,41.000000,928.000000,249.000000,1108.000000,236.000000,3.432300,144600.000000\n",
            "-118.330000,34.070000,52.000000,1482.000000,171.000000,531.000000,161.000000,15.000100,500001.000000\n",
            "-117.660000,34.050000,14.000000,2644.000000,525.000000,2021.000000,511.000000,3.646700,147500.000000\n",
            "-120.940000,35.420000,18.000000,3418.000000,686.000000,970.000000,453.000000,3.773800,279400.000000\n",
            "-117.300000,34.050000,6.000000,2155.000000,544.000000,1039.000000,391.000000,1.667500,95800.000000\n",
            "-117.920000,33.640000,5.000000,949.000000,287.000000,497.000000,244.000000,2.750000,225000.000000\n",
            "-118.190000,33.990000,37.000000,2073.000000,614.000000,2544.000000,598.000000,2.905400,156300.000000\n",
            "-122.080000,37.940000,44.000000,2185.000000,357.000000,943.000000,366.000000,4.725000,232100.000000\n",
            "-117.720000,34.090000,33.000000,4979.000000,934.000000,2575.000000,874.000000,3.795800,152500.000000\n",
            "-118.190000,34.080000,35.000000,1554.000000,381.000000,1487.000000,374.000000,1.903800,139500.000000\n",
            "-122.240000,38.110000,42.000000,1743.000000,388.000000,889.000000,341.000000,2.324100,99200.000000\n",
            "-121.810000,37.230000,17.000000,2319.000000,324.000000,1076.000000,338.000000,6.466400,278300.000000\n",
            "-118.340000,34.180000,45.000000,3046.000000,633.000000,1448.000000,599.000000,3.240000,226900.000000\n",
            "-120.570000,38.200000,13.000000,4110.000000,847.000000,1796.000000,706.000000,2.641700,122300.000000\n",
            "-120.450000,34.640000,30.000000,2330.000000,422.000000,1255.000000,449.000000,3.851200,134600.000000\n",
            "-118.250000,33.950000,25.000000,764.000000,200.000000,801.000000,220.000000,1.138400,100000.000000\n",
            "-117.950000,33.900000,15.000000,3057.000000,479.000000,1679.000000,498.000000,6.842900,372600.000000\n",
            "-117.200000,33.120000,18.000000,4372.000000,736.000000,1473.000000,675.000000,5.119400,247800.000000\n",
            "-117.300000,34.530000,38.000000,1643.000000,489.000000,1196.000000,406.000000,1.227500,64100.000000\n",
            "-121.870000,37.270000,18.000000,3561.000000,560.000000,1753.000000,553.000000,5.029200,269400.000000\n",
            "-118.280000,34.030000,40.000000,2118.000000,796.000000,2195.000000,658.000000,1.797600,164600.000000\n",
            "-119.770000,36.440000,26.000000,1727.000000,289.000000,802.000000,259.000000,3.208300,75000.000000\n",
            "-122.380000,40.090000,16.000000,2077.000000,388.000000,1155.000000,389.000000,3.136100,84800.000000\n",
            "-118.900000,34.180000,14.000000,2627.000000,328.000000,1121.000000,328.000000,7.050400,333800.000000\n",
            "-121.010000,37.250000,16.000000,2216.000000,458.000000,1135.000000,424.000000,2.731600,97500.000000\n",
            "-116.980000,32.720000,15.000000,4209.000000,680.000000,1914.000000,641.000000,4.513500,158300.000000\n",
            "-119.980000,38.920000,28.000000,1408.000000,312.000000,522.000000,221.000000,2.070800,89600.000000\n",
            "-121.930000,37.720000,26.000000,2806.000000,459.000000,1453.000000,444.000000,4.910700,213800.000000\n",
            "-117.640000,34.090000,34.000000,2839.000000,659.000000,1822.000000,631.000000,3.050000,121300.000000\n",
            "-119.850000,37.390000,14.000000,2744.000000,555.000000,1153.000000,474.000000,2.753000,111100.000000\n",
            "-118.200000,33.980000,43.000000,1091.000000,320.000000,1418.000000,316.000000,2.152200,159400.000000\n",
            "-120.830000,37.070000,16.000000,3736.000000,761.000000,1942.000000,730.000000,2.559800,120200.000000\n",
            "-117.070000,32.580000,25.000000,1607.000000,280.000000,899.000000,260.000000,3.819400,134400.000000\n",
            "-119.050000,35.340000,14.000000,3580.000000,984.000000,1933.000000,912.000000,2.663700,175000.000000\n",
            "-117.570000,34.150000,3.000000,12806.000000,2219.000000,4249.000000,1499.000000,5.485000,343100.000000\n",
            "-121.370000,38.670000,36.000000,1786.000000,338.000000,974.000000,319.000000,2.555000,72700.000000\n",
            "-122.180000,37.700000,36.000000,2639.000000,533.000000,1209.000000,519.000000,4.026800,205500.000000\n",
            "-116.940000,32.810000,8.000000,2517.000000,632.000000,1686.000000,613.000000,2.136000,143500.000000\n",
            "-121.210000,39.240000,7.000000,4194.000000,673.000000,1355.000000,566.000000,4.370200,226100.000000\n",
            "-122.060000,37.710000,36.000000,3541.000000,570.000000,1478.000000,529.000000,4.635000,248600.000000\n",
            "-118.440000,34.190000,11.000000,2891.000000,951.000000,2166.000000,768.000000,2.891000,178100.000000\n",
            "-122.360000,37.720000,10.000000,479.000000,125.000000,355.000000,108.000000,2.708300,180400.000000\n",
            "-121.320000,38.620000,29.000000,2430.000000,448.000000,1087.000000,394.000000,3.086400,177900.000000\n",
            "-118.270000,33.940000,43.000000,1309.000000,344.000000,1182.000000,340.000000,1.662500,88700.000000\n",
            "-122.040000,37.970000,39.000000,1323.000000,245.000000,705.000000,261.000000,3.196800,151000.000000\n",
            "-118.210000,33.960000,39.000000,2050.000000,529.000000,1959.000000,485.000000,2.138900,168900.000000\n",
            "-117.200000,33.580000,2.000000,30450.000000,5033.000000,9419.000000,3197.000000,4.593600,174300.000000\n",
            "-120.500000,37.370000,18.000000,8606.000000,1678.000000,5303.000000,1644.000000,2.401200,79700.000000\n",
            "-118.170000,33.980000,36.000000,627.000000,177.000000,834.000000,175.000000,2.984400,163600.000000\n",
            "-117.880000,33.830000,22.000000,3522.000000,543.000000,1706.000000,524.000000,6.468500,241200.000000\n",
            "-118.290000,33.990000,46.000000,2198.000000,530.000000,2067.000000,497.000000,2.054200,103400.000000\n",
            "-117.420000,34.100000,18.000000,3977.000000,809.000000,2231.000000,742.000000,4.139900,115400.000000\n",
            "-116.960000,32.710000,18.000000,2413.000000,533.000000,1129.000000,551.000000,2.456700,155000.000000\n",
            "-118.360000,34.070000,52.000000,2046.000000,451.000000,944.000000,435.000000,3.426500,456900.000000\n",
            "-122.260000,38.330000,34.000000,2048.000000,316.000000,780.000000,267.000000,5.815000,339200.000000\n",
            "-120.510000,37.290000,20.000000,4927.000000,1042.000000,4205.000000,1009.000000,1.767900,79800.000000\n",
            "-117.940000,33.620000,25.000000,1188.000000,264.000000,569.000000,249.000000,3.660700,500001.000000\n",
            "-118.270000,33.940000,30.000000,1041.000000,275.000000,877.000000,270.000000,1.526800,91600.000000\n",
            "-117.930000,34.090000,37.000000,1185.000000,225.000000,769.000000,235.000000,4.462500,154200.000000\n",
            "-118.220000,33.920000,43.000000,1195.000000,256.000000,1251.000000,262.000000,3.453900,125000.000000\n",
            "-121.840000,37.320000,16.000000,1866.000000,364.000000,1835.000000,412.000000,5.336300,212800.000000\n",
            "-122.030000,37.830000,24.000000,5948.000000,738.000000,1997.000000,710.000000,9.870800,500001.000000\n",
            "-122.460000,38.290000,21.000000,2423.000000,560.000000,1098.000000,503.000000,2.364000,173300.000000\n",
            "-118.320000,34.010000,50.000000,1842.000000,377.000000,817.000000,341.000000,3.154800,157700.000000\n",
            "-118.020000,33.950000,35.000000,2085.000000,400.000000,1112.000000,391.000000,3.488600,173900.000000\n",
            "-118.310000,34.190000,13.000000,3801.000000,1116.000000,1986.000000,1078.000000,2.087500,222700.000000\n",
            "-117.800000,34.100000,13.000000,2996.000000,495.000000,1187.000000,464.000000,6.245600,161700.000000\n",
            "-118.460000,34.260000,33.000000,1358.000000,247.000000,738.000000,235.000000,5.094700,210300.000000\n",
            "-121.940000,37.340000,41.000000,2151.000000,473.000000,1092.000000,469.000000,3.732100,250000.000000\n",
            "-117.640000,33.870000,2.000000,17470.000000,2727.000000,5964.000000,1985.000000,6.230800,257900.000000\n",
            "-117.900000,34.110000,23.000000,4776.000000,1316.000000,4797.000000,1187.000000,2.166700,142600.000000\n",
            "-118.340000,34.110000,51.000000,937.000000,348.000000,527.000000,333.000000,4.357100,468800.000000\n",
            "-122.310000,37.560000,45.000000,1685.000000,321.000000,815.000000,314.000000,4.295500,309700.000000\n",
            "-118.360000,34.210000,41.000000,337.000000,65.000000,198.000000,50.000000,1.892900,152900.000000\n",
            "-122.450000,37.710000,45.000000,2253.000000,431.000000,1382.000000,392.000000,4.256200,221600.000000\n",
            "-118.680000,34.130000,9.000000,11251.000000,1594.000000,3029.000000,1227.000000,6.727300,500001.000000\n",
            "-119.640000,36.850000,15.000000,2397.000000,353.000000,1258.000000,347.000000,4.990400,157300.000000\n",
            "-122.160000,37.760000,45.000000,2299.000000,514.000000,1437.000000,484.000000,2.512200,95500.000000\n",
            "-117.990000,33.670000,19.000000,3808.000000,790.000000,1776.000000,756.000000,4.625000,282200.000000\n",
            "-121.830000,37.400000,27.000000,1145.000000,150.000000,492.000000,160.000000,5.716000,348300.000000\n",
            "-118.190000,35.050000,14.000000,2992.000000,573.000000,1631.000000,526.000000,3.745200,83200.000000\n",
            "-118.030000,33.770000,24.000000,3810.000000,579.000000,1818.000000,590.000000,5.805300,255900.000000\n",
            "-122.260000,37.820000,22.000000,3682.000000,1270.000000,2024.000000,1250.000000,1.218500,170000.000000\n",
            "-118.370000,33.930000,46.000000,442.000000,88.000000,255.000000,94.000000,4.447400,246900.000000\n",
            "-118.220000,34.050000,43.000000,1153.000000,411.000000,1667.000000,409.000000,1.940200,139300.000000\n",
            "-122.490000,37.680000,34.000000,3718.000000,676.000000,2510.000000,632.000000,5.331100,270800.000000\n",
            "-116.510000,33.840000,16.000000,980.000000,193.000000,454.000000,185.000000,4.072900,100000.000000\n",
            "-121.880000,37.660000,29.000000,2702.000000,680.000000,1360.000000,642.000000,3.112700,233000.000000\n",
            "-122.440000,37.800000,52.000000,2869.000000,594.000000,500.000000,335.000000,5.037600,500001.000000\n",
            "-121.340000,38.050000,16.000000,667.000000,92.000000,267.000000,90.000000,5.614700,244700.000000\n",
            "-117.870000,33.840000,16.000000,1545.000000,354.000000,730.000000,350.000000,4.511200,139000.000000\n",
            "-122.280000,37.890000,52.000000,2315.000000,408.000000,835.000000,369.000000,4.589300,290100.000000\n",
            "-121.830000,37.990000,18.000000,2741.000000,449.000000,1507.000000,460.000000,4.756600,142500.000000\n",
            "-119.530000,36.650000,43.000000,1676.000000,320.000000,1056.000000,276.000000,2.556200,93200.000000\n",
            "-117.390000,34.090000,10.000000,5736.000000,945.000000,3528.000000,932.000000,4.395800,130700.000000\n",
            "-118.230000,33.900000,45.000000,1285.000000,238.000000,840.000000,211.000000,3.410700,112500.000000\n",
            "-121.320000,38.670000,21.000000,3455.000000,706.000000,1605.000000,704.000000,3.138200,91600.000000\n",
            "-118.330000,34.050000,46.000000,3015.000000,795.000000,2300.000000,725.000000,2.070600,268500.000000\n",
            "-122.210000,37.840000,44.000000,3424.000000,597.000000,1358.000000,597.000000,6.019400,292300.000000\n",
            "-117.900000,34.530000,8.000000,3484.000000,647.000000,2169.000000,619.000000,3.976600,135800.000000\n",
            "-122.470000,37.510000,15.000000,4974.000000,764.000000,2222.000000,774.000000,6.760600,364300.000000\n",
            "-118.020000,33.770000,7.000000,586.000000,118.000000,232.000000,107.000000,5.207700,181300.000000\n",
            "-119.730000,34.430000,35.000000,2703.000000,654.000000,1383.000000,631.000000,4.527800,340400.000000\n",
            "-120.680000,35.140000,34.000000,3100.000000,617.000000,1155.000000,542.000000,3.093800,245900.000000\n",
            "-122.470000,38.290000,14.000000,3732.000000,846.000000,1277.000000,775.000000,2.565800,208000.000000\n",
            "-121.900000,37.350000,52.000000,1034.000000,239.000000,531.000000,223.000000,2.741100,227100.000000\n",
            "-121.870000,37.260000,17.000000,1051.000000,172.000000,446.000000,173.000000,5.665200,234500.000000\n",
            "-117.970000,33.890000,15.000000,3801.000000,542.000000,1992.000000,526.000000,9.068300,367400.000000\n",
            "-116.870000,33.910000,37.000000,1858.000000,361.000000,1632.000000,310.000000,2.753600,73100.000000\n",
            "-122.150000,37.470000,38.000000,1560.000000,301.000000,1331.000000,316.000000,3.052100,151500.000000\n",
            "-118.310000,34.010000,52.000000,2547.000000,475.000000,1417.000000,444.000000,1.821400,123200.000000\n",
            "-118.440000,34.040000,49.000000,32.000000,7.000000,14.000000,7.000000,2.187500,225000.000000\n",
            "-118.010000,33.850000,29.000000,2064.000000,447.000000,1265.000000,400.000000,3.886400,209300.000000\n",
            "-122.270000,41.200000,52.000000,4513.000000,985.000000,1926.000000,815.000000,1.592300,56000.000000\n",
            "-122.320000,37.560000,49.000000,2016.000000,299.000000,691.000000,288.000000,5.549000,500001.000000\n",
            "-119.770000,36.720000,43.000000,1763.000000,389.000000,1623.000000,390.000000,1.442700,47700.000000\n",
            "-122.140000,37.840000,24.000000,2131.000000,343.000000,874.000000,373.000000,5.634900,355600.000000\n",
            "-118.340000,34.090000,14.000000,3032.000000,999.000000,1691.000000,841.000000,2.200000,210000.000000\n",
            "-117.610000,34.340000,18.000000,5210.000000,912.000000,1301.000000,464.000000,4.862300,176900.000000\n",
            "-118.230000,33.760000,21.000000,49.000000,14.000000,29.000000,16.000000,5.000000,87500.000000\n",
            "-117.890000,33.770000,32.000000,2342.000000,570.000000,1445.000000,453.000000,4.195100,195000.000000\n",
            "-118.260000,33.910000,39.000000,967.000000,256.000000,903.000000,256.000000,1.903800,93100.000000\n",
            "-118.400000,33.990000,39.000000,1613.000000,380.000000,1113.000000,356.000000,2.825000,276700.000000\n",
            "-117.140000,32.920000,15.000000,1558.000000,314.000000,949.000000,332.000000,5.286400,174400.000000\n",
            "-118.150000,33.770000,52.000000,2204.000000,498.000000,899.000000,445.000000,4.176500,393900.000000\n",
            "-118.590000,34.210000,17.000000,2737.000000,868.000000,2924.000000,785.000000,2.579700,183500.000000\n",
            "-121.370000,36.830000,14.000000,3658.000000,612.000000,1951.000000,600.000000,4.760000,216000.000000\n",
            "-120.480000,35.020000,17.000000,2721.000000,477.000000,1672.000000,492.000000,2.979800,204800.000000\n",
            "-118.440000,34.210000,41.000000,1440.000000,325.000000,1014.000000,322.000000,2.875000,168600.000000\n",
            "-122.320000,38.330000,17.000000,851.000000,118.000000,370.000000,123.000000,5.087700,209300.000000\n",
            "-121.870000,37.280000,21.000000,3305.000000,749.000000,2459.000000,701.000000,3.968800,249600.000000\n",
            "-117.100000,33.070000,16.000000,2402.000000,336.000000,1080.000000,365.000000,8.680300,347300.000000\n",
            "-118.030000,33.760000,25.000000,4650.000000,849.000000,2503.000000,790.000000,5.742000,221900.000000\n",
            "-122.400000,37.730000,48.000000,1489.000000,326.000000,1115.000000,356.000000,2.636400,199300.000000\n",
            "-118.340000,34.120000,41.000000,3257.000000,679.000000,1237.000000,638.000000,4.241500,409600.000000\n",
            "-121.040000,39.240000,48.000000,1188.000000,227.000000,471.000000,219.000000,2.312500,125700.000000\n",
            "-117.970000,33.910000,19.000000,8096.000000,1318.000000,3853.000000,1313.000000,6.007600,269500.000000\n",
            "-117.100000,32.680000,45.000000,1183.000000,289.000000,900.000000,266.000000,2.494300,99600.000000\n",
            "-116.610000,33.930000,35.000000,321.000000,71.000000,157.000000,61.000000,2.805600,68100.000000\n",
            "-118.390000,34.080000,27.000000,6605.000000,1710.000000,2665.000000,1520.000000,3.808800,500001.000000\n",
            "-121.230000,38.650000,19.000000,2926.000000,476.000000,1349.000000,480.000000,4.643700,212900.000000\n",
            "-122.200000,37.790000,29.000000,1640.000000,376.000000,939.000000,340.000000,2.832100,150000.000000\n",
            "-117.180000,32.830000,23.000000,2105.000000,525.000000,1218.000000,484.000000,3.375000,184100.000000\n",
            "-118.080000,33.770000,26.000000,2461.000000,562.000000,971.000000,544.000000,2.194400,87500.000000\n",
            "-120.450000,34.660000,7.000000,3329.000000,504.000000,1462.000000,452.000000,4.787500,198300.000000\n",
            "-117.820000,33.680000,4.000000,1346.000000,213.000000,603.000000,219.000000,8.797400,360600.000000\n",
            "-121.920000,36.610000,27.000000,1619.000000,352.000000,831.000000,344.000000,4.300000,226400.000000\n",
            "-122.010000,37.530000,19.000000,4572.000000,712.000000,2346.000000,709.000000,6.066700,245700.000000\n",
            "-118.270000,33.950000,34.000000,987.000000,248.000000,902.000000,221.000000,2.336500,98000.000000\n",
            "-119.960000,38.940000,27.000000,1492.000000,393.000000,717.000000,254.000000,1.890600,104200.000000\n",
            "-121.420000,36.570000,13.000000,2685.000000,621.000000,2474.000000,573.000000,2.877500,134100.000000\n",
            "-120.960000,37.660000,15.000000,2485.000000,434.000000,1296.000000,434.000000,3.854200,145200.000000\n",
            "-118.650000,34.200000,23.000000,7480.000000,1084.000000,3037.000000,1058.000000,6.922300,338400.000000\n",
            "-122.310000,38.000000,29.000000,3108.000000,534.000000,1687.000000,516.000000,4.333300,170800.000000\n",
            "-118.350000,34.070000,48.000000,890.000000,255.000000,434.000000,232.000000,3.611100,450000.000000\n",
            "-118.190000,33.790000,29.000000,3497.000000,1096.000000,2994.000000,919.000000,1.810900,137500.000000\n",
            "-122.140000,37.410000,35.000000,2419.000000,426.000000,949.000000,433.000000,6.458800,437100.000000\n",
            "-119.810000,36.710000,25.000000,1026.000000,221.000000,789.000000,183.000000,1.562500,52800.000000\n",
            "-117.180000,32.680000,29.000000,1539.000000,344.000000,556.000000,289.000000,3.250000,500001.000000\n",
            "-117.770000,34.080000,27.000000,5929.000000,932.000000,2817.000000,828.000000,6.043400,214800.000000\n",
            "-118.110000,33.860000,33.000000,2389.000000,410.000000,1229.000000,393.000000,5.388900,234900.000000\n",
            "-118.280000,34.090000,52.000000,1739.000000,464.000000,938.000000,482.000000,2.442900,228800.000000\n",
            "-117.930000,34.040000,30.000000,1336.000000,239.000000,905.000000,253.000000,4.885400,178100.000000\n",
            "-117.050000,32.760000,37.000000,4879.000000,906.000000,2076.000000,871.000000,3.662500,154800.000000\n",
            "-118.250000,33.870000,18.000000,6812.000000,1263.000000,3704.000000,1216.000000,4.250000,169200.000000\n",
            "-122.410000,37.780000,52.000000,254.000000,72.000000,153.000000,29.000000,3.862500,350000.000000\n",
            "-119.720000,34.470000,34.000000,3262.000000,533.000000,1265.000000,502.000000,5.841100,381800.000000\n",
            "-118.120000,34.150000,22.000000,1671.000000,480.000000,1005.000000,443.000000,3.011900,171400.000000\n",
            "-122.210000,37.830000,40.000000,4991.000000,674.000000,1616.000000,654.000000,7.554400,411500.000000\n",
            "-119.380000,36.560000,14.000000,3965.000000,804.000000,1945.000000,733.000000,2.690600,95300.000000\n",
            "-118.380000,34.280000,22.000000,4428.000000,825.000000,3152.000000,836.000000,4.793200,166300.000000\n",
            "-117.340000,34.120000,26.000000,1008.000000,164.000000,568.000000,196.000000,3.351600,105600.000000\n",
            "-122.060000,37.390000,22.000000,1236.000000,290.000000,413.000000,274.000000,3.687500,40000.000000\n",
            "-118.460000,34.070000,49.000000,2418.000000,301.000000,850.000000,318.000000,14.286700,500001.000000\n",
            "-117.900000,34.150000,21.000000,2056.000000,461.000000,1332.000000,429.000000,3.394200,212800.000000\n",
            "-123.470000,39.800000,18.000000,2130.000000,545.000000,863.000000,346.000000,2.357100,79200.000000\n",
            "-121.910000,37.250000,31.000000,1944.000000,343.000000,975.000000,334.000000,4.920500,240500.000000\n",
            "-122.320000,38.320000,22.000000,2483.000000,528.000000,1478.000000,492.000000,4.087800,164400.000000\n",
            "-118.140000,33.880000,30.000000,2596.000000,580.000000,1662.000000,539.000000,4.050700,179500.000000\n",
            "-117.820000,33.810000,25.000000,2662.000000,402.000000,1247.000000,401.000000,5.439500,244000.000000\n",
            "-118.270000,34.070000,38.000000,1270.000000,556.000000,1692.000000,450.000000,1.870000,170800.000000\n",
            "-117.440000,33.950000,31.000000,914.000000,177.000000,556.000000,161.000000,3.734400,115300.000000\n",
            "-118.100000,34.070000,36.000000,1240.000000,349.000000,1383.000000,338.000000,2.493100,170300.000000\n",
            "-121.830000,37.370000,43.000000,1461.000000,284.000000,800.000000,258.000000,3.227900,182400.000000\n",
            "-120.900000,35.330000,16.000000,1576.000000,287.000000,595.000000,262.000000,3.588000,266300.000000\n",
            "-121.750000,36.920000,48.000000,1801.000000,353.000000,1071.000000,361.000000,3.600000,194500.000000\n",
            "-117.910000,33.650000,24.000000,885.000000,321.000000,590.000000,254.000000,2.625000,217900.000000\n",
            "-117.200000,32.800000,33.000000,2573.000000,436.000000,1084.000000,443.000000,4.241700,294100.000000\n",
            "-118.230000,34.180000,43.000000,1708.000000,280.000000,768.000000,276.000000,6.207000,457400.000000\n",
            "-118.320000,33.930000,34.000000,1536.000000,273.000000,804.000000,287.000000,4.961500,157800.000000\n",
            "-117.760000,34.120000,16.000000,9020.000000,1509.000000,3575.000000,1486.000000,4.241500,275700.000000\n",
            "-118.450000,34.230000,25.000000,4393.000000,1369.000000,3781.000000,1267.000000,2.583300,183700.000000\n",
            "-122.450000,41.280000,15.000000,2740.000000,503.000000,1188.000000,445.000000,3.451900,128800.000000\n",
            "-118.330000,34.010000,43.000000,2227.000000,564.000000,956.000000,472.000000,2.021700,187500.000000\n",
            "-124.160000,40.790000,46.000000,3042.000000,597.000000,1206.000000,541.000000,2.113500,90600.000000\n",
            "-118.140000,34.060000,37.000000,1339.000000,258.000000,706.000000,238.000000,4.756900,253800.000000\n",
            "-121.140000,38.770000,15.000000,10282.000000,1333.000000,3868.000000,1300.000000,6.478900,287800.000000\n",
            "-117.750000,33.830000,14.000000,2452.000000,296.000000,954.000000,275.000000,8.237500,388300.000000\n",
            "-122.120000,37.690000,30.000000,1197.000000,269.000000,695.000000,279.000000,3.437500,157800.000000\n",
            "-117.790000,34.070000,33.000000,1694.000000,333.000000,1689.000000,301.000000,3.758300,116300.000000\n",
            "-118.410000,34.090000,37.000000,2716.000000,302.000000,809.000000,291.000000,15.000100,500001.000000\n",
            "-118.530000,34.440000,19.000000,1285.000000,195.000000,650.000000,193.000000,6.039800,217800.000000\n",
            "-120.780000,38.740000,28.000000,4236.000000,877.000000,2008.000000,881.000000,2.160300,111300.000000\n",
            "-122.350000,37.580000,26.000000,854.000000,246.000000,396.000000,231.000000,2.839300,375000.000000\n",
            "-119.720000,36.820000,15.000000,946.000000,239.000000,550.000000,246.000000,2.263900,52500.000000\n",
            "-118.140000,34.010000,42.000000,1973.000000,510.000000,1841.000000,502.000000,2.532600,156500.000000\n",
            "-117.120000,32.750000,25.000000,2222.000000,634.000000,1025.000000,568.000000,1.640000,130000.000000\n",
            "-117.900000,34.130000,37.000000,1801.000000,422.000000,1564.000000,425.000000,3.159700,133000.000000\n",
            "-117.390000,33.690000,5.000000,6529.000000,997.000000,3464.000000,1006.000000,5.327500,168700.000000\n",
            "-122.450000,40.610000,17.000000,785.000000,155.000000,417.000000,136.000000,2.328900,58200.000000\n",
            "-117.120000,34.210000,19.000000,4641.000000,994.000000,1334.000000,474.000000,4.597200,123900.000000\n",
            "-122.760000,38.460000,14.000000,4742.000000,756.000000,2149.000000,732.000000,4.515200,199200.000000\n",
            "-118.190000,34.120000,46.000000,3387.000000,820.000000,2833.000000,813.000000,2.987000,176900.000000\n",
            "-118.310000,34.060000,36.000000,369.000000,147.000000,145.000000,136.000000,0.880400,450000.000000\n",
            "-122.340000,37.950000,45.000000,1128.000000,240.000000,702.000000,270.000000,3.671900,134100.000000\n",
            "-118.220000,34.660000,17.000000,3810.000000,662.000000,1867.000000,586.000000,4.900000,152400.000000\n",
            "-118.290000,34.050000,40.000000,907.000000,349.000000,1426.000000,323.000000,1.857100,143800.000000\n",
            "-117.960000,33.870000,37.000000,1785.000000,360.000000,1155.000000,403.000000,4.798400,175800.000000\n",
            "-119.570000,34.380000,22.000000,2512.000000,426.000000,919.000000,341.000000,5.759000,425000.000000\n",
            "-118.280000,33.750000,41.000000,1305.000000,381.000000,1384.000000,369.000000,2.450000,186800.000000\n",
            "-121.890000,38.010000,32.000000,1000.000000,188.000000,663.000000,212.000000,4.097200,99200.000000\n",
            "-118.130000,34.160000,52.000000,1872.000000,357.000000,984.000000,364.000000,4.000000,250400.000000\n",
            "-118.040000,34.180000,37.000000,3134.000000,532.000000,1220.000000,508.000000,5.286500,455400.000000\n",
            "-123.220000,39.160000,32.000000,1149.000000,187.000000,499.000000,208.000000,3.658700,154600.000000\n",
            "-120.690000,38.440000,13.000000,1473.000000,265.000000,597.000000,228.000000,4.291700,121300.000000\n",
            "-118.040000,33.800000,33.000000,2685.000000,466.000000,1359.000000,476.000000,5.026100,245100.000000\n",
            "-119.800000,36.730000,45.000000,925.000000,231.000000,797.000000,228.000000,1.701100,44800.000000\n",
            "-117.490000,33.910000,17.000000,5364.000000,1020.000000,3754.000000,936.000000,3.285700,139100.000000\n",
            "-118.340000,34.010000,37.000000,4291.000000,1102.000000,1941.000000,953.000000,1.794500,106300.000000\n",
            "-118.370000,34.190000,41.000000,2924.000000,867.000000,2751.000000,836.000000,2.100000,171600.000000\n",
            "-117.270000,34.450000,8.000000,6463.000000,1095.000000,3213.000000,1031.000000,3.221500,108800.000000\n",
            "-120.450000,34.870000,4.000000,1533.000000,221.000000,545.000000,191.000000,7.569600,328700.000000\n",
            "-122.320000,37.520000,26.000000,4042.000000,591.000000,1611.000000,578.000000,8.469300,419200.000000\n",
            "-121.420000,38.490000,17.000000,13180.000000,2444.000000,7235.000000,2335.000000,3.363000,103000.000000\n",
            "-115.570000,32.780000,29.000000,2321.000000,367.000000,1173.000000,360.000000,4.037500,86400.000000\n",
            "-118.470000,33.990000,52.000000,2167.000000,622.000000,1095.000000,570.000000,2.851400,358700.000000\n",
            "-118.270000,33.960000,42.000000,796.000000,203.000000,697.000000,177.000000,2.037000,92600.000000\n",
            "-118.050000,33.900000,41.000000,550.000000,129.000000,642.000000,125.000000,1.875000,119900.000000\n",
            "-118.960000,35.400000,28.000000,4667.000000,875.000000,2404.000000,841.000000,3.232500,89000.000000\n",
            "-117.130000,32.980000,5.000000,2276.000000,311.000000,1158.000000,317.000000,6.432100,271900.000000\n",
            "-122.040000,37.610000,36.000000,1151.000000,216.000000,727.000000,215.000000,4.171900,187000.000000\n",
            "-116.580000,33.090000,36.000000,992.000000,224.000000,334.000000,126.000000,3.008900,134400.000000\n",
            "-121.980000,38.250000,4.000000,2487.000000,440.000000,1545.000000,452.000000,4.910300,140400.000000\n",
            "-122.300000,37.920000,32.000000,3943.000000,605.000000,1524.000000,614.000000,6.067700,321600.000000\n",
            "-121.570000,39.480000,15.000000,202.000000,54.000000,145.000000,40.000000,0.825200,42500.000000\n",
            "-118.090000,33.920000,36.000000,847.000000,185.000000,713.000000,194.000000,4.854200,167400.000000\n",
            "-117.710000,33.610000,25.000000,3004.000000,718.000000,891.000000,626.000000,2.395000,80300.000000\n",
            "-118.210000,33.900000,41.000000,941.000000,233.000000,973.000000,253.000000,1.958300,102300.000000\n",
            "-118.290000,34.170000,52.000000,1732.000000,305.000000,875.000000,311.000000,4.325000,292600.000000\n",
            "-118.950000,35.400000,23.000000,4483.000000,894.000000,2136.000000,883.000000,3.687500,101700.000000\n",
            "-117.410000,34.230000,17.000000,889.000000,131.000000,439.000000,141.000000,6.142600,155000.000000\n",
            "-121.920000,36.570000,42.000000,3944.000000,738.000000,1374.000000,598.000000,4.174000,394400.000000\n",
            "-121.640000,39.150000,15.000000,2659.000000,396.000000,1159.000000,407.000000,5.234000,124900.000000\n",
            "-120.920000,37.630000,39.000000,45.000000,8.000000,22.000000,9.000000,1.767900,450000.000000\n",
            "-122.270000,37.840000,52.000000,1688.000000,337.000000,853.000000,325.000000,2.180600,99700.000000\n",
            "-118.270000,34.100000,51.000000,3149.000000,519.000000,1082.000000,510.000000,6.445900,421600.000000\n",
            "-121.810000,37.240000,21.000000,3250.000000,610.000000,1978.000000,568.000000,4.500000,234400.000000\n",
            "-114.620000,33.620000,26.000000,18.000000,3.000000,5.000000,3.000000,0.536000,275000.000000\n",
            "-118.090000,34.710000,5.000000,5807.000000,1182.000000,2602.000000,1007.000000,2.401200,159400.000000\n",
            "-118.200000,34.020000,48.000000,2230.000000,593.000000,2419.000000,598.000000,2.394400,130700.000000\n",
            "-119.620000,36.590000,17.000000,2287.000000,390.000000,1330.000000,393.000000,4.019700,88000.000000\n",
            "-118.410000,34.190000,42.000000,779.000000,145.000000,450.000000,148.000000,3.979200,193800.000000\n",
            "-118.300000,33.980000,48.000000,1998.000000,410.000000,1176.000000,382.000000,3.045500,102400.000000\n",
            "-117.330000,34.120000,38.000000,1703.000000,385.000000,1356.000000,363.000000,2.039100,70400.000000\n",
            "-118.500000,34.020000,28.000000,5109.000000,1482.000000,2313.000000,1451.000000,3.326600,483300.000000\n",
            "-118.070000,33.920000,36.000000,1560.000000,320.000000,1348.000000,314.000000,3.622000,174000.000000\n",
            "-117.130000,32.580000,27.000000,2511.000000,615.000000,1427.000000,576.000000,3.164500,156000.000000\n",
            "-117.270000,34.490000,7.000000,2344.000000,351.000000,846.000000,314.000000,4.736100,174500.000000\n",
            "-121.450000,38.600000,44.000000,2324.000000,413.000000,823.000000,375.000000,4.662500,158900.000000\n",
            "-121.980000,37.220000,46.000000,10088.000000,1910.000000,3728.000000,1781.000000,5.232100,500001.000000\n",
            "-120.310000,36.650000,24.000000,943.000000,209.000000,514.000000,156.000000,2.250000,76600.000000\n",
            "-117.950000,33.840000,32.000000,1378.000000,492.000000,1202.000000,448.000000,3.402800,183700.000000\n",
            "-119.700000,36.800000,34.000000,1768.000000,303.000000,888.000000,314.000000,3.808800,87700.000000\n",
            "-121.880000,37.430000,17.000000,3469.000000,896.000000,2762.000000,808.000000,3.388400,245800.000000\n",
            "-118.430000,34.260000,37.000000,1269.000000,348.000000,1835.000000,335.000000,3.258300,147200.000000\n",
            "-121.890000,37.350000,48.000000,1562.000000,439.000000,1469.000000,424.000000,2.567300,177500.000000\n",
            "-121.330000,38.040000,15.000000,2903.000000,440.000000,1325.000000,423.000000,4.517900,145600.000000\n",
            "-123.730000,39.170000,20.000000,4620.000000,1042.000000,1745.000000,794.000000,2.375000,158800.000000\n",
            "-118.040000,33.970000,34.000000,1759.000000,431.000000,1282.000000,391.000000,3.049100,158200.000000\n",
            "-118.150000,34.190000,48.000000,1854.000000,360.000000,1126.000000,382.000000,3.221600,161600.000000\n",
            "-118.110000,34.020000,17.000000,9559.000000,1911.000000,5279.000000,1844.000000,5.151500,318900.000000\n",
            "-121.200000,38.670000,10.000000,3875.000000,668.000000,1632.000000,593.000000,4.690200,171000.000000\n",
            "-118.390000,34.120000,29.000000,6447.000000,1012.000000,2184.000000,960.000000,8.281600,500001.000000\n",
            "-118.370000,34.060000,52.000000,2239.000000,423.000000,832.000000,411.000000,5.085800,470000.000000\n",
            "-118.520000,34.200000,35.000000,2891.000000,594.000000,1757.000000,581.000000,4.357100,199800.000000\n",
            "-118.370000,33.950000,52.000000,836.000000,175.000000,747.000000,166.000000,4.125000,174000.000000\n",
            "-121.340000,37.980000,8.000000,2628.000000,428.000000,1158.000000,393.000000,5.300200,191700.000000\n",
            "-119.320000,36.190000,11.000000,3136.000000,620.000000,2013.000000,583.000000,3.335000,69700.000000\n",
            "-117.840000,34.040000,4.000000,9959.000000,1544.000000,4904.000000,1429.000000,6.975400,402500.000000\n",
            "-118.230000,34.150000,19.000000,2294.000000,716.000000,1686.000000,680.000000,3.028800,258300.000000\n",
            "-115.520000,32.980000,21.000000,1302.000000,327.000000,1244.000000,316.000000,2.205400,66400.000000\n",
            "-117.790000,34.070000,34.000000,975.000000,192.000000,870.000000,183.000000,3.793300,116100.000000\n",
            "-115.590000,32.960000,17.000000,841.000000,146.000000,473.000000,154.000000,3.197900,113500.000000\n",
            "-121.830000,37.300000,17.000000,1299.000000,211.000000,825.000000,217.000000,4.500000,235800.000000\n",
            "-117.270000,34.500000,8.000000,3567.000000,543.000000,1133.000000,419.000000,5.373300,302600.000000\n",
            "-118.040000,33.930000,35.000000,1805.000000,387.000000,1505.000000,366.000000,4.166700,151900.000000\n",
            "-122.090000,37.950000,32.000000,1339.000000,209.000000,601.000000,209.000000,6.026500,247900.000000\n",
            "-122.230000,37.750000,50.000000,1542.000000,289.000000,654.000000,268.000000,3.963200,240000.000000\n",
            "-117.880000,33.720000,38.000000,1421.000000,300.000000,1236.000000,263.000000,3.984400,165300.000000\n",
            "-122.420000,37.750000,52.000000,2164.000000,533.000000,1122.000000,469.000000,3.263200,306000.000000\n",
            "-118.050000,34.140000,39.000000,2125.000000,295.000000,862.000000,303.000000,8.972800,500001.000000\n",
            "-118.060000,34.110000,36.000000,2178.000000,485.000000,914.000000,412.000000,2.765600,239500.000000\n",
            "-118.150000,33.870000,33.000000,2373.000000,552.000000,1673.000000,571.000000,3.068500,181800.000000\n",
            "-117.250000,32.760000,38.000000,2331.000000,493.000000,836.000000,433.000000,4.912500,452600.000000\n",
            "-117.860000,33.740000,34.000000,2254.000000,630.000000,2984.000000,625.000000,2.500000,162500.000000\n",
            "-122.530000,39.090000,11.000000,1264.000000,271.000000,370.000000,177.000000,1.300000,69700.000000\n",
            "-117.970000,33.680000,23.000000,1722.000000,316.000000,865.000000,309.000000,4.645200,273800.000000\n",
            "-118.060000,34.030000,36.000000,21.000000,7.000000,21.000000,9.000000,2.375000,175000.000000\n",
            "-117.820000,33.740000,25.000000,2720.000000,680.000000,1559.000000,631.000000,3.095800,137800.000000\n",
            "-121.800000,37.700000,22.000000,5533.000000,943.000000,2474.000000,910.000000,4.736100,216800.000000\n",
            "-121.730000,36.850000,22.000000,1304.000000,278.000000,887.000000,227.000000,3.660700,206300.000000\n",
            "-118.320000,33.860000,34.000000,495.000000,90.000000,269.000000,93.000000,6.439100,252300.000000\n",
            "-118.280000,34.040000,24.000000,1283.000000,545.000000,1932.000000,516.000000,1.296900,160200.000000\n",
            "-117.030000,32.950000,19.000000,4500.000000,815.000000,2456.000000,782.000000,4.503200,168900.000000\n",
            "-117.870000,33.830000,27.000000,2287.000000,353.000000,1140.000000,351.000000,5.616300,231000.000000\n",
            "-122.090000,37.650000,35.000000,1130.000000,192.000000,543.000000,184.000000,4.389700,190600.000000\n",
            "-117.600000,34.030000,16.000000,1499.000000,232.000000,918.000000,239.000000,5.567700,175400.000000\n",
            "-121.460000,38.610000,43.000000,1111.000000,269.000000,613.000000,290.000000,1.291700,66300.000000\n",
            "-117.960000,34.530000,10.000000,2907.000000,559.000000,1681.000000,531.000000,3.859400,141000.000000\n",
            "-116.460000,33.790000,10.000000,6960.000000,1487.000000,1130.000000,661.000000,2.141100,136400.000000\n",
            "-118.540000,34.370000,27.000000,2051.000000,301.000000,917.000000,287.000000,7.605900,323700.000000\n",
            "-122.160000,37.450000,52.000000,1135.000000,219.000000,441.000000,200.000000,7.541800,492000.000000\n",
            "-117.710000,34.060000,27.000000,2127.000000,628.000000,1970.000000,534.000000,1.472200,91300.000000\n",
            "-118.290000,34.030000,42.000000,907.000000,378.000000,822.000000,288.000000,1.287500,179200.000000\n",
            "-118.180000,33.900000,32.000000,1452.000000,365.000000,1888.000000,366.000000,3.546100,146400.000000\n",
            "-121.360000,38.690000,13.000000,6850.000000,1400.000000,4251.000000,1421.000000,3.698900,93300.000000\n",
            "-122.370000,40.520000,18.000000,4547.000000,774.000000,2269.000000,766.000000,3.789600,98100.000000\n",
            "-122.410000,37.710000,49.000000,1852.000000,429.000000,1615.000000,447.000000,3.495000,217800.000000\n",
            "-118.530000,34.240000,24.000000,2718.000000,719.000000,3018.000000,644.000000,2.907600,275300.000000\n",
            "-121.880000,37.670000,16.000000,4070.000000,624.000000,1543.000000,577.000000,6.521400,311500.000000\n",
            "-120.090000,37.000000,11.000000,3761.000000,675.000000,2374.000000,673.000000,3.459800,74600.000000\n",
            "-117.100000,32.750000,17.000000,871.000000,379.000000,955.000000,351.000000,1.437500,96400.000000\n",
            "-119.640000,36.350000,30.000000,1765.000000,310.000000,746.000000,298.000000,2.812500,70200.000000\n",
            "-118.260000,33.970000,47.000000,1504.000000,374.000000,1168.000000,358.000000,1.462500,94200.000000\n",
            "-117.600000,33.910000,15.000000,1864.000000,271.000000,1006.000000,288.000000,7.237900,251000.000000\n",
            "-122.200000,39.510000,37.000000,2358.000000,413.000000,1060.000000,424.000000,2.833300,69700.000000\n",
            "-122.120000,37.690000,10.000000,2227.000000,560.000000,1140.000000,472.000000,2.397300,167300.000000\n",
            "-118.200000,33.970000,43.000000,825.000000,212.000000,820.000000,184.000000,1.889700,174300.000000\n",
            "-121.280000,38.140000,38.000000,2803.000000,500.000000,1223.000000,509.000000,4.119000,128800.000000\n",
            "-119.030000,34.230000,16.000000,5323.000000,795.000000,2493.000000,779.000000,5.676200,271300.000000\n",
            "-121.700000,38.100000,19.000000,4896.000000,1083.000000,2150.000000,905.000000,3.339800,89700.000000\n",
            "-117.960000,33.830000,30.000000,2838.000000,649.000000,1758.000000,593.000000,3.383100,197400.000000\n",
            "-120.700000,36.990000,32.000000,320.000000,73.000000,222.000000,78.000000,2.927100,87500.000000\n",
            "-122.390000,37.740000,45.000000,1462.000000,308.000000,924.000000,302.000000,2.176700,185300.000000\n",
            "-121.760000,38.410000,19.000000,686.000000,107.000000,348.000000,109.000000,3.930600,93800.000000\n",
            "-121.350000,38.660000,8.000000,3322.000000,805.000000,1694.000000,774.000000,2.701100,130700.000000\n",
            "-118.670000,34.280000,21.000000,4059.000000,598.000000,2133.000000,634.000000,5.694900,235300.000000\n",
            "-118.310000,34.100000,33.000000,766.000000,347.000000,918.000000,305.000000,1.705000,350000.000000\n",
            "-117.690000,34.040000,5.000000,4459.000000,896.000000,2028.000000,881.000000,4.009600,182600.000000\n",
            "-119.600000,36.580000,28.000000,1452.000000,300.000000,919.000000,308.000000,2.828700,73100.000000\n",
            "-121.760000,36.750000,21.000000,1141.000000,257.000000,671.000000,195.000000,3.842400,155700.000000\n",
            "-117.940000,33.860000,35.000000,1235.000000,227.000000,875.000000,220.000000,4.696400,183100.000000\n",
            "-120.860000,37.770000,28.000000,1208.000000,232.000000,535.000000,232.000000,2.352300,94700.000000\n",
            "-121.840000,37.350000,22.000000,2914.000000,768.000000,2962.000000,762.000000,2.203100,164000.000000\n",
            "-121.070000,38.900000,52.000000,1280.000000,281.000000,523.000000,266.000000,1.737500,122200.000000\n",
            "-118.450000,33.960000,24.000000,3097.000000,791.000000,1075.000000,639.000000,5.723000,500001.000000\n",
            "-118.290000,34.180000,52.000000,1602.000000,265.000000,667.000000,251.000000,5.049000,323500.000000\n",
            "-119.970000,36.440000,18.000000,1128.000000,237.000000,772.000000,220.000000,2.177100,39200.000000\n",
            "-121.930000,38.310000,25.000000,185.000000,32.000000,85.000000,32.000000,4.875000,250000.000000\n",
            "-118.200000,33.930000,38.000000,1626.000000,307.000000,1280.000000,295.000000,3.531300,146500.000000\n",
            "-122.180000,38.230000,21.000000,2475.000000,341.000000,812.000000,308.000000,7.258900,320400.000000\n",
            "-118.010000,34.140000,20.000000,3350.000000,831.000000,1816.000000,744.000000,2.835200,161700.000000\n",
            "-117.870000,34.130000,32.000000,1741.000000,373.000000,872.000000,333.000000,3.421900,194500.000000\n",
            "-118.530000,34.270000,32.000000,1931.000000,298.000000,948.000000,314.000000,5.384700,329200.000000\n",
            "-117.140000,32.800000,33.000000,2670.000000,435.000000,1256.000000,431.000000,3.941700,179800.000000\n",
            "-118.070000,34.170000,34.000000,4062.000000,597.000000,1525.000000,566.000000,7.858800,454800.000000\n",
            "-117.580000,33.880000,16.000000,1739.000000,478.000000,1235.000000,420.000000,2.296900,116100.000000\n",
            "-120.060000,36.970000,35.000000,1859.000000,428.000000,1208.000000,399.000000,1.404400,61700.000000\n",
            "-121.830000,38.430000,24.000000,1307.000000,314.000000,917.000000,291.000000,2.224400,98100.000000\n",
            "-122.480000,37.720000,45.000000,1405.000000,338.000000,733.000000,342.000000,4.111600,187500.000000\n",
            "-116.910000,32.750000,5.000000,8710.000000,1614.000000,4372.000000,1527.000000,4.781300,240900.000000\n",
            "-119.770000,36.740000,20.000000,1855.000000,519.000000,1091.000000,443.000000,1.554700,93900.000000\n",
            "-119.460000,36.910000,12.000000,2980.000000,495.000000,1184.000000,429.000000,3.914100,123900.000000\n",
            "-118.180000,33.910000,41.000000,1260.000000,299.000000,1535.000000,322.000000,3.013400,128100.000000\n",
            "-118.390000,34.060000,43.000000,1879.000000,397.000000,873.000000,382.000000,3.815800,500001.000000\n",
            "-118.220000,33.990000,4.000000,1849.000000,577.000000,1529.000000,418.000000,2.770800,186300.000000\n",
            "-116.990000,33.200000,17.000000,2980.000000,539.000000,1531.000000,505.000000,3.155300,250000.000000\n",
            "-117.160000,32.730000,52.000000,1863.000000,559.000000,906.000000,493.000000,1.920300,195800.000000\n",
            "-117.380000,33.980000,10.000000,642.000000,176.000000,462.000000,186.000000,2.152800,162500.000000\n",
            "-122.440000,38.340000,25.000000,3106.000000,715.000000,1262.000000,665.000000,1.948700,233500.000000\n",
            "-117.880000,33.920000,13.000000,3292.000000,727.000000,1565.000000,698.000000,5.457000,308800.000000\n",
            "-119.710000,34.440000,41.000000,2220.000000,367.000000,927.000000,355.000000,5.318400,376000.000000\n",
            "-119.060000,34.370000,32.000000,3885.000000,759.000000,2504.000000,736.000000,3.645300,201700.000000\n",
            "-121.910000,37.310000,16.000000,2962.000000,898.000000,1555.000000,795.000000,2.580400,216300.000000\n",
            "-121.560000,37.000000,20.000000,3976.000000,953.000000,3866.000000,950.000000,2.538700,160100.000000\n",
            "-122.490000,38.000000,26.000000,48.000000,8.000000,19.000000,8.000000,7.719700,400000.000000\n",
            "-118.330000,34.020000,45.000000,1667.000000,399.000000,928.000000,375.000000,1.878300,118200.000000\n",
            "-122.260000,37.510000,29.000000,3703.000000,1075.000000,1611.000000,1025.000000,2.707500,323800.000000\n",
            "-121.990000,37.830000,16.000000,2939.000000,380.000000,1177.000000,396.000000,8.083900,372000.000000\n",
            "-121.420000,37.740000,35.000000,796.000000,132.000000,313.000000,152.000000,3.150000,153200.000000\n",
            "-121.390000,38.610000,35.000000,2024.000000,359.000000,786.000000,364.000000,2.463200,156900.000000\n",
            "-122.420000,37.620000,36.000000,1017.000000,165.000000,407.000000,159.000000,4.800000,306800.000000\n",
            "-121.440000,38.480000,12.000000,4929.000000,1010.000000,2621.000000,870.000000,2.726200,109800.000000\n",
            "-117.480000,33.980000,20.000000,2451.000000,475.000000,1785.000000,456.000000,3.396600,115000.000000\n",
            "-122.050000,37.380000,24.000000,2424.000000,501.000000,1367.000000,507.000000,4.072000,364200.000000\n",
            "-123.920000,41.540000,22.000000,2920.000000,636.000000,1382.000000,499.000000,2.020200,71100.000000\n",
            "-119.010000,35.400000,11.000000,8739.000000,2190.000000,4781.000000,1919.000000,1.710900,44600.000000\n",
            "-122.330000,37.570000,43.000000,2543.000000,621.000000,1301.000000,606.000000,3.111100,318400.000000\n",
            "-120.990000,37.610000,39.000000,512.000000,132.000000,443.000000,127.000000,1.285700,60000.000000\n",
            "-121.960000,37.580000,15.000000,3575.000000,597.000000,1777.000000,559.000000,5.719200,283500.000000\n",
            "-121.580000,39.160000,33.000000,1897.000000,378.000000,888.000000,385.000000,2.111100,68700.000000\n",
            "-120.590000,38.530000,15.000000,432.000000,87.000000,208.000000,73.000000,3.612500,100000.000000\n",
            "-117.580000,33.870000,30.000000,701.000000,131.000000,356.000000,125.000000,3.291700,144300.000000\n",
            "-121.840000,39.750000,29.000000,4362.000000,1053.000000,2053.000000,1000.000000,1.728400,74500.000000\n",
            "-121.800000,36.690000,12.000000,3877.000000,914.000000,2274.000000,858.000000,3.423900,194800.000000\n",
            "-122.220000,37.810000,52.000000,2944.000000,536.000000,1034.000000,521.000000,5.350900,302100.000000\n",
            "-117.640000,33.450000,26.000000,1528.000000,234.000000,607.000000,218.000000,6.287100,325500.000000\n",
            "-120.420000,37.980000,18.000000,3059.000000,609.000000,1335.000000,581.000000,2.512900,115900.000000\n",
            "-118.300000,34.060000,47.000000,1390.000000,872.000000,2860.000000,827.000000,1.468000,137500.000000\n",
            "-122.250000,37.870000,52.000000,1204.000000,460.000000,2016.000000,477.000000,0.949000,350000.000000\n",
            "-120.270000,39.350000,11.000000,2520.000000,401.000000,397.000000,165.000000,4.665000,145600.000000\n",
            "-119.880000,36.930000,12.000000,3174.000000,520.000000,1590.000000,488.000000,4.534700,101200.000000\n",
            "-122.370000,37.580000,52.000000,2188.000000,361.000000,917.000000,357.000000,4.400000,500000.000000\n",
            "-117.820000,33.720000,24.000000,3260.000000,458.000000,1383.000000,442.000000,6.598700,272800.000000\n",
            "-118.220000,33.930000,30.000000,443.000000,170.000000,903.000000,189.000000,2.196400,125000.000000\n",
            "-120.970000,38.650000,9.000000,3707.000000,602.000000,1601.000000,555.000000,4.071400,300600.000000\n",
            "-122.060000,37.700000,33.000000,3906.000000,790.000000,1912.000000,770.000000,3.518700,209400.000000\n",
            "-118.230000,33.920000,32.000000,2698.000000,640.000000,1953.000000,613.000000,1.222200,107200.000000\n",
            "-117.340000,34.460000,9.000000,5983.000000,1122.000000,3515.000000,1064.000000,3.150500,102000.000000\n",
            "-119.240000,36.330000,9.000000,3289.000000,621.000000,1866.000000,631.000000,3.159900,95000.000000\n",
            "-122.180000,37.730000,42.000000,4074.000000,874.000000,2736.000000,780.000000,2.455000,82400.000000\n",
            "-118.200000,33.820000,43.000000,1758.000000,347.000000,954.000000,312.000000,5.260600,198900.000000\n",
            "-117.070000,32.810000,15.000000,2000.000000,402.000000,778.000000,369.000000,4.359400,224200.000000\n",
            "-122.250000,38.020000,16.000000,1803.000000,267.000000,946.000000,266.000000,5.700100,205100.000000\n",
            "-118.420000,34.310000,19.000000,6755.000000,1443.000000,4205.000000,1395.000000,3.958300,163200.000000\n",
            "-122.270000,37.850000,52.000000,1966.000000,347.000000,793.000000,331.000000,2.775000,152500.000000\n",
            "-117.920000,33.650000,28.000000,1087.000000,423.000000,807.000000,425.000000,0.970200,225400.000000\n",
            "-118.160000,34.130000,36.000000,4003.000000,647.000000,1337.000000,631.000000,7.723000,500001.000000\n",
            "-122.490000,37.690000,35.000000,2576.000000,443.000000,1273.000000,433.000000,4.739100,272800.000000\n",
            "-122.480000,38.310000,29.000000,2375.000000,560.000000,1124.000000,502.000000,2.327600,166200.000000\n",
            "-117.670000,34.020000,16.000000,3042.000000,524.000000,1516.000000,475.000000,4.890600,178500.000000\n",
            "-117.150000,32.910000,14.000000,1259.000000,238.000000,889.000000,247.000000,4.946400,174800.000000\n",
            "-118.340000,34.030000,46.000000,2437.000000,502.000000,1151.000000,477.000000,2.444400,134100.000000\n",
            "-121.540000,38.500000,15.000000,6093.000000,1051.000000,2415.000000,997.000000,4.207500,183600.000000\n",
            "-118.150000,33.970000,32.000000,1174.000000,373.000000,1758.000000,361.000000,2.426300,158100.000000\n",
            "-122.540000,38.140000,16.000000,4431.000000,603.000000,1659.000000,630.000000,7.541200,392100.000000\n",
            "-118.010000,33.880000,19.000000,1434.000000,391.000000,1088.000000,341.000000,3.369000,269600.000000\n",
            "-117.680000,35.620000,30.000000,2994.000000,741.000000,1481.000000,581.000000,2.145800,52400.000000\n",
            "-120.640000,35.260000,21.000000,3298.000000,716.000000,1862.000000,687.000000,2.150700,221500.000000\n",
            "-121.290000,38.100000,14.000000,1551.000000,297.000000,785.000000,281.000000,3.775000,163300.000000\n",
            "-120.190000,37.530000,25.000000,1470.000000,341.000000,706.000000,283.000000,1.761400,71300.000000\n",
            "-117.310000,34.100000,28.000000,2899.000000,755.000000,2406.000000,655.000000,1.520800,69500.000000\n",
            "-118.090000,33.870000,31.000000,3498.000000,728.000000,2098.000000,697.000000,3.983700,246000.000000\n",
            "-117.990000,34.120000,37.000000,1527.000000,331.000000,1504.000000,324.000000,3.285700,130100.000000\n",
            "-119.810000,34.470000,26.000000,4382.000000,618.000000,1728.000000,587.000000,7.473400,432200.000000\n",
            "-116.960000,33.520000,9.000000,2802.000000,471.000000,1155.000000,421.000000,4.125000,392100.000000\n",
            "-122.310000,37.570000,37.000000,1437.000000,305.000000,979.000000,331.000000,4.000000,273700.000000\n",
            "-117.390000,33.970000,52.000000,3307.000000,553.000000,1269.000000,529.000000,4.317600,136200.000000\n",
            "-118.510000,34.190000,38.000000,2182.000000,409.000000,1141.000000,379.000000,4.286500,221100.000000\n",
            "-117.300000,34.120000,34.000000,1127.000000,275.000000,971.000000,249.000000,2.058300,64800.000000\n",
            "-120.850000,37.510000,15.000000,1131.000000,285.000000,728.000000,281.000000,1.553100,93100.000000\n",
            "-121.310000,37.930000,21.000000,1556.000000,314.000000,1140.000000,304.000000,2.466700,81400.000000\n",
            "-118.160000,34.090000,33.000000,1515.000000,415.000000,1345.000000,346.000000,2.375000,175000.000000\n",
            "-118.030000,33.840000,30.000000,4781.000000,831.000000,2568.000000,797.000000,5.474600,226400.000000\n",
            "-119.880000,34.400000,25.000000,2741.000000,623.000000,2272.000000,624.000000,2.264700,216700.000000\n",
            "-118.570000,34.170000,35.000000,2072.000000,318.000000,908.000000,342.000000,6.092800,327300.000000\n",
            "-122.110000,37.140000,29.000000,3201.000000,640.000000,1722.000000,570.000000,4.459700,204100.000000\n",
            "-122.430000,37.760000,52.000000,2332.000000,434.000000,861.000000,406.000000,4.431800,437500.000000\n",
            "-118.270000,33.960000,38.000000,1126.000000,270.000000,999.000000,265.000000,0.549500,91700.000000\n",
            "-117.160000,33.760000,11.000000,4934.000000,929.000000,2508.000000,840.000000,2.625000,155400.000000\n",
            "-122.070000,37.890000,38.000000,2139.000000,343.000000,809.000000,340.000000,5.563600,268800.000000\n",
            "-117.090000,34.010000,37.000000,106.000000,18.000000,27.000000,12.000000,4.055600,131300.000000\n",
            "-122.310000,37.920000,12.000000,1895.000000,600.000000,983.000000,519.000000,2.500000,195800.000000\n",
            "-122.190000,37.730000,44.000000,1066.000000,253.000000,825.000000,244.000000,2.153800,79700.000000\n",
            "-117.000000,32.730000,17.000000,6050.000000,1143.000000,3424.000000,1131.000000,3.764700,127600.000000\n",
            "-117.210000,33.190000,21.000000,3765.000000,612.000000,1722.000000,593.000000,4.815200,218500.000000\n",
            "-118.260000,34.140000,51.000000,902.000000,320.000000,650.000000,334.000000,1.541700,268800.000000\n",
            "-122.100000,37.360000,35.000000,2063.000000,266.000000,676.000000,252.000000,8.529400,500001.000000\n",
            "-121.860000,36.600000,33.000000,1409.000000,307.000000,633.000000,290.000000,3.556800,191200.000000\n",
            "-117.240000,33.110000,10.000000,3487.000000,545.000000,1410.000000,557.000000,6.033600,240300.000000\n",
            "-116.370000,33.720000,19.000000,6190.000000,1355.000000,2242.000000,1043.000000,3.002100,152300.000000\n",
            "-121.320000,38.410000,17.000000,4401.000000,655.000000,1970.000000,639.000000,5.823900,247500.000000\n",
            "-118.700000,34.280000,27.000000,3536.000000,646.000000,1837.000000,580.000000,4.496400,238300.000000\n",
            "-118.150000,33.950000,31.000000,1053.000000,230.000000,686.000000,211.000000,4.000000,263200.000000\n",
            "-118.300000,33.730000,47.000000,2852.000000,603.000000,1130.000000,560.000000,4.194000,293900.000000\n",
            "-118.520000,34.190000,37.000000,1892.000000,347.000000,1039.000000,343.000000,4.829500,212100.000000\n",
            "-118.220000,33.990000,6.000000,1499.000000,437.000000,1754.000000,447.000000,4.316400,143200.000000\n",
            "-122.410000,37.650000,32.000000,3436.000000,868.000000,2583.000000,817.000000,3.503900,232400.000000\n",
            "-122.300000,37.890000,46.000000,1520.000000,402.000000,815.000000,375.000000,2.803600,211600.000000\n",
            "-121.430000,38.560000,50.000000,1533.000000,288.000000,532.000000,257.000000,2.541700,125900.000000\n",
            "-117.230000,32.860000,16.000000,1200.000000,468.000000,648.000000,443.000000,3.045000,100000.000000\n",
            "-117.230000,32.790000,23.000000,2578.000000,665.000000,989.000000,622.000000,3.548400,238000.000000\n",
            "-117.160000,32.720000,52.000000,788.000000,463.000000,805.000000,391.000000,0.914200,162500.000000\n",
            "-122.410000,37.660000,34.000000,1075.000000,318.000000,906.000000,294.000000,3.005200,242500.000000\n",
            "-117.230000,32.730000,36.000000,2052.000000,287.000000,699.000000,265.000000,7.555700,441400.000000\n",
            "-118.330000,34.000000,47.000000,1671.000000,388.000000,895.000000,317.000000,2.205400,121500.000000\n",
            "-117.430000,33.550000,8.000000,446.000000,62.000000,188.000000,68.000000,9.435600,465600.000000\n",
            "-118.360000,34.080000,52.000000,1965.000000,480.000000,794.000000,451.000000,3.282400,304800.000000\n",
            "-121.090000,38.970000,13.000000,1467.000000,221.000000,688.000000,231.000000,5.253600,191900.000000\n",
            "-119.450000,35.150000,33.000000,5050.000000,964.000000,2293.000000,919.000000,3.159200,75400.000000\n",
            "-121.270000,38.640000,22.000000,1597.000000,280.000000,657.000000,273.000000,4.309800,213500.000000\n",
            "-118.000000,33.900000,35.000000,1758.000000,309.000000,972.000000,338.000000,4.383100,209800.000000\n",
            "-118.210000,34.050000,45.000000,2146.000000,607.000000,2868.000000,625.000000,2.121000,144000.000000\n",
            "-122.500000,37.770000,52.000000,2299.000000,441.000000,1252.000000,415.000000,5.056200,336700.000000\n",
            "-122.310000,37.920000,38.000000,1250.000000,236.000000,631.000000,279.000000,3.724000,220100.000000\n",
            "-118.300000,34.000000,40.000000,1131.000000,281.000000,859.000000,230.000000,1.180600,134600.000000\n",
            "-121.840000,38.020000,46.000000,66.000000,22.000000,37.000000,21.000000,0.536000,87500.000000\n",
            "-117.250000,32.800000,30.000000,2061.000000,631.000000,1007.000000,577.000000,2.581300,253100.000000\n",
            "-124.140000,40.600000,27.000000,1148.000000,206.000000,521.000000,219.000000,4.025000,128100.000000\n",
            "-118.180000,34.050000,52.000000,1070.000000,231.000000,925.000000,220.000000,1.825000,133000.000000\n",
            "-119.780000,36.800000,34.000000,3426.000000,623.000000,1938.000000,647.000000,2.899400,66000.000000\n",
            "-122.220000,38.080000,37.000000,2811.000000,539.000000,1574.000000,516.000000,3.105300,96700.000000\n",
            "-118.500000,34.260000,33.000000,2831.000000,510.000000,1340.000000,504.000000,4.831600,237300.000000\n",
            "-118.450000,34.180000,34.000000,1843.000000,442.000000,861.000000,417.000000,3.687500,246400.000000\n",
            "-119.790000,36.310000,25.000000,4984.000000,1029.000000,2414.000000,961.000000,2.293700,72300.000000\n",
            "-117.210000,32.740000,45.000000,3025.000000,583.000000,1980.000000,550.000000,2.298200,87500.000000\n",
            "-122.080000,40.640000,14.000000,3099.000000,519.000000,1447.000000,494.000000,4.013200,141200.000000\n",
            "-122.310000,37.520000,24.000000,2328.000000,335.000000,969.000000,354.000000,7.736400,435800.000000\n",
            "-119.740000,36.760000,36.000000,912.000000,216.000000,842.000000,219.000000,1.476600,52800.000000\n",
            "-118.280000,34.010000,52.000000,795.000000,308.000000,1118.000000,275.000000,1.217500,131300.000000\n",
            "-118.270000,34.110000,39.000000,3825.000000,916.000000,1378.000000,746.000000,4.409400,352600.000000\n",
            "-117.200000,33.160000,13.000000,4503.000000,1137.000000,3094.000000,1091.000000,2.315900,91600.000000\n",
            "-122.330000,37.530000,25.000000,1729.000000,383.000000,769.000000,352.000000,4.041700,458500.000000\n",
            "-120.860000,35.400000,21.000000,2787.000000,641.000000,1106.000000,501.000000,2.704300,186200.000000\n",
            "-119.470000,35.400000,32.000000,2167.000000,421.000000,1301.000000,394.000000,1.971800,69800.000000\n",
            "-117.270000,34.160000,32.000000,2894.000000,427.000000,1151.000000,446.000000,6.223600,159700.000000\n",
            "-121.920000,38.020000,8.000000,2750.000000,479.000000,1526.000000,484.000000,5.102000,156500.000000\n",
            "-121.450000,38.560000,51.000000,1250.000000,235.000000,452.000000,232.000000,2.625000,121200.000000\n",
            "-117.910000,33.840000,16.000000,919.000000,253.000000,912.000000,249.000000,1.590300,165400.000000\n",
            "-118.480000,35.610000,17.000000,4002.000000,930.000000,1614.000000,731.000000,1.623600,67300.000000\n",
            "-118.030000,33.840000,28.000000,3857.000000,857.000000,2328.000000,830.000000,4.015600,196000.000000\n",
            "-118.320000,34.040000,48.000000,1184.000000,328.000000,953.000000,311.000000,2.352600,156300.000000\n",
            "-121.300000,38.890000,23.000000,1750.000000,297.000000,1012.000000,315.000000,3.470600,99300.000000\n",
            "-117.690000,34.070000,34.000000,4055.000000,739.000000,2470.000000,753.000000,3.858600,136000.000000\n",
            "-118.340000,33.940000,36.000000,2796.000000,1041.000000,4033.000000,944.000000,2.488600,160700.000000\n",
            "-121.920000,36.620000,52.000000,2584.000000,599.000000,790.000000,444.000000,2.526300,286400.000000\n",
            "-122.110000,37.410000,27.000000,5110.000000,1599.000000,2764.000000,1482.000000,3.419800,351900.000000\n",
            "-117.650000,34.100000,44.000000,2808.000000,585.000000,1444.000000,550.000000,2.715900,139300.000000\n",
            "-121.800000,38.010000,44.000000,3184.000000,581.000000,1399.000000,548.000000,2.723400,110200.000000\n",
            "-122.660000,38.810000,22.000000,852.000000,176.000000,461.000000,142.000000,3.437500,83300.000000\n",
            "-122.390000,37.780000,3.000000,3464.000000,1179.000000,1441.000000,919.000000,4.710500,275000.000000\n",
            "-117.060000,34.870000,14.000000,3348.000000,619.000000,1756.000000,557.000000,3.598700,91400.000000\n",
            "-121.340000,38.660000,16.000000,3154.000000,860.000000,1837.000000,793.000000,1.980500,92900.000000\n",
            "-121.920000,36.950000,29.000000,3457.000000,699.000000,1327.000000,563.000000,3.659700,252300.000000\n",
            "-122.590000,38.040000,25.000000,3412.000000,455.000000,1238.000000,406.000000,8.364600,397300.000000\n",
            "-118.280000,34.110000,46.000000,1156.000000,203.000000,514.000000,213.000000,4.201900,352100.000000\n",
            "-121.390000,38.600000,22.000000,5773.000000,1320.000000,2607.000000,1250.000000,2.523800,118800.000000\n",
            "-122.330000,40.520000,23.000000,2801.000000,507.000000,1318.000000,454.000000,3.508100,116700.000000\n",
            "-118.200000,34.040000,47.000000,1894.000000,408.000000,1629.000000,379.000000,3.761900,127600.000000\n",
            "-121.960000,37.000000,20.000000,3847.000000,727.000000,1725.000000,737.000000,3.344700,305200.000000\n",
            "-117.890000,33.870000,32.000000,1569.000000,422.000000,835.000000,386.000000,3.046500,148900.000000\n",
            "-117.230000,32.880000,18.000000,5566.000000,1465.000000,6303.000000,1458.000000,1.858000,205000.000000\n",
            "-122.000000,37.120000,17.000000,4413.000000,672.000000,1674.000000,608.000000,6.977200,383300.000000\n",
            "-118.400000,34.280000,22.000000,3517.000000,810.000000,3134.000000,847.000000,2.665200,164800.000000\n",
            "-122.460000,37.760000,52.000000,2236.000000,545.000000,1186.000000,532.000000,3.453100,414300.000000\n",
            "-121.990000,37.540000,18.000000,3584.000000,715.000000,1673.000000,661.000000,3.944400,240100.000000\n",
            "-117.230000,32.740000,16.000000,735.000000,139.000000,299.000000,134.000000,4.635400,179200.000000\n",
            "-121.840000,37.290000,4.000000,2937.000000,648.000000,1780.000000,665.000000,4.385100,160400.000000\n",
            "-118.150000,34.860000,10.000000,4597.000000,1009.000000,2227.000000,821.000000,2.614900,83500.000000\n",
            "-118.330000,33.980000,38.000000,3063.000000,796.000000,2153.000000,721.000000,1.847200,149100.000000\n",
            "-120.680000,35.510000,17.000000,1701.000000,298.000000,941.000000,293.000000,4.321800,209100.000000\n",
            "-117.950000,33.790000,34.000000,2912.000000,520.000000,1625.000000,501.000000,4.466700,190600.000000\n",
            "-117.970000,34.050000,33.000000,1452.000000,268.000000,1274.000000,278.000000,3.656300,162700.000000\n",
            "-119.750000,36.870000,3.000000,13802.000000,2244.000000,5226.000000,1972.000000,5.094100,143700.000000\n",
            "-122.080000,37.350000,35.000000,1347.000000,207.000000,548.000000,189.000000,7.706800,500001.000000\n",
            "-122.320000,37.950000,36.000000,1425.000000,245.000000,573.000000,239.000000,4.350000,185000.000000\n",
            "-122.220000,38.100000,38.000000,931.000000,181.000000,566.000000,207.000000,3.022100,93300.000000\n",
            "-124.090000,40.550000,24.000000,2978.000000,553.000000,1370.000000,480.000000,2.764400,97300.000000\n",
            "-121.500000,38.570000,41.000000,1124.000000,344.000000,807.000000,316.000000,1.471200,94600.000000\n",
            "-118.110000,33.910000,19.000000,3056.000000,759.000000,1561.000000,740.000000,3.136900,196900.000000\n",
            "-121.230000,37.960000,37.000000,2351.000000,564.000000,1591.000000,549.000000,1.656300,57200.000000\n",
            "-121.890000,37.280000,35.000000,2418.000000,375.000000,988.000000,374.000000,6.093600,365400.000000\n",
            "-122.480000,37.650000,39.000000,3348.000000,666.000000,1817.000000,668.000000,4.259300,227400.000000\n",
            "-118.310000,34.090000,36.000000,2517.000000,842.000000,2446.000000,689.000000,2.152400,187500.000000\n",
            "-123.020000,38.810000,35.000000,956.000000,213.000000,488.000000,215.000000,3.025000,140600.000000\n",
            "-120.470000,34.650000,32.000000,2193.000000,430.000000,1074.000000,377.000000,2.333300,130200.000000\n",
            "-122.100000,37.680000,37.000000,2116.000000,503.000000,1109.000000,448.000000,2.535000,174000.000000\n",
            "-122.420000,37.790000,52.000000,3364.000000,1100.000000,2112.000000,1045.000000,2.134300,400000.000000\n",
            "-122.640000,41.630000,19.000000,2722.000000,479.000000,1108.000000,430.000000,3.106200,100000.000000\n",
            "-118.020000,33.910000,34.000000,2518.000000,429.000000,1309.000000,421.000000,4.786100,210700.000000\n",
            "-119.020000,35.360000,48.000000,1833.000000,396.000000,947.000000,363.000000,2.282700,70000.000000\n",
            "-121.330000,38.650000,23.000000,2446.000000,523.000000,1132.000000,513.000000,2.626600,198500.000000\n",
            "-118.080000,33.950000,32.000000,1962.000000,387.000000,1274.000000,398.000000,4.830400,160600.000000\n",
            "-118.080000,33.790000,34.000000,2840.000000,395.000000,1127.000000,396.000000,7.614400,376200.000000\n",
            "-118.230000,33.910000,27.000000,1694.000000,393.000000,1890.000000,373.000000,3.034100,89100.000000\n",
            "-118.290000,33.750000,37.000000,1319.000000,292.000000,766.000000,285.000000,2.703100,218900.000000\n",
            "-118.020000,34.130000,34.000000,1966.000000,319.000000,980.000000,297.000000,7.730700,429000.000000\n",
            "-117.890000,33.600000,36.000000,1496.000000,247.000000,441.000000,203.000000,7.816400,500001.000000\n",
            "-118.230000,34.650000,17.000000,1827.000000,348.000000,766.000000,335.000000,3.567300,136300.000000\n",
            "-118.310000,34.020000,45.000000,1423.000000,278.000000,822.000000,276.000000,2.451900,98100.000000\n",
            "-118.070000,33.800000,34.000000,3486.000000,507.000000,1311.000000,503.000000,7.122100,384500.000000\n",
            "-118.250000,33.940000,43.000000,1113.000000,378.000000,1305.000000,334.000000,1.143400,91300.000000\n",
            "-122.440000,37.710000,52.000000,2711.000000,591.000000,1848.000000,524.000000,3.956700,251500.000000\n",
            "-119.750000,34.500000,26.000000,3563.000000,579.000000,1479.000000,575.000000,5.952200,438400.000000\n",
            "-117.940000,33.940000,26.000000,1962.000000,540.000000,1236.000000,520.000000,2.215600,145000.000000\n",
            "-119.230000,34.170000,18.000000,6171.000000,1490.000000,2164.000000,1210.000000,3.687500,500001.000000\n",
            "-118.110000,34.680000,6.000000,7430.000000,1184.000000,3489.000000,1115.000000,5.326700,140100.000000\n",
            "-122.470000,37.770000,52.000000,2241.000000,443.000000,1042.000000,377.000000,4.163500,398400.000000\n",
            "-120.930000,35.760000,11.000000,8997.000000,1698.000000,1825.000000,756.000000,3.230000,154300.000000\n",
            "-118.140000,34.170000,52.000000,2667.000000,486.000000,1681.000000,504.000000,4.052400,173100.000000\n",
            "-122.730000,38.460000,14.000000,4042.000000,1298.000000,2323.000000,1158.000000,2.065100,135400.000000\n",
            "-117.060000,32.760000,37.000000,2356.000000,476.000000,1231.000000,499.000000,2.965000,155700.000000\n",
            "-120.710000,35.500000,12.000000,3098.000000,453.000000,1433.000000,434.000000,5.250800,292900.000000\n",
            "-118.310000,34.050000,35.000000,1692.000000,423.000000,1578.000000,406.000000,2.531300,305800.000000\n",
            "-119.700000,36.750000,11.000000,3626.000000,779.000000,1819.000000,731.000000,2.495600,87500.000000\n",
            "-121.340000,38.640000,17.000000,2761.000000,501.000000,1128.000000,482.000000,3.756200,139700.000000\n",
            "-117.910000,34.090000,20.000000,4327.000000,1037.000000,2296.000000,963.000000,3.044100,185400.000000\n",
            "-119.760000,36.790000,32.000000,2463.000000,468.000000,1261.000000,486.000000,3.328100,75100.000000\n",
            "-120.660000,35.490000,17.000000,4422.000000,945.000000,2307.000000,885.000000,2.828500,171300.000000\n",
            "-118.280000,34.080000,42.000000,1618.000000,522.000000,1454.000000,440.000000,3.160700,182000.000000\n",
            "-122.540000,37.900000,48.000000,2491.000000,460.000000,937.000000,455.000000,4.437500,370000.000000\n",
            "-117.590000,33.880000,13.000000,3239.000000,849.000000,2751.000000,813.000000,2.611100,107000.000000\n",
            "-120.470000,34.940000,17.000000,1368.000000,308.000000,642.000000,303.000000,1.863300,109400.000000\n",
            "-118.250000,33.930000,42.000000,819.000000,233.000000,899.000000,228.000000,1.134600,85400.000000\n",
            "-121.970000,37.290000,25.000000,4096.000000,743.000000,2027.000000,741.000000,5.329400,300300.000000\n",
            "-122.010000,36.970000,43.000000,2162.000000,509.000000,1208.000000,464.000000,2.541700,260900.000000\n",
            "-122.020000,37.600000,32.000000,1295.000000,295.000000,1097.000000,328.000000,3.238600,149600.000000\n",
            "-118.230000,34.090000,49.000000,1638.000000,456.000000,1500.000000,430.000000,2.692300,150000.000000\n",
            "-117.170000,34.280000,13.000000,4867.000000,718.000000,780.000000,250.000000,7.199700,253800.000000\n",
            "-122.330000,37.390000,52.000000,573.000000,102.000000,232.000000,92.000000,6.226300,500001.000000\n",
            "-117.910000,33.600000,37.000000,2088.000000,510.000000,673.000000,390.000000,5.104800,500001.000000\n",
            "-117.930000,33.860000,35.000000,931.000000,181.000000,516.000000,174.000000,5.586700,182500.000000\n",
            "-119.860000,34.420000,23.000000,1450.000000,642.000000,1258.000000,607.000000,1.179000,225000.000000\n",
            "-118.140000,34.060000,27.000000,5257.000000,1082.000000,3496.000000,1036.000000,3.390600,237200.000000\n",
            "-119.700000,36.300000,10.000000,956.000000,201.000000,693.000000,220.000000,2.289500,62000.000000\n",
            "-117.120000,34.100000,40.000000,96.000000,14.000000,46.000000,14.000000,3.270800,162500.000000\n",
            "-119.630000,34.420000,42.000000,1765.000000,263.000000,753.000000,260.000000,8.560800,500001.000000\n"
          ]
        }
      ],
      "source": [
        "! cat /content/sample_data/california_housing_test.csv"
      ]
    },
    {
      "cell_type": "code",
      "execution_count": null,
      "metadata": {
        "colab": {
          "base_uri": "https://localhost:8080/"
        },
        "id": "6ux5Y5eY-Q0S",
        "outputId": "a6dbfad3-2f16-447a-ad86-1eb3c1c764d1"
      },
      "outputs": [
        {
          "name": "stdout",
          "output_type": "stream",
          "text": [
            "+---------+--------+------------------+-----------+--------------+----------+----------+-------------+------------------+\n",
            "|longitude|latitude|housing_median_age|total_rooms|total_bedrooms|population|households|median_income|median_house_value|\n",
            "+---------+--------+------------------+-----------+--------------+----------+----------+-------------+------------------+\n",
            "|  -122.05|   37.37|              27.0|     3885.0|         661.0|    1537.0|     606.0|       6.6085|          344700.0|\n",
            "|   -118.3|   34.26|              43.0|     1510.0|         310.0|     809.0|     277.0|        3.599|          176500.0|\n",
            "|  -117.81|   33.78|              27.0|     3589.0|         507.0|    1484.0|     495.0|       5.7934|          270500.0|\n",
            "|  -118.36|   33.82|              28.0|       67.0|          15.0|      49.0|      11.0|       6.1359|          330000.0|\n",
            "|  -119.67|   36.33|              19.0|     1241.0|         244.0|     850.0|     237.0|       2.9375|           81700.0|\n",
            "|  -119.56|   36.51|              37.0|     1018.0|         213.0|     663.0|     204.0|       1.6635|           67000.0|\n",
            "|  -121.43|   38.63|              43.0|     1009.0|         225.0|     604.0|     218.0|       1.6641|           67000.0|\n",
            "|  -120.65|   35.48|              19.0|     2310.0|         471.0|    1341.0|     441.0|        3.225|          166900.0|\n",
            "|  -122.84|    38.4|              15.0|     3080.0|         617.0|    1446.0|     599.0|       3.6696|          194400.0|\n",
            "|  -118.02|   34.08|              31.0|     2402.0|         632.0|    2830.0|     603.0|       2.3333|          164200.0|\n",
            "|  -118.24|   33.98|              45.0|      972.0|         249.0|    1288.0|     261.0|       2.2054|          125000.0|\n",
            "|  -119.12|   35.85|              37.0|      736.0|         166.0|     564.0|     138.0|       2.4167|           58300.0|\n",
            "|  -121.93|   37.25|              36.0|     1089.0|         182.0|     535.0|     170.0|         4.69|          252600.0|\n",
            "|  -117.03|   32.97|              16.0|     3936.0|         694.0|    1935.0|     659.0|       4.5625|          231200.0|\n",
            "|  -117.97|   33.73|              27.0|     2097.0|         325.0|    1217.0|     331.0|       5.7121|          222500.0|\n",
            "|  -117.99|   33.81|              42.0|      161.0|          40.0|     157.0|      50.0|          2.2|          153100.0|\n",
            "|  -120.81|   37.53|              15.0|      570.0|         123.0|     189.0|     107.0|        1.875|          181300.0|\n",
            "|   -121.2|   38.69|              26.0|     3077.0|         607.0|    1603.0|     595.0|       2.7174|          137500.0|\n",
            "|  -118.88|   34.21|              26.0|     1590.0|         196.0|     654.0|     199.0|       6.5851|          300000.0|\n",
            "|  -122.59|   38.01|              35.0|     8814.0|        1307.0|    3450.0|    1258.0|       6.1724|          414300.0|\n",
            "+---------+--------+------------------+-----------+--------------+----------+----------+-------------+------------------+\n",
            "only showing top 20 rows\n",
            "\n"
          ]
        }
      ],
      "source": [
        "df = sqlc.read.csv('/content/sample_data/california_housing_test.csv',\n",
        "                   header=True, inferSchema=True)\n",
        "df.show()"
      ]
    },
    {
      "cell_type": "code",
      "execution_count": null,
      "metadata": {
        "colab": {
          "base_uri": "https://localhost:8080/"
        },
        "id": "vNO1rZsS-hbs",
        "outputId": "19aa14d7-5f28-4791-da1e-ebc87cc59808"
      },
      "outputs": [
        {
          "name": "stdout",
          "output_type": "stream",
          "text": [
            "root\n",
            " |-- longitude: double (nullable = true)\n",
            " |-- latitude: double (nullable = true)\n",
            " |-- housing_median_age: double (nullable = true)\n",
            " |-- total_rooms: double (nullable = true)\n",
            " |-- total_bedrooms: double (nullable = true)\n",
            " |-- population: double (nullable = true)\n",
            " |-- households: double (nullable = true)\n",
            " |-- median_income: double (nullable = true)\n",
            " |-- median_house_value: double (nullable = true)\n",
            "\n"
          ]
        }
      ],
      "source": [
        "df.printSchema()"
      ]
    },
    {
      "cell_type": "code",
      "execution_count": null,
      "metadata": {
        "colab": {
          "base_uri": "https://localhost:8080/"
        },
        "id": "xSo19UessnFx",
        "outputId": "513d3a57-4eb5-4459-a32b-f58bee449d99"
      },
      "outputs": [
        {
          "name": "stdout",
          "output_type": "stream",
          "text": [
            "+------+----+-----+---------------+\n",
            "|Series|   X|    Y|_corrupt_record|\n",
            "+------+----+-----+---------------+\n",
            "|  null|null| null|              [|\n",
            "|     I|10.0| 8.04|           null|\n",
            "|     I| 8.0| 6.95|           null|\n",
            "|     I|13.0| 7.58|           null|\n",
            "|     I| 9.0| 8.81|           null|\n",
            "|     I|11.0| 8.33|           null|\n",
            "|     I|14.0| 9.96|           null|\n",
            "|     I| 6.0| 7.24|           null|\n",
            "|     I| 4.0| 4.26|           null|\n",
            "|     I|12.0|10.84|           null|\n",
            "|     I| 7.0| 4.81|           null|\n",
            "|     I| 5.0| 5.68|           null|\n",
            "|    II|10.0| 9.14|           null|\n",
            "|    II| 8.0| 8.14|           null|\n",
            "|    II|13.0| 8.74|           null|\n",
            "|    II| 9.0| 8.77|           null|\n",
            "|    II|11.0| 9.26|           null|\n",
            "|    II|14.0|  8.1|           null|\n",
            "|    II| 6.0| 6.13|           null|\n",
            "|    II| 4.0|  3.1|           null|\n",
            "+------+----+-----+---------------+\n",
            "only showing top 20 rows\n",
            "\n"
          ]
        }
      ],
      "source": [
        "df = sqlc.read.json('/content/sample_data/anscombe.json')\n",
        "df.show()"
      ]
    },
    {
      "cell_type": "code",
      "execution_count": null,
      "metadata": {
        "colab": {
          "base_uri": "https://localhost:8080/"
        },
        "id": "4F3rMXgXAF9t",
        "outputId": "77ca7515-ebdd-420d-a9e4-9013972bbfe2"
      },
      "outputs": [
        {
          "name": "stdout",
          "output_type": "stream",
          "text": [
            "+-------+---+\n",
            "|   name|age|\n",
            "+-------+---+\n",
            "| satish| 25|\n",
            "|krishna| 28|\n",
            "|  amith| 39|\n",
            "|  javed| 23|\n",
            "| prudvi| 23|\n",
            "+-------+---+\n",
            "\n"
          ]
        }
      ],
      "source": [
        "df.select('name', 'age').show()"
      ]
    },
    {
      "cell_type": "code",
      "execution_count": null,
      "metadata": {
        "colab": {
          "base_uri": "https://localhost:8080/"
        },
        "id": "L2U8ECSCAUe0",
        "outputId": "240f4186-d8d1-460b-be80-0b71e5013932"
      },
      "outputs": [
        {
          "name": "stdout",
          "output_type": "stream",
          "text": [
            "+---+----+-------+\n",
            "|age|  id|   name|\n",
            "+---+----+-------+\n",
            "| 25|1201| satish|\n",
            "| 28|1202|krishna|\n",
            "| 39|1203|  amith|\n",
            "+---+----+-------+\n",
            "\n"
          ]
        }
      ],
      "source": [
        "df.where(df['age'] >= 25).show()"
      ]
    },
    {
      "cell_type": "code",
      "execution_count": null,
      "metadata": {
        "colab": {
          "base_uri": "https://localhost:8080/"
        },
        "id": "5I3DM7oZBDLX",
        "outputId": "46ccbe50-44f9-4876-f13a-85dd2b517498"
      },
      "outputs": [
        {
          "name": "stdout",
          "output_type": "stream",
          "text": [
            "+---+-----+\n",
            "|age|count|\n",
            "+---+-----+\n",
            "| 25|    1|\n",
            "| 28|    1|\n",
            "| 39|    1|\n",
            "+---+-----+\n",
            "\n"
          ]
        }
      ],
      "source": [
        "df.where(df['age'] > 23) \\\n",
        "  .groupBy('age') \\\n",
        "  .count() \\\n",
        "  .sort('age') \\\n",
        "  .show()"
      ]
    },
    {
      "cell_type": "code",
      "execution_count": null,
      "metadata": {
        "colab": {
          "base_uri": "https://localhost:8080/"
        },
        "id": "I07aKT8gBjcI",
        "outputId": "25f63784-8ce9-4740-eb8b-8fff10b19ee0"
      },
      "outputs": [
        {
          "data": {
            "text/plain": [
              "[Row(age='25', id='1201', name='satish'),\n",
              " Row(age='28', id='1202', name='krishna'),\n",
              " Row(age='39', id='1203', name='amith')]"
            ]
          },
          "execution_count": 26,
          "metadata": {},
          "output_type": "execute_result"
        }
      ],
      "source": [
        "df.head(3)"
      ]
    },
    {
      "cell_type": "code",
      "execution_count": null,
      "metadata": {
        "id": "Sik6yYB4ujvz"
      },
      "outputs": [],
      "source": [
        "df = sqlc.read.csv('/content/mmds_n01.csv',\n",
        "                   header=True,\n",
        "                   inferSchema=True)"
      ]
    },
    {
      "cell_type": "code",
      "execution_count": null,
      "metadata": {
        "colab": {
          "base_uri": "https://localhost:8080/"
        },
        "id": "5Im78pGjuntp",
        "outputId": "719e6cb2-516e-4472-db5f-2e44b1e1c855"
      },
      "outputs": [
        {
          "name": "stdout",
          "output_type": "stream",
          "text": [
            "+---+--------+----------------+-----+----+--------+------+-----------------+----+-----+-------------------+--------------------+\n",
            "|STT|Mã số SV|          Họ lót|  Tên|Phái|     Lớp| Mã MH|           Tên MH|Nhóm|Tổ TH|           Cơ sở MH|               Email|\n",
            "+---+--------+----------------+-----+----+--------+------+-----------------+----+-----+-------------------+--------------------+\n",
            "|  1|51702052|      Nguyễn Phú|   An| Nam|17050201|504048|Xử lý dữ liệu lớn|  01| null|0 - TP. Hồ Chí Minh|51702052@student....|\n",
            "|  2|51702053|  Lê Nguyễn Hoài|   Ân| Nam|17050202|504048|Xử lý dữ liệu lớn|  01| null|0 - TP. Hồ Chí Minh|51702053@student....|\n",
            "|  3|51900645|Nguyễn Thị Quỳnh|  Anh|  Nữ|19050402|504048|Xử lý dữ liệu lớn|  01| null|0 - TP. Hồ Chí Minh|51900645@student....|\n",
            "|  4|51900679|        Lê Hoàng|  Anh| Nam|19050281|504048|Xử lý dữ liệu lớn|  01| null|0 - TP. Hồ Chí Minh|51900679@student....|\n",
            "|  5|52100776|  Nguyễn Thị Kim|  Chi|  Nữ|21050281|504048|Xử lý dữ liệu lớn|  01| null|0 - TP. Hồ Chí Minh|52100776@student....|\n",
            "|  6|31900658|  Nguyễn Ngọc Ái|  Đan|  Nữ|19050401|504048|Xử lý dữ liệu lớn|  01| null|0 - TP. Hồ Chí Minh|31900658@student....|\n",
            "|  7|52000314|    Nguyễn Thành| Danh| Nam|20050401|504048|Xử lý dữ liệu lớn|  01| null|0 - TP. Hồ Chí Minh|52000314@student....|\n",
            "|  8|51900785|         Lê Tiến|  Đạt| Nam|19050402|504048|Xử lý dữ liệu lớn|  01| null|0 - TP. Hồ Chí Minh|51900785@student....|\n",
            "|  9|52000025|     Nghiêm Tiến|  Đạt| Nam|20050201|504048|Xử lý dữ liệu lớn|  01| null|0 - TP. Hồ Chí Minh|52000025@student....|\n",
            "| 10|52100879|      Trần Thành|  Đạt| Nam|21050301|504048|Xử lý dữ liệu lớn|  01| null|0 - TP. Hồ Chí Minh|52100879@student....|\n",
            "| 11|51800539|    Nguyễn Khánh|  Duy| Nam|18050303|504048|Xử lý dữ liệu lớn|  01| null|0 - TP. Hồ Chí Minh|51800539@student....|\n",
            "| 12|51900054|  Phan Ngọc Linh|  Duy| Nam|19050201|504048|Xử lý dữ liệu lớn|  01| null|0 - TP. Hồ Chí Minh|51900054@student....|\n",
            "| 13|52100957|   Nguyễn Trường|  Duy| Nam|21050401|504048|Xử lý dữ liệu lớn|  01| null|0 - TP. Hồ Chí Minh|52100957@student....|\n",
            "| 14|51900058|      Thái Khánh|   Hà|  Nữ|19050202|504048|Xử lý dữ liệu lớn|  01| null|0 - TP. Hồ Chí Minh|51900058@student....|\n",
            "| 15|52100885|        Mai Xuân|   Hà| Nam|21050301|504048|Xử lý dữ liệu lớn|  01| null|0 - TP. Hồ Chí Minh|52100885@student....|\n",
            "| 16|52000661|       Phan Xuân| Hiền| Nam|20050201|504048|Xử lý dữ liệu lớn|  01| null|0 - TP. Hồ Chí Minh|52000661@student....|\n",
            "| 17|52100796|   Phạm Đức Minh| Hiếu| Nam|21050201|504048|Xử lý dữ liệu lớn|  01| null|0 - TP. Hồ Chí Minh|52100796@student....|\n",
            "| 18|52000758| Trần Đình Thanh|Hoàng| Nam|20050301|504048|Xử lý dữ liệu lớn|  01| null|0 - TP. Hồ Chí Minh|52000758@student....|\n",
            "| 19|52000665|      Lê Thị Thu| Hồng|  Nữ|20050201|504048|Xử lý dữ liệu lớn|  01| null|0 - TP. Hồ Chí Minh|52000665@student....|\n",
            "| 20|52100891|        Đặng Huy| Hưng| Nam|21050301|504048|Xử lý dữ liệu lớn|  01| null|0 - TP. Hồ Chí Minh|52100891@student....|\n",
            "+---+--------+----------------+-----+----+--------+------+-----------------+----+-----+-------------------+--------------------+\n",
            "only showing top 20 rows\n",
            "\n"
          ]
        }
      ],
      "source": [
        "df.show()"
      ]
    },
    {
      "cell_type": "code",
      "execution_count": null,
      "metadata": {
        "colab": {
          "base_uri": "https://localhost:8080/"
        },
        "id": "oPrwEk7ouzBG",
        "outputId": "92ac437d-d145-47b3-c946-54b425a18188"
      },
      "outputs": [
        {
          "name": "stdout",
          "output_type": "stream",
          "text": [
            "root\n",
            " |-- STT: integer (nullable = true)\n",
            " |-- Mã số SV: integer (nullable = true)\n",
            " |-- Họ lót: string (nullable = true)\n",
            " |-- Tên: string (nullable = true)\n",
            " |-- Phái: string (nullable = true)\n",
            " |-- Lớp: integer (nullable = true)\n",
            " |-- Mã MH: integer (nullable = true)\n",
            " |-- Tên MH: string (nullable = true)\n",
            " |-- Nhóm: integer (nullable = true)\n",
            " |-- Tổ TH: string (nullable = true)\n",
            " |-- Cơ sở MH: string (nullable = true)\n",
            " |-- Email: string (nullable = true)\n",
            "\n"
          ]
        }
      ],
      "source": [
        "df.printSchema()"
      ]
    },
    {
      "cell_type": "code",
      "execution_count": null,
      "metadata": {
        "colab": {
          "base_uri": "https://localhost:8080/"
        },
        "id": "tCob0l4mu5jh",
        "outputId": "e67180b5-5bcd-4f30-e638-98672b079c10"
      },
      "outputs": [
        {
          "name": "stdout",
          "output_type": "stream",
          "text": [
            "+---+--------+----------------+------+\n",
            "|STT|Mã số SV|          Họ lót|   Tên|\n",
            "+---+--------+----------------+------+\n",
            "|  3|51900645|Nguyễn Thị Quỳnh|   Anh|\n",
            "|  5|52100776|  Nguyễn Thị Kim|   Chi|\n",
            "|  6|31900658|  Nguyễn Ngọc Ái|   Đan|\n",
            "| 14|51900058|      Thái Khánh|    Hà|\n",
            "| 19|52000665|      Lê Thị Thu|  Hồng|\n",
            "| 32|51900599|          Lê Yến|  Linh|\n",
            "| 40|52000786|  Nguyễn Thị Thu|Nguyên|\n",
            "| 53|51900564|  Nguyễn Thị Anh|   Thư|\n",
            "+---+--------+----------------+------+\n",
            "\n"
          ]
        }
      ],
      "source": [
        "df.where(df['Phái'] == 'Nữ') \\\n",
        "  .select('STT', 'Mã số SV', 'Họ lót', 'Tên') \\\n",
        "  .sort('STT') \\\n",
        "  .show()"
      ]
    },
    {
      "cell_type": "markdown",
      "metadata": {
        "id": "loChEKhiPomT"
      },
      "source": [
        "#**Finding Frequent ItemSets**"
      ]
    },
    {
      "cell_type": "code",
      "execution_count": null,
      "metadata": {
        "id": "RwrA2e_sQlGH"
      },
      "outputs": [],
      "source": [
        "from pyspark.ml.fpm import FPGrowth\n",
        "from pyspark import SparkContext\n",
        "from pyspark.sql import SQLContext\n",
        "\n",
        "spark = SQLContext(SparkContext('local', 'FFI'))\n",
        "df = spark.createDataFrame([\n",
        "    (0, [1, 2, 5]),\n",
        "    (1, [1, 2, 3, 5]),\n",
        "    (2, [1, 2])\n",
        "], [\"id\", \"items\"])"
      ]
    },
    {
      "cell_type": "code",
      "execution_count": null,
      "metadata": {
        "colab": {
          "base_uri": "https://localhost:8080/"
        },
        "id": "hyvhpQcwESYJ",
        "outputId": "42e2d647-8610-4b1d-fffa-cdd5daaa9161"
      },
      "outputs": [
        {
          "name": "stdout",
          "output_type": "stream",
          "text": [
            "+---+------------+\n",
            "| id|       items|\n",
            "+---+------------+\n",
            "|  0|   [1, 2, 5]|\n",
            "|  1|[1, 2, 3, 5]|\n",
            "|  2|      [1, 2]|\n",
            "+---+------------+\n",
            "\n"
          ]
        }
      ],
      "source": [
        "df.show()"
      ]
    },
    {
      "cell_type": "code",
      "execution_count": null,
      "metadata": {
        "colab": {
          "base_uri": "https://localhost:8080/"
        },
        "id": "HlOA8DhKEXSp",
        "outputId": "e8b99727-b967-4272-d880-a25510973bba"
      },
      "outputs": [
        {
          "name": "stdout",
          "output_type": "stream",
          "text": [
            "root\n",
            " |-- id: long (nullable = true)\n",
            " |-- items: array (nullable = true)\n",
            " |    |-- element: long (containsNull = true)\n",
            "\n"
          ]
        }
      ],
      "source": [
        "df.printSchema()"
      ]
    },
    {
      "cell_type": "code",
      "execution_count": null,
      "metadata": {
        "id": "O5bBjQJTQs0I"
      },
      "outputs": [],
      "source": [
        "fpGrowth = FPGrowth(itemsCol=\"items\",\n",
        "                    minSupport=0.5,\n",
        "                    minConfidence=0.6)\n",
        "model = fpGrowth.fit(df)"
      ]
    },
    {
      "cell_type": "code",
      "execution_count": null,
      "metadata": {
        "colab": {
          "base_uri": "https://localhost:8080/"
        },
        "id": "dcs4YGFaQxN_",
        "outputId": "df73e949-5a9f-4304-ffd0-69a46c7fde41"
      },
      "outputs": [
        {
          "name": "stdout",
          "output_type": "stream",
          "text": [
            "+---------+----+\n",
            "|    items|freq|\n",
            "+---------+----+\n",
            "|      [5]|   2|\n",
            "|   [5, 2]|   2|\n",
            "|[5, 2, 1]|   2|\n",
            "|   [5, 1]|   2|\n",
            "|      [2]|   3|\n",
            "|   [2, 1]|   3|\n",
            "|      [1]|   3|\n",
            "+---------+----+\n",
            "\n"
          ]
        }
      ],
      "source": [
        "# Display frequent itemsets.\n",
        "model.freqItemsets.show()"
      ]
    },
    {
      "cell_type": "code",
      "execution_count": null,
      "metadata": {
        "colab": {
          "base_uri": "https://localhost:8080/"
        },
        "id": "OcxekHkvRMX3",
        "outputId": "a8168882-4dd8-4ff8-8dd3-b174a9c7053d"
      },
      "outputs": [
        {
          "name": "stdout",
          "output_type": "stream",
          "text": [
            "+----------+----------+------------------+----+------------------+\n",
            "|antecedent|consequent|        confidence|lift|           support|\n",
            "+----------+----------+------------------+----+------------------+\n",
            "|    [5, 2]|       [1]|               1.0| 1.0|0.6666666666666666|\n",
            "|    [5, 1]|       [2]|               1.0| 1.0|0.6666666666666666|\n",
            "|       [5]|       [2]|               1.0| 1.0|0.6666666666666666|\n",
            "|       [5]|       [1]|               1.0| 1.0|0.6666666666666666|\n",
            "|       [2]|       [5]|0.6666666666666666| 1.0|0.6666666666666666|\n",
            "|       [2]|       [1]|               1.0| 1.0|               1.0|\n",
            "|       [1]|       [5]|0.6666666666666666| 1.0|0.6666666666666666|\n",
            "|       [1]|       [2]|               1.0| 1.0|               1.0|\n",
            "|    [2, 1]|       [5]|0.6666666666666666| 1.0|0.6666666666666666|\n",
            "+----------+----------+------------------+----+------------------+\n",
            "\n"
          ]
        }
      ],
      "source": [
        "# Display generated association rules.\n",
        "model.associationRules.show()"
      ]
    },
    {
      "cell_type": "code",
      "execution_count": null,
      "metadata": {
        "colab": {
          "base_uri": "https://localhost:8080/"
        },
        "id": "I49Lf_GpQ0H4",
        "outputId": "5e219146-1464-4858-8d1c-2e8ef9338e9f"
      },
      "outputs": [
        {
          "name": "stdout",
          "output_type": "stream",
          "text": [
            "+---+------------+----------+\n",
            "| id|       items|prediction|\n",
            "+---+------------+----------+\n",
            "|  0|   [1, 2, 5]|        []|\n",
            "|  1|[1, 2, 3, 5]|        []|\n",
            "|  2|      [1, 2]|       [5]|\n",
            "+---+------------+----------+\n",
            "\n"
          ]
        }
      ],
      "source": [
        "# transform examines the input items against all the association rules and summarize the\n",
        "# consequents as prediction\n",
        "model.transform(df).show()"
      ]
    },
    {
      "cell_type": "code",
      "execution_count": null,
      "metadata": {
        "colab": {
          "base_uri": "https://localhost:8080/"
        },
        "id": "cpHHUylIR5S2",
        "outputId": "7608c441-ee91-4ab8-ea6d-c66e3192c14d"
      },
      "outputs": [
        {
          "name": "stdout",
          "output_type": "stream",
          "text": [
            "+---+------+----------+\n",
            "| id| items|prediction|\n",
            "+---+------+----------+\n",
            "|  0|[1, 2]|       [5]|\n",
            "|  1|[1, 5]|       [2]|\n",
            "|  2|[5, 1]|       [2]|\n",
            "|  3|[2, 3]|    [5, 1]|\n",
            "+---+------+----------+\n",
            "\n"
          ]
        }
      ],
      "source": [
        "testDf = spark.createDataFrame([\n",
        "    (0, [1, 2]),\n",
        "    (1, [1, 5]),\n",
        "    (2, [5, 1]),\n",
        "    (3, [2, 3])],\n",
        "    ['id', 'items']\n",
        "    )\n",
        "model.transform(testDf).show()"
      ]
    },
    {
      "cell_type": "code",
      "execution_count": null,
      "metadata": {
        "id": "Mkg95xC0v4w3"
      },
      "outputs": [],
      "source": [
        "# Example from the lecture slide\n",
        "\n",
        "demoDf = spark.createDataFrame(\n",
        "    [(0, ['m', 'c', 'b']),\n",
        "     (1, ['m', 'p', 'j']),\n",
        "     (2, ['m', 'c', 'b', 'n']),\n",
        "     (3, ['c', 'j']),\n",
        "     (4, ['m', 'p', 'b']),\n",
        "     (5, ['m', 'c', 'b', 'j']),\n",
        "     (6, ['c', 'b', 'j']),\n",
        "     (7, ['b', 'c'])\n",
        "     ], ['id', 'items']\n",
        ")"
      ]
    },
    {
      "cell_type": "code",
      "execution_count": null,
      "metadata": {
        "colab": {
          "base_uri": "https://localhost:8080/"
        },
        "id": "ngdJZe0awzyw",
        "outputId": "b76dd537-a079-4682-ddb5-02f3c0e7d3f4"
      },
      "outputs": [
        {
          "name": "stdout",
          "output_type": "stream",
          "text": [
            "+---+------------+\n",
            "| id|       items|\n",
            "+---+------------+\n",
            "|  0|   [m, c, b]|\n",
            "|  1|   [m, p, j]|\n",
            "|  2|[m, c, b, n]|\n",
            "|  3|      [c, j]|\n",
            "|  4|   [m, p, b]|\n",
            "|  5|[m, c, b, j]|\n",
            "|  6|   [c, b, j]|\n",
            "|  7|      [b, c]|\n",
            "+---+------------+\n",
            "\n"
          ]
        }
      ],
      "source": [
        "demoDf.show()"
      ]
    },
    {
      "cell_type": "code",
      "execution_count": null,
      "metadata": {
        "id": "RPJqoXTtv16w"
      },
      "outputs": [],
      "source": [
        "fpGrowth = FPGrowth(itemsCol=\"items\",\n",
        "                    minSupport=0.375,\n",
        "                    minConfidence=0.75)\n",
        "model = fpGrowth.fit(demoDf)"
      ]
    },
    {
      "cell_type": "code",
      "execution_count": null,
      "metadata": {
        "colab": {
          "base_uri": "https://localhost:8080/"
        },
        "id": "X3cRvSrQxoX7",
        "outputId": "a255fd84-3cd9-48d7-8152-e569ae1707bf"
      },
      "outputs": [
        {
          "name": "stdout",
          "output_type": "stream",
          "text": [
            "+---------+----+\n",
            "|    items|freq|\n",
            "+---------+----+\n",
            "|   [m, c]|   3|\n",
            "|[m, c, b]|   3|\n",
            "|   [m, b]|   4|\n",
            "|   [c, b]|   5|\n",
            "|   [j, c]|   3|\n",
            "+---------+----+\n",
            "\n"
          ]
        }
      ],
      "source": [
        "! rm -rf demo\n",
        "model.freqItemsets.rdd \\\n",
        "        .filter(lambda x: len(x[0]) > 1) \\\n",
        "        .toDF() \\\n",
        "        .show()\n"
      ]
    },
    {
      "cell_type": "code",
      "execution_count": null,
      "metadata": {
        "colab": {
          "base_uri": "https://localhost:8080/"
        },
        "id": "BQv-m5IRxzJl",
        "outputId": "9a449c24-1480-4372-f22c-8b04be1793bc"
      },
      "outputs": [
        {
          "name": "stdout",
          "output_type": "stream",
          "text": [
            "+----------+----------+------------------+------------------+-------+\n",
            "|antecedent|consequent|        confidence|              lift|support|\n",
            "+----------+----------+------------------+------------------+-------+\n",
            "|    [m, b]|       [c]|              0.75|               1.0|  0.375|\n",
            "|       [m]|       [c]|               0.6|0.7999999999999999|  0.375|\n",
            "|       [m]|       [b]|               0.8|1.0666666666666667|    0.5|\n",
            "|       [b]|       [m]|0.6666666666666666|1.0666666666666667|    0.5|\n",
            "|       [b]|       [c]|0.8333333333333334|1.1111111111111112|  0.625|\n",
            "|    [m, c]|       [b]|               1.0|1.3333333333333333|  0.375|\n",
            "|       [j]|       [c]|              0.75|               1.0|  0.375|\n",
            "|       [c]|       [b]|0.8333333333333334|1.1111111111111112|  0.625|\n",
            "|    [c, b]|       [m]|               0.6|              0.96|  0.375|\n",
            "+----------+----------+------------------+------------------+-------+\n",
            "\n"
          ]
        }
      ],
      "source": [
        "model.associationRules.show()"
      ]
    },
    {
      "cell_type": "code",
      "execution_count": null,
      "metadata": {
        "colab": {
          "base_uri": "https://localhost:8080/"
        },
        "id": "UyAWp2F1_ipZ",
        "outputId": "bc9224a9-a520-4b92-ed45-4141ad406952"
      },
      "outputs": [
        {
          "name": "stdout",
          "output_type": "stream",
          "text": [
            "+---+------------+----------+\n",
            "| id|       items|prediction|\n",
            "+---+------------+----------+\n",
            "|  0|   [m, c, b]|        []|\n",
            "|  1|   [m, p, j]|    [c, b]|\n",
            "|  2|[m, c, b, n]|        []|\n",
            "|  3|      [c, j]|       [b]|\n",
            "|  4|   [m, p, b]|       [c]|\n",
            "|  5|[m, c, b, j]|        []|\n",
            "|  6|   [c, b, j]|       [m]|\n",
            "|  7|      [b, c]|       [m]|\n",
            "+---+------------+----------+\n",
            "\n"
          ]
        }
      ],
      "source": [
        "model.transform(demoDf).show()"
      ]
    },
    {
      "cell_type": "markdown",
      "metadata": {
        "id": "Vs3uKTBvYQo8"
      },
      "source": [
        "### Ví dụ 1"
      ]
    },
    {
      "cell_type": "code",
      "execution_count": null,
      "metadata": {
        "id": "LhjCHwThKMlZ"
      },
      "outputs": [],
      "source": [
        "from pyspark import SparkContext\n",
        "from pyspark.sql import SQLContext\n",
        "from pyspark.sql.types import StructType, StringType, ArrayType, StructField\n",
        "\n",
        "sc = SparkContext.getOrCreate('local')\n",
        "sqlc = SQLContext(sc)"
      ]
    },
    {
      "cell_type": "code",
      "execution_count": null,
      "metadata": {
        "id": "dUp9ImUvKrBA"
      },
      "outputs": [],
      "source": [
        "baskets = sc.textFile('/content/baskets.csv')\n",
        "baskets = baskets.map(lambda x: [x.strip().split(',')])\n",
        "baskets = sqlc.createDataFrame(baskets, [\"items\"])"
      ]
    },
    {
      "cell_type": "code",
      "execution_count": null,
      "metadata": {
        "colab": {
          "base_uri": "https://localhost:8080/"
        },
        "id": "lqajDSJwK3e-",
        "outputId": "164da7e2-58e3-4f5d-b9da-cf702238e4de"
      },
      "outputs": [
        {
          "name": "stdout",
          "output_type": "stream",
          "text": [
            "root\n",
            " |-- items: array (nullable = true)\n",
            " |    |-- element: string (containsNull = true)\n",
            "\n"
          ]
        }
      ],
      "source": [
        "baskets.printSchema()"
      ]
    },
    {
      "cell_type": "code",
      "execution_count": null,
      "metadata": {
        "colab": {
          "base_uri": "https://localhost:8080/"
        },
        "id": "6NfpYO3BLD8V",
        "outputId": "4738908e-4b55-4542-e96d-02abba89ff83"
      },
      "outputs": [
        {
          "name": "stdout",
          "output_type": "stream",
          "text": [
            "+--------------------+\n",
            "|               items|\n",
            "+--------------------+\n",
            "|[margarine, ready...|\n",
            "|[citrus fruit, se...|\n",
            "|    [yogurt, coffee]|\n",
            "|    [tropical fruit]|\n",
            "|        [whole milk]|\n",
            "|[cream cheese , p...|\n",
            "|[other vegetables...|\n",
            "|[whole milk, rice...|\n",
            "|    [yogurt, butter]|\n",
            "|        [rolls/buns]|\n",
            "|[UHT-milk, other ...|\n",
            "|[rolls/buns, bott...|\n",
            "|        [pot plants]|\n",
            "|[whole milk, cere...|\n",
            "|[white bread, cho...|\n",
            "|[other vegetables...|\n",
            "|     [flour, dishes]|\n",
            "|[whole milk, citr...|\n",
            "|              [beef]|\n",
            "|[rolls/buns, fran...|\n",
            "+--------------------+\n",
            "only showing top 20 rows\n",
            "\n"
          ]
        }
      ],
      "source": [
        "baskets.show()"
      ]
    },
    {
      "cell_type": "code",
      "execution_count": null,
      "metadata": {
        "id": "GQ3XK4lLLYXn"
      },
      "outputs": [],
      "source": [
        "fpGrowth = FPGrowth(itemsCol=\"items\",\n",
        "                    minSupport=0.01,\n",
        "                    minConfidence=0.25)\n",
        "model = fpGrowth.fit(baskets)"
      ]
    },
    {
      "cell_type": "code",
      "execution_count": null,
      "metadata": {
        "colab": {
          "base_uri": "https://localhost:8080/"
        },
        "id": "gDi31QThLduz",
        "outputId": "c560cc7d-0068-40b3-e06d-cd8c971bde3e"
      },
      "outputs": [
        {
          "name": "stdout",
          "output_type": "stream",
          "text": [
            "+--------------------+----+\n",
            "|               items|freq|\n",
            "+--------------------+----+\n",
            "|              [pork]| 567|\n",
            "|[pork, other vege...| 181|\n",
            "|  [hygiene articles]| 324|\n",
            "|           [waffles]| 378|\n",
            "|         [detergent]| 189|\n",
            "|               [ham]| 256|\n",
            "|       [soft cheese]| 168|\n",
            "|[pickled vegetables]| 176|\n",
            "|         [ice cream]| 246|\n",
            "|[whipped/sour cream]| 705|\n",
            "|[whipped/sour cre...| 187|\n",
            "|[whipped/sour cre...| 155|\n",
            "|     [shopping bags]| 969|\n",
            "|[shopping bags, o...| 228|\n",
            "|[shopping bags, s...| 210|\n",
            "|[shopping bags, w...| 222|\n",
            "|             [candy]| 294|\n",
            "|           [dessert]| 365|\n",
            "|              [beef]| 516|\n",
            "|  [beef, whole milk]| 197|\n",
            "+--------------------+----+\n",
            "only showing top 20 rows\n",
            "\n"
          ]
        }
      ],
      "source": [
        "model.freqItemsets.show()"
      ]
    },
    {
      "cell_type": "code",
      "execution_count": null,
      "metadata": {
        "colab": {
          "base_uri": "https://localhost:8080/"
        },
        "id": "RXWTbyDlLmLi",
        "outputId": "e6a3e4f6-0aff-40e3-99f9-986c7e1a63a1"
      },
      "outputs": [
        {
          "name": "stdout",
          "output_type": "stream",
          "text": [
            "+--------------------+------------------+-------------------+------------------+--------------------+\n",
            "|          antecedent|        consequent|         confidence|              lift|             support|\n",
            "+--------------------+------------------+-------------------+------------------+--------------------+\n",
            "|              [beef]|      [whole milk]| 0.3817829457364341|2.3399207840161393| 0.01279054668224906|\n",
            "|    [tropical fruit]|[other vegetables]|0.29748062015503873|2.4076702635984795| 0.01993247630177899|\n",
            "|    [tropical fruit]|      [whole milk]|0.27325581395348836|1.6747656372907391|0.018309310479158552|\n",
            "|      [citrus fruit]|[other vegetables]|  0.300982800982801|2.4360152920321076|  0.0159070250616803|\n",
            "|      [citrus fruit]|      [whole milk]|0.28255528255528256|  1.73176142535474|0.014933125568108038|\n",
            "|         [pip fruit]|[other vegetables]|0.28091397849462363| 2.273587544284915| 0.01356966627710687|\n",
            "|         [pip fruit]|      [whole milk]|  0.396505376344086|2.4301535242545214|0.019153356706921178|\n",
            "|  [other vegetables]|      [whole milk]|0.28008407777193906| 1.716615585293834| 0.03460589533826776|\n",
            "|[whipped/sour cream]|          [yogurt]| 0.2652482269503546| 2.977662676012654|0.012141280353200883|\n",
            "|[fruit/vegetable ...|      [whole milk]|0.35161744022503516|2.1550385254062836|0.016231658226204388|\n",
            "|        [newspapers]|      [whole milk]| 0.3375796178343949|2.0690017007104458| 0.01720555771977665|\n",
            "|           [napkins]|      [whole milk]|  0.341747572815534|2.0945468032251706| 0.01142708739124789|\n",
            "|              [pork]|[other vegetables]|0.31922398589065254|2.5836509882752656|0.011751720555771977|\n",
            "|         [margarine]|      [whole milk]| 0.4045138888888889|2.4792371335720915|0.015127905466822491|\n",
            "|     [domestic eggs]|[other vegetables]| 0.2724358974358974|2.2049698856057236|0.011037527593818985|\n",
            "|     [domestic eggs]|      [whole milk]|               0.25|1.5322323915638678| 0.01012855473315154|\n",
            "+--------------------+------------------+-------------------+------------------+--------------------+\n",
            "\n"
          ]
        }
      ],
      "source": [
        "model.associationRules.show()"
      ]
    },
    {
      "cell_type": "markdown",
      "metadata": {
        "id": "q3q14A69YUo9"
      },
      "source": [
        "### Ví dụ 2"
      ]
    },
    {
      "cell_type": "code",
      "execution_count": null,
      "metadata": {
        "id": "qAf3_zBS3P74"
      },
      "outputs": [],
      "source": [
        "from pyspark import SparkContext\n",
        "from pyspark.sql import SQLContext\n",
        "\n",
        "sqlc = SQLContext(SparkContext('local', 'test'))"
      ]
    },
    {
      "cell_type": "code",
      "execution_count": null,
      "metadata": {
        "id": "PdoOAfaF3e3F"
      },
      "outputs": [],
      "source": [
        "df = sqlc.read.csv('/content/drive/MyDrive/tmp/data.csv', header=True, sep=';')"
      ]
    },
    {
      "cell_type": "code",
      "execution_count": null,
      "metadata": {
        "colab": {
          "base_uri": "https://localhost:8080/"
        },
        "id": "dX39sHw33ivj",
        "outputId": "2ddd39e8-d5e8-4402-b926-bbeb40c6c319"
      },
      "outputs": [
        {
          "name": "stdout",
          "output_type": "stream",
          "text": [
            "+------+--------------------+--------+----------------+-----+----------+--------------+\n",
            "|BillNo|            Itemname|Quantity|            Date|Price|CustomerID|       Country|\n",
            "+------+--------------------+--------+----------------+-----+----------+--------------+\n",
            "|536365|WHITE HANGING HEA...|       6|01.12.2010 08:26| 2,55|     17850|United Kingdom|\n",
            "|536365| WHITE METAL LANTERN|       6|01.12.2010 08:26| 3,39|     17850|United Kingdom|\n",
            "|536365|CREAM CUPID HEART...|       8|01.12.2010 08:26| 2,75|     17850|United Kingdom|\n",
            "|536365|KNITTED UNION FLA...|       6|01.12.2010 08:26| 3,39|     17850|United Kingdom|\n",
            "|536365|RED WOOLLY HOTTIE...|       6|01.12.2010 08:26| 3,39|     17850|United Kingdom|\n",
            "|536365|SET 7 BABUSHKA NE...|       2|01.12.2010 08:26| 7,65|     17850|United Kingdom|\n",
            "|536365|GLASS STAR FROSTE...|       6|01.12.2010 08:26| 4,25|     17850|United Kingdom|\n",
            "|536366|HAND WARMER UNION...|       6|01.12.2010 08:28| 1,85|     17850|United Kingdom|\n",
            "|536366|HAND WARMER RED P...|       6|01.12.2010 08:28| 1,85|     17850|United Kingdom|\n",
            "|536367|ASSORTED COLOUR B...|      32|01.12.2010 08:34| 1,69|     13047|United Kingdom|\n",
            "|536367|POPPY'S PLAYHOUSE...|       6|01.12.2010 08:34|  2,1|     13047|United Kingdom|\n",
            "|536367|POPPY'S PLAYHOUSE...|       6|01.12.2010 08:34|  2,1|     13047|United Kingdom|\n",
            "|536367|FELTCRAFT PRINCES...|       8|01.12.2010 08:34| 3,75|     13047|United Kingdom|\n",
            "|536367|IVORY KNITTED MUG...|       6|01.12.2010 08:34| 1,65|     13047|United Kingdom|\n",
            "|536367|BOX OF 6 ASSORTED...|       6|01.12.2010 08:34| 4,25|     13047|United Kingdom|\n",
            "|536367|BOX OF VINTAGE JI...|       3|01.12.2010 08:34| 4,95|     13047|United Kingdom|\n",
            "|536367|BOX OF VINTAGE AL...|       2|01.12.2010 08:34| 9,95|     13047|United Kingdom|\n",
            "|536367|HOME BUILDING BLO...|       3|01.12.2010 08:34| 5,95|     13047|United Kingdom|\n",
            "|536367|LOVE BUILDING BLO...|       3|01.12.2010 08:34| 5,95|     13047|United Kingdom|\n",
            "|536367|RECIPE BOX WITH M...|       4|01.12.2010 08:34| 7,95|     13047|United Kingdom|\n",
            "+------+--------------------+--------+----------------+-----+----------+--------------+\n",
            "only showing top 20 rows\n",
            "\n"
          ]
        }
      ],
      "source": [
        "df.show()"
      ]
    },
    {
      "cell_type": "code",
      "execution_count": null,
      "metadata": {
        "id": "pxwpEDgJ5GXx"
      },
      "outputs": [],
      "source": [
        "tmp = df.select(['BillNo', 'Itemname']) \\\n",
        "        .distinct() \\\n",
        "        .rdd \\\n",
        "        .groupByKey() \\\n",
        "        .map(lambda x: x[1]) \\\n",
        "        .toDF() \\\n",
        "        .select('data')"
      ]
    },
    {
      "cell_type": "code",
      "execution_count": null,
      "metadata": {
        "colab": {
          "base_uri": "https://localhost:8080/"
        },
        "id": "NjWLLMyUCSb3",
        "outputId": "167c929c-6493-47a1-b813-69b20db4c725"
      },
      "outputs": [
        {
          "name": "stdout",
          "output_type": "stream",
          "text": [
            "+--------------------+\n",
            "|                data|\n",
            "+--------------------+\n",
            "|[CHARLOTTE BAG SU...|\n",
            "|[SKULL LUNCH BOX ...|\n",
            "|[DOORMAT RESPECTA...|\n",
            "|[SET/20 STRAWBERR...|\n",
            "|[SET OF 3 REGENCY...|\n",
            "|[PLASTERS IN TIN ...|\n",
            "|[PLASTERS IN TIN ...|\n",
            "|[FANCY FONTS BIRT...|\n",
            "|[FELT TOADSTOOL  ...|\n",
            "|[LAVENDER INCENSE...|\n",
            "|  [PARTY METAL SIGN]|\n",
            "|[NATURAL SLATE HE...|\n",
            "|[BUBBLEGUM RING A...|\n",
            "|[CHRISTMAS CRAFT ...|\n",
            "|[ASSORTED COLOUR ...|\n",
            "|[NATURAL SLATE HE...|\n",
            "|[NO JUNK MAIL MET...|\n",
            "|[FLORAL FOLK STAT...|\n",
            "|[4 PEAR BOTANICAL...|\n",
            "|[BLUE POLKADOT CU...|\n",
            "+--------------------+\n",
            "only showing top 20 rows\n",
            "\n"
          ]
        }
      ],
      "source": [
        "tmp.show()"
      ]
    },
    {
      "cell_type": "code",
      "execution_count": null,
      "metadata": {
        "id": "F58gnHYhBULS"
      },
      "outputs": [],
      "source": [
        "from pyspark.ml.fpm import FPGrowth\n",
        "fpGrowth = FPGrowth(itemsCol=\"data\",\n",
        "                    minSupport=0.01,\n",
        "                    minConfidence=0.3)\n",
        "model = fpGrowth.fit(tmp)"
      ]
    },
    {
      "cell_type": "code",
      "execution_count": null,
      "metadata": {
        "colab": {
          "base_uri": "https://localhost:8080/"
        },
        "id": "_pzYdqFrB6lI",
        "outputId": "b3f1dacf-f1c3-423e-aa66-118a18fcdac5"
      },
      "outputs": [
        {
          "name": "stdout",
          "output_type": "stream",
          "text": [
            "+--------------------+----+\n",
            "|               items|freq|\n",
            "+--------------------+----+\n",
            "|[FELTCRAFT BUTTER...| 471|\n",
            "|[VINTAGE CHRISTMA...| 334|\n",
            "|[ROCKING HORSE RE...| 245|\n",
            "|[WHITE HANGING HE...|2202|\n",
            "|[JUMBO BAG RED RE...|2064|\n",
            "|[JUMBO BAG RED RE...| 442|\n",
            "|[JUMBO BAG VINTAG...| 470|\n",
            "|[JUMBO BAG VINTAG...| 319|\n",
            "|[JAM JAR WITH PIN...| 333|\n",
            "|[STRAWBERRY   PIC...| 245|\n",
            "|[REGENCY CAKESTAN...|1904|\n",
            "|[REGENCY CAKESTAN...| 278|\n",
            "|[REGENCY CAKESTAN...| 343|\n",
            "|[NATURAL SLATE CH...| 468|\n",
            "|[WATERING CAN BLU...| 333|\n",
            "|[PARISIENNE JEWEL...| 245|\n",
            "|[PLAYING CARDS KE...| 333|\n",
            "|[BOYS VINTAGE TIN...| 244|\n",
            "|     [PARTY BUNTING]|1656|\n",
            "|[PARTY BUNTING, R...| 386|\n",
            "+--------------------+----+\n",
            "only showing top 20 rows\n",
            "\n"
          ]
        }
      ],
      "source": [
        "model.freqItemsets.show()"
      ]
    },
    {
      "cell_type": "code",
      "execution_count": null,
      "metadata": {
        "colab": {
          "base_uri": "https://localhost:8080/"
        },
        "id": "dGgbx8GBIjEy",
        "outputId": "a17cb7bd-9a08-4b31-f509-caf0d61d2c1b"
      },
      "outputs": [
        {
          "name": "stdout",
          "output_type": "stream",
          "text": [
            "+--------------------+--------------------+-------------------+------------------+--------------------+\n",
            "|          antecedent|          consequent|         confidence|              lift|             support|\n",
            "+--------------------+--------------------+-------------------+------------------+--------------------+\n",
            "|[HOT WATER BOTTLE...|[LOVE HOT WATER B...| 0.3009079118028534|14.018426007280029|  0.0107095046854083|\n",
            "|[HOT WATER BOTTLE...|[CHOCOLATE HOT WA...| 0.3450064850843061| 8.940042447824549|0.012279001061718137|\n",
            "|[HOT WATER BOTTLE...|[HOT WATER BOTTLE...| 0.3411154345006485|11.673907831891862|0.012140516087337858|\n",
            "|[LUNCH BAG SUKI D...|[LUNCH BAG CARS B...|         0.55078125|10.540259910556538|0.013017587591746295|\n",
            "|[LUNCH BAG SUKI D...|[LUNCH BAG RED RE...|        0.626953125| 8.813553242618429|0.014817892258689931|\n",
            "|[LUNCH BAG SUKI D...|[LUNCH BAG SPACEB...|         0.53515625|10.107314597863994|0.012648294326732217|\n",
            "|[LUNCH BAG SUKI D...|[LUNCH BAG PINK P...|         0.51171875|10.331186655405405|0.012094354429211097|\n",
            "|[LUNCH BAG SUKI D...|[LUNCH BAG APPLE ...|        0.517578125| 10.97093436582681|0.012232839403591376|\n",
            "|[LUNCH BAG SUKI D...|[LUNCH BAG WOODLAND]|         0.47265625| 10.19835890811753|  0.0111711212666759|\n",
            "|[SMALL HEART MEAS...|    [DOTCOM POSTAGE]|0.48822269807280516|14.938373316880195| 0.01052485805290126|\n",
            "|[PAPER CHAIN KIT ...|[PAPER CHAIN KIT ...| 0.6720098643649816|12.736438925405595| 0.02515810367908415|\n",
            "|[PAPER CHAIN KIT ...|[60 CAKE CASES VI...| 0.3008631319358816|10.862663378545005| 0.01126344458292942|\n",
            "|[JUMBO BAG SPACEB...|[JUMBO BAG PINK P...| 0.6126760563380281|10.959869040834603|0.012048192771084338|\n",
            "|[JUMBO BAG SPACEB...|[JUMBO STORAGE BA...| 0.5985915492957746|11.007885171811855|0.011771222822323778|\n",
            "|[JUMBO SHOPPER VI...|[JUMBO BAG PINK P...|0.40051457975986277| 7.164613824391335|0.021557494345196878|\n",
            "|[JUMBO SHOPPER VI...|[JUMBO STORAGE BA...|0.44596912521440824|  8.20121320842082|0.024004062225915154|\n",
            "|[JUMBO SHOPPER VI...|[JUMBO BAG RED RE...| 0.5797598627787307| 6.084950536519207|  0.0312052808936897|\n",
            "|[JUMBO SHOPPER VI...|[JUMBO  BAG BAROQ...| 0.3602058319039451| 8.435825877335311|0.019387896413239163|\n",
            "|[JUMBO SHOPPER VI...|[JUMBO BAG PINK V...|0.35591766723842194| 9.028389256892195|0.019157088122605363|\n",
            "|[JUMBO SHOPPER VI...|[JUMBO BAG WOODLA...|0.33361921097770153| 8.462755231159191|0.017956885011309605|\n",
            "+--------------------+--------------------+-------------------+------------------+--------------------+\n",
            "only showing top 20 rows\n",
            "\n"
          ]
        }
      ],
      "source": [
        "model.associationRules.show()"
      ]
    },
    {
      "cell_type": "markdown",
      "metadata": {
        "id": "vX_frz_BET1T"
      },
      "source": [
        "# Finding Similar Documents"
      ]
    },
    {
      "cell_type": "code",
      "execution_count": null,
      "metadata": {
        "id": "j88Qj2NFEcYI"
      },
      "outputs": [],
      "source": [
        "from pyspark import SparkContext\n",
        "from pyspark.sql import SQLContext\n",
        "\n",
        "sc = SparkContext('local')\n",
        "spark = SQLContext(sc)"
      ]
    },
    {
      "cell_type": "code",
      "execution_count": null,
      "metadata": {
        "id": "U8Tdo4waEatf"
      },
      "outputs": [],
      "source": [
        "from pyspark.ml.feature import MinHashLSH\n",
        "from pyspark.ml.linalg import Vectors\n",
        "from pyspark.sql.functions import col\n",
        "\n",
        "dataA = [(0, Vectors.sparse(6, [0, 1, 2], [1.0, 1.0, 1.0]),), # [1, 1, 1, 0, 0, 0]\n",
        "         (1, Vectors.sparse(6, [2, 3, 4], [1.0, 1.0, 1.0]),), # [0, 0, 1, 1, 1, 0]\n",
        "         (2, Vectors.sparse(6, [0, 2, 4], [1.0, 1.0, 1.0]),)] # [0, 0, 1, 0, 1, 0]\n",
        "dfA = spark.createDataFrame(dataA, [\"id\", \"features\"])\n",
        "\n",
        "dataB = [(3, Vectors.sparse(6, [1, 3, 5], [1.0, 1.0, 1.0]),),\n",
        "         (4, Vectors.sparse(6, [2, 3, 5], [1.0, 1.0, 1.0]),),\n",
        "         (5, Vectors.sparse(6, [1, 2, 4], [1.0, 1.0, 1.0]),)]\n",
        "dfB = spark.createDataFrame(dataB, [\"id\", \"features\"])\n",
        "\n",
        "key = Vectors.sparse(6, [1, 3], [1.0, 1.0]) # [0, 1, 0, 1, 0, 0]"
      ]
    },
    {
      "cell_type": "code",
      "execution_count": null,
      "metadata": {
        "colab": {
          "base_uri": "https://localhost:8080/"
        },
        "id": "kEKvFP-PG9Wz",
        "outputId": "930e5dc8-cb83-431c-e757-247473694d8e"
      },
      "outputs": [
        {
          "name": "stdout",
          "output_type": "stream",
          "text": [
            "(6,[0,1,2],[1.0,1.0,1.0])\n"
          ]
        }
      ],
      "source": [
        "print(dataA[0][1])"
      ]
    },
    {
      "cell_type": "code",
      "execution_count": null,
      "metadata": {
        "colab": {
          "base_uri": "https://localhost:8080/"
        },
        "id": "meJmjjUwE5rm",
        "outputId": "7655226d-244d-4234-c4af-e39a3dbc991a"
      },
      "outputs": [
        {
          "name": "stdout",
          "output_type": "stream",
          "text": [
            "+---+--------------------+\n",
            "| id|            features|\n",
            "+---+--------------------+\n",
            "|  0|(6,[0,1,2],[1.0,1...|\n",
            "|  1|(6,[2,3,4],[1.0,1...|\n",
            "|  2|(6,[0,2,4],[1.0,1...|\n",
            "+---+--------------------+\n",
            "\n"
          ]
        }
      ],
      "source": [
        "dfA.show()"
      ]
    },
    {
      "cell_type": "code",
      "execution_count": null,
      "metadata": {
        "colab": {
          "base_uri": "https://localhost:8080/"
        },
        "id": "SC1M3SP3FBpW",
        "outputId": "85b85a88-c6c2-40e4-bcec-4c8116b3516f"
      },
      "outputs": [
        {
          "name": "stdout",
          "output_type": "stream",
          "text": [
            "+---+--------------------+\n",
            "| id|            features|\n",
            "+---+--------------------+\n",
            "|  3|(6,[1,3,5],[1.0,1...|\n",
            "|  4|(6,[2,3,5],[1.0,1...|\n",
            "|  5|(6,[1,2,4],[1.0,1...|\n",
            "+---+--------------------+\n",
            "\n"
          ]
        }
      ],
      "source": [
        "dfB.show()"
      ]
    },
    {
      "cell_type": "code",
      "execution_count": null,
      "metadata": {
        "id": "tUVYYS5BFDUN"
      },
      "outputs": [],
      "source": [
        "mh = MinHashLSH(inputCol=\"features\", outputCol=\"hashes\", numHashTables=5)\n",
        "model = mh.fit(dfA)"
      ]
    },
    {
      "cell_type": "code",
      "execution_count": null,
      "metadata": {
        "colab": {
          "base_uri": "https://localhost:8080/"
        },
        "id": "tuoWzPW4FIw1",
        "outputId": "a6e3b69b-7496-474e-d3f1-622615fefc21"
      },
      "outputs": [
        {
          "name": "stdout",
          "output_type": "stream",
          "text": [
            "The hashed dataset where hashed values are stored in the column 'hashes':\n",
            "[Row(hashes=[DenseVector([417713505.0]), DenseVector([241206165.0]), DenseVector([130482752.0]), DenseVector([654249334.0]), DenseVector([326198177.0])])]\n"
          ]
        }
      ],
      "source": [
        "# Feature Transformation\n",
        "print(\"The hashed dataset where hashed values are stored in the column 'hashes':\")\n",
        "print(model.transform(dfA).select('hashes').limit(1).collect())"
      ]
    },
    {
      "cell_type": "code",
      "execution_count": null,
      "metadata": {
        "colab": {
          "base_uri": "https://localhost:8080/"
        },
        "id": "vNDvKIr3J5Vx",
        "outputId": "47d09b3d-c6ad-4186-f473-fc77a9e200a4"
      },
      "outputs": [
        {
          "name": "stdout",
          "output_type": "stream",
          "text": [
            "+---+--------------------+--------------------+\n",
            "| id|            features|              hashes|\n",
            "+---+--------------------+--------------------+\n",
            "|  0|(6,[0,1,2],[1.0,1...|[[4.17713505E8], ...|\n",
            "|  1|(6,[2,3,4],[1.0,1...|[[3.71037806E8], ...|\n",
            "|  2|(6,[0,2,4],[1.0,1...|[[3.71037806E8], ...|\n",
            "+---+--------------------+--------------------+\n",
            "\n"
          ]
        }
      ],
      "source": [
        "model.transform(dfA).show()"
      ]
    },
    {
      "cell_type": "code",
      "execution_count": null,
      "metadata": {
        "colab": {
          "base_uri": "https://localhost:8080/"
        },
        "id": "R19TU4JrFKpt",
        "outputId": "a4f826e8-26e3-451a-94a9-1021cf9deebf"
      },
      "outputs": [
        {
          "name": "stdout",
          "output_type": "stream",
          "text": [
            "Approximately joining dfA and dfB on distance smaller than 0.6:\n",
            "+---+---+---------------+\n",
            "|idA|idB|JaccardDistance|\n",
            "+---+---+---------------+\n",
            "|  0|  5|            0.5|\n",
            "|  1|  5|            0.5|\n",
            "|  2|  5|            0.5|\n",
            "|  1|  4|            0.5|\n",
            "+---+---+---------------+\n",
            "\n"
          ]
        }
      ],
      "source": [
        "# Compute the locality sensitive hashes for the input rows, then perform approximate\n",
        "# similarity join.\n",
        "# We could avoid computing hashes by passing in the already-transformed dataset, e.g.\n",
        "# `model.approxSimilarityJoin(transformedA, transformedB, 0.6)`\n",
        "print(\"Approximately joining dfA and dfB on distance smaller than 0.6:\")\n",
        "model.approxSimilarityJoin(dfA, dfB, 0.6, distCol=\"JaccardDistance\")\\\n",
        "    .select(col(\"datasetA.id\").alias(\"idA\"),\n",
        "            col(\"datasetB.id\").alias(\"idB\"),\n",
        "            col(\"JaccardDistance\")).show()"
      ]
    },
    {
      "cell_type": "code",
      "execution_count": null,
      "metadata": {
        "colab": {
          "base_uri": "https://localhost:8080/"
        },
        "id": "PC3X5anLFSG_",
        "outputId": "1d5beef7-1091-4519-a4c2-837ca52a8f9b"
      },
      "outputs": [
        {
          "name": "stdout",
          "output_type": "stream",
          "text": [
            "Approximately searching dfA for 2 nearest neighbors of the key:\n",
            "+---+--------------------+--------------------+-------+\n",
            "| id|            features|              hashes|distCol|\n",
            "+---+--------------------+--------------------+-------+\n",
            "|  0|(6,[0,1,2],[1.0,1...|[[4.17713505E8], ...|   0.75|\n",
            "|  1|(6,[2,3,4],[1.0,1...|[[3.71037806E8], ...|   0.75|\n",
            "+---+--------------------+--------------------+-------+\n",
            "\n"
          ]
        }
      ],
      "source": [
        "# Compute the locality sensitive hashes for the input rows, then perform approximate nearest\n",
        "# neighbor search.\n",
        "# We could avoid computing hashes by passing in the already-transformed dataset, e.g.\n",
        "# `model.approxNearestNeighbors(transformedA, key, 2)`\n",
        "# It may return less than 2 rows when not enough approximate near-neighbor candidates are\n",
        "# found.\n",
        "print(\"Approximately searching dfA for 2 nearest neighbors of the key:\")\n",
        "model.approxNearestNeighbors(dfA, key, 2).show()"
      ]
    },
    {
      "cell_type": "markdown",
      "metadata": {
        "id": "wWhV_emgvEcZ"
      },
      "source": [
        "# Clustering"
      ]
    },
    {
      "cell_type": "markdown",
      "metadata": {
        "id": "hUdQjsgFF1Bw"
      },
      "source": [
        "## k-Means"
      ]
    },
    {
      "cell_type": "code",
      "execution_count": null,
      "metadata": {
        "id": "Jb0NC5UUF2yx"
      },
      "outputs": [],
      "source": [
        "from __future__ import print_function\n",
        "import numpy as np\n",
        "import matplotlib.pyplot as plt\n",
        "from scipy.spatial.distance import cdist\n",
        "np.random.seed(11)"
      ]
    },
    {
      "cell_type": "code",
      "execution_count": null,
      "metadata": {
        "id": "cwDrC-zwGHOO"
      },
      "outputs": [],
      "source": [
        "means = [[2, 2], [8, 3], [3, 6]]\n",
        "cov = [[1, 0], [0, 1]]\n",
        "N = 500\n",
        "X0 = np.random.multivariate_normal(means[0], cov, N)\n",
        "X1 = np.random.multivariate_normal(means[1], cov, N)\n",
        "X2 = np.random.multivariate_normal(means[2], cov, N)\n",
        "\n",
        "X = np.concatenate((X0, X1, X2), axis = 0)\n",
        "K = 3\n",
        "\n",
        "# original_label = np.asarray([0]*N + [1]*N + [2]*N).T\n",
        "original_label = np.random.randint(0, 3, 3*N).T"
      ]
    },
    {
      "cell_type": "code",
      "execution_count": null,
      "metadata": {
        "colab": {
          "base_uri": "https://localhost:8080/"
        },
        "id": "17aqXLGXble2",
        "outputId": "49f9e359-3685-42a2-c6e7-b9981d1b7aaa"
      },
      "outputs": [
        {
          "name": "stdout",
          "output_type": "stream",
          "text": [
            "[0 0 0 ... 1 2 0]\n"
          ]
        }
      ],
      "source": [
        "print(original_label)"
      ]
    },
    {
      "cell_type": "code",
      "execution_count": null,
      "metadata": {
        "colab": {
          "base_uri": "https://localhost:8080/",
          "height": 265
        },
        "id": "iw4W22KaGl_0",
        "outputId": "ee51d9b9-6dbe-4290-d020-977243ab9052"
      },
      "outputs": [
        {
          "data": {
            "image/png": "[encoded data removed]",
            "text/plain": [
              "<Figure size 432x288 with 1 Axes>"
            ]
          },
          "metadata": {},
          "output_type": "display_data"
        }
      ],
      "source": [
        "def kmeans_display(X, label):\n",
        "    K = np.amax(label) + 1\n",
        "    X0 = X[label == 0, :]\n",
        "    X1 = X[label == 1, :]\n",
        "    X2 = X[label == 2, :]\n",
        "\n",
        "    plt.plot(X0[:, 0], X0[:, 1], 'b^', markersize = 4, alpha = .8)\n",
        "    plt.plot(X1[:, 0], X1[:, 1], 'go', markersize = 4, alpha = .8)\n",
        "    plt.plot(X2[:, 0], X2[:, 1], 'rs', markersize = 4, alpha = .8)\n",
        "\n",
        "    plt.axis('equal')\n",
        "    plt.plot()\n",
        "    plt.show()\n",
        "\n",
        "kmeans_display(X, original_label)"
      ]
    },
    {
      "cell_type": "code",
      "execution_count": null,
      "metadata": {
        "id": "5VkTyxFlG-xi"
      },
      "outputs": [],
      "source": [
        "def kmeans_init_centers(X, k):\n",
        "    # randomly pick k rows of X as initial centers\n",
        "    return X[np.random.choice(X.shape[0], k, replace=False)]\n",
        "\n",
        "def kmeans_assign_labels(X, centers):\n",
        "    # calculate pairwise distances btw data and centers\n",
        "    D = cdist(X, centers) # 3N x 3\n",
        "    # return index of the closest center\n",
        "    return np.argmin(D, axis = 1)\n",
        "\n",
        "def kmeans_update_centers(X, labels, K):\n",
        "    centers = np.zeros((K, X.shape[1]))\n",
        "    for k in range(K):\n",
        "        # collect all points assigned to the k-th cluster\n",
        "        Xk = X[labels == k, :]\n",
        "        # take average\n",
        "        centers[k,:] = np.mean(Xk, axis = 0)\n",
        "    return centers\n",
        "\n",
        "def has_converged(centers, new_centers):\n",
        "    # return True if two sets of centers are the same\n",
        "    return (set([tuple(a) for a in centers]) ==\n",
        "        set([tuple(a) for a in new_centers]))"
      ]
    },
    {
      "cell_type": "code",
      "execution_count": null,
      "metadata": {
        "id": "zdEvr0epKd3p"
      },
      "outputs": [],
      "source": [
        "def kmeans(X, K):\n",
        "    centers = [kmeans_init_centers(X, K)]\n",
        "    labels = []\n",
        "    it = 0\n",
        "    while True:\n",
        "        labels.append(kmeans_assign_labels(X, centers[-1]))\n",
        "        new_centers = kmeans_update_centers(X, labels[-1], K)\n",
        "        if has_converged(centers[-1], new_centers):\n",
        "            break\n",
        "        centers.append(new_centers)\n",
        "        it += 1\n",
        "    return (centers, labels, it)"
      ]
    },
    {
      "cell_type": "code",
      "execution_count": null,
      "metadata": {
        "colab": {
          "base_uri": "https://localhost:8080/",
          "height": 334
        },
        "id": "u8cB1fO-LLgJ",
        "outputId": "2302b26c-7d8b-4414-e8b9-bd161da99cc8"
      },
      "outputs": [
        {
          "name": "stdout",
          "output_type": "stream",
          "text": [
            "Centers found by our algorithm:\n",
            "[[2.99634182 6.03964618]\n",
            " [1.97563391 2.01568065]\n",
            " [8.0410628  3.02094748]]\n"
          ]
        },
        {
          "data": {
            "image/png": "[encoded data removed]",
            "text/plain": [
              "<Figure size 432x288 with 1 Axes>"
            ]
          },
          "metadata": {},
          "output_type": "display_data"
        }
      ],
      "source": [
        "(centers, labels, it) = kmeans(X, K)\n",
        "print('Centers found by our algorithm:')\n",
        "print(centers[-1])\n",
        "\n",
        "kmeans_display(X, labels[-1])"
      ]
    },
    {
      "cell_type": "markdown",
      "metadata": {
        "id": "2kLYBt_u94sw"
      },
      "source": [
        "## Ví dụ 1"
      ]
    },
    {
      "cell_type": "code",
      "execution_count": null,
      "metadata": {
        "id": "mPEJOh9NvGGj"
      },
      "outputs": [],
      "source": [
        "from pyspark import SparkContext\n",
        "from pyspark.sql import SQLContext\n",
        "\n",
        "sc = SparkContext('local')\n",
        "spark = SQLContext(sc)"
      ]
    },
    {
      "cell_type": "code",
      "execution_count": null,
      "metadata": {
        "colab": {
          "base_uri": "https://localhost:8080/"
        },
        "id": "Pt-qQDYrvcJa",
        "outputId": "65792821-8ce6-4100-81d6-79a64a34b45f"
      },
      "outputs": [
        {
          "name": "stdout",
          "output_type": "stream",
          "text": [
            "+---------+--------+\n",
            "| features|weighCol|\n",
            "+---------+--------+\n",
            "|[0.0,0.0]|     2.0|\n",
            "|[1.0,1.0]|     2.0|\n",
            "|[9.0,8.0]|     2.0|\n",
            "|[8.0,9.0]|     2.0|\n",
            "+---------+--------+\n",
            "\n"
          ]
        }
      ],
      "source": [
        "from pyspark.ml.linalg import Vectors\n",
        "data = [(Vectors.dense([0.0, 0.0]), 2.0),\n",
        "        (Vectors.dense([1.0, 1.0]), 2.0),\n",
        "        (Vectors.dense([9.0, 8.0]), 2.0),\n",
        "        (Vectors.dense([8.0, 9.0]), 2.0)]\n",
        "df = spark.createDataFrame(data, [\"features\", \"weighCol\"])\n",
        "df.show()"
      ]
    },
    {
      "cell_type": "code",
      "execution_count": null,
      "metadata": {
        "colab": {
          "base_uri": "https://localhost:8080/"
        },
        "id": "xiYXdKNjvme6",
        "outputId": "d4cfcf1c-0399-48c1-9d22-017b8da1999f"
      },
      "outputs": [
        {
          "data": {
            "text/plain": [
              "KMeans_aa8ea6286ad1"
            ]
          },
          "execution_count": 6,
          "metadata": {},
          "output_type": "execute_result"
        }
      ],
      "source": [
        "from pyspark.ml.clustering import KMeans, KMeansModel\n",
        "\n",
        "kmeans = KMeans(k=2)\n",
        "kmeans.setSeed(1)\n",
        "kmeans.setWeightCol(\"weighCol\")\n",
        "kmeans.setMaxIter(10)"
      ]
    },
    {
      "cell_type": "code",
      "execution_count": null,
      "metadata": {
        "colab": {
          "base_uri": "https://localhost:8080/"
        },
        "id": "tkIdtDnsvpZy",
        "outputId": "4df054ff-0e9e-4a65-f55d-d85e5eb8e057"
      },
      "outputs": [
        {
          "name": "stdout",
          "output_type": "stream",
          "text": [
            "10\n"
          ]
        }
      ],
      "source": [
        "print(kmeans.getMaxIter())\n",
        "kmeans.clear(kmeans.maxIter)"
      ]
    },
    {
      "cell_type": "code",
      "execution_count": null,
      "metadata": {
        "colab": {
          "base_uri": "https://localhost:8080/"
        },
        "id": "YzZ0Kungv3IX",
        "outputId": "057c743a-5e0c-4bb8-f2b1-20b9874ee3e0"
      },
      "outputs": [
        {
          "name": "stdout",
          "output_type": "stream",
          "text": [
            "euclidean\n"
          ]
        }
      ],
      "source": [
        "model = kmeans.fit(df)\n",
        "print(model.getDistanceMeasure())"
      ]
    },
    {
      "cell_type": "code",
      "execution_count": null,
      "metadata": {
        "colab": {
          "base_uri": "https://localhost:8080/"
        },
        "id": "iw8TuY_4v-dL",
        "outputId": "e4d7de40-fe70-486f-930d-4a53cb9c6525"
      },
      "outputs": [
        {
          "name": "stdout",
          "output_type": "stream",
          "text": [
            "0\n"
          ]
        }
      ],
      "source": [
        "model.setPredictionCol(\"newPrediction\")\n",
        "print(model.predict(df.head().features))"
      ]
    },
    {
      "cell_type": "code",
      "execution_count": null,
      "metadata": {
        "colab": {
          "base_uri": "https://localhost:8080/"
        },
        "id": "lpaFG481wNI6",
        "outputId": "e523f131-7386-4dd0-c852-a28c218a2954"
      },
      "outputs": [
        {
          "name": "stdout",
          "output_type": "stream",
          "text": [
            "2\n",
            "[array([0.5, 0.5]), array([8.5, 8.5])]\n"
          ]
        }
      ],
      "source": [
        "centers = model.clusterCenters()\n",
        "print(len(centers))\n",
        "print(centers)"
      ]
    },
    {
      "cell_type": "code",
      "execution_count": null,
      "metadata": {
        "colab": {
          "base_uri": "https://localhost:8080/"
        },
        "id": "cg_FMHXmwU7q",
        "outputId": "ab11572a-8534-4297-fcca-a924cd9e1c3b"
      },
      "outputs": [
        {
          "name": "stdout",
          "output_type": "stream",
          "text": [
            "[Row(features=DenseVector([0.0, 0.0]), newPrediction=0), Row(features=DenseVector([1.0, 1.0]), newPrediction=0), Row(features=DenseVector([9.0, 8.0]), newPrediction=1), Row(features=DenseVector([8.0, 9.0]), newPrediction=1)]\n"
          ]
        }
      ],
      "source": [
        "transformed = model.transform(df).select(\"features\", \"newPrediction\")\n",
        "rows = transformed.collect()\n",
        "print(rows)"
      ]
    },
    {
      "cell_type": "code",
      "execution_count": null,
      "metadata": {
        "colab": {
          "base_uri": "https://localhost:8080/"
        },
        "id": "fOJ3R3Z8JsxU",
        "outputId": "24476889-bff9-42b1-cc7f-426250f26dee"
      },
      "outputs": [
        {
          "name": "stdout",
          "output_type": "stream",
          "text": [
            "+---------+-------------+\n",
            "| features|newPrediction|\n",
            "+---------+-------------+\n",
            "|[0.0,0.0]|            0|\n",
            "|[1.0,1.0]|            0|\n",
            "|[9.0,8.0]|            1|\n",
            "|[8.0,9.0]|            1|\n",
            "+---------+-------------+\n",
            "\n"
          ]
        }
      ],
      "source": [
        "transformed.show()"
      ]
    },
    {
      "cell_type": "code",
      "execution_count": null,
      "metadata": {
        "colab": {
          "base_uri": "https://localhost:8080/"
        },
        "id": "b1OagDedwfza",
        "outputId": "2d5eea0e-4b60-408f-821e-b903158ed4a4"
      },
      "outputs": [
        {
          "name": "stdout",
          "output_type": "stream",
          "text": [
            "True\n",
            "True\n"
          ]
        }
      ],
      "source": [
        "print(rows[0].newPrediction == rows[1].newPrediction)\n",
        "print(rows[2].newPrediction == rows[3].newPrediction)"
      ]
    },
    {
      "cell_type": "code",
      "execution_count": null,
      "metadata": {
        "colab": {
          "base_uri": "https://localhost:8080/"
        },
        "id": "tBuVzwfRvV89",
        "outputId": "0d65ed0a-61d4-4a29-8acf-355cd7edc277"
      },
      "outputs": [
        {
          "name": "stdout",
          "output_type": "stream",
          "text": [
            "2\n",
            "[2, 2]\n",
            "4.0\n"
          ]
        }
      ],
      "source": [
        "model.hasSummary\n",
        "summary = model.summary\n",
        "\n",
        "print(summary.k)\n",
        "print(summary.clusterSizes)\n",
        "print(summary.trainingCost)"
      ]
    },
    {
      "cell_type": "code",
      "execution_count": null,
      "metadata": {
        "id": "OC-e0FrgwuDJ"
      },
      "outputs": [],
      "source": [
        "kmeans_path = \"kmeans\"\n",
        "kmeans.save(kmeans_path)"
      ]
    },
    {
      "cell_type": "code",
      "execution_count": null,
      "metadata": {
        "colab": {
          "base_uri": "https://localhost:8080/"
        },
        "id": "IiitELqvwqYq",
        "outputId": "d5306d5b-c820-4f9d-b190-1ef303409cdf"
      },
      "outputs": [
        {
          "name": "stdout",
          "output_type": "stream",
          "text": [
            "2\n"
          ]
        }
      ],
      "source": [
        "kmeans2 = KMeans.load(kmeans_path)\n",
        "print(kmeans2.getK())"
      ]
    },
    {
      "cell_type": "code",
      "execution_count": null,
      "metadata": {
        "colab": {
          "base_uri": "https://localhost:8080/"
        },
        "id": "SkZ4_FZ8w3AY",
        "outputId": "8ef55c7c-f433-4103-abcb-129f61dddcc8"
      },
      "outputs": [
        {
          "name": "stdout",
          "output_type": "stream",
          "text": [
            "[ True  True]\n",
            "[ True  True]\n",
            "True\n"
          ]
        }
      ],
      "source": [
        "model_path = \"kmeans_model\"\n",
        "model.save(model_path)\n",
        "model2 = KMeansModel.load(model_path)\n",
        "model2.hasSummary\n",
        "\n",
        "print(model.clusterCenters()[0] == model2.clusterCenters()[0])\n",
        "print(model.clusterCenters()[1] == model2.clusterCenters()[1])\n",
        "print(model.transform(df).take(1) == model2.transform(df).take(1))"
      ]
    },
    {
      "cell_type": "markdown",
      "metadata": {
        "id": "Apwx2AqE97jP"
      },
      "source": [
        "## Ví dụ 2"
      ]
    },
    {
      "cell_type": "code",
      "execution_count": null,
      "metadata": {
        "id": "FUHYLt-u98et"
      },
      "outputs": [],
      "source": [
        "from pyspark import SparkContext\n",
        "from pyspark.sql import SQLContext\n",
        "\n",
        "sc = SparkContext('local')\n",
        "spark = SQLContext(sc)"
      ]
    },
    {
      "cell_type": "code",
      "execution_count": null,
      "metadata": {
        "colab": {
          "base_uri": "https://localhost:8080/"
        },
        "id": "3IGviEhZ-Crf",
        "outputId": "fc2de7e9-3c75-4c66-a19d-c9f886c004d6"
      },
      "outputs": [
        {
          "output_type": "stream",
          "name": "stdout",
          "text": [
            "+---+---+---+---+---+---+---+---+---+---+----+----+----+----+----+----+----+----+----+----+----+----+----+----+----+----+----+----+----+----+----+----+----+----+----+----+----+----+----+----+----+----+----+----+----+----+----+----+----+----+----+----+----+----+----+----+----+----+----+----+----+----+----+----+----+----+----+----+----+----+----+----+----+----+----+----+----+----+----+----+----+----+----+----+----+----+----+----+----+----+----+----+----+----+----+----+----+----+----+----+-----+-----+-----+-----+-----+-----+-----+-----+-----+-----+-----+-----+-----+-----+-----+-----+-----+-----+-----+-----+-----+-----+-----+-----+-----+-----+-----+-----+-----+-----+-----+-----+-----+-----+-----+-----+-----+-----+-----+-----+-----+-----+-----+-----+-----+-----+-----+-----+-----+-----+-----+-----+-----+-----+-----+-----+-----+-----+-----+-----+-----+-----+-----+-----+-----+-----+-----+-----+-----+-----+-----+-----+-----+-----+-----+-----+-----+-----+-----+-----+-----+-----+-----+-----+-----+-----+-----+-----+-----+-----+-----+-----+-----+-----+-----+-----+-----+-----+-----+-----+-----+-----+-----+-----+-----+-----+-----+-----+-----+-----+-----+-----+-----+-----+-----+-----+-----+-----+-----+-----+-----+-----+-----+-----+-----+-----+-----+-----+-----+-----+-----+-----+-----+-----+-----+-----+-----+-----+-----+-----+-----+-----+-----+-----+-----+-----+-----+-----+-----+-----+-----+-----+-----+-----+-----+-----+-----+-----+-----+-----+-----+-----+-----+-----+-----+-----+-----+-----+-----+-----+-----+-----+-----+-----+-----+-----+-----+-----+-----+-----+-----+-----+-----+-----+-----+-----+-----+-----+-----+-----+-----+-----+-----+-----+-----+-----+-----+-----+-----+-----+-----+-----+-----+-----+-----+-----+-----+-----+-----+-----+-----+-----+-----+-----+-----+-----+-----+-----+-----+-----+-----+-----+-----+-----+-----+-----+-----+-----+-----+-----+-----+-----+-----+-----+-----+-----+-----+-----+-----+-----+-----+-----+-----+-----+-----+-----+-----+-----+-----+-----+-----+-----+-----+-----+-----+-----+-----+-----+-----+-----+-----+-----+-----+-----+-----+-----+-----+-----+-----+-----+-----+-----+-----+-----+-----+-----+-----+-----+-----+-----+-----+-----+-----+-----+-----+-----+-----+-----+-----+-----+-----+-----+-----+-----+-----+-----+-----+-----+-----+-----+-----+-----+-----+-----+-----+-----+-----+-----+-----+-----+-----+-----+-----+-----+-----+-----+-----+-----+-----+-----+-----+-----+-----+-----+-----+-----+-----+-----+-----+-----+-----+-----+-----+-----+-----+-----+-----+-----+-----+-----+-----+-----+-----+-----+-----+-----+-----+-----+-----+-----+-----+-----+-----+-----+-----+-----+-----+-----+-----+-----+-----+-----+-----+-----+-----+-----+-----+-----+-----+-----+-----+-----+-----+-----+-----+-----+-----+-----+-----+-----+-----+-----+-----+-----+-----+-----+-----+-----+-----+-----+-----+-----+-----+-----+-----+-----+-----+-----+-----+-----+-----+-----+-----+-----+-----+-----+-----+-----+-----+-----+-----+-----+-----+-----+-----+-----+-----+-----+-----+-----+-----+-----+-----+-----+-----+-----+-----+-----+-----+-----+-----+-----+-----+-----+-----+-----+-----+-----+-----+-----+-----+-----+-----+-----+-----+-----+-----+-----+-----+-----+-----+-----+-----+-----+-----+-----+-----+-----+-----+-----+-----+-----+-----+-----+-----+-----+-----+-----+-----+-----+-----+-----+-----+-----+-----+-----+-----+-----+-----+-----+-----+-----+-----+-----+-----+-----+-----+-----+-----+-----+-----+-----+-----+-----+-----+-----+-----+-----+-----+-----+-----+-----+-----+-----+-----+-----+-----+-----+-----+-----+-----+-----+-----+-----+-----+-----+-----+-----+-----+-----+-----+-----+-----+-----+-----+-----+-----+-----+-----+-----+-----+-----+-----+-----+-----+-----+-----+-----+-----+-----+-----+-----+-----+-----+-----+-----+-----+-----+-----+-----+-----+-----+-----+-----+-----+-----+-----+-----+-----+-----+-----+-----+-----+-----+-----+-----+-----+-----+-----+-----+-----+-----+-----+-----+-----+-----+-----+-----+-----+-----+-----+-----+-----+-----+-----+-----+-----+-----+-----+-----+-----+-----+-----+-----+-----+-----+-----+-----+-----+-----+-----+-----+-----+-----+-----+-----+-----+-----+-----+-----+-----+-----+-----+-----+-----+-----+-----+-----+-----+-----+-----+-----+-----+-----+-----+-----+-----+-----+-----+-----+-----+-----+-----+-----+-----+-----+-----+-----+-----+-----+-----+-----+-----+-----+-----+-----+-----+-----+-----+-----+-----+-----+-----+-----+-----+-----+-----+-----+-----+-----+-----+-----+-----+-----+-----+-----+-----+-----+-----+-----+-----+-----+-----+-----+-----+-----+-----+-----+-----+-----+-----+-----+-----+-----+-----+\n",
            "|_c0|_c1|_c2|_c3|_c4|_c5|_c6|_c7|_c8|_c9|_c10|_c11|_c12|_c13|_c14|_c15|_c16|_c17|_c18|_c19|_c20|_c21|_c22|_c23|_c24|_c25|_c26|_c27|_c28|_c29|_c30|_c31|_c32|_c33|_c34|_c35|_c36|_c37|_c38|_c39|_c40|_c41|_c42|_c43|_c44|_c45|_c46|_c47|_c48|_c49|_c50|_c51|_c52|_c53|_c54|_c55|_c56|_c57|_c58|_c59|_c60|_c61|_c62|_c63|_c64|_c65|_c66|_c67|_c68|_c69|_c70|_c71|_c72|_c73|_c74|_c75|_c76|_c77|_c78|_c79|_c80|_c81|_c82|_c83|_c84|_c85|_c86|_c87|_c88|_c89|_c90|_c91|_c92|_c93|_c94|_c95|_c96|_c97|_c98|_c99|_c100|_c101|_c102|_c103|_c104|_c105|_c106|_c107|_c108|_c109|_c110|_c111|_c112|_c113|_c114|_c115|_c116|_c117|_c118|_c119|_c120|_c121|_c122|_c123|_c124|_c125|_c126|_c127|_c128|_c129|_c130|_c131|_c132|_c133|_c134|_c135|_c136|_c137|_c138|_c139|_c140|_c141|_c142|_c143|_c144|_c145|_c146|_c147|_c148|_c149|_c150|_c151|_c152|_c153|_c154|_c155|_c156|_c157|_c158|_c159|_c160|_c161|_c162|_c163|_c164|_c165|_c166|_c167|_c168|_c169|_c170|_c171|_c172|_c173|_c174|_c175|_c176|_c177|_c178|_c179|_c180|_c181|_c182|_c183|_c184|_c185|_c186|_c187|_c188|_c189|_c190|_c191|_c192|_c193|_c194|_c195|_c196|_c197|_c198|_c199|_c200|_c201|_c202|_c203|_c204|_c205|_c206|_c207|_c208|_c209|_c210|_c211|_c212|_c213|_c214|_c215|_c216|_c217|_c218|_c219|_c220|_c221|_c222|_c223|_c224|_c225|_c226|_c227|_c228|_c229|_c230|_c231|_c232|_c233|_c234|_c235|_c236|_c237|_c238|_c239|_c240|_c241|_c242|_c243|_c244|_c245|_c246|_c247|_c248|_c249|_c250|_c251|_c252|_c253|_c254|_c255|_c256|_c257|_c258|_c259|_c260|_c261|_c262|_c263|_c264|_c265|_c266|_c267|_c268|_c269|_c270|_c271|_c272|_c273|_c274|_c275|_c276|_c277|_c278|_c279|_c280|_c281|_c282|_c283|_c284|_c285|_c286|_c287|_c288|_c289|_c290|_c291|_c292|_c293|_c294|_c295|_c296|_c297|_c298|_c299|_c300|_c301|_c302|_c303|_c304|_c305|_c306|_c307|_c308|_c309|_c310|_c311|_c312|_c313|_c314|_c315|_c316|_c317|_c318|_c319|_c320|_c321|_c322|_c323|_c324|_c325|_c326|_c327|_c328|_c329|_c330|_c331|_c332|_c333|_c334|_c335|_c336|_c337|_c338|_c339|_c340|_c341|_c342|_c343|_c344|_c345|_c346|_c347|_c348|_c349|_c350|_c351|_c352|_c353|_c354|_c355|_c356|_c357|_c358|_c359|_c360|_c361|_c362|_c363|_c364|_c365|_c366|_c367|_c368|_c369|_c370|_c371|_c372|_c373|_c374|_c375|_c376|_c377|_c378|_c379|_c380|_c381|_c382|_c383|_c384|_c385|_c386|_c387|_c388|_c389|_c390|_c391|_c392|_c393|_c394|_c395|_c396|_c397|_c398|_c399|_c400|_c401|_c402|_c403|_c404|_c405|_c406|_c407|_c408|_c409|_c410|_c411|_c412|_c413|_c414|_c415|_c416|_c417|_c418|_c419|_c420|_c421|_c422|_c423|_c424|_c425|_c426|_c427|_c428|_c429|_c430|_c431|_c432|_c433|_c434|_c435|_c436|_c437|_c438|_c439|_c440|_c441|_c442|_c443|_c444|_c445|_c446|_c447|_c448|_c449|_c450|_c451|_c452|_c453|_c454|_c455|_c456|_c457|_c458|_c459|_c460|_c461|_c462|_c463|_c464|_c465|_c466|_c467|_c468|_c469|_c470|_c471|_c472|_c473|_c474|_c475|_c476|_c477|_c478|_c479|_c480|_c481|_c482|_c483|_c484|_c485|_c486|_c487|_c488|_c489|_c490|_c491|_c492|_c493|_c494|_c495|_c496|_c497|_c498|_c499|_c500|_c501|_c502|_c503|_c504|_c505|_c506|_c507|_c508|_c509|_c510|_c511|_c512|_c513|_c514|_c515|_c516|_c517|_c518|_c519|_c520|_c521|_c522|_c523|_c524|_c525|_c526|_c527|_c528|_c529|_c530|_c531|_c532|_c533|_c534|_c535|_c536|_c537|_c538|_c539|_c540|_c541|_c542|_c543|_c544|_c545|_c546|_c547|_c548|_c549|_c550|_c551|_c552|_c553|_c554|_c555|_c556|_c557|_c558|_c559|_c560|_c561|_c562|_c563|_c564|_c565|_c566|_c567|_c568|_c569|_c570|_c571|_c572|_c573|_c574|_c575|_c576|_c577|_c578|_c579|_c580|_c581|_c582|_c583|_c584|_c585|_c586|_c587|_c588|_c589|_c590|_c591|_c592|_c593|_c594|_c595|_c596|_c597|_c598|_c599|_c600|_c601|_c602|_c603|_c604|_c605|_c606|_c607|_c608|_c609|_c610|_c611|_c612|_c613|_c614|_c615|_c616|_c617|_c618|_c619|_c620|_c621|_c622|_c623|_c624|_c625|_c626|_c627|_c628|_c629|_c630|_c631|_c632|_c633|_c634|_c635|_c636|_c637|_c638|_c639|_c640|_c641|_c642|_c643|_c644|_c645|_c646|_c647|_c648|_c649|_c650|_c651|_c652|_c653|_c654|_c655|_c656|_c657|_c658|_c659|_c660|_c661|_c662|_c663|_c664|_c665|_c666|_c667|_c668|_c669|_c670|_c671|_c672|_c673|_c674|_c675|_c676|_c677|_c678|_c679|_c680|_c681|_c682|_c683|_c684|_c685|_c686|_c687|_c688|_c689|_c690|_c691|_c692|_c693|_c694|_c695|_c696|_c697|_c698|_c699|_c700|_c701|_c702|_c703|_c704|_c705|_c706|_c707|_c708|_c709|_c710|_c711|_c712|_c713|_c714|_c715|_c716|_c717|_c718|_c719|_c720|_c721|_c722|_c723|_c724|_c725|_c726|_c727|_c728|_c729|_c730|_c731|_c732|_c733|_c734|_c735|_c736|_c737|_c738|_c739|_c740|_c741|_c742|_c743|_c744|_c745|_c746|_c747|_c748|_c749|_c750|_c751|_c752|_c753|_c754|_c755|_c756|_c757|_c758|_c759|_c760|_c761|_c762|_c763|_c764|_c765|_c766|_c767|_c768|_c769|_c770|_c771|_c772|_c773|_c774|_c775|_c776|_c777|_c778|_c779|_c780|_c781|_c782|_c783|_c784|\n",
            "+---+---+---+---+---+---+---+---+---+---+----+----+----+----+----+----+----+----+----+----+----+----+----+----+----+----+----+----+----+----+----+----+----+----+----+----+----+----+----+----+----+----+----+----+----+----+----+----+----+----+----+----+----+----+----+----+----+----+----+----+----+----+----+----+----+----+----+----+----+----+----+----+----+----+----+----+----+----+----+----+----+----+----+----+----+----+----+----+----+----+----+----+----+----+----+----+----+----+----+----+-----+-----+-----+-----+-----+-----+-----+-----+-----+-----+-----+-----+-----+-----+-----+-----+-----+-----+-----+-----+-----+-----+-----+-----+-----+-----+-----+-----+-----+-----+-----+-----+-----+-----+-----+-----+-----+-----+-----+-----+-----+-----+-----+-----+-----+-----+-----+-----+-----+-----+-----+-----+-----+-----+-----+-----+-----+-----+-----+-----+-----+-----+-----+-----+-----+-----+-----+-----+-----+-----+-----+-----+-----+-----+-----+-----+-----+-----+-----+-----+-----+-----+-----+-----+-----+-----+-----+-----+-----+-----+-----+-----+-----+-----+-----+-----+-----+-----+-----+-----+-----+-----+-----+-----+-----+-----+-----+-----+-----+-----+-----+-----+-----+-----+-----+-----+-----+-----+-----+-----+-----+-----+-----+-----+-----+-----+-----+-----+-----+-----+-----+-----+-----+-----+-----+-----+-----+-----+-----+-----+-----+-----+-----+-----+-----+-----+-----+-----+-----+-----+-----+-----+-----+-----+-----+-----+-----+-----+-----+-----+-----+-----+-----+-----+-----+-----+-----+-----+-----+-----+-----+-----+-----+-----+-----+-----+-----+-----+-----+-----+-----+-----+-----+-----+-----+-----+-----+-----+-----+-----+-----+-----+-----+-----+-----+-----+-----+-----+-----+-----+-----+-----+-----+-----+-----+-----+-----+-----+-----+-----+-----+-----+-----+-----+-----+-----+-----+-----+-----+-----+-----+-----+-----+-----+-----+-----+-----+-----+-----+-----+-----+-----+-----+-----+-----+-----+-----+-----+-----+-----+-----+-----+-----+-----+-----+-----+-----+-----+-----+-----+-----+-----+-----+-----+-----+-----+-----+-----+-----+-----+-----+-----+-----+-----+-----+-----+-----+-----+-----+-----+-----+-----+-----+-----+-----+-----+-----+-----+-----+-----+-----+-----+-----+-----+-----+-----+-----+-----+-----+-----+-----+-----+-----+-----+-----+-----+-----+-----+-----+-----+-----+-----+-----+-----+-----+-----+-----+-----+-----+-----+-----+-----+-----+-----+-----+-----+-----+-----+-----+-----+-----+-----+-----+-----+-----+-----+-----+-----+-----+-----+-----+-----+-----+-----+-----+-----+-----+-----+-----+-----+-----+-----+-----+-----+-----+-----+-----+-----+-----+-----+-----+-----+-----+-----+-----+-----+-----+-----+-----+-----+-----+-----+-----+-----+-----+-----+-----+-----+-----+-----+-----+-----+-----+-----+-----+-----+-----+-----+-----+-----+-----+-----+-----+-----+-----+-----+-----+-----+-----+-----+-----+-----+-----+-----+-----+-----+-----+-----+-----+-----+-----+-----+-----+-----+-----+-----+-----+-----+-----+-----+-----+-----+-----+-----+-----+-----+-----+-----+-----+-----+-----+-----+-----+-----+-----+-----+-----+-----+-----+-----+-----+-----+-----+-----+-----+-----+-----+-----+-----+-----+-----+-----+-----+-----+-----+-----+-----+-----+-----+-----+-----+-----+-----+-----+-----+-----+-----+-----+-----+-----+-----+-----+-----+-----+-----+-----+-----+-----+-----+-----+-----+-----+-----+-----+-----+-----+-----+-----+-----+-----+-----+-----+-----+-----+-----+-----+-----+-----+-----+-----+-----+-----+-----+-----+-----+-----+-----+-----+-----+-----+-----+-----+-----+-----+-----+-----+-----+-----+-----+-----+-----+-----+-----+-----+-----+-----+-----+-----+-----+-----+-----+-----+-----+-----+-----+-----+-----+-----+-----+-----+-----+-----+-----+-----+-----+-----+-----+-----+-----+-----+-----+-----+-----+-----+-----+-----+-----+-----+-----+-----+-----+-----+-----+-----+-----+-----+-----+-----+-----+-----+-----+-----+-----+-----+-----+-----+-----+-----+-----+-----+-----+-----+-----+-----+-----+-----+-----+-----+-----+-----+-----+-----+-----+-----+-----+-----+-----+-----+-----+-----+-----+-----+-----+-----+-----+-----+-----+-----+-----+-----+-----+-----+-----+-----+-----+-----+-----+-----+-----+-----+-----+-----+-----+-----+-----+-----+-----+-----+-----+-----+-----+-----+-----+-----+-----+-----+-----+-----+-----+-----+-----+-----+-----+-----+-----+-----+-----+-----+-----+-----+-----+-----+-----+-----+-----+-----+-----+-----+-----+-----+-----+-----+-----+-----+-----+-----+-----+-----+-----+-----+-----+-----+-----+-----+-----+-----+-----+-----+-----+-----+-----+-----+-----+-----+-----+-----+-----+-----+-----+-----+-----+-----+-----+-----+-----+\n",
            "|  6|  0|  0|  0|  0|  0|  0|  0|  0|  0|   0|   0|   0|   0|   0|   0|   0|   0|   0|   0|   0|   0|   0|   0|   0|   0|   0|   0|   0|   0|   0|   0|   0|   0|   0|   0|   0|   0|   0|   0|   0|   0|   0|   0|   0|   0|   0|   0|   0|   0|   0|   0|   0|   0|   0|   0|   0|   0|   0|   0|   0|   0|   0|   0|   0|   0|   0|   0|   0|   0|   0|   0|   0|   0|   0|   0|   0|   0|   0|   0|   0|   0|   0|   0|   0|   0|   0|   0|   0|   0|   0|   0|   0|   0|   0|   0|   0|   0|   0|   0|    0|    0|    0|    0|    0|    0|    0|    0|    0|    0|    0|    0|    0|    0|    0|    0|    0|    0|    0|    0|    0|    0|    0|   24|   67|   67|   18|    0|    0|    0|    0|    0|    0|    0|    0|    0|    0|    0|    0|    0|    0|    0|    0|    0|    0|    0|    0|    0|    0|    0|    0|  131|  252|  252|   66|    0|    0|    0|    0|    0|    0|    0|    0|    0|    0|    0|    0|    0|    0|    0|    0|    0|    0|    0|    0|    0|    0|    0|  159|  250|  232|   30|   32|    0|    0|    0|    0|    0|    0|    0|    0|    0|    0|    0|    0|    0|    0|    0|    0|    0|    0|    0|    0|    0|    0|   15|  222|  252|  108|    0|    0|    0|    0|    0|    0|    0|    0|    0|    0|    0|    0|    0|    0|    0|    0|    0|    0|    0|    0|    0|    0|    0|    0|  147|  252|  183|    5|    0|    0|    0|    0|    0|    0|    0|   20|   89|   89|   73|    0|    0|    0|    0|    0|    0|    0|    0|    0|    0|    0|    0|   48|  247|  252|  159|    0|    0|    0|    0|    0|    0|    0|   79|  236|  252|  252|  249|  198|   16|    0|    0|    0|    0|    0|    0|    0|    0|    0|   41|  193|  252|  199|   22|    0|    0|    0|    0|    0|   12|  135|  248|  252|  252|  252|  252|  252|  100|    0|    0|    0|    0|    0|    0|    0|    0|    0|  100|  252|  252|   88|    0|    0|    0|    0|    0|   11|  171|  252|  252|  235|  175|  178|  252|  252|  224|    0|    0|    0|    0|    0|    0|    0|    0|   15|  209|  252|  233|   12|    0|    0|    0|    0|   49|  177|  252|  252|   89|   26|    0|    2|  166|  252|  252|    0|    0|    0|    0|    0|    0|    0|    0|   96|  253|  253|   59|    0|    0|    0|    0|   11|  177|  255|  253|   92|    0|    0|    0|    0|  155|  253|  128|    0|    0|    0|    0|    0|    0|    0|    0|  143|  252|  252|   10|    0|    0|    0|   12|  171|  252|  216|  110|   13|    0|    0|    0|    3|  180|  232|   24|    0|    0|    0|    0|    0|    0|    0|    0|  143|  252|  170|    2|    0|    0|    0|  135|  252|  209|   19|    0|    0|    0|    0|    0|   12|  252|  132|    0|    0|    0|    0|    0|    0|    0|    0|    0|  249|  252|   96|    0|    0|    0|   21|  248|  246|   34|    0|    0|    0|    0|    5|   61|  234|  152|    3|    0|    0|    0|    0|    0|    0|    0|    0|    0|  253|  252|   44|    0|    0|    0|  145|  252|  104|    0|    0|    0|   46|  114|  184|  252|  149|   34|    0|    0|    0|    0|    0|    0|    0|    0|    0|    0|  253|  252|   82|    0|    0|   31|  239|  252|   66|   39|   89|  165|  243|  252|  233|  126|    5|    0|    0|    0|    0|    0|    0|    0|    0|    0|    0|    0|  249|  252|  244|  126|   98|  143|  252|  252|  237|  240|  253|  252|  243|  174|   17|    0|    0|    0|    0|    0|    0|    0|    0|    0|    0|    0|    0|    0|  119|  239|  252|  252|  252|  252|  252|  252|  252|  252|  228|  179|   17|    0|    0|    0|    0|    0|    0|    0|    0|    0|    0|    0|    0|    0|    0|    0|    0|   46|   66|   66|   66|   66|   66|   66|   66|   66|   29|    0|    0|    0|    0|    0|    0|    0|    0|    0|    0|    0|    0|    0|    0|    0|    0|    0|    0|    0|    0|    0|    0|    0|    0|    0|    0|    0|    0|    0|    0|    0|    0|    0|    0|    0|    0|    0|    0|    0|    0|    0|    0|    0|    0|    0|    0|    0|    0|    0|    0|    0|    0|    0|    0|    0|    0|    0|    0|    0|    0|    0|    0|    0|    0|    0|    0|    0|    0|    0|    0|    0|    0|    0|    0|    0|    0|    0|    0|    0|    0|    0|    0|    0|    0|    0|    0|    0|    0|    0|    0|    0|    0|    0|    0|    0|    0|    0|    0|    0|    0|    0|    0|    0|    0|    0|    0|    0|    0|    0|    0|    0|    0|    0|    0|    0|    0|    0|    0|    0|    0|    0|    0|    0|    0|    0|    0|    0|    0|    0|    0|    0|    0|    0|    0|    0|    0|    0|    0|    0|    0|    0|    0|    0|    0|    0|    0|    0|    0|    0|    0|    0|    0|    0|    0|    0|    0|    0|    0|    0|    0|    0|    0|    0|    0|    0|    0|    0|    0|    0|    0|    0|    0|    0|    0|    0|    0|    0|    0|    0|    0|\n",
            "|  5|  0|  0|  0|  0|  0|  0|  0|  0|  0|   0|   0|   0|   0|   0|   0|   0|   0|   0|   0|   0|   0|   0|   0|   0|   0|   0|   0|   0|   0|   0|   0|   0|   0|   0|   0|   0|   0|   0|   0|   0|   0|   0|   0|   0|   0|   0|   0|   0|   0|   0|   0|   0|   0|   0|   0|   0|   0|   0|   0|   0|   0|   0|   0|   0|   0|   0|   0|   0|   0|   0|   0|   0|   0|   0|   0|   0|   0|   0|   0|   0|   0|   0|   0|   0|   0|   0|   0|   0|   0|   0|   0|   0|   0|   0|   0|   0|   0|   0|   0|    0|    0|    0|    0|    0|    0|    0|    0|    0|    0|    0|    0|    0|    0|    0|    0|    0|    0|    0|    0|    0|    0|    0|    0|    0|    0|    0|    0|    0|    0|    0|    0|    0|    0|    0|    0|    0|    0|    0|    0|    0|    0|    0|    0|    0|    0|    0|    0|    0|    0|    0|    0|   28|   59|   50|    0|   23|    0|    0|   32|  134|  180|  254|  206|    8|    0|    0|    0|    0|    0|    0|    0|    0|    0|    0|    0|    0|    4|   96|  216|  233|  254|  248|  215|  231|  215|  215|  236|  254|  250|  181|   27|    0|    0|    0|    0|    0|    0|    0|    0|    0|    0|    0|    0|    0|  108|  254|  254|  247|  175|  175|  175|  176|  175|  175|  205|  175|   60|    0|    0|    0|    0|    0|    0|    0|    0|    0|    0|    0|    0|    0|    0|    0|   47|  254|  245|   85|    0|    0|    0|    0|    0|    0|    8|    0|    0|    0|    0|    0|    0|    0|    0|    0|    0|    0|    0|    0|    0|    0|    0|    0|  152|  254|  158|    0|    0|    0|    0|    0|    0|    0|    0|    0|    0|    0|    0|    0|    0|    0|    0|    0|    0|    0|    0|    0|    0|    0|    0|   19|  240|  255|   38|    0|   41|   50|    0|    0|    0|    0|    0|    0|    0|    0|    0|    0|    0|    0|    0|    0|    0|    0|    0|    0|    0|    0|    0|   87|  254|  254|  178|  215|  242|  248|  215|   96|   19|    0|    0|    0|    0|    0|    0|    0|    0|    0|    0|    0|    0|    0|    0|    0|    0|    0|    0|  176|  254|  254|  254|  217|  175|  187|  254|  254|  248|   85|    0|    0|    0|    0|    0|    0|    0|    0|    0|    0|    0|    0|    0|    0|    0|    0|    0|  161|  247|  214|   57|   11|    0|    3|   19|  177|  248|  248|  129|    9|    0|    0|    0|    0|    0|    0|    0|    0|    0|    0|    0|    0|    0|    0|    0|   18|   49|    0|    0|    0|    0|    0|    0|    0|   57|  224|  254|  171|    0|    0|    0|    0|    0|    0|    0|    0|    0|    0|    0|    0|    0|    0|    0|    0|    0|    0|    0|    0|    0|    0|    0|    0|    0|    0|  213|  255|  122|    0|    0|    0|    0|    0|    0|    0|    0|    0|    0|    0|    0|    0|    0|    0|    0|    0|    0|    0|    0|    0|    0|    0|    0|    0|   92|  254|  196|    0|    0|    0|    0|    0|    0|    0|    0|    0|    0|    0|    0|    0|    0|    0|    0|    0|    0|    0|    0|    0|    0|    0|    0|    0|   40|  254|  196|    0|    0|    0|    0|    0|    0|    0|    0|    0|    0|    0|    0|    0|    0|    0|    0|    0|    0|    0|    0|    0|    0|    0|    0|    0|  145|  254|  196|    0|    0|    0|    0|    0|    0|    0|    0|    0|    0|    0|    0|    0|    0|   31|  188|   45|    0|    0|    0|    0|    0|    0|    0|   99|  249|  254|  121|    0|    0|    0|    0|    0|    0|    0|    0|    0|    0|    0|    0|    0|    0|  139|  245|   45|    0|    0|    0|    0|    0|    0|  140|  254|  254|  133|    0|    0|    0|    0|    0|    0|    0|    0|    0|    0|    0|    0|    0|    0|   17|  242|  169|    0|    0|    0|    0|    4|   58|  216|  248|  254|  167|    9|    0|    0|    0|    0|    0|    0|    0|    0|    0|    0|    0|    0|    0|    0|   14|  230|  196|   79|   49|   79|   79|  181|  254|  254|  247|  108|    6|    0|    0|    0|    0|    0|    0|    0|    0|    0|    0|    0|    0|    0|    0|    0|    0|   44|  213|  254|  247|  254|  254|  254|  254|  192|   32|    0|    0|    0|    0|    0|    0|    0|    0|    0|    0|    0|    0|    0|    0|    0|    0|    0|    0|    0|    9|  133|  156|  193|  155|  140|   58|    0|    0|    0|    0|    0|    0|    0|    0|    0|    0|    0|    0|    0|    0|    0|    0|    0|    0|    0|    0|    0|    0|    0|    0|    0|    0|    0|    0|    0|    0|    0|    0|    0|    0|    0|    0|    0|    0|    0|    0|    0|    0|    0|    0|    0|    0|    0|    0|    0|    0|    0|    0|    0|    0|    0|    0|    0|    0|    0|    0|    0|    0|    0|    0|    0|    0|    0|    0|    0|    0|    0|    0|    0|    0|    0|    0|    0|    0|    0|    0|    0|    0|    0|    0|    0|    0|    0|    0|    0|    0|    0|    0|    0|    0|    0|    0|    0|\n",
            "|  7|  0|  0|  0|  0|  0|  0|  0|  0|  0|   0|   0|   0|   0|   0|   0|   0|   0|   0|   0|   0|   0|   0|   0|   0|   0|   0|   0|   0|   0|   0|   0|   0|   0|   0|   0|   0|   0|   0|   0|   0|   0|   0|   0|   0|   0|   0|   0|   0|   0|   0|   0|   0|   0|   0|   0|   0|   0|   0|   0|   0|   0|   0|   0|   0|   0|   0|   0|   0|   0|   0|   0|   0|   0|   0|   0|   0|   0|   0|   0|   0|   0|   0|   0|   0|   0|   0|   0|   0|   0|   0|   0|   0|   0|   0|   0|   0|   0|   0|   0|    0|    0|    0|    0|    0|    0|    0|    0|    0|    0|    0|    0|    0|    0|    0|    0|    0|    0|    0|    0|    0|    0|    0|    0|    0|    0|    0|    0|    0|    0|    0|    0|    0|    0|    0|    0|    0|    0|    0|    0|    0|    0|    0|    0|    0|    0|    0|    0|    0|    0|    0|    0|    0|    0|    0|    0|    0|    0|    0|    0|    0|    0|    0|    0|    0|    0|    0|    0|    0|    0|    0|    0|    0|    0|    0|    0|    0|    0|    0|    0|    0|    0|    0|    0|    0|    0|   32|   97|  179|  254|  223|   72|    0|    0|    0|    0|    0|    0|    0|    0|    0|    0|    0|    0|    0|    0|    0|    0|    0|    0|    0|   13|   65|  185|  235|  253|  254|  253|  253|  199|    0|    0|    0|    0|    0|    0|    0|    0|    0|    0|    0|    0|    0|    0|    0|   37|   55|    0|   61|  224|  253|  253|  253|  192|   78|  226|  253|  213|    0|    0|    0|    0|    0|    0|    0|    0|    0|    0|    0|    0|    0|    0|  100|  228|  247|  159|  248|  254|  234|  183|   64|    5|    0|  177|  253|  161|    0|    0|    0|    0|    0|    0|    0|    0|    0|    0|    0|    0|    0|   76|  254|  253|  253|  253|  253|  193|   46|    0|    0|    0|    0|  214|  253|  117|    0|    0|    0|    0|    0|    0|    0|    0|    0|    0|    0|    0|    0|  121|  255|  254|  254|  146|   60|    0|    0|    0|    0|    0|   14|  224|  254|   57|    0|    0|    0|    0|    0|    0|    0|    0|    0|    0|    0|    0|   79|  244|  254|  243|  106|    3|    0|    0|    0|    0|    0|    0|  186|  253|  216|   10|    0|    0|    0|    0|    0|    0|    0|    0|    0|    0|    0|    0|  166|  253|  254|  135|    0|    0|    0|    0|    0|    0|    0|    0|  254|  253|  107|    0|    0|    0|    0|    0|    0|    0|    0|    0|    0|    0|    0|  126|  251|  253|  146|    3|    0|    0|    0|    0|    0|    0|    0|  106|  254|  242|   36|    0|    0|    0|    0|    0|    0|    0|    0|    0|    0|    0|    8|  205|  253|  215|   23|    0|    0|    0|    0|    0|    0|    0|   31|  239|  254|  121|    0|    0|    0|    0|    0|    0|    0|    0|    0|    0|    0|    0|  178|  254|  244|   83|    0|    0|    0|    0|    0|    0|    0|   19|  201|  254|  196|   15|    0|    0|    0|    0|    0|    0|    0|    0|    0|    0|    0|   28|  232|  253|  124|    0|    0|    0|    0|    0|    0|    0|    2|  129|  253|  253|   15|    0|    0|    0|    0|    0|    0|    0|    0|    0|    0|    0|    0|   18|  220|  174|   13|    0|    0|    0|    0|    0|    0|    0|   88|  253|  253|  154|    0|    0|    0|    0|    0|    0|    0|    0|    0|    0|    0|    0|    0|    0|   15|    0|    0|    0|    0|    0|    0|    0|    0|   10|  175|  253|  231|   27|    0|    0|    0|    0|    0|    0|    0|    0|    0|    0|    0|    0|    0|    0|    0|    0|    0|    0|    0|    0|    0|    0|    0|  134|  253|  253|  138|    0|    0|    0|    0|    0|    0|    0|    0|    0|    0|    0|    0|    0|    0|    0|    0|    0|    0|    0|    0|    0|    0|    0|   83|  255|  254|  152|    0|    0|    0|    0|    0|    0|    0|    0|    0|    0|    0|    0|    0|    0|    0|    0|    0|    0|    0|    0|    0|    0|    0|   19|  222|  254|  191|   12|    0|    0|    0|    0|    0|    0|    0|    0|    0|    0|    0|    0|    0|    0|    0|    0|    0|    0|    0|    0|    0|    0|    0|  137|  253|  254|  135|    0|    0|    0|    0|    0|    0|    0|    0|    0|    0|    0|    0|    0|    0|    0|    0|    0|    0|    0|    0|    0|    0|    0|    0|  234|  253|  254|  173|    0|    0|    0|    0|    0|    0|    0|    0|    0|    0|    0|    0|    0|    0|    0|    0|    0|    0|    0|    0|    0|    0|    0|    0|  159|  253|  193|   46|    0|    0|    0|    0|    0|    0|    0|    0|    0|    0|    0|    0|    0|    0|    0|    0|    0|    0|    0|    0|    0|    0|    0|    0|    0|    0|    0|    0|    0|    0|    0|    0|    0|    0|    0|    0|    0|    0|    0|    0|    0|    0|    0|    0|    0|    0|    0|    0|    0|    0|    0|    0|    0|    0|    0|    0|    0|    0|    0|    0|    0|    0|    0|    0|    0|    0|    0|    0|\n",
            "|  9|  0|  0|  0|  0|  0|  0|  0|  0|  0|   0|   0|   0|   0|   0|   0|   0|   0|   0|   0|   0|   0|   0|   0|   0|   0|   0|   0|   0|   0|   0|   0|   0|   0|   0|   0|   0|   0|   0|   0|   0|   0|   0|   0|   0|   0|   0|   0|   0|   0|   0|   0|   0|   0|   0|   0|   0|   0|   0|   0|   0|   0|   0|   0|   0|   0|   0|   0|   0|   0|   0|   0|   0|   0|   0|   0|   0|   0|   0|   0|   0|   0|   0|   0|   0|   0|   0|   0|   0|   0|   0|   0|   0|   0|   0|   0|   0|   0|   0|   0|    0|    0|    0|    0|    0|    0|    0|    0|    0|    0|    0|    0|    0|    0|    0|    0|    0|    0|    0|    0|    0|    0|    0|    0|    0|    0|    0|    0|    0|    0|    0|    0|    0|    0|    0|    0|    0|    0|    0|    0|    0|    0|    0|    0|    0|    0|    0|    0|    0|    0|    0|    0|    0|    0|    0|    0|    0|    0|    0|    0|    0|    0|    0|    0|    0|    0|    0|    0|    0|    0|    0|    0|    0|    0|    0|    0|    0|    0|    0|    0|    0|    0|    0|    0|    0|    0|    0|    0|    0|    0|    0|    0|    0|    0|    0|    0|    0|    0|    0|    0|    0|    0|    0|    0|    0|    0|   25|  114|  181|  219|  255|  196|  126|  122|   22|    0|    0|    0|    0|    0|    0|    0|    0|    0|    0|    0|    0|    0|    0|    0|    0|    0|    0|   74|  212|  218|  254|  254|  225|  217|  216|  245|  133|    0|    0|    0|    0|    0|    0|    0|    0|    0|    0|    0|    0|    0|    0|    0|    0|   46|  104|  187|  253|  213|  129|   56|   15|    0|    0|   86|  237|   88|    0|    0|    0|    0|    0|    0|    0|    0|    0|    0|    0|    0|    0|    0|   82|  235|  254|  254|  143|    0|    0|    0|    0|    0|    0|   10|  254|  113|    0|    0|    0|    0|    0|    0|    0|    0|    0|    0|    0|    0|    0|    0|  226|  254|  254|   70|    4|    0|    0|    0|    0|    0|    0|    1|   50|  100|   22|   79|  111|    0|    0|    0|    0|    0|    0|    0|    0|    0|    0|    0|  226|  254|  254|   71|    4|   45|   93|   90|   90|   19|    5|   23|  207|  228|  228|  254|  243|   73|    0|    0|    0|    0|    0|    0|    0|    0|    0|    0|  195|  254|  254|  254|  193|  232|  254|  254|  254|  254|  198|  254|  254|  254|  254|  254|  254|  131|    0|    0|    0|    0|    0|    0|    0|    0|    0|    0|   19|  176|  235|  254|  254|  254|  254|  254|  254|  254|  254|  254|  254|  254|  254|  254|  254|  111|    0|    0|    0|    0|    0|    0|    0|    0|    0|    0|    0|    0|   25|  125|  131|  162|  225|  215|  131|  201|  131|  169|  209|  254|  254|  254|  216|   20|    0|    0|    0|    0|    0|    0|    0|    0|    0|    0|    0|    0|    0|    0|    0|    0|    0|    0|    0|    0|    0|    0|  169|  254|  254|  222|   30|    0|    0|    0|    0|    0|    0|    0|    0|    0|    0|    0|    0|    0|    0|    0|    0|    0|    0|    0|    0|    0|    0|    6|  223|  254|  254|  145|    0|    0|    0|    0|    0|    0|    0|    0|    0|    0|    0|    0|    0|    0|    0|    0|    0|    0|    0|    0|    0|    0|    0|   73|  254|  254|  152|    9|    0|    0|    0|    0|    0|    0|    0|    0|    0|    0|    0|    0|    0|    0|    0|    0|    0|    0|    0|    0|    0|    0|    2|  200|  254|  252|   66|    0|    0|    0|    0|    0|    0|    0|    0|    0|    0|    0|    0|    0|    0|    0|    0|    0|    0|    0|    0|    0|    0|    0|  101|  254|  254|  143|    0|    0|    0|    0|    0|    0|    0|    0|    0|    0|    0|    0|    0|    0|    0|    0|    0|    0|    0|    0|    0|    0|    0|    0|   80|  254|  254|   95|    0|    0|    0|    0|    0|    0|    0|    0|    0|    0|    0|    0|    0|    0|    0|    0|    0|    0|    0|    0|    0|    0|    0|    0|  157|  254|  213|   10|    0|    0|    0|    0|    0|    0|    0|    0|    0|    0|    0|    0|    0|    0|    0|    0|    0|    0|    0|    0|    0|    0|    0|   23|  235|  254|   85|    0|    0|    0|    0|    0|    0|    0|    0|    0|    0|    0|    0|    0|    0|    0|    0|    0|    0|    0|    0|    0|    0|    0|    0|   88|  254|  251|   66|    0|    0|    0|    0|    0|    0|    0|    0|    0|    0|    0|    0|    0|    0|    0|    0|    0|    0|    0|    0|    0|    0|    0|    0|  160|  254|  153|    0|    0|    0|    0|    0|    0|    0|    0|    0|    0|    0|    0|    0|    0|    0|    0|    0|    0|    0|    0|    0|    0|    0|    0|    0|   91|  225|   15|    0|    0|    0|    0|    0|    0|    0|    0|    0|    0|    0|    0|    0|    0|    0|    0|    0|    0|    0|    0|    0|    0|    0|    0|    0|    0|    0|    0|    0|    0|    0|    0|    0|    0|    0|    0|    0|    0|    0|\n",
            "|  5|  0|  0|  0|  0|  0|  0|  0|  0|  0|   0|   0|   0|   0|   0|   0|   0|   0|   0|   0|   0|   0|   0|   0|   0|   0|   0|   0|   0|   0|   0|   0|   0|   0|   0|   0|   0|   0|   0|   0|   0|   0|   0|   0|   0|   0|   0|   0|   0|   0|   0|   0|   0|   0|   0|   0|   0|   0|   0|   0|   0|   0|   0|   0|   0|   0|   0|   0|   0|   0|   0|   0|   0|   0|   0|   0|   0|   0|   0|   0|   0|   0|   0|   0|   0|   0|   0|   0|   0|   0|   0|   0|   0|   0|   0|   0|   0|   0|   0|   0|    0|    0|    0|    0|    0|    0|    0|    0|    0|    0|    0|    0|    0|    0|    0|    0|    0|    0|    0|    0|    0|    0|    0|    0|    0|    0|    0|    0|    0|    0|   20|  206|  210|    0|    0|    0|    0|    0|    0|    0|    0|    0|    0|    0|    0|    0|    0|    0|    0|    0|    0|    0|    0|    0|    0|    0|   47|  179|  248|  239|  122|    0|    0|    0|    0|    0|    0|    0|    0|    0|    0|    0|    0|    0|    0|    0|    0|    0|   78|  192|  237|  237|  206|  237|  249|  254|  239|  123|    0|    0|    0|    0|    0|    0|    0|    0|    0|    0|    0|    0|    0|    0|    0|    0|    0|   48|  229|  254|  254|  235|  254|  254|  174|  114|   26|    0|    0|    0|    0|    0|    0|    0|    0|    0|    0|    0|    0|    0|    0|    0|    0|    0|    0|  155|  254|  132|   35|   23|   35|   35|    0|    0|    0|    0|    0|    0|    0|    0|    0|    0|    0|    0|    0|    0|    0|    0|    0|    0|    0|    0|    9|  232|  232|   23|    0|    0|    0|    0|    0|    0|    0|    0|    0|    0|    0|    0|    0|    0|    0|    0|    0|    0|    0|    0|    0|    0|    0|    0|  131|  254|  140|    0|   12|   63|   51|   27|    0|    0|    0|    0|    0|    0|    0|    0|    0|    0|    0|    0|    0|    0|    0|    0|    0|    0|    0|    0|  149|  254|  126|   61|  172|  254|  254|  254|  166|   82|   14|    0|    0|    0|    0|    0|    0|    0|    0|    0|    0|    0|    0|    0|    0|    0|    0|    0|  149|  254|  230|  254|  250|  208|  160|  245|  251|  254|  237|  135|   20|    0|    0|    0|    0|    0|    0|    0|    0|    0|    0|    0|    0|    0|    0|    0|  149|  254|  254|  241|   92|    0|    0|    0|   52|  133|  248|  254|  225|   46|    0|    0|    0|    0|    0|    0|    0|    0|    0|    0|    0|    0|    0|    0|  149|  255|  241|   61|    0|    0|    0|    0|    0|    0|   22|  153|  254|  242|   89|    0|    0|    0|    0|    0|    0|    0|    0|    0|    0|    0|    0|    0|   26|  127|   49|    0|    0|    0|    0|    0|    0|    0|    0|   20|  153|  254|  227|    0|    0|    0|    0|    0|    0|    0|    0|    0|    0|    0|    0|    0|    0|    0|    0|    0|    0|    0|    0|    0|    0|    0|    0|    0|   19|  228|  252|   57|    0|    0|    0|    0|    0|    0|    0|    0|    0|    0|    0|    0|    0|    0|    0|    0|    0|    0|    0|    0|    0|    0|    0|    0|    0|  211|  254|   61|    0|    0|    0|    0|    0|    0|    0|    0|    0|    0|    0|    0|    0|    0|    0|    0|    0|    0|    0|    0|    0|    0|    0|    0|    0|  211|  254|   61|    0|    0|    0|    0|    0|    0|    0|    0|    0|    0|    0|    0|    0|    0|    0|    0|    0|    0|    0|    0|    0|    0|    0|    0|   49|  246|  241|   32|    0|    0|    0|    0|    0|    0|    0|    0|    0|    0|    0|    0|    0|   33|  159|  105|    0|    0|    0|    0|    0|    0|    0|   42|  217|  254|  179|    0|    0|    0|    0|    0|    0|    0|    0|    0|    0|    0|    0|    0|   26|  218|  254|   71|    0|    0|    0|    0|    0|   18|  122|  248|  254|  215|   13|    0|    0|    0|    0|    0|    0|    0|    0|    0|    0|    0|    0|    0|   39|  241|  254|  208|   97|   91|   43|  128|  185|  251|  254|  252|  184|   12|    0|    0|    0|    0|    0|    0|    0|    0|    0|    0|    0|    0|    0|    0|    0|   93|  242|  254|  254|  254|  254|  254|  254|  254|  202|   71|    0|    0|    0|    0|    0|    0|    0|    0|    0|    0|    0|    0|    0|    0|    0|    0|    0|    0|    0|    0|    0|    0|    0|    0|    0|    0|    0|    0|    0|    0|    0|    0|    0|    0|    0|    0|    0|    0|    0|    0|    0|    0|    0|    0|    0|    0|    0|    0|    0|    0|    0|    0|    0|    0|    0|    0|    0|    0|    0|    0|    0|    0|    0|    0|    0|    0|    0|    0|    0|    0|    0|    0|    0|    0|    0|    0|    0|    0|    0|    0|    0|    0|    0|    0|    0|    0|    0|    0|    0|    0|    0|    0|    0|    0|    0|    0|    0|    0|    0|    0|    0|    0|    0|    0|    0|    0|    0|    0|    0|    0|    0|    0|    0|    0|    0|    0|    0|    0|    0|    0|    0|\n",
            "|  2|  0|  0|  0|  0|  0|  0|  0|  0|  0|   0|   0|   0|   0|   0|   0|   0|   0|   0|   0|   0|   0|   0|   0|   0|   0|   0|   0|   0|   0|   0|   0|   0|   0|   0|   0|   0|   0|   0|   0|   0|   0|   0|   0|   0|   0|   0|   0|   0|   0|   0|   0|   0|   0|   0|   0|   0|   0|   0|   0|   0|   0|   0|   0|   0|   0|   0|   0|   0|   0|   0|   0|   0|   0|   0|   0|   0|   0|   0|   0|   0|   0|   0|   0|   0|   0|   0|   0|   0|   0|   0|   0|   0|   0|   0|   0|   0|   0|   0|   0|    0|    0|    0|    0|    0|    0|    0|    0|    0|    0|    0|    0|    0|    0|    0|    0|    0|    0|    0|    0|    0|    0|    0|    0|    0|   16|   54|  141|  191|  255|  253|  165|   41|    0|    0|    0|    0|    0|    0|    0|    0|    0|    0|    0|    0|    0|    0|    0|    0|    0|    0|    0|    0|  216|  252|  252|  252|  253|  252|  252|  252|   76|    0|    0|    0|    0|    0|    0|    0|    0|    0|    0|    0|    0|    0|    0|    0|    0|    0|   29|  185|  253|  233|  168|   68|   56|   81|  196|  252|  210|   28|    0|    0|    0|    0|    0|    0|    0|    0|    0|    0|    0|    0|    0|    0|    0|    0|  134|  252|  241|   59|    0|    0|    0|    0|   10|  228|  253|   84|    0|    0|    0|    0|    0|    0|    0|    0|    0|    0|    0|    0|    0|    0|    0|    7|  204|  253|   51|    0|    0|    0|    0|    0|    0|  226|  254|   84|    0|    0|    0|    0|    0|    0|    0|    0|    0|    0|    0|    0|    0|    0|    0|   44|  240|  177|    0|    0|    0|    0|    0|    0|    0|  225|  253|   84|    0|    0|    0|    0|    0|    0|    0|    0|    0|    0|    0|    0|    0|    0|    0|    0|  159|  103|    0|    0|    0|    0|    0|    0|   67|  246|  231|   19|    0|    0|    0|    0|    0|    0|    0|    0|    0|    0|    0|    0|    0|    0|    0|    0|   10|    3|    0|    0|    0|    0|    0|    0|  134|  252|  175|    0|    0|    0|    0|    0|    0|    0|    0|    0|    0|    0|    0|    0|    0|    0|    0|    0|    0|    0|    0|    0|    0|    0|    0|   32|  229|  253|  101|    0|    0|    0|    0|    0|    0|    0|    0|    0|    0|    0|    0|    0|    0|    0|    0|    0|    0|    0|    0|    0|    0|    0|    7|  150|  252|  227|    0|    0|    0|    0|    0|    0|    0|    0|    0|    0|    0|    0|    0|    0|    0|    0|    0|    0|    0|    0|    0|    0|    0|    0|  117|  252|  252|  103|    0|    0|    0|    0|    0|    0|    0|    0|    0|    0|    0|    0|    0|    0|    0|    0|    0|    0|    0|    0|    0|    0|    0|    0|  241|  252|  214|   15|    0|    0|    0|    0|    0|    0|    0|    0|    0|    0|    0|    0|    0|    0|    0|   26|  141|  141|  178|  253|  204|  178|  141|  191|  254|  228|   53|    4|    0|    0|    0|    0|    0|    0|    0|    0|    0|    0|    0|    0|    0|   13|  144|  243|  253|  252|  252|  252|  253|  252|  252|  252|  253|  252|  252|  178|  108|   57|   38|    0|    0|    0|    0|    0|    0|    0|    0|    0|   10|  172|  252|  214|  156|   56|   56|   56|  106|  187|  252|  252|  206|  168|  196|  252|  253|  252|  234|   22|    0|    0|    0|    0|    0|    0|    0|    0|  128|  252|  177|   15|    0|    0|    0|    0|  176|  243|  252|  102|   13|    0|   10|   28|   28|   53|  139|   66|    0|    0|    0|    0|    0|    0|    0|    0|  141|  253|   56|    0|    0|    0|   10|  179|  254|  253|  194|   13|    0|    0|    0|    0|    0|    0|    0|    0|    0|    0|    0|    0|    0|    0|    0|    0|  141|  252|  149|    7|   57|   82|  197|  252|  253|  189|   19|    0|    0|    0|    0|    0|    0|    0|    0|    0|    0|    0|    0|    0|    0|    0|    0|    0|   44|  187|  252|  203|  253|  252|  252|  252|  106|   19|    0|    0|    0|    0|    0|    0|    0|    0|    0|    0|    0|    0|    0|    0|    0|    0|    0|    0|    0|   32|  177|  252|  253|  227|  139|   40|    0|    0|    0|    0|    0|    0|    0|    0|    0|    0|    0|    0|    0|    0|    0|    0|    0|    0|    0|    0|    0|    0|    0|    0|    0|    0|    0|    0|    0|    0|    0|    0|    0|    0|    0|    0|    0|    0|    0|    0|    0|    0|    0|    0|    0|    0|    0|    0|    0|    0|    0|    0|    0|    0|    0|    0|    0|    0|    0|    0|    0|    0|    0|    0|    0|    0|    0|    0|    0|    0|    0|    0|    0|    0|    0|    0|    0|    0|    0|    0|    0|    0|    0|    0|    0|    0|    0|    0|    0|    0|    0|    0|    0|    0|    0|    0|    0|    0|    0|    0|    0|    0|    0|    0|    0|    0|    0|    0|    0|    0|    0|    0|    0|    0|    0|    0|    0|    0|    0|    0|    0|    0|    0|    0|    0|    0|    0|    0|\n",
            "|  0|  0|  0|  0|  0|  0|  0|  0|  0|  0|   0|   0|   0|   0|   0|   0|   0|   0|   0|   0|   0|   0|   0|   0|   0|   0|   0|   0|   0|   0|   0|   0|   0|   0|   0|   0|   0|   0|   0|   0|   0|   0|   0|   0|   0|   0|   0|   0|   0|   0|   0|   0|   0|   0|   0|   0|   0|   0|   0|   0|   0|   0|   0|   0|   0|   0|   0|   0|   0|   0|   0|   0|   0|   0|   0|   0|   0|   0|   0|   0|   0|   0|   0|   0|   0|   0|   0|   0|   0|   0|   0|   0|   0|   0|   0|   0|   0|   0|   0|   0|    0|    0|    0|    0|    0|    0|    0|    0|    0|    0|    0|    0|    0|    0|    0|    0|    0|    0|    0|    0|    0|    0|    0|   10|   79|  141|  141|  229|  253|  242|  116|   19|    0|    0|    0|    0|    0|    0|    0|    0|    0|    0|    0|    0|    0|    0|    0|    0|    0|    0|   63|  197|  252|  253|  252|  252|  252|  253|  252|  224|  169|    0|    0|    0|    0|    0|    0|    0|    0|    0|    0|    0|    0|    0|    0|    0|    0|   10|  197|  252|  252|  253|  252|  252|  252|  253|  252|  252|  252|  185|   28|    0|    0|    0|    0|    0|    0|    0|    0|    0|    0|    0|    0|    0|    0|   29|  177|  103|  178|  253|  252|  252|  252|  253|  227|  139|  240|  253|   84|    0|    0|    0|    0|    0|    0|    0|    0|    0|    0|    0|    0|    0|    0|    0|    7|  154|  253|  255|  253|  244|  125|  114|   38|    0|  101|  255|  228|   44|    0|    0|    0|    0|    0|    0|    0|    0|    0|    0|    0|    0|    0|    0|  131|  252|  252|  222|  196|  130|    0|    0|    0|    0|    0|  253|  252|  168|    0|    0|    0|    0|    0|    0|    0|    0|    0|    0|    0|    0|    0|   23|  234|  252|  252|   25|    0|    0|    0|    0|    0|    0|    0|  128|  252|  168|    0|    0|    0|    0|    0|    0|    0|    0|    0|    0|    0|    0|    0|  179|  252|  252|  151|    0|    0|    0|    0|    0|    0|    0|    0|   29|  252|  243|   25|    0|    0|    0|    0|    0|    0|    0|    0|    0|    0|    0|   76|  254|  253|  206|   13|    0|    0|    0|    0|    0|    0|    0|  114|  104|  253|  253|   28|    0|    0|    0|    0|    0|    0|    0|    0|    0|    0|   57|  243|  253|  252|   93|    0|    0|    0|    0|    0|    0|    0|    0|   38|  253|  252|  233|   22|    0|    0|    0|    0|    0|    0|    0|    0|    0|    0|   85|  252|  253|  170|   13|    0|    0|    0|    0|    0|    0|    0|    0|    0|  253|  252|  234|   22|    0|    0|    0|    0|    0|    0|    0|    0|    0|    0|  134|  252|  253|   84|    0|    0|    0|    0|    0|    0|    0|    0|    0|  101|  253|  252|  177|    3|    0|    0|    0|    0|    0|    0|    0|    0|    0|    7|  204|  253|  239|   38|    0|    0|    0|    0|    0|    0|    0|    0|    0|  114|  254|  253|  168|    0|    0|    0|    0|    0|    0|    0|    0|    0|    0|   82|  252|  252|  125|    0|    0|    0|    0|    0|    0|    0|    0|    0|    0|  188|  253|  252|  168|    0|    0|    0|    0|    0|    0|    0|    0|    0|   10|  197|  252|  252|    0|    0|    0|    0|    0|    0|    0|    0|    0|    0|   67|  246|  253|  252|   80|    0|    0|    0|    0|    0|    0|    0|    0|    0|   29|  252|  252|  202|    0|    0|    0|    0|    0|    0|    0|    0|    0|    0|   47|  240|  253|  151|    6|    0|    0|    0|    0|    0|    0|    0|    0|    0|   29|  253|  253|  153|    0|    0|    0|    0|    0|    0|    0|    0|    0|   19|  104|  253|  254|   84|    0|    0|    0|    0|    0|    0|    0|    0|    0|    0|   10|  196|  252|  252|  169|  169|  169|  169|  169|   94|   57|  107|  169|  225|  252|  252|  209|   28|    0|    0|    0|    0|    0|    0|    0|    0|    0|    0|    0|  131|  252|  252|  253|  252|  252|  252|  253|  252|  252|  252|  253|  252|  252|  252|   25|    0|    0|    0|    0|    0|    0|    0|    0|    0|    0|    0|    0|    7|  116|  139|  253|  252|  252|  252|  253|  227|  177|  252|  140|  139|  139|   40|    0|    0|    0|    0|    0|    0|    0|    0|    0|    0|    0|    0|    0|    0|    0|    0|    0|    0|    0|    0|    0|    0|    0|    0|    0|    0|    0|    0|    0|    0|    0|    0|    0|    0|    0|    0|    0|    0|    0|    0|    0|    0|    0|    0|    0|    0|    0|    0|    0|    0|    0|    0|    0|    0|    0|    0|    0|    0|    0|    0|    0|    0|    0|    0|    0|    0|    0|    0|    0|    0|    0|    0|    0|    0|    0|    0|    0|    0|    0|    0|    0|    0|    0|    0|    0|    0|    0|    0|    0|    0|    0|    0|    0|    0|    0|    0|    0|    0|    0|    0|    0|    0|    0|    0|    0|    0|    0|    0|    0|    0|    0|    0|    0|    0|    0|    0|    0|    0|    0|    0|\n",
            "|  6|  0|  0|  0|  0|  0|  0|  0|  0|  0|   0|   0|   0|   0|   0|   0|   0|   0|   0|   0|   0|   0|   0|   0|   0|   0|   0|   0|   0|   0|   0|   0|   0|   0|   0|   0|   0|   0|   0|   0|   0|   0|   0|   0|   0|   0|   0|   0|   0|   0|   0|   0|   0|   0|   0|   0|   0|   0|   0|   0|   0|   0|   0|   0|   0|   0|   0|   0|   0|   0|   0|   2|  18| 129| 178|   0|   0|   0|   0|   0|   0|   0|   0|   0|   0|   0|   0|   0|   0|   0|   0|   0|   0|   0|   0|   0|   0|   0|   0|  41|  254|  246|   97|    0|    0|    0|    0|    0|    0|    0|    0|    0|    0|    0|    0|    0|    0|    0|    0|    0|    0|    0|    0|    0|    0|    0|   85|  218|  254|  115|    0|    0|    0|    0|    0|    0|    0|    0|    0|    0|    0|    0|    0|    0|    0|    0|    0|    0|    0|    0|    0|    0|    0|    0|  126|  254|  223|   20|    0|    0|    0|    0|    0|    0|    0|    0|    0|    0|    0|    0|    0|    0|    0|    0|    0|    0|    0|    0|    0|    0|    0|    0|  222|  246|   83|    0|    0|    0|    0|    0|    0|    0|    0|    0|    0|    0|    0|    0|    0|    0|    0|    0|    0|    0|    0|    0|    0|    0|    0|   96|  253|  181|    0|    0|    0|    0|    0|    0|    0|    0|    0|    0|    0|    0|    0|    0|    0|    0|    0|    0|    0|    0|    0|    0|    0|    0|    0|  221|  249|   58|    0|    0|    0|    0|    0|    0|    0|    0|    0|    0|    0|    0|    0|    0|    0|    0|    0|    0|    0|    0|    0|    0|    0|    0|   51|  242|  129|    0|    0|    0|    0|    0|    0|    0|    0|    0|    0|    0|    0|    0|    0|    0|    0|    0|    0|    0|    0|    0|    0|    0|    0|    0|  164|  254|  129|    0|    0|    0|    0|    0|    0|    0|    0|    0|    0|    0|    0|    0|    0|    0|    0|    0|    0|    0|    0|    0|    0|    0|    0|    0|  208|  255|   47|    0|    0|    0|    0|    0|    0|    0|    0|    0|    0|    0|    0|    0|    0|    0|    0|    0|    0|    0|    0|    0|    0|    0|    0|   56|  244|  172|    3|    0|    0|    0|    0|    0|    0|    0|    0|    0|    0|    0|    0|    0|    0|    0|    0|    0|    0|    0|    0|    0|    0|    0|    0|  117|  255|  147|    0|    0|    0|    0|    0|    0|    0|    0|    0|    0|    0|    0|    0|    0|    0|    0|    0|    0|    0|    0|    0|    0|    0|    0|   49|  249|  254|   40|    0|    0|    0|    0|    0|    0|    0|    0|    0|    0|    0|    0|    0|    0|    0|    0|    0|    0|    0|    0|    0|    0|    0|    0|   54|  255|  254|   29|    0|    0|    0|    0|    0|    0|    0|    0|    0|    0|    0|    0|    0|    0|    0|    0|    0|    0|    0|    0|    0|    0|    0|    0|   23|  217|  255|   29|    0|    3|   30|   79|    0|    0|    0|    0|    0|    0|   14|    0|    0|    0|    0|    0|    0|    0|    0|    0|    0|    0|    0|    0|    0|  168|  254|  107|   24|   68|  254|  118|    0|    0|    0|    0|    6|   70|  165|    0|    0|    0|    0|    0|    0|    0|    0|    0|    0|    0|    0|    0|    0|   72|  254|  225|  163|  254|  194|   22|    0|    0|    0|    0|  117|  254|  189|    0|    0|    0|    0|    0|    0|    0|    0|    0|    0|    0|    0|    0|    0|   15|  124|  254|  254|  254|  146|   25|    0|    0|    0|   43|  169|  198|   72|    0|    0|    0|    0|    0|    0|    0|    0|    0|    0|    0|    0|    0|    0|    0|   13|  140|  250|  254|  254|  230|  220|  220|  220|  238|  243|   70|    0|    0|    0|    0|    0|    0|    0|    0|    0|    0|    0|    0|    0|    0|    0|    0|    0|    0|   78|  254|  254|  227|  172|  154|  135|  135|   65|    0|    0|    0|    0|    0|    0|    0|    0|    0|    0|    0|    0|    0|    0|    0|    0|    0|    0|    0|    0|    0|    0|    0|    0|    0|    0|    0|    0|    0|    0|    0|    0|    0|    0|    0|    0|    0|    0|    0|    0|    0|    0|    0|    0|    0|    0|    0|    0|    0|    0|    0|    0|    0|    0|    0|    0|    0|    0|    0|    0|    0|    0|    0|    0|    0|    0|    0|    0|    0|    0|    0|    0|    0|    0|    0|    0|    0|    0|    0|    0|    0|    0|    0|    0|    0|    0|    0|    0|    0|    0|    0|    0|    0|    0|    0|    0|    0|    0|    0|    0|    0|    0|    0|    0|    0|    0|    0|    0|    0|    0|    0|    0|    0|    0|    0|    0|    0|    0|    0|    0|    0|    0|    0|    0|    0|    0|    0|    0|    0|    0|    0|    0|    0|    0|    0|    0|    0|    0|    0|    0|    0|    0|    0|    0|    0|    0|    0|    0|    0|    0|    0|    0|    0|    0|    0|    0|    0|    0|    0|    0|    0|    0|    0|    0|    0|    0|    0|    0|    0|    0|    0|    0|    0|    0|\n",
            "|  5|  0|  0|  0|  0|  0|  0|  0|  0|  0|   0|   0|   0|   0|   0|   0|   0|   0|   0|   0|   0|   0|   0|   0|   0|   0|   0|   0|   0|   0|   0|   0|   0|   0|   0|   0|   0|   0|   0|   0|   0|   0|   0|   0|   0|   0|   0|   0|   0|   0|   0|   0|   0|   0|   0|   0|   0|   0|   0|   0|   0|   0|   0|   0|   0|   0|   0|   0|   0|   0|   0|   0|   0|   0|   0|   0|   0|   0|   0|   0|   0|   0|   0|   0|   0|   0|   0|   0|   0|   0|   0|   0|   0|   0|   0|   0|   0|   0|   0|   0|    0|    0|    0|    0|    0|    0|    0|    0|    0|    0|    0|    0|    0|    0|    0|    0|    0|    0|    0|    0|    0|    0|    0|    0|    0|    0|    0|    0|    0|    0|    0|    0|    0|    0|    0|    0|    0|    0|    0|    0|    0|    0|    0|    0|    0|    0|    0|    0|    0|    0|    0|    0|    0|   36|  143|  143|   48|   34|   63|  143|  143|  143|  230|  253|  234|   52|    0|    0|    0|    0|    0|    0|    0|    0|    0|    0|    0|    0|    6|  138|  128|  246|  252|  252|  252|  253|  252|  252|  252|  252|  252|  252|  252|  175|    0|    0|    0|    0|    0|    0|    0|    0|    0|    0|    0|    0|  114|  252|  252|  252|  252|  252|  252|  253|  252|  252|  252|  252|  252|  248|  153|   59|    0|    0|    0|    0|    0|    0|    0|    0|    0|    0|    0|    9|  191|  252|  252|  252|  252|  252|  252|  231|  230|  230|  221|  121|   34|   10|    0|    0|    0|    0|    0|    0|    0|    0|    0|    0|    0|    0|    0|  124|  252|  252|  170|   88|   88|   88|   88|    0|    0|    0|    0|    0|    0|    0|    0|    0|    0|    0|    0|    0|    0|    0|    0|    0|    0|    0|   91|  243|  252|  233|   36|    0|    0|    0|    0|    0|    0|    0|    0|    0|    0|    0|    0|    0|    0|    0|    0|    0|    0|    0|    0|    0|    0|    0|  176|  252|  252|  200|    8|    0|    0|    0|    0|    0|    0|    0|    0|    0|    0|    0|    0|    0|    0|    0|    0|    0|    0|    0|    0|    0|    0|    0|  176|  252|  252|  252|  218|  102|   37|    0|    0|    0|    0|    0|    0|    0|    0|    0|    0|    0|    0|    0|    0|    0|    0|    0|    0|    0|    0|    0|  142|  252|  252|  252|  252|  252|  241|  153|   44|    0|    0|    0|    0|    0|    0|    0|    0|    0|    0|    0|    0|    0|    0|    0|    0|    0|    0|    0|    9|   76|  200|  252|  252|  252|  252|  252|  238|   97|    0|    0|    0|    0|    0|    0|    0|    0|    0|    0|    0|    0|    0|    0|    0|    0|    0|    0|    0|    0|    0|   25|  111|  163|  226|  253|  253|  255|  139|    0|    0|    0|    0|    0|    0|    0|    0|    0|    0|    0|    0|    0|    0|    0|    0|    0|    0|    0|    0|    0|    0|    0|   14|  158|  244|  253|  203|   12|    0|    0|    0|    0|    0|    0|    0|    0|    0|    0|    0|    0|    0|    0|    0|    0|    0|    0|    0|    0|    0|    0|    0|    0|  177|  253|  252|  173|    4|    0|    0|    0|    0|    0|    0|    0|    0|    0|    0|    0|    0|    0|    0|    0|    0|    0|    0|    0|    0|    0|    0|    0|   53|  253|  252|  252|   10|    0|    0|    0|    0|    0|    0|    0|    0|    0|    0|    0|    0|    0|    0|    0|    0|    0|    0|    0|    0|    0|    0|    0|    0|  253|  252|  252|   10|    0|    0|    0|    0|    0|    0|    0|    0|    0|    0|    0|    0|    0|    0|    0|    0|    0|    0|    0|    0|    0|    0|    0|    0|  253|  252|  252|   10|    0|    0|    0|    0|    0|    0|    0|    0|    0|    0|    0|    0|    0|    0|    2|  118|  188|   64|   12|   12|   12|   31|  122|  217|  253|  252|  252|   10|    0|    0|    0|    0|    0|    0|    0|    0|    0|    0|    0|    0|    0|    0|   34|  252|  252|  252|  252|  252|  252|  252|  252|  252|  253|  252|  172|    4|    0|    0|    0|    0|    0|    0|    0|    0|    0|    0|    0|    0|    0|    0|    9|  196|  252|  252|  252|  252|  252|  252|  252|  252|  253|  169|   12|    0|    0|    0|    0|    0|    0|    0|    0|    0|    0|    0|    0|    0|    0|    0|    0|   23|  124|  142|  142|  142|  243|  252|  252|  156|   81|   10|    0|    0|    0|    0|    0|    0|    0|    0|    0|    0|    0|    0|    0|    0|    0|    0|    0|    0|    0|    0|    0|    0|    0|    0|    0|    0|    0|    0|    0|    0|    0|    0|    0|    0|    0|    0|    0|    0|    0|    0|    0|    0|    0|    0|    0|    0|    0|    0|    0|    0|    0|    0|    0|    0|    0|    0|    0|    0|    0|    0|    0|    0|    0|    0|    0|    0|    0|    0|    0|    0|    0|    0|    0|    0|    0|    0|    0|    0|    0|    0|    0|    0|    0|    0|    0|    0|    0|    0|    0|    0|    0|    0|    0|    0|\n",
            "|  5|  0|  0|  0|  0|  0|  0|  0|  0|  0|   0|   0|   0|   0|   0|   0|   0|   0|   0|   0|   0|   0|   0|   0|   0|   0|   0|   0|   0|   0|   0|   0|   0|   0|   0|   0|   0|   0|   0|   0|   0|   0|   0|   0|   0|   0|   0|   0|   0|   0|   0|   0|   0|   0|   0|   0|   0|   0|   0|   0|   0|   0|   0|   0|   0|   0|   0|   0|   0|   0|   0|   0|   0|   0|   0|   0|   0|   0|   0|   0|   0|   0|   0|   0|   0|   0|   0|   0|   0|   0|   0|   0|   0|   0|   0|   0|   0|   0|   0|   0|    0|    0|    0|    0|    0|    0|    0|    0|    0|    0|    0|    0|    0|    0|    0|    0|    0|    0|    0|    0|    0|    0|    0|    0|    0|    0|  110|  109|  212|  253|  110|  109|   94|    0|    0|    0|    0|    0|    0|    0|    0|    0|    0|    0|    0|    0|    0|    0|    0|    0|    0|   63|   94|  217|  253|  252|  252|  252|  253|  252|  247|   93|    0|    0|    0|    0|    0|    0|    0|    0|    0|    0|    0|    0|    0|    0|    0|    0|   16|  222|  252|  252|  253|  252|  226|  215|  217|  215|  215|   92|    0|    0|    0|    0|    0|    0|    0|    0|    0|    0|    0|    0|    0|    0|    0|    0|  109|  252|  252|  252|  191|  108|   31|    0|    0|    0|    0|    0|    0|    0|    0|    0|    0|    0|    0|    0|    0|    0|    0|    0|    0|    0|    0|    0|   62|  237|  252|  252|    0|    0|    0|    0|    0|    0|    0|    0|    0|    0|    0|    0|    0|    0|    0|    0|    0|    0|    0|    0|    0|    0|    0|    0|   32|  227|  252|  210|    0|    0|    0|    0|    0|    0|    0|    0|    0|    0|    0|    0|    0|    0|    0|    0|    0|    0|    0|    0|    0|    0|    0|    1|  129|  252|  252|  108|    0|    0|    0|    0|    0|    0|    0|    0|    0|    0|    0|    0|    0|    0|    0|    0|    0|    0|    0|    0|    0|    0|    0|    1|  252|  252|  231|   46|    0|    0|    0|    0|    0|    0|    0|    0|    0|    0|    0|    0|    0|    0|    0|    0|    0|    0|    0|    0|    0|    0|    0|    1|  253|  253|  217|    0|    0|   94|  212|  253|  255|  211|  109|   47|    0|    0|    0|    0|    0|    0|    0|    0|    0|    0|    0|    0|    0|    0|    0|   42|  252|  252|  226|   73|  218|  247|  252|  252|  253|  252|  252|  148|    0|    0|    0|    0|    0|    0|    0|    0|    0|    0|    0|    0|    0|    0|    0|  144|  252|  252|  252|  252|  253|  252|  252|  231|  217|  247|  252|  252|  105|    0|    0|    0|    0|    0|    0|    0|    0|    0|    0|    0|    0|    0|    0|  144|  252|  252|  252|  252|  253|  252|  148|   46|    0|  134|  252|  252|  144|    0|    0|    0|    0|    0|    0|    0|    0|    0|    0|    0|    0|    0|    0|  145|  253|  253|  253|  191|   84|    0|    0|    0|    0|   73|  253|  253|  145|    0|    0|    0|    0|    0|    0|    0|    0|    0|    0|    0|    0|    0|    0|   20|   98|  179|  158|   15|    0|    0|    0|    0|    0|  115|  252|  252|  144|    0|    0|    0|    0|    0|    0|    0|    0|    0|    0|    0|    0|    0|    0|    0|    0|    0|    0|    0|    0|    0|    0|    0|   37|  222|  252|  252|  125|    0|    0|    0|    0|    0|    0|    0|    0|    0|    0|    0|    0|    0|    0|    0|    0|    0|    0|    0|    0|    0|    0|    0|  253|  252|  252|  168|    0|    0|    0|    0|    0|    0|    0|    0|    0|    0|    0|    0|    0|    0|    0|    0|    0|    0|    0|    0|    0|    0|   16|  191|  255|  253|  253|  108|    0|    0|    0|    0|    0|    0|    0|    0|    0|    0|    0|    0|    0|    0|    0|    0|    0|    0|   32|  217|  218|  217|  222|  252|  253|  252|  179|   15|    0|    0|    0|    0|    0|    0|    0|    0|    0|    0|    0|    0|    0|    0|    0|    0|    0|    0|   37|  252|  253|  252|  252|  252|  237|  174|   20|    0|    0|    0|    0|    0|    0|    0|    0|    0|    0|    0|    0|    0|    0|    0|    0|    0|    0|    0|   16|  190|  253|  252|  252|  252|   62|    0|    0|    0|    0|    0|    0|    0|    0|    0|    0|    0|    0|    0|    0|    0|    0|    0|    0|    0|    0|    0|    0|    0|    0|    0|    0|    0|    0|    0|    0|    0|    0|    0|    0|    0|    0|    0|    0|    0|    0|    0|    0|    0|    0|    0|    0|    0|    0|    0|    0|    0|    0|    0|    0|    0|    0|    0|    0|    0|    0|    0|    0|    0|    0|    0|    0|    0|    0|    0|    0|    0|    0|    0|    0|    0|    0|    0|    0|    0|    0|    0|    0|    0|    0|    0|    0|    0|    0|    0|    0|    0|    0|    0|    0|    0|    0|    0|    0|    0|    0|    0|    0|    0|    0|    0|    0|    0|    0|    0|    0|    0|    0|    0|    0|    0|    0|    0|    0|    0|    0|    0|    0|\n",
            "|  2|  0|  0|  0|  0|  0|  0|  0|  0|  0|   0|   0|   0|   0|   0|   0|   0|   0|   0|   0|   0|   0|   0|   0|   0|   0|   0|   0|   0|   0|   0|   0|   0|   0|   0|   0|   0|   0|   0|   0|   0|   0|   0|   0|   0|   0|   0|   0|   0|   0|   0|   0|   0|   0|   0|   0|   0|   0|   0|   0|   0|   0|   0|   0|   0|   0|   0|   0|   0|   0|   0|   0|   0|   0|   0|   0|   0|   0|   0|   0|   0|   0|   0|   0|   0|   0|   0|   0|   0|   0|   0|   0|   0|   0|   0|   0|   0|   0|   0|   0|    0|    0|    0|    0|    0|    0|    0|    0|    0|    0|    0|    0|    0|    0|    0|    0|    0|    0|    0|    0|    0|    0|    0|    0|    0|    0|    0|    0|    0|    0|    0|    0|    0|    0|    0|    0|    0|    0|    0|    0|    0|    0|    0|    0|    0|    0|    0|    0|    0|    0|   49|  238|  254|  254|  254|  254|  224|   35|    0|    0|    0|    0|    0|    0|    0|    0|    0|    0|    0|    0|    0|    0|    0|    0|    0|    0|    0|    0|   99|  253|  253|  253|  253|  253|  253|  222|   97|    0|    0|    0|    0|    0|    0|    0|    0|    0|    0|    0|    0|    0|    0|    0|    0|    0|  106|  112|  166|  253|  253|  253|  253|  253|  253|  253|  251|  137|    0|    0|    0|    0|    0|    0|    0|    0|    0|    0|    0|    0|    0|    0|    0|    0|  187|  253|  253|  253|  253|  253|  253|  253|  253|  253|  253|  230|   38|    0|    0|    0|    0|    0|    0|    0|    0|    0|    0|    0|    0|    0|    0|    0|   69|  246|  253|  253|  253|  253|  253|  253|  253|  253|  253|  238|   56|    0|    0|    0|    0|    0|    0|    0|    0|    0|    0|    0|    0|    0|    0|    0|    0|  150|  162|  162|  209|  237|  253|  253|  253|  253|  253|  248|   80|    0|    0|    0|    0|    0|    0|    0|    0|    0|    0|    0|    0|    0|    0|    0|    0|    0|    0|    0|   20|   58|  227|  253|  253|  253|  253|  240|   60|    0|    0|    0|    0|    0|    0|    0|    0|    0|    0|    0|    0|    0|    0|    0|    0|    0|    0|    0|    0|   79|  253|  253|  253|  253|  253|  214|    0|    0|    0|    0|    0|    0|    0|    0|    0|    0|    0|    0|    0|    0|    0|    0|    0|    0|    0|    0|    0|  116|  253|  253|  253|  253|  253|  177|    0|    0|    0|    0|    0|    0|    0|    0|    0|    0|    0|    0|    0|    0|    0|    0|    0|    0|    0|    0|   66|  243|  253|  253|  253|  253|  253|  151|    0|    0|    0|    0|    0|    0|    0|    0|    0|    0|    0|    0|    0|    0|    0|    0|    0|    0|    0|   52|  191|  253|  253|  253|  253|  253|  243|   65|    0|    0|    0|    0|    0|    0|    0|    0|    0|    0|    0|    0|    0|    0|    0|    0|    0|    0|   98|  244|  253|  253|  253|  253|  253|  253|  114|    0|    0|    0|    0|    0|    0|    0|    0|    0|    0|    0|    0|    0|    0|    0|    0|    0|    0|    0|  228|  253|  253|  253|  253|  253|  253|  253|  101|    0|    0|    0|    0|    0|    0|    0|    0|    0|    0|    0|    0|    0|    0|    0|    0|    0|    0|   71|  245|  253|  253|  253|  253|  253|  253|  253|  238|   77|    0|    0|    0|    0|    0|    0|    0|    0|    0|    0|    0|    0|    0|    0|    0|    0|    0|   92|  250|  253|  253|  253|  253|  253|  253|  253|  253|  239|  146|   13|    0|    0|    0|    0|    0|    0|    0|    0|    0|    0|    0|    0|    0|    0|    0|    0|  228|  253|  253|  253|  253|  199|  200|  253|  253|  253|  253|  193|  156|  148|    0|    0|    0|    0|    0|    0|    0|    0|    0|    0|    0|    0|    0|    0|  151|  253|  253|  253|  248|   54|   24|  201|  253|  253|  253|  253|  252|  154|    0|    0|    0|    0|    0|    0|    0|    0|    0|    0|    0|    0|    0|    0|   99|  253|  253|  253|  181|    0|    0|   23|  110|  197|  223|  110|  102|    0|    0|    0|    0|    0|    0|    0|    0|    0|    0|    0|    0|    0|    0|    0|   45|  233|  253|  253|  178|    0|    0|    0|    0|    0|    0|    0|    0|    0|    0|    0|    0|    0|    0|    0|    0|    0|    0|    0|    0|    0|    0|    0|    0|   45|  123|  190|   25|    0|    0|    0|    0|    0|    0|    0|    0|    0|    0|    0|    0|    0|    0|    0|    0|    0|    0|    0|    0|    0|    0|    0|    0|    0|    0|    0|    0|    0|    0|    0|    0|    0|    0|    0|    0|    0|    0|    0|    0|    0|    0|    0|    0|    0|    0|    0|    0|    0|    0|    0|    0|    0|    0|    0|    0|    0|    0|    0|    0|    0|    0|    0|    0|    0|    0|    0|    0|    0|    0|    0|    0|    0|    0|    0|    0|    0|    0|    0|    0|    0|    0|    0|    0|    0|    0|    0|    0|    0|    0|    0|    0|    0|    0|    0|    0|    0|    0|\n",
            "|  7|  0|  0|  0|  0|  0|  0|  0|  0|  0|   0|   0|   0|   0|   0|   0|   0|   0|   0|   0|   0|   0|   0|   0|   0|   0|   0|   0|   0|   0|   0|   0|   0|   0|   0|   0|   0|   0|   0|   0|   0|   0|   0|   0|   0|   0|   0|   0|   0|   0|   0|   0|   0|   0|   0|   0|   0|   0|   0|   0|   0|   0|   0|   0|   0|   0|   0|   0|   0|   0|   0|   0|   0|   0|   0|   0|   0|   0|   0|   0|   0|   0|   0|   0|   0|   0|   0|   0|   0|   0|   0|   0|   0|   0|   0|   0|   0|   0|   0|   0|    0|    0|    0|    0|    0|    0|    0|    0|    0|    0|    0|    0|    0|    0|    0|    0|    0|    0|    0|    0|    0|    0|    0|    0|    0|    0|    0|    0|    0|    0|    0|    0|    0|    0|    0|    0|    0|    0|    0|    0|    0|    0|    0|    0|    0|    0|    0|    0|    0|    0|    0|    0|    0|    0|    0|    0|    0|    0|    0|    0|    0|    0|    0|    0|    0|    0|    0|    0|    0|    0|    0|    0|    0|    0|    0|    0|    0|    0|    0|    0|    0|    0|    0|    0|    0|    0|    0|    0|    0|    0|    0|    0|    0|    0|    0|    0|    0|    0|    0|    0|    0|    0|    0|    0|    0|    0|    0|  152|  233|  254|  172|   92|   51|    0|    0|    0|    0|    0|    0|    0|    0|    0|    0|    0|    0|    0|    0|    0|    0|    0|    0|    0|    0|   21|  142|  253|  252|  253|  252|  253|  252|  123|    0|    0|    0|    0|    0|    0|    0|    0|    0|    0|    0|    0|    0|    0|    0|    0|    0|    0|   21|  173|  253|  254|  253|  254|  253|  254|  253|  234|  112|  152|  152|  123|    0|    0|    0|    0|    0|    0|    0|    0|    0|    0|    0|    0|    0|  123|  223|  253|  252|  253|  252|  233|  151|  151|  232|  253|  252|  253|  252|  243|   40|    0|    0|    0|    0|    0|    0|    0|    0|    0|    0|    0|    0|  173|  253|  254|  253|  224|  122|   41|    0|    0|    0|  102|  203|  254|  253|  255|  233|    0|    0|    0|    0|    0|    0|    0|    0|    0|    0|    0|    0|  131|  252|  253|  212|   20|    0|    0|    0|    0|    0|    0|   61|  253|  252|  253|  232|    0|    0|    0|    0|    0|    0|    0|    0|    0|    0|    0|    0|   21|  102|   41|    0|    0|    0|    0|    0|    0|    0|   92|  253|  254|  253|  224|   40|    0|    0|    0|    0|    0|    0|    0|    0|    0|    0|    0|    0|    0|    0|    0|    0|    0|    0|    0|    0|    0|    0|  253|  252|  253|  252|  142|    0|    0|    0|    0|    0|    0|    0|    0|    0|    0|    0|    0|    0|    0|    0|    0|    0|    0|    0|    0|    0|   11|  173|  254|  253|  254|  192|    0|    0|    0|    0|    0|    0|    0|    0|    0|    0|    0|    0|    0|    0|    0|    0|    0|    0|    0|    0|    0|    0|  132|  252|  253|  252|  172|   30|    0|    0|    0|    0|    0|    0|    0|    0|    0|    0|    0|    0|    0|    0|    0|    0|    0|    0|    0|    0|    0|   82|  254|  253|  254|  213|   41|    0|    0|    0|    0|    0|    0|    0|    0|    0|    0|    0|    0|    0|    0|    0|    0|    0|    0|    0|    0|    0|   62|  223|  253|  252|  192|   30|    0|    0|    0|    0|    0|    0|    0|    0|    0|    0|    0|    0|    0|    0|    0|    0|    0|    0|    0|    0|    0|    0|  132|  253|  254|  253|   41|    0|    0|    0|    0|    0|    0|    0|    0|    0|    0|    0|    0|    0|    0|    0|    0|    0|    0|    0|    0|    0|    0|    0|  253|  252|  253|  171|    0|    0|    0|    0|    0|    0|    0|    0|    0|    0|    0|    0|    0|    0|    0|    0|    0|    0|    0|    0|    0|    0|    0|  142|  254|  253|  224|   20|    0|    0|    0|    0|    0|    0|    0|    0|    0|    0|    0|    0|    0|    0|    0|    0|    0|    0|    0|    0|    0|    0|   21|  203|  253|  252|   40|    0|    0|    0|    0|    0|    0|    0|    0|    0|    0|    0|    0|    0|    0|    0|    0|    0|    0|    0|    0|    0|    0|    0|  152|  253|  254|  213|    0|    0|    0|    0|    0|    0|    0|    0|    0|    0|    0|    0|    0|    0|    0|    0|    0|    0|    0|    0|    0|    0|    0|    0|  233|  252|  253|   90|    0|    0|    0|    0|    0|    0|    0|    0|    0|    0|    0|    0|    0|    0|    0|    0|    0|    0|    0|    0|    0|    0|    0|    0|  214|  253|  163|   20|    0|    0|    0|    0|    0|    0|    0|    0|    0|    0|    0|    0|    0|    0|    0|    0|    0|    0|    0|    0|    0|    0|    0|    0|  213|  252|  102|    0|    0|    0|    0|    0|    0|    0|    0|    0|    0|    0|    0|    0|    0|    0|    0|    0|    0|    0|    0|    0|    0|    0|    0|    0|    0|    0|    0|    0|    0|    0|    0|    0|    0|    0|    0|    0|    0|    0|    0|    0|    0|    0|\n",
            "|  7|  0|  0|  0|  0|  0|  0|  0|  0|  0|   0|   0|   0|   0|   0|   0|   0|   0|   0|   0|   0|   0|   0|   0|   0|   0|   0|   0|   0|   0|   0|   0|   0|   0|   0|   0|   0|   0|   0|   0|   0|   0|   0|   0|   0|   0|   0|   0|   0|   0|   0|   0|   0|   0|   0|   0|   0|   0|   0|   0|   0|   0|   0|   0|   0|   0|   0|   0|   0|   0|   0|   0|   0|   0|   0|   0|   0|   0|   0|   0|   0|   0|   0|   0|   0|   0|   0|   0|   0|   0|   0|   0|   0|   0|   0|   0|   0|   0|   0|   0|    0|    0|    0|    0|    0|    0|    0|    0|    0|    0|    0|    0|    0|    0|    0|    0|    0|    0|    0|    0|    0|    0|    0|    0|    0|    0|    0|    0|    0|    0|    0|    0|    0|    0|    0|    0|    0|    0|    0|    0|    0|    0|    0|    0|    0|    0|    0|    0|    0|    0|    0|    0|    0|    0|    0|    0|    0|    0|    0|    0|    0|    0|    0|    0|    0|    0|    0|    0|    0|    0|    0|    0|    0|    0|    0|    0|    0|    0|    0|    0|    0|    0|    0|    0|    0|    3|   94|  247|  177|   72|    0|    0|    0|    0|    0|    0|    0|    0|    0|    0|    0|    0|    0|    0|    0|    0|    0|    0|    0|    0|   28|   63|  180|  226|  253|  253|  253|  243|    8|    0|    0|    0|    0|    0|    0|    0|    0|    0|    0|    0|    0|    0|    3|   97|  104|  104|  194|  197|  238|  254|  253|  253|  253|  253|  253|  249|    9|    0|    0|    0|    0|    0|    0|    0|    0|    0|    0|    0|    0|    0|  104|  253|  253|  253|  253|  253|  253|  254|  253|  253|  253|  253|  253|  106|    0|    0|    0|    0|    0|    0|    0|    0|    0|    0|    0|    0|    0|    0|  117|  253|  253|  253|  253|  253|  235|  147|  112|  187|  253|  253|  249|   61|    0|    0|    0|    0|    0|    0|    0|    0|    0|    0|    0|    0|    0|    0|   14|  221|  234|  167|  140|   95|   29|    0|   17|  222|  253|  253|  185|    0|    0|    0|    0|    0|    0|    0|    0|    0|    0|    0|    0|    0|    0|    0|    0|    0|    0|    0|    0|    0|    0|    0|   70|  253|  253|  237|   31|    0|    0|    0|    0|    0|    0|    0|    0|    0|    0|    0|    0|    0|    0|    0|    0|    0|    0|    0|    0|    0|    0|   15|  228|  253|  253|   95|    0|    0|    0|    0|    0|    0|    0|    0|    0|    0|    0|    0|    0|    0|    0|    0|    0|    0|    0|    0|    0|    0|    0|   87|  253|  253|  253|   45|   71|   56|   12|    0|    0|    0|    0|    0|    0|    0|    0|    0|    0|    0|    0|    0|   63|   95|   25|   95|   95|  174|  188|  254|  253|  253|  253|  253|  253|  253|  137|    0|    0|    0|    0|    0|    0|    0|    0|    0|    0|    0|   63|  254|  254|  254|  254|  254|  254|  254|  254|  255|  254|  254|  254|  254|  254|  254|  254|   37|    0|    0|    0|    0|    0|    0|    0|    0|    0|    0|  131|  253|  253|  253|  253|  253|  253|  253|  253|  254|  247|  215|  187|  208|  215|  215|  104|    4|    0|    0|    0|    0|    0|    0|    0|    0|    0|    0|   57|  247|  253|  244|  166|  119|   56|  154|  253|  254|  176|    0|    0|    0|    0|    0|    0|    0|    0|    0|    0|    0|    0|    0|    0|    0|    0|    0|    0|   35|   84|    6|    0|    0|   17|  227|  253|  234|   51|    0|    0|    0|    0|    0|    0|    0|    0|    0|    0|    0|    0|    0|    0|    0|    0|    0|    0|    0|    0|    0|    0|    0|  143|  253|  253|  170|    0|    0|    0|    0|    0|    0|    0|    0|    0|    0|    0|    0|    0|    0|    0|    0|    0|    0|    0|    0|    0|    0|    0|    0|  157|  253|  253|   95|    0|    0|    0|    0|    0|    0|    0|    0|    0|    0|    0|    0|    0|    0|    0|    0|    0|    0|    0|    0|    0|    0|    0|   60|  250|  253|  253|  160|    0|    0|    0|    0|    0|    0|    0|    0|    0|    0|    0|    0|    0|    0|    0|    0|    0|    0|    0|    0|    0|    0|    0|   85|  253|  253|  253|  188|    0|    0|    0|    0|    0|    0|    0|    0|    0|    0|    0|    0|    0|    0|    0|    0|    0|    0|    0|    0|    0|    0|    0|   13|  245|  253|  253|  188|    0|    0|    0|    0|    0|    0|    0|    0|    0|    0|    0|    0|    0|    0|    0|    0|    0|    0|    0|    0|    0|    0|    0|    0|  119|  169|  183|   49|    0|    0|    0|    0|    0|    0|    0|    0|    0|    0|    0|    0|    0|    0|    0|    0|    0|    0|    0|    0|    0|    0|    0|    0|    0|    0|    0|    0|    0|    0|    0|    0|    0|    0|    0|    0|    0|    0|    0|    0|    0|    0|    0|    0|    0|    0|    0|    0|    0|    0|    0|    0|    0|    0|    0|    0|    0|    0|    0|    0|    0|    0|    0|    0|    0|    0|    0|    0|    0|\n",
            "|  6|  0|  0|  0|  0|  0|  0|  0|  0|  0|   0|   0|   0|   0|   0|   0|   0|   0|   0|   0|   0|   0|   0|   0|   0|   0|   0|   0|   0|   0|   0|   0|   0|   0|   0|   0|   0|   0|   0|   0|   0|   0|   0|   0|   0|   0|   0|   0|   0|   0|   0|   0|   0|   0|   0|   0|   0|   0|   0|   0|   0|   0|   0|   0|   0|   0|   0|   7| 154|  91|   0|   0|   0|   0|   0|   0|   0|   0|   0|   0|   0|   0|   0|   0|   0|   0|   0|   0|   0|   0|   0|   0|   0|   0|   0| 131| 252| 115|   0|   0|    0|    0|    0|    0|    0|    0|    0|    0|    0|    0|    0|    0|    0|    0|    0|    0|    0|    0|    0|    0|    0|    0|   23|  234|  186|    6|    0|    0|    0|    0|    0|    0|    0|    0|    0|    0|    0|    0|    0|    0|    0|    0|    0|    0|    0|    0|    0|    0|    0|    0|   79|  252|  168|    0|    0|    0|    0|    0|    0|    0|    0|    0|    0|    0|    0|    0|    0|    0|    0|    0|    0|    0|    0|    0|    0|    0|    0|    0|  255|  253|   56|    0|    0|    0|    0|    0|    0|    0|    0|    0|    0|    0|    0|    0|    0|    0|    0|    0|    0|    0|    0|    0|    0|    0|    0|    0|  253|  214|   19|    0|    0|    0|    0|    0|    0|    0|    0|    0|    0|    0|    0|    0|    0|    0|    0|    0|    0|    0|    0|    0|    0|    0|    0|   38|  253|  158|    0|    0|    0|    0|    0|    0|    0|    0|    0|    0|    0|    0|    0|    0|    0|    0|    0|    0|    0|    0|    0|    0|    0|    0|    0|  113|  253|   84|    0|    0|    0|    0|    0|    0|    0|    0|    0|    0|    0|    0|    0|    0|    0|    0|    0|    0|    0|    0|    0|    0|    0|    0|    0|  176|  254|   84|    0|    0|    0|    0|    0|    0|    0|    0|   60|  141|   29|   29|    7|    0|    0|    0|    0|    0|    0|    0|    0|    0|    0|    0|    0|  225|  253|   84|    0|    0|    7|   57|   95|  169|  169|  169|  234|  252|  253|  252|  130|    0|    0|    0|    0|    0|    0|    0|    0|    0|    0|    0|    0|  225|  244|   56|    0|   76|  204|  252|  252|  252|  253|  252|  224|  168|  178|  252|  234|   59|    0|    0|    0|    0|    0|    0|    0|    0|    0|    0|    0|  225|  225|   26|  150|  249|  253|  227|  139|   40|   28|   28|   19|    0|    4|  103|  228|  190|    0|    0|    0|    0|    0|    0|    0|    0|    0|    0|   85|  253|  254|  253|  244|  175|    0|    0|    0|    0|    0|    0|    0|    0|    0|    0|   85|  253|    0|    0|    0|    0|    0|    0|    0|    0|    0|    0|   85|  252|  253|  240|   81|    0|    0|    0|    0|    0|    0|    0|    0|    0|    0|   13|  172|  227|    0|    0|    0|    0|    0|    0|    0|    0|    0|   19|  191|  252|  253|  196|    0|    0|    0|    0|    0|    0|    0|    0|    0|    0|   48|  123|  224|   43|    0|    0|    0|    0|    0|    0|    0|    0|   13|  194|  214|  139|  253|  246|  100|    0|    0|    0|    0|    0|    0|    0|   38|  113|  241|  227|   43|    0|    0|    0|    0|    0|    0|    0|    0|    0|  204|  209|   76|    0|   76|  244|  216|   41|    0|    0|    0|    0|    0|   19|  154|  253|  239|   38|    0|    0|    0|    0|    0|    0|    0|    0|    0|    0|  247|   65|    0|    0|    0|  144|  252|  252|  169|  169|  131|   57|  169|  225|  252|  227|   75|    0|    0|    0|    0|    0|    0|    0|    0|    0|    0|    0|  100|    0|    0|    0|    0|   13|  171|  252|  253|  252|  252|  252|  253|  252|  186|   31|    0|    0|    0|    0|    0|    0|    0|    0|    0|    0|    0|    0|    0|    0|    0|    0|    0|    0|   10|   78|  140|  215|  214|  139|  140|  115|   19|    0|    0|    0|    0|    0|    0|    0|    0|    0|    0|    0|    0|    0|    0|    0|    0|    0|    0|    0|    0|    0|    0|    0|    0|    0|    0|    0|    0|    0|    0|    0|    0|    0|    0|    0|    0|    0|    0|    0|    0|    0|    0|    0|    0|    0|    0|    0|    0|    0|    0|    0|    0|    0|    0|    0|    0|    0|    0|    0|    0|    0|    0|    0|    0|    0|    0|    0|    0|    0|    0|    0|    0|    0|    0|    0|    0|    0|    0|    0|    0|    0|    0|    0|    0|    0|    0|    0|    0|    0|    0|    0|    0|    0|    0|    0|    0|    0|    0|    0|    0|    0|    0|    0|    0|    0|    0|    0|    0|    0|    0|    0|    0|    0|    0|    0|    0|    0|    0|    0|    0|    0|    0|    0|    0|    0|    0|    0|    0|    0|    0|    0|    0|    0|    0|    0|    0|    0|    0|    0|    0|    0|    0|    0|    0|    0|    0|    0|    0|    0|    0|    0|    0|    0|    0|    0|    0|    0|    0|    0|    0|    0|    0|    0|    0|    0|    0|    0|    0|    0|    0|    0|    0|    0|    0|    0|    0|\n",
            "|  8|  0|  0|  0|  0|  0|  0|  0|  0|  0|   0|   0|   0|   0|   0|   0|   0|   0|   0|   0|   0|   0|   0|   0|   0|   0|   0|   0|   0|   0|   0|   0|   0|   0|   0|   0|   0|   0|   0|   0|   0|   0|   0|   0|   0|   0|   0|   0|   0|   0|   0|   0|   0|   0|   0|   0|   0|   0|   0|   0|   0|   0|   0|   0|   0|   0|   0|   0|   0|   0|   0|   0|   0|   0|   0|   0|   0|   0|   0|   0|   0|   0|   0|   0|   0|   0|   0|   0|   0|   0|   0|   0|   0|   0|   0|   0|   0|   0|   0|   0|    0|    0|    0|    0|    0|    0|    0|    0|    0|    0|    0|    0|    0|    0|    0|    0|    0|    0|    0|    0|    0|    0|    0|    0|    0|    0|    0|    0|    0|    0|    0|    0|    0|    0|    0|    0|    0|    0|    0|    0|    0|    0|    0|    0|    0|    0|    0|    0|    0|    0|    0|    0|    0|    0|    0|    0|    0|    0|    0|    0|    0|    0|    0|    0|    0|    0|    0|    0|    0|    0|    0|    0|    0|    0|    0|    0|    0|    0|    0|    0|   13|  153|  220|  255|  254|  197|    0|    0|    0|    0|    0|    0|    0|    0|    0|    0|    0|    0|    0|    0|    0|    0|    0|    0|    0|    0|    0|   55|  193|  253|  253|  254|  253|  213|    0|    0|    0|    0|    0|    0|    0|    0|    0|    0|    0|    0|    0|    0|    0|    0|    0|    0|    0|    0|    0|  203|  253|  234|  196|  138|  200|  213|    0|    0|    0|    0|    9|    9|    0|    0|    0|    0|    0|    0|    0|    0|    0|    0|    0|    0|    0|    0|  102|  254|  151|   13|    0|    0|   38|   96|    0|    0|   17|  134|  209|  185|    9|    0|    0|    0|    0|    0|    0|    0|    0|    0|    0|    0|    0|    7|  204|  160|    0|    0|    0|    0|    0|    0|    0|   70|  212|  254|  254|  185|    9|    0|    0|    0|    0|    0|    0|    0|    0|    0|    0|    0|    0|   24|  253|  176|    0|    0|    0|    0|    0|   38|  147|  245|  253|  248|  139|    9|    0|    0|    0|    0|    0|    0|    0|    0|    0|    0|    0|    0|    0|    5|  188|  241|   19|    0|    0|    0|  155|  245|  253|  254|  164|   42|    0|    0|    0|    0|    0|    0|    0|    0|    0|    0|    0|    0|    0|    0|    0|    0|   25|  254|   90|    0|    0|  151|  247|  210|  160|   69|    6|    0|    0|    0|    0|    0|    0|    0|    0|    0|    0|    0|    0|    0|    0|    0|    0|    0|    0|  104|  254|  136|  170|  254|  241|  101|    0|    0|    0|    0|    0|    0|    0|    0|    0|    0|    0|    0|    0|    0|    0|    0|    0|    0|    0|    0|    0|    7|  216|  253|  253|  165|   60|    0|    0|    0|    0|    0|    0|    0|    0|    0|    0|    0|    0|    0|    0|    0|    0|    0|    0|    0|    0|    0|    0|    0|   63|  253|  253|   93|    0|    0|    0|    0|    0|    0|    0|    0|    0|    0|    0|    0|    0|    0|    0|    0|    0|    0|    0|    0|    0|    0|    0|    0|  114|  253|  253|  127|    0|    0|    0|    0|    0|    0|    0|    0|    0|    0|    0|    0|    0|    0|    0|    0|    0|    0|    0|    0|    0|    0|    0|    0|  231|  113|   68|  254|  115|    0|    0|    0|    0|    0|    0|    0|    0|    0|    0|    0|    0|    0|    0|    0|    0|    0|    0|    0|    0|    0|    0|    0|  222|   38|    0|  120|  139|   26|    0|    0|    0|    0|    0|    0|    0|    0|    0|    0|    0|    0|    0|    0|    0|    0|    0|    0|    0|    0|    0|    0|  184|    0|    0|   13|  188|  133|    0|    0|    0|    0|    0|    0|    0|    0|    0|    0|    0|    0|    0|    0|    0|    0|    0|    0|    0|    0|    0|    0|  218|   34|    0|    0|  110|   42|    0|    0|    0|    0|    0|    0|    0|    0|    0|    0|    0|    0|    0|    0|    0|    0|    0|    0|    0|    0|    0|    0|  231|   46|    0|    0|  139|  138|    0|    0|    0|    0|    0|    0|    0|    0|    0|    0|    0|    0|    0|    0|    0|    0|    0|    0|    0|    0|    0|    0|  163|  159|  138|  139|  235|  137|    0|    0|    0|    0|    0|    0|    0|    0|    0|    0|    0|    0|    0|    0|    0|    0|    0|    0|    0|    0|    0|    0|   42|  249|  253|  254|  248|   92|    0|    0|    0|    0|    0|    0|    0|    0|    0|    0|    0|    0|    0|    0|    0|    0|    0|    0|    0|    0|    0|    0|    0|  140|  253|  254|  106|    0|    0|    0|    0|    0|    0|    0|    0|    0|    0|    0|    0|    0|    0|    0|    0|    0|    0|    0|    0|    0|    0|    0|    0|    0|    0|    0|    0|    0|    0|    0|    0|    0|    0|    0|    0|    0|    0|    0|    0|    0|    0|    0|    0|    0|    0|    0|    0|    0|    0|    0|    0|    0|    0|    0|    0|    0|    0|    0|    0|    0|    0|    0|    0|    0|    0|    0|    0|\n",
            "|  9|  0|  0|  0|  0|  0|  0|  0|  0|  0|   0|   0|   0|   0|   0|   0|   0|   0|   0|   0|   0|   0|   0|   0|   0|   0|   0|   0|   0|   0|   0|   0|   0|   0|   0|   0|   0|   0|   0|   0|   0|   0|   0|   0|   0|   0|   0|   0|   0|   0|   0|   0|   0|   0|   0|   0|   0|   0|   0|   0|   0|   0|   0|   0|   0|   0|   0|   0|   0|   0|   0|   0|   0|   0|   0|   0|   0|   0|   0|   0|   0|   0|   0|   0|   0|   0|   0|   0|   0|   0|   0|   0|   0|   0|   0|   0|   0|   0|   0|   0|    0|    0|    0|    0|    0|    0|    0|    0|    0|    0|    0|    0|    0|    0|    0|    0|    0|    0|    0|    0|    0|    0|    0|    0|    0|    0|    0|    0|    0|    0|    0|    0|    0|    0|    0|    0|    0|    0|    0|    0|    0|    0|    0|    0|    0|    0|    0|    0|    0|    0|    0|    0|    0|    0|    0|    0|    0|    0|    0|    0|    0|    0|    0|    0|    0|    0|    0|    0|    0|    0|    0|    0|    0|    0|    0|    0|    0|    0|    0|    0|    0|    0|    0|    0|    0|    0|    0|    0|    0|    0|    0|    0|    0|    0|    0|    0|    0|    0|    0|    0|    0|    0|    0|    0|    0|    0|    0|    0|    0|    0|   82|  214|  253|  254|   71|    0|    0|    0|    0|    0|    0|    0|    0|    0|    0|    0|    0|    0|    0|    0|    0|    0|    0|    0|    0|    0|   82|  163|  243|  253|  252|  253|  232|    0|    0|    0|    0|    0|    0|    0|    0|    0|    0|    0|    0|    0|    0|    0|    0|    0|    0|    0|    0|  113|  233|  254|  253|  203|  203|  254|  253|   62|    0|    0|    0|    0|    0|    0|    0|    0|    0|    0|    0|    0|    0|    0|    0|    0|    0|    0|    0|  253|  252|  192|   70|    0|    0|  172|  252|  102|    0|    0|    0|    0|    0|    0|    0|    0|    0|    0|    0|    0|    0|    0|    0|    0|    0|    0|  102|  254|  192|   41|    0|    0|    0|  214|  253|  123|    0|    0|    0|    0|    0|    0|    0|    0|    0|    0|    0|    0|    0|    0|    0|    0|    0|    0|  183|  253|  192|    0|    0|    0|    0|  253|  252|  162|    0|    0|    0|    0|    0|    0|    0|    0|    0|    0|    0|    0|    0|    0|    0|    0|    0|    0|  183|  254|  253|  193|  112|  132|  173|  254|  253|  102|    0|    0|    0|    0|    0|    0|    0|    0|    0|    0|    0|    0|    0|    0|    0|    0|    0|    0|   20|  253|  252|  253|  252|  253|  252|  253|  252|   61|    0|    0|    0|    0|    0|    0|    0|    0|    0|    0|    0|    0|    0|    0|    0|    0|    0|    0|    0|   21|  102|  203|  223|  183|  102|  254|  192|    0|    0|    0|    0|    0|    0|    0|    0|    0|    0|    0|    0|    0|    0|    0|    0|    0|    0|    0|    0|    0|    0|    0|   20|    0|   82|  253|  151|    0|    0|    0|    0|    0|    0|    0|    0|    0|    0|    0|    0|    0|    0|    0|    0|    0|    0|    0|    0|    0|    0|    0|    0|    0|  102|  254|   50|    0|    0|    0|    0|    0|    0|    0|    0|    0|    0|    0|    0|    0|    0|    0|    0|    0|    0|    0|    0|    0|    0|    0|    0|    0|  183|  253|   50|    0|    0|    0|    0|    0|    0|    0|    0|    0|    0|    0|    0|    0|    0|    0|    0|    0|    0|    0|    0|    0|    0|    0|    0|   51|  253|  244|   40|    0|    0|    0|    0|    0|    0|    0|    0|    0|    0|    0|    0|    0|    0|    0|    0|    0|    0|    0|    0|    0|    0|    0|    0|   51|  252|  122|    0|    0|    0|    0|    0|    0|    0|    0|    0|    0|    0|    0|    0|    0|    0|    0|    0|    0|    0|    0|    0|    0|    0|    0|    0|  113|  253|  102|    0|    0|    0|    0|    0|    0|    0|    0|    0|    0|    0|    0|    0|    0|    0|    0|    0|    0|    0|    0|    0|    0|    0|    0|    0|  152|  252|   61|    0|    0|    0|    0|    0|    0|    0|    0|    0|    0|    0|    0|    0|    0|    0|    0|    0|    0|    0|    0|    0|    0|    0|    0|   21|  255|  253|    0|    0|    0|    0|    0|    0|    0|    0|    0|    0|    0|    0|    0|    0|    0|    0|    0|    0|    0|    0|    0|    0|    0|    0|    0|  102|  253|  252|    0|    0|    0|    0|    0|    0|    0|    0|    0|    0|    0|    0|    0|    0|    0|    0|    0|    0|    0|    0|    0|    0|    0|    0|    0|  103|  255|  233|    0|    0|    0|    0|    0|    0|    0|    0|    0|    0|    0|    0|    0|    0|    0|    0|    0|    0|    0|    0|    0|    0|    0|    0|    0|  102|  213|   30|    0|    0|    0|    0|    0|    0|    0|    0|    0|    0|    0|    0|    0|    0|    0|    0|    0|    0|    0|    0|    0|    0|    0|    0|    0|    0|    0|    0|    0|    0|    0|    0|    0|    0|    0|    0|    0|    0|    0|    0|\n",
            "|  3|  0|  0|  0|  0|  0|  0|  0|  0|  0|   0|   0|   0|   0|   0|   0|   0|   0|   0|   0|   0|   0|   0|   0|   0|   0|   0|   0|   0|   0|   0|   0|   0|   0|   0|   0|   0|   0|   0|   0|   0|   0|   0|   0|   0|   0|   0|   0|   0|   0|   0|   0|   0|   0|   0|   0|   0|   0|   0|   0|   0|   0|   0|   0|   0|   0|   0|   0|   0|   0|   0|   0|   0|   0|   0|   0|   0|   0|   0|   0|   0|   0|   0|   0|   0|   0|   0|   0|   0|   0|   0|   0|   0|   0|   0|   0|   0|   0|   0|   0|    0|    0|    0|    0|    0|    0|    0|    0|    0|    0|    0|    0|    0|    0|    0|    0|    0|    0|    0|    0|    0|    0|    0|    0|    0|    0|    0|    0|    0|   62|   50|  105|  210|  253|   76|    0|    0|    0|    0|    0|    0|    0|    0|    0|    0|    0|    0|    0|    0|    0|    0|    0|    0|    0|    0|    0|   85|  234|  229|  252|  252|  252|  236|   84|    0|    0|    0|    0|    0|    0|    0|    0|    0|    0|    0|    0|    0|    0|    0|    0|    0|    0|    0|    0|  208|  252|  252|  252|  252|  252|  252|  236|   67|    0|    0|    0|    0|    0|    0|    0|    0|    0|    0|    0|    0|    0|    0|    0|    0|    0|    0|    0|  208|  252|  252|  252|  252|  252|  252|  252|  103|    0|    0|    0|    0|    0|    0|    0|    0|    0|    0|    0|    0|    0|    0|    0|    0|    0|    0|    0|   59|  225|  252|  252|  252|  252|  252|  238|   73|    0|    0|    0|    0|    0|    0|    0|    0|    0|    0|    0|    0|    0|    0|    0|    0|    0|    0|    0|    0|  164|  252|  252|  252|  252|  252|  207|    0|    0|    0|    0|    0|    0|    0|    0|    0|    0|    0|    0|    0|    0|    0|    0|   80|    0|    0|   56|  134|  210|  252|  252|  252|  252|  252|  128|    0|    0|    0|    0|    0|    0|    0|    0|    0|    0|    0|    0|    0|    0|   64|  168|  246|  238|  238|  245|  252|  252|  252|  252|  252|  252|  115|    4|    0|    0|    0|    0|    0|    0|    0|    0|    0|    0|    0|    0|    0|    0|  178|  252|  252|  252|  252|  253|  252|  252|  252|  252|  202|   59|    4|    0|    0|    0|    0|    0|    0|    0|    0|    0|    0|    0|    0|    0|    0|    0|  178|  252|  252|  252|  252|  253|  252|  252|  252|  252|   74|    0|    0|    0|    0|    0|    0|    0|    0|    0|    0|    0|    0|    0|    0|    0|    0|   45|  223|  253|  253|  253|  253|  255|  253|  253|  253|  253|   74|    0|    0|    0|    0|    0|    0|    0|    0|    0|    0|    0|    0|    0|    0|    0|    0|    0|  136|  224|  230|  192|  192|  193|  192|  231|  252|  207|   30|    0|    0|    0|    0|    0|    0|    0|    0|    0|    0|    0|    0|    0|    0|    0|    0|    0|    0|   47|   57|    0|    0|    0|    4|  169|  252|  252|  161|    0|    0|    0|    0|    0|    0|    0|    0|    0|    0|    0|    0|    0|    0|    0|    0|    0|    0|    0|    0|    0|    0|    0|   60|  252|  252|  252|   74|    0|    0|    0|    0|    0|    0|    0|    0|    0|    0|    0|    0|  224|  101|   27|    0|    0|    0|   40|   49|   40|  135|  136|  230|  252|  252|  141|    9|    0|    0|    0|    0|    0|    0|    0|    0|    0|    0|    0|    0|  253|  252|  202|  163|   47|   27|  203|  226|  191|  252|  253|  252|  250|  222|   25|    0|    0|    0|    0|    0|    0|    0|    0|    0|    0|    0|    0|    0|  253|  252|  245|  189|  252|  168|  196|  252|  252|  252|  253|  252|  157|    0|    0|    0|    0|    0|    0|    0|    0|    0|    0|    0|    0|    0|    0|    0|  253|  252|  252|  252|  252|  252|  252|  252|  252|  252|  216|  128|    5|    0|    0|    0|    0|    0|    0|    0|    0|    0|    0|    0|    0|    0|    0|    0|  227|  252|  252|  252|  252|  252|  252|  252|  217|  207|  123|    0|    0|    0|    0|    0|    0|    0|    0|    0|    0|    0|    0|    0|    0|    0|    0|    0|   43|  191|  199|  252|  120|  103|  103|  191|   24|    0|    0|    0|    0|    0|    0|    0|    0|    0|    0|    0|    0|    0|    0|    0|    0|    0|    0|    0|    0|    0|    0|    0|    0|    0|    0|    0|    0|    0|    0|    0|    0|    0|    0|    0|    0|    0|    0|    0|    0|    0|    0|    0|    0|    0|    0|    0|    0|    0|    0|    0|    0|    0|    0|    0|    0|    0|    0|    0|    0|    0|    0|    0|    0|    0|    0|    0|    0|    0|    0|    0|    0|    0|    0|    0|    0|    0|    0|    0|    0|    0|    0|    0|    0|    0|    0|    0|    0|    0|    0|    0|    0|    0|    0|    0|    0|    0|    0|    0|    0|    0|    0|    0|    0|    0|    0|    0|    0|    0|    0|    0|    0|    0|    0|    0|    0|    0|    0|    0|    0|    0|    0|    0|    0|    0|    0|    0|\n",
            "|  5|  0|  0|  0|  0|  0|  0|  0|  0|  0|   0|   0|   0|   0|   0|   0|   0|   0|   0|   0|   0|   0|   0|   0|   0|   0|   0|   0|   0|   0|   0|   0|   0|   0|   0|   0|   0|   0|   0|   0|   0|   0|   0|   0|   0|   0|   0|   0|   0|   0|   0|   0|   0|   0|   0|   0|   0|   0|   0|   0|   0|   0|   0|   0|   0|   0|   0|   0|   0|   0|   0|   0|   0|   0|   0|   0|   0|   0|   0|   0|   0|   0|   0|   0|   0|   0|   0|   0|   0|   0|   0|   0|   0|   0|   0|   0|   0|   0|   0|   0|    0|    0|    0|    0|    0|    0|    0|    0|    0|    0|    0|    0|    0|    0|    0|    0|    0|    0|    0|    0|    0|    0|    0|    0|    0|    0|    0|    0|    0|    0|    0|    0|    0|    0|    0|    0|    0|    0|    0|    0|    0|    0|    0|    0|    0|    0|    0|    0|    0|    0|    0|    0|    0|    0|    0|    0|    0|    0|    0|    7|   56|   32|  123|  254|  113|   25|    0|    0|    0|    0|    0|    0|    0|    0|    0|    0|    0|    4|   61|   60|   60|   61|   61|   60|   60|   61|  184|  212|  232|  222|  253|  253|  253|   95|    0|    0|    0|    0|    0|    0|    0|    0|    0|    0|    0|  113|  253|  253|  253|  253|  253|  253|  253|  254|  253|  253|  253|  253|  253|  253|  253|  199|    0|    0|    0|    0|    0|    0|    0|    0|    0|    0|    0|  164|  253|  253|  253|  253|  253|  253|  253|  254|  253|  253|  253|  217|  133|  133|  133|   31|    0|    0|    0|    0|    0|    0|    0|    0|    0|    0|    0|  164|  253|  253|  253|  253|  253|  253|  209|  179|  178|  178|  178|  126|    0|    0|    0|    0|    0|    0|    0|    0|    0|    0|    0|    0|    0|    0|    8|  175|  253|  253|  249|  143|   74|   74|   31|    0|    0|    0|    0|    0|    0|    0|    0|    0|    0|    0|    0|    0|    0|    0|    0|    0|    0|    0|   29|  206|  253|  253|  223|    0|    0|    0|    0|    0|    0|    0|    0|    0|    0|    0|    0|    0|    0|    0|    0|    0|    0|    0|    0|    0|    0|    0|    0|  164|  253|  253|  134|    0|    0|    0|    0|    0|    0|    0|    0|    0|    0|    0|    0|    0|    0|    0|    0|    0|    0|    0|    0|    0|    0|    0|    0|  164|  253|  253|  246|  194|   53|   38|    0|    0|    0|    0|    0|    0|    0|    0|    0|    0|    0|    0|    0|    0|    0|    0|    0|    0|    0|    0|    0|   68|  174|  253|  253|  253|  253|  235|   62|    0|    0|    0|    0|    0|    0|    0|    0|    0|    0|    0|    0|    0|    0|    0|    0|    0|    0|    0|    0|    0|    0|  133|  162|  254|  255|  254|  254|  194|   19|    0|    0|    0|    0|    0|    0|    0|    0|    0|    0|    0|    0|    0|    0|    0|    0|    0|    0|    0|    0|    0|    6|   44|  185|  239|  253|  254|  181|   57|    0|    0|    0|    0|    0|    0|    0|    0|    0|    0|    0|    0|    0|    0|    0|    0|    0|    0|    0|    0|    0|    0|    0|   69|  186|  254|  253|  239|    8|    0|    0|    0|    0|    0|    0|    0|    0|    0|    0|    0|    0|    0|    0|    0|    0|    0|    0|    0|    0|    0|    0|   22|  198|  254|  253|  253|  133|    0|    0|    0|    0|    0|    0|    0|    0|    0|    0|    0|    0|    0|    0|    0|    0|    0|    0|    0|    0|    0|   72|  195|  253|  254|  253|  249|   95|    0|    0|    0|    0|    0|    0|    0|    0|    0|    0|    0|    0|    0|    0|    0|    0|   18|    0|   27|   48|  179|  249|  253|  253|  255|  253|  220|    0|    0|    0|    0|    0|    0|    0|    0|    0|    0|    0|    0|    0|    0|    0|    0|  112|  205|  134|  240|  253|  253|  253|  253|  253|  254|  221|   42|    0|    0|    0|    0|    0|    0|    0|    0|    0|    0|    0|    0|    0|    0|    0|    0|  210|  253|  253|  253|  253|  253|  253|  253|  253|  164|   37|    0|    0|    0|    0|    0|    0|    0|    0|    0|    0|    0|    0|    0|    0|    0|    0|    0|  183|  253|  253|  253|  253|  253|  237|  208|  120|    0|    0|    0|    0|    0|    0|    0|    0|    0|    0|    0|    0|    0|    0|    0|    0|    0|    0|    0|   25|  201|  253|  253|  235|  104|   67|    0|    0|    0|    0|    0|    0|    0|    0|    0|    0|    0|    0|    0|    0|    0|    0|    0|    0|    0|    0|    0|    0|    0|    0|    0|    0|    0|    0|    0|    0|    0|    0|    0|    0|    0|    0|    0|    0|    0|    0|    0|    0|    0|    0|    0|    0|    0|    0|    0|    0|    0|    0|    0|    0|    0|    0|    0|    0|    0|    0|    0|    0|    0|    0|    0|    0|    0|    0|    0|    0|    0|    0|    0|    0|    0|    0|    0|    0|    0|    0|    0|    0|    0|    0|    0|    0|    0|    0|    0|    0|    0|    0|    0|    0|    0|    0|    0|    0|\n",
            "|  7|  0|  0|  0|  0|  0|  0|  0|  0|  0|   0|   0|   0|   0|   0|   0|   0|   0|   0|   0|   0|   0|   0|   0|   0|   0|   0|   0|   0|   0|   0|   0|   0|   0|   0|   0|   0|   0|   0|   0|   0|   0|   0|   0|   0|   0|   0|   0|   0|   0|   0|   0|   0|   0|   0|   0|   0|   0|   0|   0|   0|   0|   0|   0|   0|   0|   0|   0|   0|   0|   0|   0|   0|   0|   0|   0|   0|   0|   0|   0|   0|   0|   0|   0|   0|   0|   0|   0|   0|   0|   0|   0|   0|   0|   0|   0|   0|   0|   0|   0|    0|    0|    0|    0|    0|    0|    0|    0|    0|    0|    0|    0|    0|    0|    0|    0|    0|    0|    0|    0|    0|    0|    0|    0|    0|    0|    0|    0|    0|    0|    0|    0|    0|    0|    0|    0|    0|    0|    0|    0|    0|    0|    0|    0|    0|    0|    0|    0|    0|    0|    0|    0|    0|    0|    0|    0|    0|    0|    0|    0|    0|    0|    0|    0|    0|    0|    0|    0|    0|    0|    0|    0|    0|    0|    0|    0|    0|    0|  109|  176|    0|    0|    0|    0|    0|    0|    0|    0|    0|    0|    0|    0|    0|    0|    0|    0|    0|    0|    0|    0|    0|    0|    0|    0|    0|    0|   62|  250|   62|    0|    0|    0|    0|    0|  134|   63|    0|    0|    0|    0|    0|    0|    0|    0|    0|    0|    0|    0|    0|    0|    0|    0|    0|    0|  107|  254|  250|  106|    0|    0|    0|   85|  242|  138|    0|    0|    0|    0|    0|    0|    0|    0|    0|    0|    0|    0|    0|    0|    0|    0|    0|    0|   23|  239|  127|  245|  200|  170|  207|  251|  254|   64|    0|    0|    0|    0|    0|    0|    0|    0|    0|    0|    0|    0|    0|    0|    0|    0|    0|    0|   47|  242|    0|   32|  109|  138|  101|  126|  254|   62|    0|    0|    0|    0|    0|    0|    0|    0|    0|    0|    0|    0|    0|    0|    0|    0|    0|    0|   10|   84|    0|    0|    0|    0|    0|  146|  222|   10|    0|    0|    0|    0|    0|    0|    0|    0|    0|    0|    0|    0|    0|    0|    0|    0|    0|    0|    0|    0|    0|    0|    0|    0|   30|  238|   89|    0|    0|    0|    0|    0|    0|    0|    0|    0|    0|    0|    0|    0|    0|    0|    0|    0|    0|    0|    0|    0|    0|    0|    0|    0|  103|  254|   28|    0|    0|    0|    0|    0|    0|    0|    0|    0|    0|    0|    0|    0|    0|    0|    0|    0|    0|    0|    0|    0|    0|    0|    0|    0|  163|  180|    2|    0|    0|    0|    0|    0|    0|    0|    0|    0|    0|    0|    0|    0|    0|    0|    0|    0|    0|    0|    0|    0|    0|    0|    0|   15|  233|  108|    0|    0|    0|    0|    0|    0|    0|    0|    0|    0|    0|    0|    0|    0|    0|    0|    0|    0|    0|    0|    0|    0|    0|    0|    0|  101|  250|   28|    0|    0|    0|    0|    0|    0|    0|    0|    0|    0|    0|    0|    0|    0|    0|    0|    0|    0|    0|    0|    0|    0|    0|    0|    0|  161|  170|    0|    0|    0|    0|    0|    0|    0|    0|    0|    0|    0|    0|    0|    0|    0|    0|    0|    0|    0|    0|    0|    0|    0|    0|    0|    0|  198|  130|    0|    0|    0|    0|    0|    0|    0|    0|    0|    0|    0|    0|    0|    0|    0|    0|    0|    0|    0|    0|    0|    0|    0|    0|    0|   29|  254|  103|    0|    0|    0|    0|    0|    0|    0|    0|    0|    0|    0|    0|    0|    0|    0|    0|    0|    0|    0|    0|    0|    0|    0|    0|    0|   19|  254|   54|    0|    0|    0|    0|    0|    0|    0|    0|    0|    0|    0|    0|    0|    0|    0|    0|    0|    0|    0|    0|    0|    0|    0|    0|    0|   66|  242|   25|    0|    0|    0|    0|    0|    0|    0|    0|    0|    0|    0|    0|    0|    0|    0|    0|    0|    0|    0|    0|    0|    0|    0|    0|    0|  150|  231|    0|    0|    0|    0|    0|    0|    0|    0|    0|    0|    0|    0|    0|    0|    0|    0|    0|    0|    0|    0|    0|    0|    0|    0|    0|    0|  145|  231|    0|    0|    0|    0|    0|    0|    0|    0|    0|    0|    0|    0|    0|    0|    0|    0|    0|    0|    0|    0|    0|    0|    0|    0|    0|    0|   78|  250|  147|    0|    0|    0|    0|    0|    0|    0|    0|    0|    0|    0|    0|    0|    0|    0|    0|    0|    0|    0|    0|    0|    0|    0|    0|    0|   31|  255|  137|    0|    0|    0|    0|    0|    0|    0|    0|    0|    0|    0|    0|    0|    0|    0|    0|    0|    0|    0|    0|    0|    0|    0|    0|    0|    0|    0|    0|    0|    0|    0|    0|    0|    0|    0|    0|    0|    0|    0|    0|    0|    0|    0|    0|    0|    0|    0|    0|    0|    0|    0|    0|    0|    0|    0|    0|    0|    0|    0|    0|    0|    0|    0|    0|    0|    0|    0|    0|\n",
            "|  6|  0|  0|  0|  0|  0|  0|  0|  0|  0|   0|   0|   0|   0|   0|   0|   0|   0|   0|   0|   0|   0|   0|   0|   0|   0|   0|   0|   0|   0|   0|   0|   0|   0|   0|   0|   0|   0|   0|   0|   0|   0|   0|   0|   0|   0|   0|   0|   0|   0|   0|   0|   0|   0|   0|   0|   0|   0|   0|   0|   0|   0|   0|   0|   0|   0|   0|   0|   0|   0|   0|   0|   0|   0|   0|   0|   0|   0|   0|   0|   0|   0|   0|   0|   0|   0|   0|   0|   0|   0|   0|   0|   0|   0|   0|   0|   0|   0|   0|   0|    0|   63|  221|   92|    0|    0|    0|    0|    0|    0|    0|    0|    0|    0|    0|    0|    0|    0|    0|    0|    0|    0|    0|    0|    0|    0|    0|    0|   49|  209|  240|   62|    0|    0|    0|    0|    0|    0|    0|    0|    0|    0|    0|    0|    0|    0|    0|    0|    0|    0|    0|    0|    0|    0|    0|    0|  165|  253|   96|    0|    0|    0|    0|    0|    0|    0|    0|    0|    0|    0|    0|    0|    0|    0|    0|    0|    0|    0|    0|    0|    0|    0|    0|   80|  254|  171|   10|    0|    0|    0|    0|    0|    0|    0|    0|    0|    0|    0|    0|    0|    0|    0|    0|    0|    0|    0|    0|    0|    0|    0|   25|  222|  254|   96|    0|    0|    0|    0|    0|    0|    0|    0|    0|    0|    0|    0|    0|    0|    0|    0|    0|    0|    0|    0|    0|    0|    0|    0|   97|  253|  192|    8|    0|    0|    0|    0|    0|    0|    0|    0|    0|    0|    0|    0|    0|    0|    0|    0|    0|    0|    0|    0|    0|    0|    0|   11|  218|  251|   56|    0|    0|    0|    0|    0|    0|    0|    0|    0|    0|    0|    0|    0|    0|    0|    0|    0|    0|    0|    0|    0|    0|    0|    0|   31|  253|  167|    0|    0|    0|    0|    0|    0|    0|    0|    0|    0|    0|    0|    0|    0|    0|    0|    0|    0|    0|    0|    0|    0|    0|    0|    2|  148|  253|   37|    0|    0|    0|    0|    0|    0|    0|    0|    0|    0|    0|    0|    0|    0|    0|    0|    0|    0|    0|    0|    0|    0|    0|    0|    8|  253|  253|  209|  147|   40|    0|    0|    0|    0|    0|    0|    0|    0|    0|    0|    0|    0|    0|    0|    0|    0|    0|    0|    0|    0|    0|    0|   62|  254|  254|  254|  255|  240|   52|    0|    0|    0|    0|    0|    0|    0|    0|    0|    0|    0|    0|    0|    0|    0|    0|    0|    0|    0|    0|    0|   99|  253|  253|  201|   84|  213|  201|    4|    0|    0|    0|    0|    0|    0|    0|    0|    0|    0|    0|    0|    0|    0|    0|    0|    0|    0|    0|    0|  161|  235|   44|   12|    0|  124|  253|   29|    0|    0|    0|    0|    0|    0|    0|    0|    0|    0|    0|    0|    0|    0|    0|    0|    0|    0|    0|    0|  236|  222|    0|    0|    0|  174|  249|   56|    0|    0|    0|    0|    0|    0|    0|    0|    0|    0|    0|    0|    0|    0|    0|    0|    0|    0|    0|    0|  238|  187|    0|    0|   53|  240|  184|    0|    0|    0|    0|    0|    0|    0|    0|    0|    0|    0|    0|    0|    0|    0|    0|    0|    0|    0|    0|    0|  238|  192|    0|    0|  161|  253|  119|    0|    0|    0|    0|    0|    0|    0|    0|    0|    0|    0|    0|    0|    0|    0|    0|    0|    0|    0|    0|    0|  238|  171|    0|   52|  254|  235|   48|    0|    0|    0|    0|    0|    0|    0|    0|    0|    0|    0|    0|    0|    0|    0|    0|    0|    0|    0|    0|    0|  238|  175|   49|  226|  251|   91|    0|    0|    0|    0|    0|    0|    0|    0|    0|    0|    0|    0|    0|    0|    0|    0|    0|    0|    0|    0|    0|    0|  222|  247|  231|  253|  191|    0|    0|    0|    0|    0|    0|    0|    0|    0|    0|    0|    0|    0|    0|    0|    0|    0|    0|    0|    0|    0|    0|    0|   69|  253|  237|  153|   37|    0|    0|    0|    0|    0|    0|    0|    0|    0|    0|    0|    0|    0|    0|    0|    0|    0|    0|    0|    0|    0|    0|    0|    0|    0|    0|    0|    0|    0|    0|    0|    0|    0|    0|    0|    0|    0|    0|    0|    0|    0|    0|    0|    0|    0|    0|    0|    0|    0|    0|    0|    0|    0|    0|    0|    0|    0|    0|    0|    0|    0|    0|    0|    0|    0|    0|    0|    0|    0|    0|    0|    0|    0|    0|    0|    0|    0|    0|    0|    0|    0|    0|    0|    0|    0|    0|    0|    0|    0|    0|    0|    0|    0|    0|    0|    0|    0|    0|    0|    0|    0|    0|    0|    0|    0|    0|    0|    0|    0|    0|    0|    0|    0|    0|    0|    0|    0|    0|    0|    0|    0|    0|    0|    0|    0|    0|    0|    0|    0|    0|    0|    0|    0|    0|    0|    0|    0|    0|    0|    0|    0|    0|    0|    0|    0|    0|    0|    0|    0|    0|    0|    0|\n",
            "+---+---+---+---+---+---+---+---+---+---+----+----+----+----+----+----+----+----+----+----+----+----+----+----+----+----+----+----+----+----+----+----+----+----+----+----+----+----+----+----+----+----+----+----+----+----+----+----+----+----+----+----+----+----+----+----+----+----+----+----+----+----+----+----+----+----+----+----+----+----+----+----+----+----+----+----+----+----+----+----+----+----+----+----+----+----+----+----+----+----+----+----+----+----+----+----+----+----+----+----+-----+-----+-----+-----+-----+-----+-----+-----+-----+-----+-----+-----+-----+-----+-----+-----+-----+-----+-----+-----+-----+-----+-----+-----+-----+-----+-----+-----+-----+-----+-----+-----+-----+-----+-----+-----+-----+-----+-----+-----+-----+-----+-----+-----+-----+-----+-----+-----+-----+-----+-----+-----+-----+-----+-----+-----+-----+-----+-----+-----+-----+-----+-----+-----+-----+-----+-----+-----+-----+-----+-----+-----+-----+-----+-----+-----+-----+-----+-----+-----+-----+-----+-----+-----+-----+-----+-----+-----+-----+-----+-----+-----+-----+-----+-----+-----+-----+-----+-----+-----+-----+-----+-----+-----+-----+-----+-----+-----+-----+-----+-----+-----+-----+-----+-----+-----+-----+-----+-----+-----+-----+-----+-----+-----+-----+-----+-----+-----+-----+-----+-----+-----+-----+-----+-----+-----+-----+-----+-----+-----+-----+-----+-----+-----+-----+-----+-----+-----+-----+-----+-----+-----+-----+-----+-----+-----+-----+-----+-----+-----+-----+-----+-----+-----+-----+-----+-----+-----+-----+-----+-----+-----+-----+-----+-----+-----+-----+-----+-----+-----+-----+-----+-----+-----+-----+-----+-----+-----+-----+-----+-----+-----+-----+-----+-----+-----+-----+-----+-----+-----+-----+-----+-----+-----+-----+-----+-----+-----+-----+-----+-----+-----+-----+-----+-----+-----+-----+-----+-----+-----+-----+-----+-----+-----+-----+-----+-----+-----+-----+-----+-----+-----+-----+-----+-----+-----+-----+-----+-----+-----+-----+-----+-----+-----+-----+-----+-----+-----+-----+-----+-----+-----+-----+-----+-----+-----+-----+-----+-----+-----+-----+-----+-----+-----+-----+-----+-----+-----+-----+-----+-----+-----+-----+-----+-----+-----+-----+-----+-----+-----+-----+-----+-----+-----+-----+-----+-----+-----+-----+-----+-----+-----+-----+-----+-----+-----+-----+-----+-----+-----+-----+-----+-----+-----+-----+-----+-----+-----+-----+-----+-----+-----+-----+-----+-----+-----+-----+-----+-----+-----+-----+-----+-----+-----+-----+-----+-----+-----+-----+-----+-----+-----+-----+-----+-----+-----+-----+-----+-----+-----+-----+-----+-----+-----+-----+-----+-----+-----+-----+-----+-----+-----+-----+-----+-----+-----+-----+-----+-----+-----+-----+-----+-----+-----+-----+-----+-----+-----+-----+-----+-----+-----+-----+-----+-----+-----+-----+-----+-----+-----+-----+-----+-----+-----+-----+-----+-----+-----+-----+-----+-----+-----+-----+-----+-----+-----+-----+-----+-----+-----+-----+-----+-----+-----+-----+-----+-----+-----+-----+-----+-----+-----+-----+-----+-----+-----+-----+-----+-----+-----+-----+-----+-----+-----+-----+-----+-----+-----+-----+-----+-----+-----+-----+-----+-----+-----+-----+-----+-----+-----+-----+-----+-----+-----+-----+-----+-----+-----+-----+-----+-----+-----+-----+-----+-----+-----+-----+-----+-----+-----+-----+-----+-----+-----+-----+-----+-----+-----+-----+-----+-----+-----+-----+-----+-----+-----+-----+-----+-----+-----+-----+-----+-----+-----+-----+-----+-----+-----+-----+-----+-----+-----+-----+-----+-----+-----+-----+-----+-----+-----+-----+-----+-----+-----+-----+-----+-----+-----+-----+-----+-----+-----+-----+-----+-----+-----+-----+-----+-----+-----+-----+-----+-----+-----+-----+-----+-----+-----+-----+-----+-----+-----+-----+-----+-----+-----+-----+-----+-----+-----+-----+-----+-----+-----+-----+-----+-----+-----+-----+-----+-----+-----+-----+-----+-----+-----+-----+-----+-----+-----+-----+-----+-----+-----+-----+-----+-----+-----+-----+-----+-----+-----+-----+-----+-----+-----+-----+-----+-----+-----+-----+-----+-----+-----+-----+-----+-----+-----+-----+-----+-----+-----+-----+-----+-----+-----+-----+-----+-----+-----+-----+-----+-----+-----+-----+-----+-----+-----+-----+-----+-----+-----+-----+-----+-----+-----+-----+-----+-----+-----+-----+-----+-----+-----+-----+-----+-----+-----+-----+-----+-----+-----+-----+-----+-----+-----+-----+-----+-----+-----+-----+-----+-----+-----+-----+-----+-----+-----+-----+-----+-----+-----+-----+-----+-----+-----+-----+-----+-----+-----+-----+-----+-----+-----+-----+-----+-----+-----+-----+-----+-----+-----+-----+-----+-----+-----+-----+-----+-----+-----+-----+-----+-----+-----+-----+\n",
            "only showing top 20 rows\n",
            "\n"
          ]
        }
      ],
      "source": [
        "df = spark.read.csv('/content/sample_data/mnist_train_small.csv') \\\n",
        "            .limit(1000)\n",
        "df.show()"
      ]
    },
    {
      "cell_type": "code",
      "source": [
        "import numpy as np\n",
        "import matplotlib.pyplot as plt\n",
        "\n",
        "row = df.first()\n",
        "print(type(row))\n",
        "label, img = row[0], row[1:]"
      ],
      "metadata": {
        "colab": {
          "base_uri": "https://localhost:8080/"
        },
        "id": "nOPxb6SIH1mz",
        "outputId": "bc28b284-56ce-48a1-e95d-5dbd865f6983"
      },
      "execution_count": null,
      "outputs": [
        {
          "output_type": "stream",
          "name": "stdout",
          "text": [
            "<class 'pyspark.sql.types.Row'>\n"
          ]
        }
      ]
    },
    {
      "cell_type": "code",
      "source": [
        "print(label)"
      ],
      "metadata": {
        "colab": {
          "base_uri": "https://localhost:8080/"
        },
        "id": "1GSmfiP4ISdx",
        "outputId": "53633a7d-b300-4eaf-cdc7-83e19da3df5e"
      },
      "execution_count": null,
      "outputs": [
        {
          "output_type": "stream",
          "name": "stdout",
          "text": [
            "6\n"
          ]
        }
      ]
    },
    {
      "cell_type": "code",
      "source": [
        "img = np.reshape(img, (28, 28)).astype(np.uint8)"
      ],
      "metadata": {
        "id": "mWFJkEYoIU_0"
      },
      "execution_count": null,
      "outputs": []
    },
    {
      "cell_type": "code",
      "source": [
        "plt.imshow(img)\n",
        "plt.show()"
      ],
      "metadata": {
        "colab": {
          "base_uri": "https://localhost:8080/",
          "height": 430
        },
        "id": "rjCaOTtcIYtd",
        "outputId": "deb41a1f-3910-4d14-e689-b297c28e54ea"
      },
      "execution_count": null,
      "outputs": [
        {
          "output_type": "display_data",
          "data": {
            "text/plain": [
              "<Figure size 640x480 with 1 Axes>"
            ],
            "image/png": "[encoded data removed]"
          },
          "metadata": {}
        }
      ]
    },
    {
      "cell_type": "code",
      "source": [
        "import cv2\n",
        "\n",
        "cv2.imwrite('test.jpg', img)"
      ],
      "metadata": {
        "id": "sgvtuQ5kIp3g",
        "outputId": "34c6bf4b-b98e-4a85-b9a5-56a14c60e24e",
        "colab": {
          "base_uri": "https://localhost:8080/"
        }
      },
      "execution_count": null,
      "outputs": [
        {
          "output_type": "execute_result",
          "data": {
            "text/plain": [
              "True"
            ]
          },
          "metadata": {},
          "execution_count": 15
        }
      ]
    },
    {
      "cell_type": "code",
      "execution_count": null,
      "metadata": {
        "colab": {
          "base_uri": "https://localhost:8080/"
        },
        "id": "9tn_3FzhzJxy",
        "outputId": "93b3528c-45ae-4936-c344-2f833c476f94"
      },
      "outputs": [
        {
          "output_type": "execute_result",
          "data": {
            "text/plain": [
              "1000"
            ]
          },
          "metadata": {},
          "execution_count": 7
        }
      ],
      "source": [
        "df.count()"
      ]
    },
    {
      "cell_type": "code",
      "execution_count": null,
      "metadata": {
        "colab": {
          "base_uri": "https://localhost:8080/"
        },
        "id": "izm7oRBV-lkP",
        "outputId": "1622d48b-9523-47aa-b8ca-74a59886838a"
      },
      "outputs": [
        {
          "output_type": "stream",
          "name": "stdout",
          "text": [
            "+-----+--------------------+\n",
            "|label|            features|\n",
            "+-----+--------------------+\n",
            "|    6|[0.0,0.0,0.0,0.0,...|\n",
            "|    5|[0.0,0.0,0.0,0.0,...|\n",
            "|    7|[0.0,0.0,0.0,0.0,...|\n",
            "|    9|[0.0,0.0,0.0,0.0,...|\n",
            "|    5|[0.0,0.0,0.0,0.0,...|\n",
            "|    2|[0.0,0.0,0.0,0.0,...|\n",
            "|    0|[0.0,0.0,0.0,0.0,...|\n",
            "|    6|[0.0,0.0,0.0,0.0,...|\n",
            "|    5|[0.0,0.0,0.0,0.0,...|\n",
            "|    5|[0.0,0.0,0.0,0.0,...|\n",
            "|    2|[0.0,0.0,0.0,0.0,...|\n",
            "|    7|[0.0,0.0,0.0,0.0,...|\n",
            "|    7|[0.0,0.0,0.0,0.0,...|\n",
            "|    6|[0.0,0.0,0.0,0.0,...|\n",
            "|    8|[0.0,0.0,0.0,0.0,...|\n",
            "|    9|[0.0,0.0,0.0,0.0,...|\n",
            "|    3|[0.0,0.0,0.0,0.0,...|\n",
            "|    5|[0.0,0.0,0.0,0.0,...|\n",
            "|    7|[0.0,0.0,0.0,0.0,...|\n",
            "|    6|[0.0,0.0,0.0,0.0,...|\n",
            "+-----+--------------------+\n",
            "only showing top 20 rows\n",
            "\n"
          ]
        }
      ],
      "source": [
        "from pyspark.sql.functions import col, array\n",
        "from pyspark.ml.linalg import Vectors\n",
        "\n",
        "df = df.rdd.map(lambda x: (x[0], Vectors.dense([float(it) for it in x[1:]])))\\\n",
        "           .toDF() \\\n",
        "           .select(col('_1').alias('label'), col('_2').alias('features'))\n",
        "df.show()"
      ]
    },
    {
      "cell_type": "code",
      "execution_count": null,
      "metadata": {
        "colab": {
          "base_uri": "https://localhost:8080/"
        },
        "id": "2GmBdcDN-B_7",
        "outputId": "11f9653e-e085-4b19-e827-7a2c69c63c5e"
      },
      "outputs": [
        {
          "output_type": "execute_result",
          "data": {
            "text/plain": [
              "KMeans_b009bc23c2e3"
            ]
          },
          "metadata": {},
          "execution_count": 9
        }
      ],
      "source": [
        "from pyspark.ml.clustering import KMeans, KMeansModel\n",
        "\n",
        "kmeans = KMeans(k=10)\n",
        "kmeans.setMaxIter(10)"
      ]
    },
    {
      "cell_type": "code",
      "execution_count": null,
      "metadata": {
        "colab": {
          "base_uri": "https://localhost:8080/"
        },
        "id": "q46t4Hl4DT4F",
        "outputId": "48f11abb-2b74-48e8-82f1-93074a992c82"
      },
      "outputs": [
        {
          "output_type": "stream",
          "name": "stdout",
          "text": [
            "root\n",
            " |-- label: string (nullable = true)\n",
            " |-- features: vector (nullable = true)\n",
            "\n"
          ]
        }
      ],
      "source": [
        "df.printSchema()"
      ]
    },
    {
      "cell_type": "code",
      "execution_count": null,
      "metadata": {
        "id": "jUsb9kDa_1Fb"
      },
      "outputs": [],
      "source": [
        "model = kmeans.fit(df)"
      ]
    },
    {
      "cell_type": "code",
      "execution_count": null,
      "metadata": {
        "colab": {
          "base_uri": "https://localhost:8080/"
        },
        "id": "Fxg_RAt-IJ-n",
        "outputId": "442de90b-4c52-4b7a-899d-4b585c4a08df"
      },
      "outputs": [
        {
          "output_type": "stream",
          "name": "stdout",
          "text": [
            "+-----+--------------------+----------+\n",
            "|label|            features|prediction|\n",
            "+-----+--------------------+----------+\n",
            "|    6|[0.0,0.0,0.0,0.0,...|         7|\n",
            "|    5|[0.0,0.0,0.0,0.0,...|         6|\n",
            "|    7|[0.0,0.0,0.0,0.0,...|         8|\n",
            "|    9|[0.0,0.0,0.0,0.0,...|         7|\n",
            "|    5|[0.0,0.0,0.0,0.0,...|         6|\n",
            "|    2|[0.0,0.0,0.0,0.0,...|         2|\n",
            "|    0|[0.0,0.0,0.0,0.0,...|         3|\n",
            "|    6|[0.0,0.0,0.0,0.0,...|         2|\n",
            "|    5|[0.0,0.0,0.0,0.0,...|         6|\n",
            "|    5|[0.0,0.0,0.0,0.0,...|         6|\n",
            "|    2|[0.0,0.0,0.0,0.0,...|         2|\n",
            "|    7|[0.0,0.0,0.0,0.0,...|         9|\n",
            "|    7|[0.0,0.0,0.0,0.0,...|         9|\n",
            "|    6|[0.0,0.0,0.0,0.0,...|         2|\n",
            "|    8|[0.0,0.0,0.0,0.0,...|         4|\n",
            "|    9|[0.0,0.0,0.0,0.0,...|         4|\n",
            "|    3|[0.0,0.0,0.0,0.0,...|         8|\n",
            "|    5|[0.0,0.0,0.0,0.0,...|         8|\n",
            "|    7|[0.0,0.0,0.0,0.0,...|         4|\n",
            "|    6|[0.0,0.0,0.0,0.0,...|         5|\n",
            "+-----+--------------------+----------+\n",
            "only showing top 20 rows\n",
            "\n"
          ]
        }
      ],
      "source": [
        "model.setPredictionCol('prediction')\n",
        "transformed = model.transform(df)\n",
        "transformed.show()"
      ]
    },
    {
      "cell_type": "code",
      "source": [
        "transformed.where(col('prediction') == 0) \\\n",
        "           .groupBy('label') \\\n",
        "           .count() \\\n",
        "           .orderBy('count', ascending=False) \\\n",
        "           .show()"
      ],
      "metadata": {
        "colab": {
          "base_uri": "https://localhost:8080/"
        },
        "id": "rtiCYHff279d",
        "outputId": "89a8951d-aaa6-457e-cba6-4076d95f5a56"
      },
      "execution_count": null,
      "outputs": [
        {
          "output_type": "stream",
          "name": "stdout",
          "text": [
            "+-----+-----+\n",
            "|label|count|\n",
            "+-----+-----+\n",
            "|    1|   74|\n",
            "|    7|    7|\n",
            "|    8|    4|\n",
            "|    9|    2|\n",
            "|    2|    2|\n",
            "+-----+-----+\n",
            "\n"
          ]
        }
      ]
    },
    {
      "cell_type": "code",
      "source": [
        "import numpy as np\n",
        "import matplotlib.pyplot as plt\n",
        "import cv2\n",
        "\n",
        "img = df.first()[\"features\"]\n",
        "img = np.reshape(img, (28, 28))\n",
        "plt.imshow(img)\n",
        "plt.show()\n",
        "cv2.imwrite('test.jpg', img)"
      ],
      "metadata": {
        "colab": {
          "base_uri": "https://localhost:8080/",
          "height": 447
        },
        "id": "Fiv-j8q92AiY",
        "outputId": "278397ed-3b3c-4ad3-9ecb-4889a79e7c27"
      },
      "execution_count": null,
      "outputs": [
        {
          "output_type": "display_data",
          "data": {
            "text/plain": [
              "<Figure size 640x480 with 1 Axes>"
            ],
            "image/png": "[encoded data removed]"
          },
          "metadata": {}
        },
        {
          "output_type": "execute_result",
          "data": {
            "text/plain": [
              "True"
            ]
          },
          "metadata": {},
          "execution_count": 16
        }
      ]
    },
    {
      "cell_type": "markdown",
      "metadata": {
        "id": "f2ZkMoAiEJJ2"
      },
      "source": [
        "# Hướng dẫn bài tập"
      ]
    },
    {
      "cell_type": "markdown",
      "metadata": {
        "id": "Z1LMjJadEMCH"
      },
      "source": [
        "## Submission 04a"
      ]
    },
    {
      "cell_type": "code",
      "execution_count": null,
      "metadata": {
        "colab": {
          "base_uri": "https://localhost:8080/"
        },
        "id": "MKxoMndgEOs-",
        "outputId": "a2078cf2-d62a-4772-8477-22479895f6ee"
      },
      "outputs": [
        {
          "name": "stdout",
          "output_type": "stream",
          "text": [
            "/content\n"
          ]
        }
      ],
      "source": [
        "!pwd"
      ]
    },
    {
      "cell_type": "code",
      "execution_count": null,
      "metadata": {
        "id": "zonJyZYWEqs7"
      },
      "outputs": [],
      "source": [
        "from pyspark import SparkContext\n",
        "\n",
        "sc = SparkContext(\"local\", \"4a\")"
      ]
    },
    {
      "cell_type": "code",
      "execution_count": null,
      "metadata": {
        "id": "dQR2D1QjFBXN"
      },
      "outputs": [],
      "source": [
        "sc = SparkContext.getOrCreate(\"local\")"
      ]
    },
    {
      "cell_type": "code",
      "execution_count": null,
      "metadata": {
        "id": "d4qIvpTVFKsO"
      },
      "outputs": [],
      "source": [
        "data = sc.textFile('/content/WHO-COVID-19-global.tsv')"
      ]
    },
    {
      "cell_type": "code",
      "execution_count": null,
      "metadata": {
        "id": "VvGH2B1GFfX-"
      },
      "outputs": [],
      "source": [
        "def preprocessLine(x):\n",
        "  items = x.strip().split('\\t')[1:]\n",
        "  region = items[0]\n",
        "  values = [float(it) for it in items[1:]]\n",
        "  return (region, values)\n",
        "\n",
        "import numpy as np\n",
        "def sumAll(x, y):\n",
        "  x = np.array(x)\n",
        "  y = np.array(y)\n",
        "  return list(x + y)\n",
        "\n",
        "!rm -rf result/\n",
        "data.map(preprocessLine) \\\n",
        "    .reduceByKey(sumAll) \\\n",
        "    .saveAsTextFile('result')"
      ]
    },
    {
      "cell_type": "code",
      "execution_count": null,
      "metadata": {
        "id": "Yb-zo_PUKMwu"
      },
      "outputs": [],
      "source": [
        "import numpy as np\n",
        "\n",
        "a = np.array([1, 2])\n",
        "b = np.array([2, 3])\n",
        "print(a+b)"
      ]
    },
    {
      "cell_type": "markdown",
      "metadata": {
        "id": "DIeup1DYML6g"
      },
      "source": [
        "## Submission 04b"
      ]
    },
    {
      "cell_type": "code",
      "execution_count": null,
      "metadata": {
        "id": "VvsG8C_QMQBn"
      },
      "outputs": [],
      "source": [
        "from pyspark import SparkContext\n",
        "from pyspark.sql import SQLContext\n",
        "\n",
        "sc = SparkContext.getOrCreate('local')\n",
        "sqlc = SQLContext(sc)"
      ]
    },
    {
      "cell_type": "code",
      "execution_count": null,
      "metadata": {
        "colab": {
          "base_uri": "https://localhost:8080/"
        },
        "id": "ELAO9tOpMlXI",
        "outputId": "fa5c5687-1cf5-4bd8-9d9a-f0e1f333c426"
      },
      "outputs": [
        {
          "name": "stdout",
          "output_type": "stream",
          "text": [
            "+--------------------+--------------------+------------------------+----------------------------------------------+-------------------------------------+-----------------------------------------------------------+---------------------------------------+-------------------------+-----------------------------------------------+--------------------------------------+------------------------------------------------------------+----------------------------------------+\n",
            "|                Name|          WHO Region|Cases - cumulative total|Cases - cumulative total per 100000 population|Cases - newly reported in last 7 days|Cases - newly reported in last 7 days per 100000 population|Cases - newly reported in last 24 hours|Deaths - cumulative total|Deaths - cumulative total per 100000 population|Deaths - newly reported in last 7 days|Deaths - newly reported in last 7 days per 100000 population|Deaths - newly reported in last 24 hours|\n",
            "+--------------------+--------------------+------------------------+----------------------------------------------+-------------------------------------+-----------------------------------------------------------+---------------------------------------+-------------------------+-----------------------------------------------+--------------------------------------+------------------------------------------------------------+----------------------------------------+\n",
            "|United States of ...|            Americas|                93580725|                                     28271.896|                               476675|                                                    144.009|                                  25686|                  1036949|                                        313.275|                                  2423|                                                       0.732|                                      67|\n",
            "|               India|     South-East Asia|                44472241|                                      3222.616|                                43848|                                                      3.177|                                   5379|                   528057|                                         38.265|                                   183|                                                       0.013|                                      27|\n",
            "|              Brazil|            Americas|                34477539|                                     16220.189|                                80334|                                                     37.794|                                      0|                   684425|                                        321.992|                                   803|                                                       0.378|                                       0|\n",
            "|              France|              Europe|                33599863|                                     51660.815|                               105883|                                                    162.798|                                  26918|                   150804|                                        231.866|                                   281|                                                       0.432|                                      60|\n",
            "|             Germany|              Europe|                32344032|                                     38890.599|                               181064|                                                    217.712|                                  33311|                   147981|                                        177.933|                                    45|                                                       0.054|                                       4|\n",
            "|   Republic of Korea|     Western Pacific|                23791961|                                     46405.967|                               545637|                                                   1064.259|                                  85540|                    27249|                                         53.149|                                   485|                                                       0.946|                                      56|\n",
            "|  The United Kingdom|              Europe|                23522244|                                     34649.622|                                 2853|                                                      4.203|                                      0|                   188242|                                        277.291|                                     0|                                                         0.0|                                       0|\n",
            "|               Italy|              Europe|                21969725|                                     36836.313|                               123782|                                                    207.543|                                  24848|                   175952|                                        295.016|                                   447|                                                       0.749|                                      80|\n",
            "|  Russian Federation|              Europe|                19857571|                                     13607.184|                               328602|                                                    225.171|                                  47958|                   384976|                                        263.801|                                   630|                                                       0.432|                                      94|\n",
            "|               Japan|     Western Pacific|                19635246|                                     15524.822|                               863242|                                                    682.532|                                 100729|                    41575|                                         32.872|                                  2011|                                                        1.59|                                     282|\n",
            "|             Türkiye|              Europe|                16797750|                                     19916.927|                                    0|                                                        0.0|                                      0|                   100840|                                        119.565|                                     0|                                                         0.0|                                       0|\n",
            "|               Spain|              Europe|                13358722|                                     28223.081|                                16192|                                                     34.209|                                   6703|                   112903|                                        238.531|                                   303|                                                        0.64|                                      99|\n",
            "|            Viet Nam|     Western Pacific|                11424754|                                     11737.128|                                15802|                                                     16.234|                                   3699|                    43123|                                         44.302|                                     6|                                                       0.006|                                       1|\n",
            "|           Australia|     Western Pacific|                10084917|                                     39548.874|                                67015|                                                    262.805|                                   9251|                    14152|                                         55.498|                                   318|                                                       1.247|                                      75|\n",
            "|           Argentina|            Americas|                 9689861|                                      21439.75|                                11636|                                                     25.746|                                      0|                   129769|                                        287.126|                                    58|                                                       0.128|                                       0|\n",
            "|         Netherlands|              Europe|                 8392953|                                     48214.344|                                 7856|                                                      45.13|                                   1453|                    22609|                                         129.88|                                    10|                                                       0.057|                                       4|\n",
            "|Iran (Islamic Rep...|Eastern Mediterra...|                 7535272|                                      8971.315|                                 7773|                                                      9.254|                                   1090|                   144048|                                          171.5|                                   228|                                                       0.271|                                      29|\n",
            "|              Mexico|            Americas|                 7041181|                                      5461.127|                                 7299|                                                      5.661|                                      0|                   329622|                                        255.654|                                    54|                                                       0.042|                                       0|\n",
            "|               China|     Western Pacific|                 6655733|                                       452.375|                               254259|                                                     17.281|                                  39674|                    25088|                                          1.705|                                   282|                                                       0.019|                                      30|\n",
            "|           Indonesia|     South-East Asia|                 6382002|                                      2333.254|                                23194|                                                       8.48|                                   3513|                   157717|                                         57.661|                                   151|                                                       0.055|                                      21|\n",
            "+--------------------+--------------------+------------------------+----------------------------------------------+-------------------------------------+-----------------------------------------------------------+---------------------------------------+-------------------------+-----------------------------------------------+--------------------------------------+------------------------------------------------------------+----------------------------------------+\n",
            "only showing top 20 rows\n",
            "\n"
          ]
        }
      ],
      "source": [
        "df = sqlc.read.option(\"header\", True) \\\n",
        "  .option(\"delimiter\", \",\") \\\n",
        "  .option(\"inferSchema\", True) \\\n",
        "  .csv('/content/WHO-COVID-19-global.csv')\n",
        "\n",
        "df.show()"
      ]
    },
    {
      "cell_type": "code",
      "execution_count": null,
      "metadata": {
        "colab": {
          "base_uri": "https://localhost:8080/"
        },
        "id": "RNEx5_jWNEex",
        "outputId": "0f779978-6e64-482b-9468-b40ebc074461"
      },
      "outputs": [
        {
          "name": "stdout",
          "output_type": "stream",
          "text": [
            "root\n",
            " |-- Name: string (nullable = true)\n",
            " |-- WHO Region: string (nullable = true)\n",
            " |-- Cases - cumulative total: integer (nullable = true)\n",
            " |-- Cases - cumulative total per 100000 population: double (nullable = true)\n",
            " |-- Cases - newly reported in last 7 days: integer (nullable = true)\n",
            " |-- Cases - newly reported in last 7 days per 100000 population: double (nullable = true)\n",
            " |-- Cases - newly reported in last 24 hours: integer (nullable = true)\n",
            " |-- Deaths - cumulative total: integer (nullable = true)\n",
            " |-- Deaths - cumulative total per 100000 population: double (nullable = true)\n",
            " |-- Deaths - newly reported in last 7 days: integer (nullable = true)\n",
            " |-- Deaths - newly reported in last 7 days per 100000 population: double (nullable = true)\n",
            " |-- Deaths - newly reported in last 24 hours: integer (nullable = true)\n",
            "\n"
          ]
        }
      ],
      "source": [
        "df.printSchema()"
      ]
    },
    {
      "cell_type": "code",
      "execution_count": null,
      "metadata": {
        "colab": {
          "base_uri": "https://localhost:8080/"
        },
        "id": "cbdSHFWMOa5c",
        "outputId": "000dda6d-5b9f-4c7d-ca43-389b10409dd8"
      },
      "outputs": [
        {
          "name": "stdout",
          "output_type": "stream",
          "text": [
            "+--------------------+-----------------------------+\n",
            "|          WHO Region|sum(Cases - cumulative total)|\n",
            "+--------------------+-----------------------------+\n",
            "|              Europe|                    249105808|\n",
            "|     Western Pacific|                     85868508|\n",
            "|              Africa|                      9298893|\n",
            "|Eastern Mediterra...|                     23011442|\n",
            "|               Other|                          764|\n",
            "|            Americas|                    176342137|\n",
            "|     South-East Asia|                     60084208|\n",
            "+--------------------+-----------------------------+\n",
            "\n"
          ]
        }
      ],
      "source": [
        "dfResutl = df.groupBy('WHO Region') \\\n",
        "             .sum('Cases - cumulative total') \\\n",
        "             .show()"
      ]
    },
    {
      "cell_type": "markdown",
      "metadata": {
        "id": "-PjviSxCGWBe"
      },
      "source": [
        "## Submission 05"
      ]
    },
    {
      "cell_type": "code",
      "execution_count": null,
      "metadata": {
        "colab": {
          "base_uri": "https://localhost:8080/"
        },
        "id": "khdLd4uK85MA",
        "outputId": "76c69eb1-55c2-4b56-9f85-719f3c2dc435"
      },
      "outputs": [
        {
          "name": "stdout",
          "output_type": "stream",
          "text": [
            "+------+--------------------+\n",
            "|BillNo|            ItemList|\n",
            "+------+--------------------+\n",
            "|536365|WHITE HANGING HEA...|\n",
            "|536366|HAND WARMER UNION...|\n",
            "|536367|ASSORTED COLOUR B...|\n",
            "|536368|JAM MAKING SET WI...|\n",
            "|536369|BATH BUILDING BLO...|\n",
            "|536370|ALARM CLOCK BAKEL...|\n",
            "|536371|PAPER CHAIN KIT 5...|\n",
            "|536372|HAND WARMER RED P...|\n",
            "|536373|WHITE HANGING HEA...|\n",
            "|536374|VICTORIAN SEWING ...|\n",
            "|536375|WHITE HANGING HEA...|\n",
            "|536376|HOT WATER BOTTLE ...|\n",
            "|536377|HAND WARMER RED P...|\n",
            "|536378|JUMBO BAG PINK PO...|\n",
            "|536380|JAM MAKING SET PR...|\n",
            "|536381|RETROSPOT TEA SET...|\n",
            "|536382|INFLATABLE POLITI...|\n",
            "|536384|WOOD BLACK BOARD ...|\n",
            "|536385|SET 3 WICKER OVAL...|\n",
            "|536386|WHITE WIRE EGG HO...|\n",
            "+------+--------------------+\n",
            "only showing top 20 rows\n",
            "\n"
          ]
        }
      ],
      "source": [
        "df = sqlc.read.csv('/content/data.csv',\n",
        "                   sep=';', header=True) \\\n",
        "               .select('BillNo', 'Itemname') \\\n",
        "               .rdd \\\n",
        "               .groupByKey() \\\n",
        "               .map(lambda x: (x[0], ','.join([str(it) for it in x[1]]))) \\\n",
        "               .toDF() \\\n",
        "               .withColumnRenamed('_1', 'BillNo') \\\n",
        "               .withColumnRenamed('_2', 'ItemList')\n",
        "\n",
        "df.show()"
      ]
    },
    {
      "cell_type": "markdown",
      "metadata": {
        "id": "uhfS2yAGQLpQ"
      },
      "source": [
        "# Gợi ý cho đồ án giữa kỳ nào đó"
      ]
    },
    {
      "cell_type": "code",
      "execution_count": null,
      "metadata": {
        "colab": {
          "base_uri": "https://localhost:8080/"
        },
        "id": "gr_WGbTOQC8R",
        "outputId": "fdc3c627-2678-49b3-f628-01ba82501b5b"
      },
      "outputs": [
        {
          "name": "stdout",
          "output_type": "stream",
          "text": [
            "['a', 'b', 'c', 'd', 'e', 'f']\n"
          ]
        }
      ],
      "source": [
        "items = ['a', 'b', 'c', 'd', 'e', 'f']\n",
        "items.sort()\n",
        "print(items)"
      ]
    },
    {
      "cell_type": "code",
      "execution_count": null,
      "metadata": {
        "colab": {
          "base_uri": "https://localhost:8080/"
        },
        "id": "QkldeloSQOge",
        "outputId": "09d75e3d-44b0-4232-df37-b4bd6f3490c6"
      },
      "outputs": [
        {
          "name": "stdout",
          "output_type": "stream",
          "text": [
            "{'a': 0, 'b': 1, 'c': 2, 'd': 3, 'e': 4, 'f': 5}\n"
          ]
        }
      ],
      "source": [
        "dd = {}\n",
        "for i in range(len(items)):\n",
        "  dd[items[i]] = i\n",
        "print(dd)"
      ]
    },
    {
      "cell_type": "code",
      "execution_count": null,
      "metadata": {
        "colab": {
          "base_uri": "https://localhost:8080/"
        },
        "id": "Hpr3WTyHQuyC",
        "outputId": "49f370f6-547c-4daf-e7b4-04340e6939b4"
      },
      "outputs": [
        {
          "name": "stdout",
          "output_type": "stream",
          "text": [
            "{'a': 0, 'b': 1, 'c': 2, 'd': 3, 'e': 4, 'f': 5}\n"
          ]
        }
      ],
      "source": [
        "dd = {it:i for i, it in enumerate(items)}\n",
        "print(dd)"
      ]
    },
    {
      "cell_type": "markdown",
      "metadata": {
        "id": "fViOk9dkNemI"
      },
      "source": [
        "# Dimensionality Reduction"
      ]
    },
    {
      "cell_type": "code",
      "execution_count": null,
      "metadata": {
        "id": "t6DeJo1RNnOH"
      },
      "outputs": [],
      "source": [
        "from pyspark import SparkContext\n",
        "\n",
        "sc = SparkContext('local', 'DR')"
      ]
    },
    {
      "cell_type": "code",
      "execution_count": null,
      "metadata": {
        "id": "oMLOCY2wNjqh"
      },
      "outputs": [],
      "source": [
        "from pyspark.mllib.linalg import Vectors\n",
        "from pyspark.mllib.linalg.distributed import RowMatrix\n",
        "\n",
        "rows = sc.parallelize([                 # RDD\n",
        "    Vectors.sparse(5, {1: 1.0, 3: 7.0}),\n",
        "    Vectors.dense(2.0, 0.0, 3.0, 4.0, 5.0),\n",
        "    Vectors.dense(4.0, 0.0, 0.0, 6.0, 7.0)\n",
        "])\n",
        "\n",
        "mat = RowMatrix(rows)\n",
        "\n",
        "svd = mat.computeSVD(3, computeU=True)\n",
        "U = svd.U\n",
        "s = svd.s\n",
        "V = svd.V"
      ]
    },
    {
      "cell_type": "code",
      "execution_count": null,
      "metadata": {
        "colab": {
          "base_uri": "https://localhost:8080/"
        },
        "id": "BCiJ9whiONIf",
        "outputId": "c30bb679-0b9d-4576-b67e-f8ea252610f2"
      },
      "outputs": [
        {
          "name": "stdout",
          "output_type": "stream",
          "text": [
            "[[-0.39 -0.92 -0.06]\n",
            " [-0.53  0.27 -0.8 ]\n",
            " [-0.75  0.28  0.59]]\n",
            "[13.03  5.37  2.53]\n",
            "DenseMatrix([[-0.31,  0.31,  0.3 ],\n",
            "             [-0.03, -0.17, -0.02],\n",
            "             [-0.12,  0.15, -0.95],\n",
            "             [-0.72, -0.68, -0.02],\n",
            "             [-0.61,  0.62,  0.06]])\n"
          ]
        }
      ],
      "source": [
        "import numpy as np\n",
        "\n",
        "np.set_printoptions(precision=2)\n",
        "print(np.array(U.rows.collect()))\n",
        "print(np.array(s))\n",
        "print(V)"
      ]
    },
    {
      "cell_type": "markdown",
      "metadata": {
        "id": "F5yy6dwTouZq"
      },
      "source": [
        "# Recommender System"
      ]
    },
    {
      "cell_type": "markdown",
      "metadata": {
        "id": "om4px7LnAuRr"
      },
      "source": [
        "## Collaborative Filtering"
      ]
    },
    {
      "cell_type": "code",
      "execution_count": null,
      "metadata": {
        "id": "jGlSFhuRAw8u"
      },
      "outputs": [],
      "source": [
        "from pyspark import SparkContext\n",
        "from pyspark.sql import SQLContext\n",
        "from pyspark.ml.evaluation import RegressionEvaluator\n",
        "from pyspark.ml.recommendation import ALS\n",
        "from pyspark.sql import Row\n",
        "\n",
        "spark = SQLContext(SparkContext('local', 'CF'))"
      ]
    },
    {
      "cell_type": "code",
      "execution_count": null,
      "metadata": {
        "id": "8o9juetyBS9B"
      },
      "outputs": [],
      "source": [
        "lines = spark.read.text(\"drive/MyDrive/tmp/ratings10k.csv\").rdd\n",
        "parts = lines.map(lambda row: row.value.split(\",\"))\n",
        "ratingsRDD = parts.map(lambda p: Row(userId=int(p[0]), movieId=int(p[1]),\n",
        "                                     rating=float(p[2]), timestamp=float(p[3])))\n",
        "ratings = spark.createDataFrame(ratingsRDD)"
      ]
    },
    {
      "cell_type": "code",
      "execution_count": null,
      "metadata": {
        "colab": {
          "base_uri": "https://localhost:8080/"
        },
        "id": "lLzMGSByPYuN",
        "outputId": "a5ce3923-bf3d-410a-e781-9ea053767ccc"
      },
      "outputs": [
        {
          "name": "stdout",
          "output_type": "stream",
          "text": [
            "+------+-------+------+-------------+\n",
            "|userId|movieId|rating|    timestamp|\n",
            "+------+-------+------+-------------+\n",
            "|     1|    296|   5.0|1.147880044E9|\n",
            "|     1|    306|   3.5|1.147868817E9|\n",
            "|     1|    307|   5.0|1.147868828E9|\n",
            "|     1|    665|   5.0| 1.14787882E9|\n",
            "|     1|    899|   3.5| 1.14786851E9|\n",
            "|     1|   1088|   4.0|1.147868495E9|\n",
            "|     1|   1175|   3.5|1.147868826E9|\n",
            "|     1|   1217|   3.5|1.147878326E9|\n",
            "|     1|   1237|   5.0|1.147868839E9|\n",
            "|     1|   1250|   4.0|1.147868414E9|\n",
            "|     1|   1260|   3.5|1.147877857E9|\n",
            "|     1|   1653|   4.0|1.147868097E9|\n",
            "|     1|   2011|   2.5|1.147868079E9|\n",
            "|     1|   2012|   2.5|1.147868068E9|\n",
            "|     1|   2068|   2.5|1.147869044E9|\n",
            "|     1|   2161|   3.5|1.147868609E9|\n",
            "|     1|   2351|   4.5|1.147877957E9|\n",
            "|     1|   2573|   4.0|1.147878923E9|\n",
            "|     1|   2632|   5.0|1.147878248E9|\n",
            "|     1|   2692|   5.0|  1.1478691E9|\n",
            "+------+-------+------+-------------+\n",
            "only showing top 20 rows\n",
            "\n"
          ]
        }
      ],
      "source": [
        "ratings.show()"
      ]
    },
    {
      "cell_type": "code",
      "execution_count": null,
      "metadata": {
        "id": "LpTVH2a1PfgY"
      },
      "outputs": [],
      "source": [
        "(training, test) = ratings.randomSplit([0.8, 0.2])"
      ]
    },
    {
      "cell_type": "code",
      "execution_count": null,
      "metadata": {
        "id": "xuKPHEJlPik2"
      },
      "outputs": [],
      "source": [
        "als = ALS(userCol=\"userId\",\n",
        "          itemCol=\"movieId\",\n",
        "          ratingCol=\"rating\")\n",
        "model = als.fit(training)"
      ]
    },
    {
      "cell_type": "code",
      "execution_count": null,
      "metadata": {
        "colab": {
          "base_uri": "https://localhost:8080/"
        },
        "id": "Zf49QaWFPoTp",
        "outputId": "0b8cdc78-2bda-453e-d477-c7906e4749c6"
      },
      "outputs": [
        {
          "name": "stdout",
          "output_type": "stream",
          "text": [
            "Root-mean-square error = nan\n"
          ]
        }
      ],
      "source": [
        "predictions = model.transform(test)\n",
        "evaluator = RegressionEvaluator(metricName=\"rmse\", labelCol=\"rating\",\n",
        "                                predictionCol=\"prediction\")\n",
        "rmse = evaluator.evaluate(predictions)\n",
        "print(\"Root-mean-square error = \" + str(rmse))"
      ]
    },
    {
      "cell_type": "code",
      "execution_count": null,
      "metadata": {
        "colab": {
          "base_uri": "https://localhost:8080/"
        },
        "id": "7_BIhErfPp3S",
        "outputId": "ee13c832-8381-46d2-a20f-1f4b9f9c5c9e"
      },
      "outputs": [
        {
          "name": "stdout",
          "output_type": "stream",
          "text": [
            "+------+--------------------+\n",
            "|userId|     recommendations|\n",
            "+------+--------------------+\n",
            "|    31|[{909, 4.316601},...|\n",
            "|    65|[{1287, 5.006938}...|\n",
            "|    53|[{2243, 5.3845453...|\n",
            "|    34|[{920, 4.378617},...|\n",
            "|    28|[{2395, 6.052067}...|\n",
            "|    26|[{52604, 4.808017...|\n",
            "|    27|[{2922, 4.9534974...|\n",
            "|    44|[{50, 5.7461176},...|\n",
            "|    12|[{2863, 4.8744926...|\n",
            "|    22|[{5064, 5.987762}...|\n",
            "|    47|[{2686, 5.0876703...|\n",
            "|     1|[{2686, 5.2387905...|\n",
            "|    52|[{4027, 4.9775543...|\n",
            "|    13|[{2395, 5.143259}...|\n",
            "|     6|[{2395, 5.077206}...|\n",
            "|    16|[{2395, 5.095131}...|\n",
            "|     3|[{5291, 4.9394717...|\n",
            "|    20|[{2395, 5.676665}...|\n",
            "|    40|[{2395, 5.2505617...|\n",
            "|    57|[{68848, 5.154612...|\n",
            "+------+--------------------+\n",
            "only showing top 20 rows\n",
            "\n"
          ]
        }
      ],
      "source": [
        "# Generate top 10 movie recommendations for each user\n",
        "userRecs = model.recommendForAllUsers(10)\n",
        "userRecs.show()"
      ]
    },
    {
      "cell_type": "code",
      "execution_count": null,
      "metadata": {
        "colab": {
          "base_uri": "https://localhost:8080/"
        },
        "id": "svDkuZXgQsGV",
        "outputId": "88c4508f-24c3-440f-9be6-1bc767aca0d5"
      },
      "outputs": [
        {
          "name": "stdout",
          "output_type": "stream",
          "text": [
            "31\n",
            "[Row(movieId=909, rating=4.316600799560547), Row(movieId=3801, rating=3.7783541679382324), Row(movieId=6787, rating=3.7375359535217285), Row(movieId=899, rating=3.65205717086792), Row(movieId=1292, rating=3.5926902294158936), Row(movieId=55765, rating=3.5047097206115723), Row(movieId=1269, rating=3.427597761154175), Row(movieId=412, rating=3.357356071472168), Row(movieId=49007, rating=3.357356071472168), Row(movieId=7121, rating=3.357356071472168)]\n"
          ]
        }
      ],
      "source": [
        "for it in userRecs.first():\n",
        "  print(it)"
      ]
    },
    {
      "cell_type": "code",
      "execution_count": null,
      "metadata": {
        "colab": {
          "base_uri": "https://localhost:8080/"
        },
        "id": "Ak7cO5PUPvKu",
        "outputId": "f61472d2-40fa-43d3-932d-9d8d9e93b071"
      },
      "outputs": [
        {
          "name": "stdout",
          "output_type": "stream",
          "text": [
            "+-------+--------------------+\n",
            "|movieId|     recommendations|\n",
            "+-------+--------------------+\n",
            "|   1580|[{49, 5.0077558},...|\n",
            "|   6620|[{49, 1.7447889},...|\n",
            "|  54190|[{58, 4.9675364},...|\n",
            "|    471|[{72, 4.841337}, ...|\n",
            "|   1591|[{72, 1.9739544},...|\n",
            "|   1342|[{72, 3.9479089},...|\n",
            "|   2142|[{69, 2.0460105},...|\n",
            "|  33722|[{12, 2.9492002},...|\n",
            "|   3794|[{12, 1.9661336},...|\n",
            "|   1645|[{72, 3.9479089},...|\n",
            "|   3175|[{58, 4.5619974},...|\n",
            "|  68135|[{48, 4.302857}, ...|\n",
            "|   2366|[{28, 3.7048938},...|\n",
            "| 175197|[{15, 3.6599078},...|\n",
            "|   1088|[{9, 4.7020965}, ...|\n",
            "|   3918|[{14, 3.0727856},...|\n",
            "|   6658|[{58, 4.853922}, ...|\n",
            "|   8638|[{28, 4.296291}, ...|\n",
            "|   1959|[{23, 4.7651267},...|\n",
            "|    540|[{32, 3.1897814},...|\n",
            "+-------+--------------------+\n",
            "only showing top 20 rows\n",
            "\n"
          ]
        }
      ],
      "source": [
        "# Generate top 10 user recommendations for each movie\n",
        "movieRecs = model.recommendForAllItems(10)\n",
        "movieRecs.show()"
      ]
    },
    {
      "cell_type": "code",
      "execution_count": null,
      "metadata": {
        "colab": {
          "base_uri": "https://localhost:8080/"
        },
        "id": "gblf4q8HQyFp",
        "outputId": "cc552c50-31f4-47fb-f8db-5f6636fc803c"
      },
      "outputs": [
        {
          "name": "stdout",
          "output_type": "stream",
          "text": [
            "1580\n",
            "[Row(userId=49, rating=5.007755756378174), Row(userId=22, rating=4.883993148803711), Row(userId=28, rating=4.774200439453125), Row(userId=8, rating=4.5050787925720215), Row(userId=21, rating=4.480583190917969), Row(userId=2, rating=4.419493675231934), Row(userId=48, rating=4.370579719543457), Row(userId=44, rating=4.2683892250061035), Row(userId=20, rating=4.265716075897217), Row(userId=53, rating=4.236225605010986)]\n"
          ]
        }
      ],
      "source": [
        "for it in movieRecs.first():\n",
        "  print(it)"
      ]
    },
    {
      "cell_type": "markdown",
      "metadata": {
        "id": "iy463iLco0M7"
      },
      "source": [
        "# Neural Networks"
      ]
    },
    {
      "cell_type": "markdown",
      "metadata": {
        "id": "8Cf1bWW5uuaI"
      },
      "source": [
        "## Regression"
      ]
    },
    {
      "cell_type": "code",
      "execution_count": null,
      "metadata": {
        "id": "Mv47RCCcu1ES"
      },
      "outputs": [],
      "source": [
        "from pyspark import SparkContext\n",
        "from pyspark.sql import SQLContext\n",
        "from pyspark.ml.regression import LinearRegression\n",
        "\n",
        "spark = SparkContext.getOrCreate('local')\n",
        "spark = SQLContext(spark)"
      ]
    },
    {
      "cell_type": "code",
      "execution_count": null,
      "metadata": {
        "colab": {
          "base_uri": "https://localhost:8080/"
        },
        "id": "eLC1k7CWu-zQ",
        "outputId": "15d02793-2a3e-42bd-e161-474caa8efddc"
      },
      "outputs": [
        {
          "name": "stdout",
          "output_type": "stream",
          "text": [
            "--2022-11-06 07:03:25--  https://raw.githubusercontent.com/apache/spark/master/data/mllib/sample_linear_regression_data.txt\n",
            "Resolving raw.githubusercontent.com (raw.githubusercontent.com)... 185.199.109.133, 185.199.108.133, 185.199.111.133, ...\n",
            "Connecting to raw.githubusercontent.com (raw.githubusercontent.com)|185.199.109.133|:443... connected.\n",
            "HTTP request sent, awaiting response... 200 OK\n",
            "Length: 119069 (116K) [text/plain]\n",
            "Saving to: ‘sample_linear_regression_data.txt’\n",
            "\n",
            "\r          sample_li   0%[                    ]       0  --.-KB/s               \rsample_linear_regre 100%[===================>] 116.28K  --.-KB/s    in 0.02s   \n",
            "\n",
            "2022-11-06 07:03:25 (5.36 MB/s) - ‘sample_linear_regression_data.txt’ saved [119069/119069]\n",
            "\n"
          ]
        }
      ],
      "source": [
        "# Load training data\n",
        "! wget 'https://raw.githubusercontent.com/apache/spark/master/data/mllib/sample_linear_regression_data.txt'\n",
        "training = spark.read \\\n",
        "            .format(\"libsvm\")\\\n",
        "            .load('sample_linear_regression_data.txt')"
      ]
    },
    {
      "cell_type": "code",
      "execution_count": null,
      "metadata": {
        "id": "7kHz7pE0u1ax"
      },
      "outputs": [],
      "source": [
        "lr = LinearRegression(maxIter=10, regParam=0.3, elasticNetParam=0.8)\n",
        "lrModel = lr.fit(training)"
      ]
    },
    {
      "cell_type": "code",
      "execution_count": null,
      "metadata": {
        "colab": {
          "base_uri": "https://localhost:8080/"
        },
        "id": "uyYIcS9gvG7u",
        "outputId": "0be20f8c-b8f5-41f9-ee7f-8271a2580318"
      },
      "outputs": [
        {
          "name": "stdout",
          "output_type": "stream",
          "text": [
            "Coefficients: [0.0,0.32292516677405936,-0.3438548034562218,1.9156017023458414,0.05288058680386263,0.765962720459771,0.0,-0.15105392669186682,-0.21587930360904642,0.22025369188813426]\n",
            "Intercept: 0.1598936844239736\n"
          ]
        }
      ],
      "source": [
        "# Print the coefficients and intercept for linear regression\n",
        "print(\"Coefficients: %s\" % str(lrModel.coefficients))\n",
        "print(\"Intercept: %s\" % str(lrModel.intercept))"
      ]
    },
    {
      "cell_type": "code",
      "execution_count": null,
      "metadata": {
        "colab": {
          "base_uri": "https://localhost:8080/"
        },
        "id": "OblHhlSAvJaV",
        "outputId": "034e418d-4f9f-46d0-f311-2dcec79e91d3"
      },
      "outputs": [
        {
          "name": "stdout",
          "output_type": "stream",
          "text": [
            "numIterations: 6\n",
            "objectiveHistory: [0.49999999999999994, 0.4967620357443381, 0.4936361664340463, 0.4936351537897608, 0.4936351214177871, 0.49363512062528014, 0.4936351206216114]\n"
          ]
        }
      ],
      "source": [
        "# Summarize the model over the training set and print out some metrics\n",
        "trainingSummary = lrModel.summary\n",
        "print(\"numIterations: %d\" % trainingSummary.totalIterations)\n",
        "print(\"objectiveHistory: %s\" % str(trainingSummary.objectiveHistory))"
      ]
    },
    {
      "cell_type": "code",
      "execution_count": null,
      "metadata": {
        "colab": {
          "base_uri": "https://localhost:8080/"
        },
        "id": "hvaEJn_EvK1k",
        "outputId": "dda3180e-f259-4e6c-e90f-024bc1f9251c"
      },
      "outputs": [
        {
          "name": "stdout",
          "output_type": "stream",
          "text": [
            "+--------------------+\n",
            "|           residuals|\n",
            "+--------------------+\n",
            "|  -9.889232683103197|\n",
            "|  0.5533794340053554|\n",
            "|  -5.204019455758823|\n",
            "| -20.566686715507508|\n",
            "|    -9.4497405180564|\n",
            "|  -6.909112502719486|\n",
            "|  -10.00431602969873|\n",
            "|   2.062397807050484|\n",
            "|  3.1117508432954772|\n",
            "| -15.893608229419382|\n",
            "|  -5.036284254673026|\n",
            "|   6.483215876994333|\n",
            "|  12.429497299109002|\n",
            "|  -20.32003219007654|\n",
            "| -2.0049838218725005|\n",
            "| -17.867901734183793|\n",
            "|   7.646455887420495|\n",
            "| -2.2653482182417406|\n",
            "|-0.10308920436195645|\n",
            "|  -1.380034070385301|\n",
            "+--------------------+\n",
            "only showing top 20 rows\n",
            "\n",
            "RMSE: 10.189077\n",
            "r2: 0.022861\n"
          ]
        }
      ],
      "source": [
        "trainingSummary.residuals.show()\n",
        "print(\"RMSE: %f\" % trainingSummary.rootMeanSquaredError)\n",
        "print(\"r2: %f\" % trainingSummary.r2)"
      ]
    },
    {
      "cell_type": "markdown",
      "metadata": {
        "id": "FiVMOBC6uvg_"
      },
      "source": [
        "## Classification"
      ]
    },
    {
      "cell_type": "code",
      "execution_count": null,
      "metadata": {
        "id": "JAmqtNFywpxM"
      },
      "outputs": [],
      "source": [
        "from pyspark import SparkContext\n",
        "from pyspark.sql import SQLContext\n",
        "from pyspark.ml.regression import LinearRegression\n",
        "\n",
        "spark = SparkContext.getOrCreate('local')\n",
        "spark = SQLContext(spark)"
      ]
    },
    {
      "cell_type": "code",
      "execution_count": null,
      "metadata": {
        "colab": {
          "base_uri": "https://localhost:8080/"
        },
        "id": "fRI6jLdRwqIj",
        "outputId": "54a3ebd6-b231-4388-880b-31f50863b2aa"
      },
      "outputs": [
        {
          "name": "stdout",
          "output_type": "stream",
          "text": [
            "--2022-11-06 07:07:05--  https://raw.githubusercontent.com/apache/spark/master/data/mllib/sample_multiclass_classification_data.txt\n",
            "Resolving raw.githubusercontent.com (raw.githubusercontent.com)... 185.199.108.133, 185.199.109.133, 185.199.110.133, ...\n",
            "Connecting to raw.githubusercontent.com (raw.githubusercontent.com)|185.199.108.133|:443... connected.\n",
            "HTTP request sent, awaiting response... 200 OK\n",
            "Length: 6953 (6.8K) [text/plain]\n",
            "Saving to: ‘sample_multiclass_classification_data.txt’\n",
            "\n",
            "\r          sample_mu   0%[                    ]       0  --.-KB/s               \rsample_multiclass_c 100%[===================>]   6.79K  --.-KB/s    in 0s      \n",
            "\n",
            "2022-11-06 07:07:05 (46.6 MB/s) - ‘sample_multiclass_classification_data.txt’ saved [6953/6953]\n",
            "\n"
          ]
        }
      ],
      "source": [
        "! wget 'https://raw.githubusercontent.com/apache/spark/master/data/mllib/sample_multiclass_classification_data.txt'"
      ]
    },
    {
      "cell_type": "code",
      "execution_count": null,
      "metadata": {
        "id": "1-SAng-kwqae"
      },
      "outputs": [],
      "source": [
        "from pyspark.ml.classification import MultilayerPerceptronClassifier\n",
        "from pyspark.ml.evaluation import MulticlassClassificationEvaluator\n",
        "\n",
        "# Load training data\n",
        "data = spark.read \\\n",
        "          .format(\"libsvm\")\\\n",
        "          .load(\"sample_multiclass_classification_data.txt\")\n",
        "\n",
        "# Split the data into train and test\n",
        "splits = data.randomSplit([0.6, 0.4], 1234)\n",
        "train = splits[0]\n",
        "test = splits[1]\n",
        "\n",
        "# specify layers for the neural network:\n",
        "# input layer of size 4 (features), two intermediate of size 5 and 4\n",
        "# and output of size 3 (classes)\n",
        "layers = [4, 5, 4, 3]\n",
        "\n",
        "# create the trainer and set its parameters\n",
        "trainer = MultilayerPerceptronClassifier(maxIter=100,\n",
        "                                         layers=layers,\n",
        "                                         blockSize=128,\n",
        "                                         seed=1234)\n",
        "\n",
        "# train the model\n",
        "model = trainer.fit(train)"
      ]
    },
    {
      "cell_type": "code",
      "execution_count": null,
      "metadata": {
        "colab": {
          "base_uri": "https://localhost:8080/"
        },
        "id": "laI9KCHxxGQt",
        "outputId": "4fbc415c-2807-4899-9538-3a4cb9b58b27"
      },
      "outputs": [
        {
          "name": "stdout",
          "output_type": "stream",
          "text": [
            "Test set accuracy = 0.9523809523809523\n"
          ]
        }
      ],
      "source": [
        "# compute accuracy on the test set\n",
        "result = model.transform(test)\n",
        "predictionAndLabels = result.select(\"prediction\", \"label\")\n",
        "evaluator = MulticlassClassificationEvaluator(metricName=\"accuracy\")\n",
        "print(\"Test set accuracy = \" + str(evaluator.evaluate(predictionAndLabels)))"
      ]
    },
    {
      "cell_type": "markdown",
      "metadata": {
        "id": "SsH-KK3aR5o0"
      },
      "source": [
        "# Test"
      ]
    },
    {
      "cell_type": "code",
      "execution_count": null,
      "metadata": {
        "id": "rccMxV5lSBC4"
      },
      "outputs": [],
      "source": [
        "import numpy as np"
      ]
    },
    {
      "cell_type": "code",
      "execution_count": null,
      "metadata": {
        "id": "296sG4EIR7JA"
      },
      "outputs": [],
      "source": [
        "data_path = '/content/drive/MyDrive/MMDS-data/data.csv'"
      ]
    },
    {
      "cell_type": "code",
      "execution_count": null,
      "metadata": {
        "id": "ThK8MnbGSQdi"
      },
      "outputs": [],
      "source": [
        "data = sc.textFile(data_path)\n",
        "header = data.first()\n",
        "true_data = data.filter(lambda x: x != header)"
      ]
    },
    {
      "cell_type": "code",
      "execution_count": null,
      "metadata": {
        "id": "w1Omt4AxSZQ0"
      },
      "outputs": [],
      "source": [
        "def sumAll(member_and_day, item):\n",
        "  x = np.array(member_and_day)\n",
        "  y = np.array(item)\n",
        "  return list(x+y)"
      ]
    },
    {
      "cell_type": "code",
      "execution_count": null,
      "metadata": {
        "id": "l_KfRbiYStvz"
      },
      "outputs": [],
      "source": [
        "def preprocessLine(x):\n",
        "  items = x.strip().split(',')\n",
        "  items = [items[i] for i in (0, 1, 2)]\n",
        "  member_number = items[0]\n",
        "  itemDescription = items[2]\n",
        "  item = [1]\n",
        "  day = items[1]\n",
        "  member_and_day = member_number + \",\" + day\n",
        "  return (member_and_day, item)"
      ]
    },
    {
      "cell_type": "code",
      "execution_count": null,
      "metadata": {
        "id": "vEHPIc5PSwQV"
      },
      "outputs": [],
      "source": [
        "! rm -rf 'counters_day'\n",
        "\n",
        "items = true_data.map(preprocessLine) \\\n",
        "                 .reduceByKey(sumAll) \\\n",
        "                 .map(lambda x: (x[0].split(',')[0], x[0].split(',')[1], int(x[1][0]))) \\\n",
        "                 .saveAsTextFile('counters_day')"
      ]
    },
    {
      "cell_type": "code",
      "execution_count": null,
      "metadata": {
        "id": "y4Pr4xFkWh2u"
      },
      "outputs": [],
      "source": [
        "def preprocessLine(x):\n",
        "  items = x.strip().split(',')\n",
        "  items = [items[i] for i in (0, 1, 2)]\n",
        "  member_number = items[0]\n",
        "  itemDescription = items[2]\n",
        "  date = items[1]\n",
        "  member_and_date = member_number + \",\" + date\n",
        "  return (member_and_date, itemDescription)\n",
        "\n",
        "def reconstruct(complete_list):\n",
        "  member_and_date = complete_list[0]\n",
        "  member,date = member_and_date.split(',')\n",
        "  itemDescription = list(complete_list[1])\n",
        "\n",
        "  return member, date, itemDescription\n",
        "\n",
        "items = true_data.map(preprocessLine) \\\n",
        "        .groupByKey() \\\n",
        "        .map(reconstruct)"
      ]
    },
    {
      "cell_type": "code",
      "execution_count": null,
      "metadata": {
        "id": "popI6KTwWmQU"
      },
      "outputs": [],
      "source": [
        "header = sc.parallelize('Member_number;Date;itemDescription')\n",
        "save_data = items.map(lambda x: x[0] + ';' + x[1] + ';' + ','.join(x[2])) \\\n",
        "            .saveAsTextFile('ItemList')"
      ]
    },
    {
      "cell_type": "code",
      "execution_count": null,
      "metadata": {
        "colab": {
          "base_uri": "https://localhost:8080/"
        },
        "id": "1VqzWKuVW21n",
        "outputId": "9ee9a5d3-ca59-44a1-b1bc-a509d5a55509"
      },
      "outputs": [
        {
          "name": "stdout",
          "output_type": "stream",
          "text": [
            "+----+----------+--------------------+\n",
            "|1249|01/01/2014| citrus fruit,coffee|\n",
            "+----+----------+--------------------+\n",
            "|1381|01/01/2014|           curd,soda|\n",
            "|1440|01/01/2014|other vegetables,...|\n",
            "|1659|01/01/2014|specialty chocola...|\n",
            "|1789|01/01/2014|hamburger meat,ca...|\n",
            "|1922|01/01/2014|tropical fruit,ot...|\n",
            "|2226|01/01/2014|sausage,bottled w...|\n",
            "|2237|01/01/2014|bottled water,Ins...|\n",
            "|2351|01/01/2014|cleaner,shopping ...|\n",
            "|2542|01/01/2014|sliced cheese,bot...|\n",
            "|2610|01/01/2014|hamburger meat,bo...|\n",
            "|2709|01/01/2014|yogurt,frozen veg...|\n",
            "|2727|01/01/2014|hamburger meat,fr...|\n",
            "|2943|01/01/2014|whole milk,flower...|\n",
            "|2974|01/01/2014|berries,whipped/s...|\n",
            "|3681|01/01/2014|onions,whipped/so...|\n",
            "|3797|01/01/2014|  waffles,whole milk|\n",
            "|3942|01/01/2014|other vegetables,...|\n",
            "|3956|01/01/2014|yogurt,shopping b...|\n",
            "|4260|01/01/2014|    soda,brown bread|\n",
            "|4942|01/01/2014|butter,frozen veg...|\n",
            "+----+----------+--------------------+\n",
            "only showing top 20 rows\n",
            "\n"
          ]
        }
      ],
      "source": [
        "df = sqlc.read.option(\"delimiter\", \";\") \\\n",
        "        .csv('ItemList/part-00000',\n",
        "        header=True)\n",
        "\n",
        "df.show()"
      ]
    }
  ],
  "metadata": {
    "colab": {
      "collapsed_sections": [
        "Vs3uKTBvYQo8",
        "q3q14A69YUo9",
        "2kLYBt_u94sw",
        "Apwx2AqE97jP"
      ],
      "provenance": []
    },
    "kernelspec": {
      "display_name": "Python 3",
      "name": "python3"
    },
    "language_info": {
      "name": "python"
    }
  },
  "nbformat": 4,
  "nbformat_minor": 0
}